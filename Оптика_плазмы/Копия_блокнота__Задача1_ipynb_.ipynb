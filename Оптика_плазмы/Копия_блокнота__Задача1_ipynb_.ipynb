{
 "cells": [
  {
   "cell_type": "markdown",
   "metadata": {
    "id": "9GWnNjR4-EIu"
   },
   "source": [
    " Жмёте сначала на \"Файл -> Создать копию на Диске\", а потом в открывшемся окне меняете что надо поменять и жмёте на \"Среда выполнения -> Выполнить всё\"\r",
    "\r\n",
    " "
   ]
  },
  {
   "cell_type": "code",
   "execution_count": null,
   "metadata": {
    "id": "L-PNXrkT-3r5"
   },
   "outputs": [],
   "source": [
    "from google.colab import files\r\n",
    "import pandas as pd\r\n",
    "import io\r\n",
    "import numpy as np\r\n",
    "from scipy.optimize import fsolve\r\n",
    "import matplotlib.pyplot as plt"
   ]
  },
  {
   "cell_type": "code",
   "execution_count": null,
   "metadata": {
    "id": "y0OSMEzEonuS"
   },
   "outputs": [],
   "source": [
    "J1=620.32 #Это первая энергия ионизации, поменять на свою\r\n",
    "J2=3800.83 #Это вторая энергия ионизации, поменять на свою\r\n",
    "P=100.\r\n",
    "T0=300\r\n",
    "k=1.38*1e-23\r\n",
    "n0=3.3*1e18 #Если у вас дана начальная концентрация, вот это тоже поменять\r\n",
    "ge=2\r\n",
    "g2=1\r\n",
    "\r\n",
    "\r\n",
    "ga = 1 #Вот это статвес атома, его поменять на свой\r\n",
    "g1 = 0.52 #Вот это статвес первого иона, тоже поменять на свой"
   ]
  },
  {
   "cell_type": "markdown",
   "metadata": {
    "id": "cHWY8vLE9q_y"
   },
   "source": [
    "Блоком ниже можно найти статвес, если вам оно надо, можете либо сами разобраться, либо мне написать, сейчас 3 часа ночи и мне влом всё расписывать"
   ]
  },
  {
   "cell_type": "code",
   "execution_count": null,
   "metadata": {
    "id": "gJ7ROMBnPiqF"
   },
   "outputs": [],
   "source": [
    "def findG(fileName):\r\n",
    "  file = files.upload()\r\n",
    "  table = pd.read_csv(io.StringIO(file[fileName].decode('utf-8')), sep = ';', header=None)\r\n",
    "  J = table[0]\r\n",
    "  E = table[1]\r\n",
    "  g = 0\r\n",
    "  for i in range(J.size):\r\n",
    "    g += (2*J[i]+1)*np.e**(-(E[i])/(0.5*8065.48))\r\n",
    "  reurn g\r\n",
    "\r\n",
    "#pr\"имер table.csv))"
   ]
  },
  {
   "cell_type": "markdown",
   "metadata": {
    "id": "J6LQ-juUrZnl"
   },
   "source": [
    "0 n1\\\r\n",
    "1 n2\\\r\n",
    "2 ne\\\r\n",
    "3 na"
   ]
  },
  {
   "cell_type": "code",
   "execution_count": null,
   "metadata": {
    "colab": {
     "base_uri": "https://localhost:8080/"
    },
    "id": "GBOqKhb1euD1",
    "outputId": "007636b4-08fc-4e86-bb51-9b5bc79c2b33"
   },
   "outputs": [
    {
     "name": "stdout",
     "output_type": "stream",
     "text": [
      "[5.01790668e+13 2.77389403e+00 5.01790668e+13 3.29994982e+18]\n",
      "[5.93214958e+14 1.22964734e+04 5.93214958e+14 3.29940679e+18]\n",
      "[3.52405765e+15 5.13030032e+06 3.52405766e+15 3.29647594e+18]\n",
      "[1.35748243e+16 4.86504880e+08 1.35748252e+16 3.28642518e+18]\n",
      "[3.90510997e+16 1.71309646e+10 3.90511340e+16 3.26094888e+18]\n",
      "[9.12485433e+16 3.00876673e+11 9.12491451e+16 3.20875116e+18]\n",
      "[1.82541528e+17 3.18144893e+12 1.82547891e+17 3.11745529e+18]\n",
      "[3.23543173e+17 2.29647132e+13 3.23589102e+17 2.97643386e+18]\n",
      "[5.19962545e+17 1.23454119e+14 5.20209453e+17 2.77991400e+18]\n",
      "[7.69938260e+17 5.25921554e+14 7.70990103e+17 2.52953582e+18]\n",
      "[1.06266119e+18 1.85751138e+15 1.06637621e+18 2.23548130e+18]\n",
      "[1.37889539e+18 5.62279856e+15 1.39014099e+18 1.91548181e+18]\n",
      "[1.69348653e+18 1.49445877e+16 1.72337571e+18 1.59156888e+18]\n",
      "[1.97920632e+18 3.54729171e+16 2.05015215e+18 1.28532077e+18]\n",
      "[2.21075079e+18 7.60309854e+16 2.36281276e+18 1.01321822e+18]\n",
      "[2.36797094e+18 1.48122669e+17 2.66421628e+18 7.83906388e+17]\n"
     ]
    }
   ],
   "source": [
    "T = 0.5\r\n",
    "\r\n",
    "def func(n):\r\n",
    "  return [ge*g1/ga*n[3]/n[2]*(3*10**21*T**1.5)*np.exp(-J1/T)-n[0],\r\n",
    "          ge*g2/g1*n[0]/n[2]*(3*10**21*T**1.5)*np.exp(-J2/T)-n[1],\r\n",
    "          n[0]+2*n[1]-n[2],\r\n",
    "          n0-(n[0]+n[1])-n[3]]\r\n",
    "\r\n",
    "n=[1e+6,1,1e+6,1e+17]\r\n",
    "\r\n",
    "sols = []\r\n",
    "r = []\r\n",
    "w = []\r\n",
    "Ts = np.linspace(0.5, 2, 16, endpoint=True)\r\n",
    "\r\n",
    "for T in Ts:\r\n",
    "  root = fsolve(func, n)\r\n",
    "  n = root\r\n",
    "  print(root)\r\n",
    "  sols.append(n.copy())\r\n",
    "  r.append(740*np.sqrt(T/n[2]))\r\n",
    "  w.append(5.6*1e4*np.sqrt(n[2]))\r\n",
    "sols = np.array(sols)\r\n",
    "r = np.array(r)\r\n",
    "w = np.array(w)\r\n"
   ]
  },
  {
   "cell_type": "code",
   "execution_count": null,
   "metadata": {
    "colab": {
     "base_uri": "https://localhost:8080/",
     "height": 293
    },
    "id": "TaNdTwtNyYE5",
    "outputId": "414c27a5-28c0-426d-db29-b6d10fe1da99"
   },
   "outputs": [
    {
     "data": {
      "text/plain": [
       "<matplotlib.legend.Legend at 0x7fa76b059b00>"
      ]
     },
     "execution_count": 6,
     "metadata": {
      "tags": []
     },
     "output_type": "execute_result"
    },
    {
     "data": {
      "image/png": "[encoded data removed]",
      "text/plain": [
       "<Figure size 432x288 with 1 Axes>"
      ]
     },
     "metadata": {
      "needs_background": "light",
      "tags": []
     },
     "output_type": "display_data"
    }
   ],
   "source": [
    "labels = [\"$n_{i1}$\", \"$n_{i2}$\", \"$n_e$\", \"$n_a$\"]\r\n",
    "for i in range(4):\r\n",
    "  plt.plot(Ts, sols[:, i], label=labels[i])\r\n",
    "plt.legend()\r\n"
   ]
  },
  {
   "cell_type": "code",
   "execution_count": null,
   "metadata": {
    "colab": {
     "base_uri": "https://localhost:8080/",
     "height": 293
    },
    "id": "fffjdnUj1UXc",
    "outputId": "eae43f1e-35f5-40a8-b713-1a83c1b0a375"
   },
   "outputs": [
    {
     "data": {
      "text/plain": [
       "[<matplotlib.lines.Line2D at 0x7fa76af85e80>]"
      ]
     },
     "execution_count": 7,
     "metadata": {
      "tags": []
     },
     "output_type": "execute_result"
    },
    {
     "data": {
      "image/png": "[encoded data removed]",
      "text/plain": [
       "<Figure size 432x288 with 1 Axes>"
      ]
     },
     "metadata": {
      "needs_background": "light",
      "tags": []
     },
     "output_type": "display_data"
    }
   ],
   "source": [
    "plt.plot(Ts, r)"
   ]
  },
  {
   "cell_type": "code",
   "execution_count": null,
   "metadata": {
    "colab": {
     "base_uri": "https://localhost:8080/",
     "height": 293
    },
    "id": "3CulRMk_3xjB",
    "outputId": "c469f260-ba97-45b7-bfc2-b2ceb6f10b8b"
   },
   "outputs": [
    {
     "data": {
      "text/plain": [
       "[<matplotlib.lines.Line2D at 0x7fa76aa3dbe0>]"
      ]
     },
     "execution_count": 8,
     "metadata": {
      "tags": []
     },
     "output_type": "execute_result"
    },
    {
     "data": {
      "image/png": "[encoded data removed]",
      "text/plain": [
       "<Figure size 432x288 with 1 Axes>"
      ]
     },
     "metadata": {
      "needs_background": "light",
      "tags": []
     },
     "output_type": "display_data"
    }
   ],
   "source": [
    "plt.plot(Ts, w)"
   ]
  }
 ],
 "metadata": {
  "colab": {
   "collapsed_sections": [],
   "name": "Копия блокнота \"Задача1.ipynb\"",
   "provenance": [],
   "toc_visible": true
  },
  "kernelspec": {
   "display_name": "Python 3",
   "language": "python",
   "name": "python3"
  },
  "language_info": {
   "codemirror_mode": {
    "name": "ipython",
    "version": 3
   },
   "file_extension": ".py",
   "mimetype": "text/x-python",
   "name": "python",
   "nbconvert_exporter": "python",
   "pygments_lexer": "ipython3",
   "version": "3.7.9"
  }
 },
 "nbformat": 4,
 "nbformat_minor": 4
}
