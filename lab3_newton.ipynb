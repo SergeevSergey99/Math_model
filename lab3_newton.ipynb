{
 "cells": [
  {
   "cell_type": "code",
   "execution_count": 6,
   "metadata": {},
   "outputs": [
    {
     "name": "stdout",
     "output_type": "stream",
     "text": [
      "Таблица значений данной функции\n",
      "1.414   0.100\n",
      "2.828   0.300\n",
      "5.657   0.500\n",
      "11.314   0.700\n",
      "22.627   0.900\n",
      "45.255   1.100\n",
      "90.510   1.300\n",
      "181.019   1.500\n",
      "362.039   1.700\n",
      "724.077   1.900\n"
     ]
    },
    {
     "data": {
      "image/png": "[encoded data removed]",
      "text/plain": [
       "<matplotlib.figure.Figure at 0x21f53518748>"
      ]
     },
     "metadata": {},
     "output_type": "display_data"
    }
   ],
   "source": [
    "import math\n",
    "from matplotlib import pylab as plt\n",
    "%matplotlib inline\n",
    "\n",
    "#функция\n",
    "f = lambda x: 2**(5*x)\n",
    "\n",
    "import numpy as np\n",
    "x = np.linspace(0, 1.9, 100000)\n",
    "plt.plot(x, f(x), label='f(x)')\n",
    "plt.grid(True)\n",
    "#записываем таблицу значений в массивы\n",
    "GN = 10\n",
    "x = [0 for k in range(GN)]\n",
    "y = [0 for k in range(GN)]\n",
    "\n",
    "ind = 0\n",
    "for i in range(1,20,2):\n",
    "    x[ind] = i/10\n",
    "    ind+=1\n",
    "for i in range(GN):\n",
    "    y[i] = f(x[i])\n",
    "\n",
    "\n",
    "#выводим таблицу значений\n",
    "print(\"Таблица значений данной функции\")\n",
    "for i in range (GN):\n",
    "    print( '%.3f' % y[i], ' ','%.3f' % x[i])\n"
   ]
  },
  {
   "cell_type": "code",
   "execution_count": 4,
   "metadata": {},
   "outputs": [
    {
     "name": "stdout",
     "output_type": "stream",
     "text": [
      "Разделенные разности\n",
      "1.414 7.071 17.678 29.463 36.828 36.828 30.690 21.922 13.701 7.612 \n",
      "2.828 14.142 35.355 58.926 73.657 73.657 61.381 43.843 27.402 0.000 \n",
      "5.657 28.284 70.711 117.851 147.314 147.314 122.762 87.687 0.000 0.000 \n",
      "11.314 56.569 141.421 235.702 294.628 294.628 245.523 0.000 0.000 0.000 \n",
      "22.627 113.137 282.843 471.405 589.256 589.256 0.000 0.000 0.000 0.000 \n",
      "45.255 226.274 565.685 942.809 1178.511 0.000 0.000 0.000 0.000 0.000 \n",
      "90.510 452.548 1131.371 1885.618 0.000 0.000 0.000 0.000 0.000 0.000 \n",
      "181.019 905.097 2262.742 0.000 0.000 0.000 0.000 0.000 0.000 0.000 \n",
      "362.039 1810.193 0.000 0.000 0.000 0.000 0.000 0.000 0.000 0.000 \n",
      "724.077 0.000 0.000 0.000 0.000 0.000 0.000 0.000 0.000 0.000 \n"
     ]
    }
   ],
   "source": [
    "#сюда будем писать разделенные разности (пока заполним нулями)\n",
    "diffs = [[0 for i in range(GN)] for n in range(GN)]\n",
    "\n",
    "#первый столбец массива - значения y\n",
    "for i in range(GN):\n",
    "    diffs[i][0] = y[i]\n",
    "\n",
    "#для осознания: первый порядок \n",
    "#diffs[0][1] = (diffs[0][0] - diffs[0+1][0]) / (x[0] - x[0+1])\n",
    "#diffs[1][1] = (diffs[1][0] - diffs[1+1][0]) / (x[1] - x[1+1])\n",
    "#для осознания: второй порядок\n",
    "#diffs[0][2] = (diffs[0][1] - diffs[0+1][1]) / (x[0]-x[2])\n",
    "\n",
    "#все осознано. полный цикл:\n",
    "for n in range(1,GN):\n",
    "    for i in range(GN-n):\n",
    "        diffs[i][n] = (diffs[i][n-1] - diffs[i+1][n-1]) / (x[i] - x[i+n])\n",
    "\n",
    "#вывод массива\n",
    "print(\"Разделенные разности\")\n",
    "for i in range (GN):\n",
    "    for n in range (GN):\n",
    "        print('%.3f' % diffs[i][n],end=\" \")\n",
    "    print('')\n"
   ]
  },
  {
   "cell_type": "code",
   "execution_count": 5,
   "metadata": {},
   "outputs": [
    {
     "name": "stdout",
     "output_type": "stream",
     "text": [
      " \n",
      "Значения интерп. функции в точках между исходными\n",
      "2.007   0.200\n",
      "3.999   0.400\n",
      "8.000   0.600\n",
      "16.000   0.800\n",
      "32.000   1.000\n",
      "64.000   1.200\n",
      "128.001   1.400\n",
      "255.998   1.600\n",
      "512.012   1.800\n"
     ]
    },
    {
     "data": {
      "image/png": "[encoded data removed]",
      "text/plain": [
       "<matplotlib.figure.Figure at 0x21f5197c4a8>"
      ]
     },
     "metadata": {},
     "output_type": "display_data"
    }
   ],
   "source": [
    "#сюда пишем дискретные значения аппроксимирующей функции (а для начала заполняем нулями)\n",
    "yINT = [0 for i in range(GN-1)]\n",
    "#точки x, в которых будем искать значения аппрох. функции (не должны быть равны данным x)\n",
    "r = (x[1] - x[0])/2\n",
    "xINT = [x[i]+r for i in range(GN-1)]\n",
    "\n",
    "#проход по точкам, в которых ищем знаение интерпол. функции\n",
    "p = 1\n",
    "s = 0\n",
    "for i in range(GN-1):\n",
    "    #складываем все в сумму\n",
    "    for j in range(1,GN):\n",
    "        #считаем произведения\n",
    "        for k in range(j):\n",
    "            p *= (xINT[i] - x[k])\n",
    "        #домножаем на y(x0,x1..xk)\n",
    "        p *= diffs[0][j]\n",
    "        s += p\n",
    "        p = 1\n",
    "    #не забываем про y0 (!!!)\n",
    "    s += y[0]\n",
    "    yINT[i] = s\n",
    "    s = 0\n",
    "\n",
    "print(' ')\n",
    "print(\"Значения интерп. функции в точках между исходными\")\n",
    "for i in range (GN-1):\n",
    "    print( '%.3f' % yINT[i], ' ','%.3f' % xINT[i])\n",
    "plt.plot(xINT,yINT)\n",
    "plt.grid(True)"
   ]
  }
 ],
 "metadata": {
  "kernelspec": {
   "display_name": "Python 3",
   "language": "python",
   "name": "python3"
  },
  "language_info": {
   "codemirror_mode": {
    "name": "ipython",
    "version": 3
   },
   "file_extension": ".py",
   "mimetype": "text/x-python",
   "name": "python",
   "nbconvert_exporter": "python",
   "pygments_lexer": "ipython3",
   "version": "3.6.4"
  }
 },
 "nbformat": 4,
 "nbformat_minor": 4
}
