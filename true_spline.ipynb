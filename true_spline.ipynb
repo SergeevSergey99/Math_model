{
 "cells": [
  {
   "cell_type": "code",
   "execution_count": 64,
   "metadata": {},
   "outputs": [
    {
     "data": {
      "text/plain": [
       "[<matplotlib.lines.Line2D at 0x1e722f3bf08>]"
      ]
     },
     "execution_count": 64,
     "metadata": {},
     "output_type": "execute_result"
    },
    {
     "data": {
      "image/png": "[encoded data removed]",
      "text/plain": [
       "<Figure size 432x288 with 1 Axes>"
      ]
     },
     "metadata": {
      "needs_background": "light"
     },
     "output_type": "display_data"
    }
   ],
   "source": [
    "import numpy as np\n",
    "from matplotlib import pylab as plt\n",
    "%matplotlib inline\n",
    "import math\n",
    "\n",
    "#f(x) = 2cosx\n",
    "x = [0,math.pi/2,math.pi,3*math.pi/2,2*math.pi]\n",
    "y = [2,0,-1,0,2]\n",
    "\n",
    "######################################\n",
    "#Первый участок\n",
    "f1 = 2*(x[2] - x[0])\n",
    "g1 = (x[2] - x[1])\n",
    "r1 = 6/(x[2] - x[1]) * (y[2] - y[1])\n",
    "r1 += 6/(x[1] - x[0]) * (y[0] - y[1])\n",
    "\n",
    "#для второго участка\n",
    "e2 = x[2] - x[1]\n",
    "f2 = 2*(x[3] - x[1])\n",
    "r2 = 6/(x[3] - x[2]) * (y[3] - y[2])\n",
    "r2 += 6/(x[2] - x[1]) * (y[1] - y[2])\n",
    "\n",
    "dd20 = 0 #f''(0)\n",
    "dd22 = (r2 - (e2*r1)/f1)/(f2 - e2*g1/f1) #f''(2)\n",
    "dd21 = (r1 - g1*dd22)/f1 #f''(1)\n",
    "\n",
    "c1 = dd20/(6*(x[1] - x[0]))\n",
    "c2 = dd21/(6*(x[1] - x[0]))\n",
    "c3 = y[0]/(x[1] - x[0]) - dd20*(x[1] - x[0])/6\n",
    "c4 = (y[1]/(x[1] - x[0])) - (dd21*(x[1] - x[0])/6)\n",
    "\n",
    "f1 = lambda X:  c1*(x[1] - X)**3 + c2*(X - x[0])**3 + c3*(x[1] - X) + c4*(X - x[0])\n",
    "Z = np.linspace(x[0], x[1], 100000)\n",
    "plt.scatter(x, y) \n",
    "plt.grid(True)\n",
    "plt.plot(Z, f1(Z), label='f1')\n",
    "\n",
    "#########################################################\n",
    "#Второй участок\n",
    "c1 = dd21/(6*(x[2] - x[1]))\n",
    "c2 = dd22/(6*(x[2] - x[1]))\n",
    "c3 = y[1]/(x[2] - x[1]) - dd21*(x[2] - x[1])/6\n",
    "c4 = (y[2]/(x[2] - x[1])) - (dd22*(x[2] - x[1])/6)\n",
    "\n",
    "dd23 = (r2 - (e2*dd21) - (f2*dd22))/g2\n",
    "\n",
    "f2 = lambda X:  c1*(x[2] - X)**3 + c2*(X - x[1])**3 + c3*(x[2] - X) + c4*(X - x[1])\n",
    "Z = np.linspace(x[1], x[2], 100000)\n",
    "plt.plot(Z, f2(Z), label='f2')\n",
    "\n",
    "#########################################################\n",
    "#Третий участок\n",
    "e3 = x[3] - x[2]\n",
    "f3 = 2*(x[4] - x[2])\n",
    "g3 = (x[4] - x[3])\n",
    "r3 = 6/(x[4] - x[3]) * (y[4] - y[3])\n",
    "r3 += 6/(x[3] - x[2]) * (y[2] - y[3])\n",
    "\n",
    "dd24 = (r3 - (e3*dd22) - (f3*dd23))/g3\n",
    "\n",
    "c1 = dd22/(6*(x[3] - x[2]))\n",
    "c2 = dd23/(6*(x[3] - x[2]))\n",
    "c3 = y[2]/(x[3] - x[2]) - dd22*(x[3] - x[2])/6\n",
    "c4 = (y[3]/(x[3] - x[2])) - (dd23*(x[3] - x[2])/6)\n",
    "\n",
    "f3 = lambda X:  c1*(x[3] - X)**3 + c2*(X - x[2])**3 + c3*(x[3] - X) + c4*(X - x[2])\n",
    "Z = np.linspace(x[2], x[3], 100000)\n",
    "plt.plot(Z, f3(Z), label='f3')\n",
    "\n",
    "#########################################################\n",
    "#Четвертый участок\n",
    "c1 = dd23/(6*(x[4] - x[3]))\n",
    "c2 = dd24/(6*(x[4] - x[3]))\n",
    "c3 = y[3]/(x[4] - x[3]) - dd23*(x[4] - x[3])/6\n",
    "c4 = (y[4]/(x[4] - x[3])) - (dd24*(x[4] - x[3])/6)\n",
    "\n",
    "f4 = lambda X:  c1*(x[4] - X)**3 + c2*(X - x[3])**3 + c3*(x[4] - X) + c4*(X - x[3])\n",
    "Z = np.linspace(x[3], x[4], 100000)\n",
    "plt.plot(Z, f4(Z), label='f4')\n"
   ]
  },
  {
   "cell_type": "code",
   "execution_count": null,
   "metadata": {},
   "outputs": [],
   "source": []
  }
 ],
 "metadata": {
  "kernelspec": {
   "display_name": "Python 3",
   "language": "python",
   "name": "python3"
  },
  "language_info": {
   "codemirror_mode": {
    "name": "ipython",
    "version": 3
   },
   "file_extension": ".py",
   "mimetype": "text/x-python",
   "name": "python",
   "nbconvert_exporter": "python",
   "pygments_lexer": "ipython3",
   "version": "3.6.4"
  }
 },
 "nbformat": 4,
 "nbformat_minor": 4
}
