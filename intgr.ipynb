{
 "cells": [
  {
   "cell_type": "code",
   "execution_count": 76,
   "metadata": {},
   "outputs": [
    {
     "name": "stdout",
     "output_type": "stream",
     "text": [
      "F(b) - F(a).\t\t:\t 32.0\n",
      "\n",
      "Симпсон(параболы)\t:\t 31.999949333356426 \t -5.066664357400441e-05\n",
      "Трапеции.\t\t:\t 31.999890000152806 \t -0.00010999984719362033\n",
      "Левые прямоуг.\t\t:\t 31.99983200028759 \t -0.00016799971240999412\n",
      "Правые прямоуг.\t\t:\t 31.999948000019838 \t -5.1999980161809845e-05\n",
      "Средн. прямоуг.\t\t:\t 31.99989000012269 \t -0.00010999987730997418\n"
     ]
    }
   ],
   "source": [
    "import numpy as np\n",
    "from matplotlib import pylab as plt\n",
    "%matplotlib inline\n",
    "import math\n",
    "\n",
    "f = lambda x: 4*x**3 + 3*x**2 + 7*x - 3 #math.sin(x)\n",
    "F = lambda x: x**4 + x**3 + 3.5*x**2 - 3*x + 7 #-math.cos(x)\n",
    "a = 0.0\n",
    "b = 2 #math.pi\n",
    "d = 500000*1.5\n",
    "x = [i/d for i in range(0,int(b*d),1)]\n",
    "s1=s2=s3=s4=s5=0\n",
    "\n",
    "#параболы\n",
    "for i in range(len(x)):\n",
    "    if (i == 0 ) | (i == (len(x)-1)):\n",
    "        s5 += f(x[i])\n",
    "    else:\n",
    "        if(i % 2 == 0):\n",
    "            s5+=4*(f(x[i]))\n",
    "        else:\n",
    "            s5+=2*(f(x[i]))\n",
    "s5*=(b-a)/(len(x)-1)/3\n",
    "\n",
    "origin = F(b) - F(0)\n",
    "print(\"F(b) - F(a).\\t\\t:\\t\", origin)\n",
    "print()\n",
    "print(\"Симпсон(параболы)\\t:\\t\",s5,\"\\t\",s5 - origin)\n",
    "\n",
    "d = d/1.5\n",
    "x = [i/d for i in range(0,int(b*d),1)]\n",
    "\n",
    "\n",
    "\n",
    "for i in range(len(x)-1):\n",
    "    s1 += (f(x[i])+f(x[i+1]))/2*(x[i+1]-x[i])     #интегрирование трапециями\n",
    "    s2 += f(x[i])*(x[i+1]-x[i])                   #интегрирование левые прямоуг\n",
    "    s3 += f(x[i+1])*(x[i+1]-x[i])                 #интегрирование правые прямоуг\n",
    "    s4 += f(x[i]+(x[i+1]-x[i])/2)*(x[i+1]-x[i])   #интегрирование средн прямоуг\n",
    "print(\"Трапеции.\\t\\t:\\t\",s1,\"\\t\",s1 - origin)\n",
    "print(\"Левые прямоуг.\\t\\t:\\t\",s2,\"\\t\",s2 - origin)\n",
    "print(\"Правые прямоуг.\\t\\t:\\t\",s3,\"\\t\",s3 - origin)\n",
    "print(\"Средн. прямоуг.\\t\\t:\\t\",s4,\"\\t\",s4 - origin)"
   ]
  },
  {
   "cell_type": "code",
   "execution_count": null,
   "metadata": {},
   "outputs": [],
   "source": []
  }
 ],
 "metadata": {
  "kernelspec": {
   "display_name": "Python 3",
   "language": "python",
   "name": "python3"
  },
  "language_info": {
   "codemirror_mode": {
    "name": "ipython",
    "version": 3
   },
   "file_extension": ".py",
   "mimetype": "text/x-python",
   "name": "python",
   "nbconvert_exporter": "python",
   "pygments_lexer": "ipython3",
   "version": "3.6.4"
  }
 },
 "nbformat": 4,
 "nbformat_minor": 4
}
