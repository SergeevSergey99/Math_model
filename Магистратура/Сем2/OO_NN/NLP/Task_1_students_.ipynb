{
 "nbformat": 4,
 "nbformat_minor": 0,
 "metadata": {
  "colab": {
   "name": "Task_1_students_.ipynb",
   "provenance": [],
   "collapsed_sections": []
  },
  "kernelspec": {
   "display_name": "Python 3",
   "language": "python",
   "name": "python3"
  },
  "language_info": {
   "codemirror_mode": {
    "name": "ipython",
    "version": 3
   },
   "file_extension": ".py",
   "mimetype": "text/x-python",
   "name": "python",
   "nbconvert_exporter": "python",
   "pygments_lexer": "ipython3",
   "version": "3.7.6"
  }
 },
 "cells": [
  {
   "cell_type": "markdown",
   "metadata": {
    "id": "LUuyLVDZ4s8r",
    "pycharm": {
     "name": "#%% md\n"
    }
   },
   "source": [
    "## ЗАДАНИЕ ДЛЯ ПРОГРАММИРУЮЩИХ"
   ]
  },
  {
   "cell_type": "markdown",
   "metadata": {
    "id": "xwJ5Q6w2IFHA",
    "pycharm": {
     "name": "#%% md\n"
    }
   },
   "source": [
    "**Ссылка**, на источник текста"
   ]
  },
  {
   "cell_type": "code",
   "metadata": {
    "id": "64uxt-07IEec",
    "pycharm": {
     "name": "#%%\n"
    }
   },
   "source": [
    "DATA_URL = \"http://az.lib.ru/t/tolstoj_a_k/text_0170.shtml\""
   ],
   "execution_count": 13,
   "outputs": []
  },
  {
   "cell_type": "markdown",
   "metadata": {
    "id": "gwrBkeLnHuA1",
    "pycharm": {
     "name": "#%% md\n"
    }
   },
   "source": [
    "Устанавливаем библиотеки"
   ]
  },
  {
   "cell_type": "code",
   "metadata": {
    "id": "H5Fr5swwYfz5",
    "colab": {
     "base_uri": "https://localhost:8080/"
    },
    "outputId": "961c2c32-b421-4fb6-bdbc-b089906b6121",
    "pycharm": {
     "name": "#%%\n"
    }
   },
   "source": [
    "! pip install -q PyYaml==5.3.1 --user\n",
    "! pip install -q rnnmorph==0.4.0\n",
    "! pip install -q keras==2.1.4\n",
    "! pip install -q h5py==2.7.0"
   ],
   "execution_count": 4,
   "outputs": [
    {
     "name": "stderr",
     "output_type": "stream",
     "text": [
      "WARNING: Ignoring invalid distribution -5py (c:\\programdata\\anaconda3\\lib\\site-packages)\n",
      "WARNING: Ignoring invalid distribution -5py (c:\\programdata\\anaconda3\\lib\\site-packages)\n",
      "WARNING: Ignoring invalid distribution -5py (c:\\programdata\\anaconda3\\lib\\site-packages)\n",
      "ERROR: pip's dependency resolver does not currently take into account all the packages that are installed. This behaviour is the source of the following dependency conflicts.\n",
      "conda-repo-cli 1.0.4 requires pathlib, which is not installed.\n",
      "WARNING: Ignoring invalid distribution -5py (c:\\programdata\\anaconda3\\lib\\site-packages)\n",
      "WARNING: Ignoring invalid distribution -5py (c:\\programdata\\anaconda3\\lib\\site-packages)\n",
      "WARNING: Ignoring invalid distribution -5py (c:\\programdata\\anaconda3\\lib\\site-packages)\n",
      "WARNING: Ignoring invalid distribution -5py (c:\\programdata\\anaconda3\\lib\\site-packages)\n",
      "    WARNING: Ignoring invalid distribution -5py (c:\\programdata\\anaconda3\\lib\\site-packages)\n",
      "WARNING: Ignoring invalid distribution -5py (c:\\programdata\\anaconda3\\lib\\site-packages)\n",
      "WARNING: Ignoring invalid distribution -5py (c:\\programdata\\anaconda3\\lib\\site-packages)\n",
      "WARNING: Ignoring invalid distribution -5py (c:\\programdata\\anaconda3\\lib\\site-packages)\n",
      "WARNING: Ignoring invalid distribution -5py (c:\\programdata\\anaconda3\\lib\\site-packages)\n",
      "WARNING: Ignoring invalid distribution -5py (c:\\programdata\\anaconda3\\lib\\site-packages)\n",
      "    WARNING: Ignoring invalid distribution -5py (c:\\programdata\\anaconda3\\lib\\site-packages)\n",
      "WARNING: Ignoring invalid distribution -5py (c:\\programdata\\anaconda3\\lib\\site-packages)\n",
      "ERROR: pip's dependency resolver does not currently take into account all the packages that are installed. This behaviour is the source of the following dependency conflicts.\n",
      "tensorflow 2.8.0 requires keras<2.9,>=2.8.0rc0, but you have keras 2.1.4 which is incompatible.\n",
      "WARNING: Ignoring invalid distribution -5py (c:\\programdata\\anaconda3\\lib\\site-packages)\n",
      "WARNING: Ignoring invalid distribution -5py (c:\\programdata\\anaconda3\\lib\\site-packages)\n",
      "WARNING: Ignoring invalid distribution -5py (c:\\programdata\\anaconda3\\lib\\site-packages)\n",
      "  error: subprocess-exited-with-error\n",
      "  \n",
      "  python setup.py bdist_wheel did not run successfully.\n",
      "  exit code: 1\n",
      "  \n",
      "  [1308 lines of output]\n",
      "  running bdist_wheel\n",
      "  running build\n",
      "  running build_py\n",
      "  creating build\n",
      "  creating build\\lib.win-amd64-3.9\n",
      "  creating build\\lib.win-amd64-3.9\\h5py\n",
      "  copying h5py\\highlevel.py -> build\\lib.win-amd64-3.9\\h5py\n",
      "  copying h5py\\ipy_completer.py -> build\\lib.win-amd64-3.9\\h5py\n",
      "  copying h5py\\version.py -> build\\lib.win-amd64-3.9\\h5py\n",
      "  copying h5py\\__init__.py -> build\\lib.win-amd64-3.9\\h5py\n",
      "  creating build\\lib.win-amd64-3.9\\h5py\\_hl\n",
      "  copying h5py\\_hl\\attrs.py -> build\\lib.win-amd64-3.9\\h5py\\_hl\n",
      "  copying h5py\\_hl\\base.py -> build\\lib.win-amd64-3.9\\h5py\\_hl\n",
      "  copying h5py\\_hl\\compat.py -> build\\lib.win-amd64-3.9\\h5py\\_hl\n",
      "  copying h5py\\_hl\\dataset.py -> build\\lib.win-amd64-3.9\\h5py\\_hl\n",
      "  copying h5py\\_hl\\datatype.py -> build\\lib.win-amd64-3.9\\h5py\\_hl\n",
      "  copying h5py\\_hl\\dims.py -> build\\lib.win-amd64-3.9\\h5py\\_hl\n",
      "  copying h5py\\_hl\\files.py -> build\\lib.win-amd64-3.9\\h5py\\_hl\n",
      "  copying h5py\\_hl\\filters.py -> build\\lib.win-amd64-3.9\\h5py\\_hl\n",
      "  copying h5py\\_hl\\group.py -> build\\lib.win-amd64-3.9\\h5py\\_hl\n",
      "  copying h5py\\_hl\\selections.py -> build\\lib.win-amd64-3.9\\h5py\\_hl\n",
      "  copying h5py\\_hl\\selections2.py -> build\\lib.win-amd64-3.9\\h5py\\_hl\n",
      "  copying h5py\\_hl\\__init__.py -> build\\lib.win-amd64-3.9\\h5py\\_hl\n",
      "  creating build\\lib.win-amd64-3.9\\h5py\\tests\n",
      "  copying h5py\\tests\\common.py -> build\\lib.win-amd64-3.9\\h5py\\tests\n",
      "  copying h5py\\tests\\__init__.py -> build\\lib.win-amd64-3.9\\h5py\\tests\n",
      "  creating build\\lib.win-amd64-3.9\\h5py\\tests\\old\n",
      "  copying h5py\\tests\\old\\common.py -> build\\lib.win-amd64-3.9\\h5py\\tests\\old\n",
      "  copying h5py\\tests\\old\\test_attrs.py -> build\\lib.win-amd64-3.9\\h5py\\tests\\old\n",
      "  copying h5py\\tests\\old\\test_attrs_data.py -> build\\lib.win-amd64-3.9\\h5py\\tests\\old\n",
      "  copying h5py\\tests\\old\\test_base.py -> build\\lib.win-amd64-3.9\\h5py\\tests\\old\n",
      "  copying h5py\\tests\\old\\test_dataset.py -> build\\lib.win-amd64-3.9\\h5py\\tests\\old\n",
      "  copying h5py\\tests\\old\\test_datatype.py -> build\\lib.win-amd64-3.9\\h5py\\tests\\old\n",
      "  copying h5py\\tests\\old\\test_dimension_scales.py -> build\\lib.win-amd64-3.9\\h5py\\tests\\old\n",
      "  copying h5py\\tests\\old\\test_file.py -> build\\lib.win-amd64-3.9\\h5py\\tests\\old\n",
      "  copying h5py\\tests\\old\\test_file_image.py -> build\\lib.win-amd64-3.9\\h5py\\tests\\old\n",
      "  copying h5py\\tests\\old\\test_group.py -> build\\lib.win-amd64-3.9\\h5py\\tests\\old\n",
      "  copying h5py\\tests\\old\\test_h5.py -> build\\lib.win-amd64-3.9\\h5py\\tests\\old\n",
      "  copying h5py\\tests\\old\\test_h5d_direct_chunk_write.py -> build\\lib.win-amd64-3.9\\h5py\\tests\\old\n",
      "  copying h5py\\tests\\old\\test_h5f.py -> build\\lib.win-amd64-3.9\\h5py\\tests\\old\n",
      "  copying h5py\\tests\\old\\test_h5p.py -> build\\lib.win-amd64-3.9\\h5py\\tests\\old\n",
      "  copying h5py\\tests\\old\\test_h5t.py -> build\\lib.win-amd64-3.9\\h5py\\tests\\old\n",
      "  copying h5py\\tests\\old\\test_objects.py -> build\\lib.win-amd64-3.9\\h5py\\tests\\old\n",
      "  copying h5py\\tests\\old\\test_selections.py -> build\\lib.win-amd64-3.9\\h5py\\tests\\old\n",
      "  copying h5py\\tests\\old\\test_slicing.py -> build\\lib.win-amd64-3.9\\h5py\\tests\\old\n",
      "  copying h5py\\tests\\old\\__init__.py -> build\\lib.win-amd64-3.9\\h5py\\tests\\old\n",
      "  creating build\\lib.win-amd64-3.9\\h5py\\tests\\hl\n",
      "  copying h5py\\tests\\hl\\test_attribute_create.py -> build\\lib.win-amd64-3.9\\h5py\\tests\\hl\n",
      "  copying h5py\\tests\\hl\\test_dataset_getitem.py -> build\\lib.win-amd64-3.9\\h5py\\tests\\hl\n",
      "  copying h5py\\tests\\hl\\test_dataset_swmr.py -> build\\lib.win-amd64-3.9\\h5py\\tests\\hl\n",
      "  copying h5py\\tests\\hl\\test_datatype.py -> build\\lib.win-amd64-3.9\\h5py\\tests\\hl\n",
      "  copying h5py\\tests\\hl\\test_dims_dimensionproxy.py -> build\\lib.win-amd64-3.9\\h5py\\tests\\hl\n",
      "  copying h5py\\tests\\hl\\test_file.py -> build\\lib.win-amd64-3.9\\h5py\\tests\\hl\n",
      "  copying h5py\\tests\\hl\\test_threads.py -> build\\lib.win-amd64-3.9\\h5py\\tests\\hl\n",
      "  copying h5py\\tests\\hl\\__init__.py -> build\\lib.win-amd64-3.9\\h5py\\tests\\hl\n",
      "  running build_ext\n",
      "  Autodetection skipped [Could not find module 'libhdf5.so' (or one of its dependencies). Try using the full path with constructor syntax.]\n",
      "  C:\\ProgramData\\Anaconda3\\lib\\site-packages\\Cython\\Compiler\\Main.py:369: FutureWarning: Cython directive 'language_level' not set, using 2 for now (Py2). This will change in a later release! File: C:\\Users\\Сергей\\AppData\\Local\\Temp\\pip-install-da1__nts\\h5py_6f1684e3c5d644bd9f05a35b86a9e30f\\h5py\\_conv.pxd\n",
      "    tree = Parsing.p_module(s, pxd, full_module_name)\n",
      "  warning: h5py\\api_types_hdf5.pxd:350:2: 'H5D_layout_t' redeclared\n",
      "  warning: h5py\\api_types_hdf5.pxd:357:2: 'H5D_alloc_time_t' redeclared\n",
      "  warning: h5py\\api_types_hdf5.pxd:364:2: 'H5D_space_status_t' redeclared\n",
      "  warning: h5py\\api_types_hdf5.pxd:370:2: 'H5D_fill_time_t' redeclared\n",
      "  warning: h5py\\api_types_hdf5.pxd:376:2: 'H5D_fill_value_t' redeclared\n",
      "  warning: h5py\\api_types_hdf5.pxd:388:7: 'H5F_close_degree_t' redeclared\n",
      "  warning: h5py\\api_types_hdf5.pxd:394:2: 'H5FD_mem_t' redeclared\n",
      "  warning: h5py\\api_types_hdf5.pxd:492:2: 'H5T_cset_t' redeclared\n",
      "  warning: h5py\\api_types_hdf5.pxd:671:7: 'H5Z_EDC_t' redeclared\n",
      "  warning: h5py\\api_types_hdf5.pxd:351:4: 'H5D_LAYOUT_ERROR' redeclared\n",
      "  warning: h5py\\api_types_hdf5.pxd:352:4: 'H5D_COMPACT' redeclared\n",
      "  warning: h5py\\api_types_hdf5.pxd:353:4: 'H5D_CONTIGUOUS' redeclared\n",
      "  warning: h5py\\api_types_hdf5.pxd:354:4: 'H5D_CHUNKED' redeclared\n",
      "  warning: h5py\\api_types_hdf5.pxd:355:4: 'H5D_NLAYOUTS' redeclared\n",
      "  warning: h5py\\api_types_hdf5.pxd:358:4: 'H5D_ALLOC_TIME_ERROR' redeclared\n",
      "  warning: h5py\\api_types_hdf5.pxd:359:4: 'H5D_ALLOC_TIME_DEFAULT' redeclared\n",
      "  warning: h5py\\api_types_hdf5.pxd:360:4: 'H5D_ALLOC_TIME_EARLY' redeclared\n",
      "  warning: h5py\\api_types_hdf5.pxd:361:4: 'H5D_ALLOC_TIME_LATE' redeclared\n",
      "  warning: h5py\\api_types_hdf5.pxd:362:4: 'H5D_ALLOC_TIME_INCR' redeclared\n",
      "  warning: h5py\\api_types_hdf5.pxd:365:4: 'H5D_SPACE_STATUS_ERROR' redeclared\n",
      "  warning: h5py\\api_types_hdf5.pxd:366:4: 'H5D_SPACE_STATUS_NOT_ALLOCATED' redeclared\n",
      "  warning: h5py\\api_types_hdf5.pxd:367:4: 'H5D_SPACE_STATUS_PART_ALLOCATED' redeclared\n",
      "  warning: h5py\\api_types_hdf5.pxd:368:4: 'H5D_SPACE_STATUS_ALLOCATED' redeclared\n",
      "  warning: h5py\\api_types_hdf5.pxd:371:4: 'H5D_FILL_TIME_ERROR' redeclared\n",
      "  warning: h5py\\api_types_hdf5.pxd:372:4: 'H5D_FILL_TIME_ALLOC' redeclared\n",
      "  warning: h5py\\api_types_hdf5.pxd:373:4: 'H5D_FILL_TIME_NEVER' redeclared\n",
      "  warning: h5py\\api_types_hdf5.pxd:374:4: 'H5D_FILL_TIME_IFSET' redeclared\n",
      "  warning: h5py\\api_types_hdf5.pxd:377:4: 'H5D_FILL_VALUE_ERROR' redeclared\n",
      "  warning: h5py\\api_types_hdf5.pxd:378:4: 'H5D_FILL_VALUE_UNDEFINED' redeclared\n",
      "  warning: h5py\\api_types_hdf5.pxd:379:4: 'H5D_FILL_VALUE_DEFAULT' redeclared\n",
      "  warning: h5py\\api_types_hdf5.pxd:380:4: 'H5D_FILL_VALUE_USER_DEFINED' redeclared\n",
      "  warning: h5py\\api_types_hdf5.pxd:389:4: 'H5F_CLOSE_WEAK' redeclared\n",
      "  warning: h5py\\api_types_hdf5.pxd:390:4: 'H5F_CLOSE_SEMI' redeclared\n",
      "  warning: h5py\\api_types_hdf5.pxd:391:4: 'H5F_CLOSE_STRONG' redeclared\n",
      "  warning: h5py\\api_types_hdf5.pxd:392:4: 'H5F_CLOSE_DEFAULT' redeclared\n",
      "  warning: h5py\\api_types_hdf5.pxd:395:4: 'H5FD_MEM_NOLIST' redeclared\n",
      "  warning: h5py\\api_types_hdf5.pxd:396:4: 'H5FD_MEM_DEFAULT' redeclared\n",
      "  warning: h5py\\api_types_hdf5.pxd:397:4: 'H5FD_MEM_SUPER' redeclared\n",
      "  warning: h5py\\api_types_hdf5.pxd:398:4: 'H5FD_MEM_BTREE' redeclared\n",
      "  warning: h5py\\api_types_hdf5.pxd:399:4: 'H5FD_MEM_DRAW' redeclared\n",
      "  warning: h5py\\api_types_hdf5.pxd:400:4: 'H5FD_MEM_GHEAP' redeclared\n",
      "  warning: h5py\\api_types_hdf5.pxd:401:4: 'H5FD_MEM_LHEAP' redeclared\n",
      "  warning: h5py\\api_types_hdf5.pxd:402:4: 'H5FD_MEM_OHDR' redeclared\n",
      "  warning: h5py\\api_types_hdf5.pxd:403:4: 'H5FD_MEM_NTYPES' redeclared\n",
      "  warning: h5py\\api_types_hdf5.pxd:493:4: 'H5T_CSET_ERROR' redeclared\n",
      "  warning: h5py\\api_types_hdf5.pxd:494:4: 'H5T_CSET_ASCII' redeclared\n",
      "  warning: h5py\\api_types_hdf5.pxd:637:2: 'H5Z_filter_t' redeclared\n",
      "  warning: h5py\\api_types_hdf5.pxd:672:6: 'H5Z_ERROR_EDC' redeclared\n",
      "  warning: h5py\\api_types_hdf5.pxd:673:6: 'H5Z_DISABLE_EDC' redeclared\n",
      "  warning: h5py\\api_types_hdf5.pxd:674:6: 'H5Z_ENABLE_EDC' redeclared\n",
      "  warning: h5py\\api_types_hdf5.pxd:675:6: 'H5Z_NO_EDC' redeclared\n",
      "  C:\\ProgramData\\Anaconda3\\lib\\site-packages\\Cython\\Compiler\\Main.py:369: FutureWarning: Cython directive 'language_level' not set, using 2 for now (Py2). This will change in a later release! File: C:\\Users\\Сергей\\AppData\\Local\\Temp\\pip-install-da1__nts\\h5py_6f1684e3c5d644bd9f05a35b86a9e30f\\h5py\\_errors.pxd\n",
      "    tree = Parsing.p_module(s, pxd, full_module_name)\n",
      "  warning: h5py\\api_types_hdf5.pxd:350:2: 'H5D_layout_t' redeclared\n",
      "  warning: h5py\\api_types_hdf5.pxd:357:2: 'H5D_alloc_time_t' redeclared\n",
      "  warning: h5py\\api_types_hdf5.pxd:364:2: 'H5D_space_status_t' redeclared\n",
      "  warning: h5py\\api_types_hdf5.pxd:370:2: 'H5D_fill_time_t' redeclared\n",
      "  warning: h5py\\api_types_hdf5.pxd:376:2: 'H5D_fill_value_t' redeclared\n",
      "  warning: h5py\\api_types_hdf5.pxd:388:7: 'H5F_close_degree_t' redeclared\n",
      "  warning: h5py\\api_types_hdf5.pxd:394:2: 'H5FD_mem_t' redeclared\n",
      "  warning: h5py\\api_types_hdf5.pxd:492:2: 'H5T_cset_t' redeclared\n",
      "  warning: h5py\\api_types_hdf5.pxd:671:7: 'H5Z_EDC_t' redeclared\n",
      "  warning: h5py\\api_types_hdf5.pxd:351:4: 'H5D_LAYOUT_ERROR' redeclared\n",
      "  warning: h5py\\api_types_hdf5.pxd:352:4: 'H5D_COMPACT' redeclared\n",
      "  warning: h5py\\api_types_hdf5.pxd:353:4: 'H5D_CONTIGUOUS' redeclared\n",
      "  warning: h5py\\api_types_hdf5.pxd:354:4: 'H5D_CHUNKED' redeclared\n",
      "  warning: h5py\\api_types_hdf5.pxd:355:4: 'H5D_NLAYOUTS' redeclared\n",
      "  warning: h5py\\api_types_hdf5.pxd:358:4: 'H5D_ALLOC_TIME_ERROR' redeclared\n",
      "  warning: h5py\\api_types_hdf5.pxd:359:4: 'H5D_ALLOC_TIME_DEFAULT' redeclared\n",
      "  warning: h5py\\api_types_hdf5.pxd:360:4: 'H5D_ALLOC_TIME_EARLY' redeclared\n",
      "  warning: h5py\\api_types_hdf5.pxd:361:4: 'H5D_ALLOC_TIME_LATE' redeclared\n",
      "  warning: h5py\\api_types_hdf5.pxd:362:4: 'H5D_ALLOC_TIME_INCR' redeclared\n",
      "  warning: h5py\\api_types_hdf5.pxd:365:4: 'H5D_SPACE_STATUS_ERROR' redeclared\n",
      "  warning: h5py\\api_types_hdf5.pxd:366:4: 'H5D_SPACE_STATUS_NOT_ALLOCATED' redeclared\n",
      "  warning: h5py\\api_types_hdf5.pxd:367:4: 'H5D_SPACE_STATUS_PART_ALLOCATED' redeclared\n",
      "  warning: h5py\\api_types_hdf5.pxd:368:4: 'H5D_SPACE_STATUS_ALLOCATED' redeclared\n",
      "  warning: h5py\\api_types_hdf5.pxd:371:4: 'H5D_FILL_TIME_ERROR' redeclared\n",
      "  warning: h5py\\api_types_hdf5.pxd:372:4: 'H5D_FILL_TIME_ALLOC' redeclared\n",
      "  warning: h5py\\api_types_hdf5.pxd:373:4: 'H5D_FILL_TIME_NEVER' redeclared\n",
      "  warning: h5py\\api_types_hdf5.pxd:374:4: 'H5D_FILL_TIME_IFSET' redeclared\n",
      "  warning: h5py\\api_types_hdf5.pxd:377:4: 'H5D_FILL_VALUE_ERROR' redeclared\n",
      "  warning: h5py\\api_types_hdf5.pxd:378:4: 'H5D_FILL_VALUE_UNDEFINED' redeclared\n",
      "  warning: h5py\\api_types_hdf5.pxd:379:4: 'H5D_FILL_VALUE_DEFAULT' redeclared\n",
      "  warning: h5py\\api_types_hdf5.pxd:380:4: 'H5D_FILL_VALUE_USER_DEFINED' redeclared\n",
      "  warning: h5py\\api_types_hdf5.pxd:389:4: 'H5F_CLOSE_WEAK' redeclared\n",
      "  warning: h5py\\api_types_hdf5.pxd:390:4: 'H5F_CLOSE_SEMI' redeclared\n",
      "  warning: h5py\\api_types_hdf5.pxd:391:4: 'H5F_CLOSE_STRONG' redeclared\n",
      "  warning: h5py\\api_types_hdf5.pxd:392:4: 'H5F_CLOSE_DEFAULT' redeclared\n",
      "  warning: h5py\\api_types_hdf5.pxd:395:4: 'H5FD_MEM_NOLIST' redeclared\n",
      "  warning: h5py\\api_types_hdf5.pxd:396:4: 'H5FD_MEM_DEFAULT' redeclared\n",
      "  warning: h5py\\api_types_hdf5.pxd:397:4: 'H5FD_MEM_SUPER' redeclared\n",
      "  warning: h5py\\api_types_hdf5.pxd:398:4: 'H5FD_MEM_BTREE' redeclared\n",
      "  warning: h5py\\api_types_hdf5.pxd:399:4: 'H5FD_MEM_DRAW' redeclared\n",
      "  warning: h5py\\api_types_hdf5.pxd:400:4: 'H5FD_MEM_GHEAP' redeclared\n",
      "  warning: h5py\\api_types_hdf5.pxd:401:4: 'H5FD_MEM_LHEAP' redeclared\n",
      "  warning: h5py\\api_types_hdf5.pxd:402:4: 'H5FD_MEM_OHDR' redeclared\n",
      "  warning: h5py\\api_types_hdf5.pxd:403:4: 'H5FD_MEM_NTYPES' redeclared\n",
      "  warning: h5py\\api_types_hdf5.pxd:493:4: 'H5T_CSET_ERROR' redeclared\n",
      "  warning: h5py\\api_types_hdf5.pxd:494:4: 'H5T_CSET_ASCII' redeclared\n",
      "  warning: h5py\\api_types_hdf5.pxd:637:2: 'H5Z_filter_t' redeclared\n",
      "  warning: h5py\\api_types_hdf5.pxd:672:6: 'H5Z_ERROR_EDC' redeclared\n",
      "  warning: h5py\\api_types_hdf5.pxd:673:6: 'H5Z_DISABLE_EDC' redeclared\n",
      "  warning: h5py\\api_types_hdf5.pxd:674:6: 'H5Z_ENABLE_EDC' redeclared\n",
      "  warning: h5py\\api_types_hdf5.pxd:675:6: 'H5Z_NO_EDC' redeclared\n",
      "  C:\\ProgramData\\Anaconda3\\lib\\site-packages\\Cython\\Compiler\\Main.py:369: FutureWarning: Cython directive 'language_level' not set, using 2 for now (Py2). This will change in a later release! File: C:\\Users\\Сергей\\AppData\\Local\\Temp\\pip-install-da1__nts\\h5py_6f1684e3c5d644bd9f05a35b86a9e30f\\h5py\\_objects.pxd\n",
      "    tree = Parsing.p_module(s, pxd, full_module_name)\n",
      "  warning: h5py\\api_types_hdf5.pxd:350:2: 'H5D_layout_t' redeclared\n",
      "  warning: h5py\\api_types_hdf5.pxd:357:2: 'H5D_alloc_time_t' redeclared\n",
      "  warning: h5py\\api_types_hdf5.pxd:364:2: 'H5D_space_status_t' redeclared\n",
      "  warning: h5py\\api_types_hdf5.pxd:370:2: 'H5D_fill_time_t' redeclared\n",
      "  warning: h5py\\api_types_hdf5.pxd:376:2: 'H5D_fill_value_t' redeclared\n",
      "  warning: h5py\\api_types_hdf5.pxd:388:7: 'H5F_close_degree_t' redeclared\n",
      "  warning: h5py\\api_types_hdf5.pxd:394:2: 'H5FD_mem_t' redeclared\n",
      "  warning: h5py\\api_types_hdf5.pxd:492:2: 'H5T_cset_t' redeclared\n",
      "  warning: h5py\\api_types_hdf5.pxd:671:7: 'H5Z_EDC_t' redeclared\n",
      "  warning: h5py\\api_types_hdf5.pxd:351:4: 'H5D_LAYOUT_ERROR' redeclared\n",
      "  warning: h5py\\api_types_hdf5.pxd:352:4: 'H5D_COMPACT' redeclared\n",
      "  warning: h5py\\api_types_hdf5.pxd:353:4: 'H5D_CONTIGUOUS' redeclared\n",
      "  warning: h5py\\api_types_hdf5.pxd:354:4: 'H5D_CHUNKED' redeclared\n",
      "  warning: h5py\\api_types_hdf5.pxd:355:4: 'H5D_NLAYOUTS' redeclared\n",
      "  warning: h5py\\api_types_hdf5.pxd:358:4: 'H5D_ALLOC_TIME_ERROR' redeclared\n",
      "  warning: h5py\\api_types_hdf5.pxd:359:4: 'H5D_ALLOC_TIME_DEFAULT' redeclared\n",
      "  warning: h5py\\api_types_hdf5.pxd:360:4: 'H5D_ALLOC_TIME_EARLY' redeclared\n",
      "  warning: h5py\\api_types_hdf5.pxd:361:4: 'H5D_ALLOC_TIME_LATE' redeclared\n",
      "  warning: h5py\\api_types_hdf5.pxd:362:4: 'H5D_ALLOC_TIME_INCR' redeclared\n",
      "  warning: h5py\\api_types_hdf5.pxd:365:4: 'H5D_SPACE_STATUS_ERROR' redeclared\n",
      "  warning: h5py\\api_types_hdf5.pxd:366:4: 'H5D_SPACE_STATUS_NOT_ALLOCATED' redeclared\n",
      "  warning: h5py\\api_types_hdf5.pxd:367:4: 'H5D_SPACE_STATUS_PART_ALLOCATED' redeclared\n",
      "  warning: h5py\\api_types_hdf5.pxd:368:4: 'H5D_SPACE_STATUS_ALLOCATED' redeclared\n",
      "  warning: h5py\\api_types_hdf5.pxd:371:4: 'H5D_FILL_TIME_ERROR' redeclared\n",
      "  warning: h5py\\api_types_hdf5.pxd:372:4: 'H5D_FILL_TIME_ALLOC' redeclared\n",
      "  warning: h5py\\api_types_hdf5.pxd:373:4: 'H5D_FILL_TIME_NEVER' redeclared\n",
      "  warning: h5py\\api_types_hdf5.pxd:374:4: 'H5D_FILL_TIME_IFSET' redeclared\n",
      "  warning: h5py\\api_types_hdf5.pxd:377:4: 'H5D_FILL_VALUE_ERROR' redeclared\n",
      "  warning: h5py\\api_types_hdf5.pxd:378:4: 'H5D_FILL_VALUE_UNDEFINED' redeclared\n",
      "  warning: h5py\\api_types_hdf5.pxd:379:4: 'H5D_FILL_VALUE_DEFAULT' redeclared\n",
      "  warning: h5py\\api_types_hdf5.pxd:380:4: 'H5D_FILL_VALUE_USER_DEFINED' redeclared\n",
      "  warning: h5py\\api_types_hdf5.pxd:389:4: 'H5F_CLOSE_WEAK' redeclared\n",
      "  warning: h5py\\api_types_hdf5.pxd:390:4: 'H5F_CLOSE_SEMI' redeclared\n",
      "  warning: h5py\\api_types_hdf5.pxd:391:4: 'H5F_CLOSE_STRONG' redeclared\n",
      "  warning: h5py\\api_types_hdf5.pxd:392:4: 'H5F_CLOSE_DEFAULT' redeclared\n",
      "  warning: h5py\\api_types_hdf5.pxd:395:4: 'H5FD_MEM_NOLIST' redeclared\n",
      "  warning: h5py\\api_types_hdf5.pxd:396:4: 'H5FD_MEM_DEFAULT' redeclared\n",
      "  warning: h5py\\api_types_hdf5.pxd:397:4: 'H5FD_MEM_SUPER' redeclared\n",
      "  warning: h5py\\api_types_hdf5.pxd:398:4: 'H5FD_MEM_BTREE' redeclared\n",
      "  warning: h5py\\api_types_hdf5.pxd:399:4: 'H5FD_MEM_DRAW' redeclared\n",
      "  warning: h5py\\api_types_hdf5.pxd:400:4: 'H5FD_MEM_GHEAP' redeclared\n",
      "  warning: h5py\\api_types_hdf5.pxd:401:4: 'H5FD_MEM_LHEAP' redeclared\n",
      "  warning: h5py\\api_types_hdf5.pxd:402:4: 'H5FD_MEM_OHDR' redeclared\n",
      "  warning: h5py\\api_types_hdf5.pxd:403:4: 'H5FD_MEM_NTYPES' redeclared\n",
      "  warning: h5py\\api_types_hdf5.pxd:493:4: 'H5T_CSET_ERROR' redeclared\n",
      "  warning: h5py\\api_types_hdf5.pxd:494:4: 'H5T_CSET_ASCII' redeclared\n",
      "  warning: h5py\\api_types_hdf5.pxd:637:2: 'H5Z_filter_t' redeclared\n",
      "  warning: h5py\\api_types_hdf5.pxd:672:6: 'H5Z_ERROR_EDC' redeclared\n",
      "  warning: h5py\\api_types_hdf5.pxd:673:6: 'H5Z_DISABLE_EDC' redeclared\n",
      "  warning: h5py\\api_types_hdf5.pxd:674:6: 'H5Z_ENABLE_EDC' redeclared\n",
      "  warning: h5py\\api_types_hdf5.pxd:675:6: 'H5Z_NO_EDC' redeclared\n",
      "  C:\\ProgramData\\Anaconda3\\lib\\site-packages\\Cython\\Compiler\\Main.py:369: FutureWarning: Cython directive 'language_level' not set, using 2 for now (Py2). This will change in a later release! File: C:\\Users\\Сергей\\AppData\\Local\\Temp\\pip-install-da1__nts\\h5py_6f1684e3c5d644bd9f05a35b86a9e30f\\h5py\\_proxy.pxd\n",
      "    tree = Parsing.p_module(s, pxd, full_module_name)\n",
      "  warning: h5py\\api_types_hdf5.pxd:350:2: 'H5D_layout_t' redeclared\n",
      "  warning: h5py\\api_types_hdf5.pxd:357:2: 'H5D_alloc_time_t' redeclared\n",
      "  warning: h5py\\api_types_hdf5.pxd:364:2: 'H5D_space_status_t' redeclared\n",
      "  warning: h5py\\api_types_hdf5.pxd:370:2: 'H5D_fill_time_t' redeclared\n",
      "  warning: h5py\\api_types_hdf5.pxd:376:2: 'H5D_fill_value_t' redeclared\n",
      "  warning: h5py\\api_types_hdf5.pxd:388:7: 'H5F_close_degree_t' redeclared\n",
      "  warning: h5py\\api_types_hdf5.pxd:394:2: 'H5FD_mem_t' redeclared\n",
      "  warning: h5py\\api_types_hdf5.pxd:492:2: 'H5T_cset_t' redeclared\n",
      "  warning: h5py\\api_types_hdf5.pxd:671:7: 'H5Z_EDC_t' redeclared\n",
      "  warning: h5py\\api_types_hdf5.pxd:351:4: 'H5D_LAYOUT_ERROR' redeclared\n",
      "  warning: h5py\\api_types_hdf5.pxd:352:4: 'H5D_COMPACT' redeclared\n",
      "  warning: h5py\\api_types_hdf5.pxd:353:4: 'H5D_CONTIGUOUS' redeclared\n",
      "  warning: h5py\\api_types_hdf5.pxd:354:4: 'H5D_CHUNKED' redeclared\n",
      "  warning: h5py\\api_types_hdf5.pxd:355:4: 'H5D_NLAYOUTS' redeclared\n",
      "  warning: h5py\\api_types_hdf5.pxd:358:4: 'H5D_ALLOC_TIME_ERROR' redeclared\n",
      "  warning: h5py\\api_types_hdf5.pxd:359:4: 'H5D_ALLOC_TIME_DEFAULT' redeclared\n",
      "  warning: h5py\\api_types_hdf5.pxd:360:4: 'H5D_ALLOC_TIME_EARLY' redeclared\n",
      "  warning: h5py\\api_types_hdf5.pxd:361:4: 'H5D_ALLOC_TIME_LATE' redeclared\n",
      "  warning: h5py\\api_types_hdf5.pxd:362:4: 'H5D_ALLOC_TIME_INCR' redeclared\n",
      "  warning: h5py\\api_types_hdf5.pxd:365:4: 'H5D_SPACE_STATUS_ERROR' redeclared\n",
      "  warning: h5py\\api_types_hdf5.pxd:366:4: 'H5D_SPACE_STATUS_NOT_ALLOCATED' redeclared\n",
      "  warning: h5py\\api_types_hdf5.pxd:367:4: 'H5D_SPACE_STATUS_PART_ALLOCATED' redeclared\n",
      "  warning: h5py\\api_types_hdf5.pxd:368:4: 'H5D_SPACE_STATUS_ALLOCATED' redeclared\n",
      "  warning: h5py\\api_types_hdf5.pxd:371:4: 'H5D_FILL_TIME_ERROR' redeclared\n",
      "  warning: h5py\\api_types_hdf5.pxd:372:4: 'H5D_FILL_TIME_ALLOC' redeclared\n",
      "  warning: h5py\\api_types_hdf5.pxd:373:4: 'H5D_FILL_TIME_NEVER' redeclared\n",
      "  warning: h5py\\api_types_hdf5.pxd:374:4: 'H5D_FILL_TIME_IFSET' redeclared\n",
      "  warning: h5py\\api_types_hdf5.pxd:377:4: 'H5D_FILL_VALUE_ERROR' redeclared\n",
      "  warning: h5py\\api_types_hdf5.pxd:378:4: 'H5D_FILL_VALUE_UNDEFINED' redeclared\n",
      "  warning: h5py\\api_types_hdf5.pxd:379:4: 'H5D_FILL_VALUE_DEFAULT' redeclared\n",
      "  warning: h5py\\api_types_hdf5.pxd:380:4: 'H5D_FILL_VALUE_USER_DEFINED' redeclared\n",
      "  warning: h5py\\api_types_hdf5.pxd:389:4: 'H5F_CLOSE_WEAK' redeclared\n",
      "  warning: h5py\\api_types_hdf5.pxd:390:4: 'H5F_CLOSE_SEMI' redeclared\n",
      "  warning: h5py\\api_types_hdf5.pxd:391:4: 'H5F_CLOSE_STRONG' redeclared\n",
      "  warning: h5py\\api_types_hdf5.pxd:392:4: 'H5F_CLOSE_DEFAULT' redeclared\n",
      "  warning: h5py\\api_types_hdf5.pxd:395:4: 'H5FD_MEM_NOLIST' redeclared\n",
      "  warning: h5py\\api_types_hdf5.pxd:396:4: 'H5FD_MEM_DEFAULT' redeclared\n",
      "  warning: h5py\\api_types_hdf5.pxd:397:4: 'H5FD_MEM_SUPER' redeclared\n",
      "  warning: h5py\\api_types_hdf5.pxd:398:4: 'H5FD_MEM_BTREE' redeclared\n",
      "  warning: h5py\\api_types_hdf5.pxd:399:4: 'H5FD_MEM_DRAW' redeclared\n",
      "  warning: h5py\\api_types_hdf5.pxd:400:4: 'H5FD_MEM_GHEAP' redeclared\n",
      "  warning: h5py\\api_types_hdf5.pxd:401:4: 'H5FD_MEM_LHEAP' redeclared\n",
      "  warning: h5py\\api_types_hdf5.pxd:402:4: 'H5FD_MEM_OHDR' redeclared\n",
      "  warning: h5py\\api_types_hdf5.pxd:403:4: 'H5FD_MEM_NTYPES' redeclared\n",
      "  warning: h5py\\api_types_hdf5.pxd:493:4: 'H5T_CSET_ERROR' redeclared\n",
      "  warning: h5py\\api_types_hdf5.pxd:494:4: 'H5T_CSET_ASCII' redeclared\n",
      "  warning: h5py\\api_types_hdf5.pxd:637:2: 'H5Z_filter_t' redeclared\n",
      "  warning: h5py\\api_types_hdf5.pxd:672:6: 'H5Z_ERROR_EDC' redeclared\n",
      "  warning: h5py\\api_types_hdf5.pxd:673:6: 'H5Z_DISABLE_EDC' redeclared\n",
      "  warning: h5py\\api_types_hdf5.pxd:674:6: 'H5Z_ENABLE_EDC' redeclared\n",
      "  warning: h5py\\api_types_hdf5.pxd:675:6: 'H5Z_NO_EDC' redeclared\n",
      "  C:\\ProgramData\\Anaconda3\\lib\\site-packages\\Cython\\Compiler\\Main.py:369: FutureWarning: Cython directive 'language_level' not set, using 2 for now (Py2). This will change in a later release! File: C:\\Users\\Сергей\\AppData\\Local\\Temp\\pip-install-da1__nts\\h5py_6f1684e3c5d644bd9f05a35b86a9e30f\\h5py\\defs.pxd\n",
      "    tree = Parsing.p_module(s, pxd, full_module_name)\n",
      "  warning: h5py\\api_types_hdf5.pxd:350:2: 'H5D_layout_t' redeclared\n",
      "  warning: h5py\\api_types_hdf5.pxd:357:2: 'H5D_alloc_time_t' redeclared\n",
      "  warning: h5py\\api_types_hdf5.pxd:364:2: 'H5D_space_status_t' redeclared\n",
      "  warning: h5py\\api_types_hdf5.pxd:370:2: 'H5D_fill_time_t' redeclared\n",
      "  warning: h5py\\api_types_hdf5.pxd:376:2: 'H5D_fill_value_t' redeclared\n",
      "  warning: h5py\\api_types_hdf5.pxd:388:7: 'H5F_close_degree_t' redeclared\n",
      "  warning: h5py\\api_types_hdf5.pxd:394:2: 'H5FD_mem_t' redeclared\n",
      "  warning: h5py\\api_types_hdf5.pxd:492:2: 'H5T_cset_t' redeclared\n",
      "  warning: h5py\\api_types_hdf5.pxd:671:7: 'H5Z_EDC_t' redeclared\n",
      "  warning: h5py\\api_types_hdf5.pxd:351:4: 'H5D_LAYOUT_ERROR' redeclared\n",
      "  warning: h5py\\api_types_hdf5.pxd:352:4: 'H5D_COMPACT' redeclared\n",
      "  warning: h5py\\api_types_hdf5.pxd:353:4: 'H5D_CONTIGUOUS' redeclared\n",
      "  warning: h5py\\api_types_hdf5.pxd:354:4: 'H5D_CHUNKED' redeclared\n",
      "  warning: h5py\\api_types_hdf5.pxd:355:4: 'H5D_NLAYOUTS' redeclared\n",
      "  warning: h5py\\api_types_hdf5.pxd:358:4: 'H5D_ALLOC_TIME_ERROR' redeclared\n",
      "  warning: h5py\\api_types_hdf5.pxd:359:4: 'H5D_ALLOC_TIME_DEFAULT' redeclared\n",
      "  warning: h5py\\api_types_hdf5.pxd:360:4: 'H5D_ALLOC_TIME_EARLY' redeclared\n",
      "  warning: h5py\\api_types_hdf5.pxd:361:4: 'H5D_ALLOC_TIME_LATE' redeclared\n",
      "  warning: h5py\\api_types_hdf5.pxd:362:4: 'H5D_ALLOC_TIME_INCR' redeclared\n",
      "  warning: h5py\\api_types_hdf5.pxd:365:4: 'H5D_SPACE_STATUS_ERROR' redeclared\n",
      "  warning: h5py\\api_types_hdf5.pxd:366:4: 'H5D_SPACE_STATUS_NOT_ALLOCATED' redeclared\n",
      "  warning: h5py\\api_types_hdf5.pxd:367:4: 'H5D_SPACE_STATUS_PART_ALLOCATED' redeclared\n",
      "  warning: h5py\\api_types_hdf5.pxd:368:4: 'H5D_SPACE_STATUS_ALLOCATED' redeclared\n",
      "  warning: h5py\\api_types_hdf5.pxd:371:4: 'H5D_FILL_TIME_ERROR' redeclared\n",
      "  warning: h5py\\api_types_hdf5.pxd:372:4: 'H5D_FILL_TIME_ALLOC' redeclared\n",
      "  warning: h5py\\api_types_hdf5.pxd:373:4: 'H5D_FILL_TIME_NEVER' redeclared\n",
      "  warning: h5py\\api_types_hdf5.pxd:374:4: 'H5D_FILL_TIME_IFSET' redeclared\n",
      "  warning: h5py\\api_types_hdf5.pxd:377:4: 'H5D_FILL_VALUE_ERROR' redeclared\n",
      "  warning: h5py\\api_types_hdf5.pxd:378:4: 'H5D_FILL_VALUE_UNDEFINED' redeclared\n",
      "  warning: h5py\\api_types_hdf5.pxd:379:4: 'H5D_FILL_VALUE_DEFAULT' redeclared\n",
      "  warning: h5py\\api_types_hdf5.pxd:380:4: 'H5D_FILL_VALUE_USER_DEFINED' redeclared\n",
      "  warning: h5py\\api_types_hdf5.pxd:389:4: 'H5F_CLOSE_WEAK' redeclared\n",
      "  warning: h5py\\api_types_hdf5.pxd:390:4: 'H5F_CLOSE_SEMI' redeclared\n",
      "  warning: h5py\\api_types_hdf5.pxd:391:4: 'H5F_CLOSE_STRONG' redeclared\n",
      "  warning: h5py\\api_types_hdf5.pxd:392:4: 'H5F_CLOSE_DEFAULT' redeclared\n",
      "  warning: h5py\\api_types_hdf5.pxd:395:4: 'H5FD_MEM_NOLIST' redeclared\n",
      "  warning: h5py\\api_types_hdf5.pxd:396:4: 'H5FD_MEM_DEFAULT' redeclared\n",
      "  warning: h5py\\api_types_hdf5.pxd:397:4: 'H5FD_MEM_SUPER' redeclared\n",
      "  warning: h5py\\api_types_hdf5.pxd:398:4: 'H5FD_MEM_BTREE' redeclared\n",
      "  warning: h5py\\api_types_hdf5.pxd:399:4: 'H5FD_MEM_DRAW' redeclared\n",
      "  warning: h5py\\api_types_hdf5.pxd:400:4: 'H5FD_MEM_GHEAP' redeclared\n",
      "  warning: h5py\\api_types_hdf5.pxd:401:4: 'H5FD_MEM_LHEAP' redeclared\n",
      "  warning: h5py\\api_types_hdf5.pxd:402:4: 'H5FD_MEM_OHDR' redeclared\n",
      "  warning: h5py\\api_types_hdf5.pxd:403:4: 'H5FD_MEM_NTYPES' redeclared\n",
      "  warning: h5py\\api_types_hdf5.pxd:493:4: 'H5T_CSET_ERROR' redeclared\n",
      "  warning: h5py\\api_types_hdf5.pxd:494:4: 'H5T_CSET_ASCII' redeclared\n",
      "  warning: h5py\\api_types_hdf5.pxd:637:2: 'H5Z_filter_t' redeclared\n",
      "  warning: h5py\\api_types_hdf5.pxd:672:6: 'H5Z_ERROR_EDC' redeclared\n",
      "  warning: h5py\\api_types_hdf5.pxd:673:6: 'H5Z_DISABLE_EDC' redeclared\n",
      "  warning: h5py\\api_types_hdf5.pxd:674:6: 'H5Z_ENABLE_EDC' redeclared\n",
      "  warning: h5py\\api_types_hdf5.pxd:675:6: 'H5Z_NO_EDC' redeclared\n",
      "  C:\\ProgramData\\Anaconda3\\lib\\site-packages\\Cython\\Compiler\\Main.py:369: FutureWarning: Cython directive 'language_level' not set, using 2 for now (Py2). This will change in a later release! File: C:\\Users\\Сергей\\AppData\\Local\\Temp\\pip-install-da1__nts\\h5py_6f1684e3c5d644bd9f05a35b86a9e30f\\h5py\\h5.pxd\n",
      "    tree = Parsing.p_module(s, pxd, full_module_name)\n",
      "  warning: h5py\\api_types_hdf5.pxd:350:2: 'H5D_layout_t' redeclared\n",
      "  warning: h5py\\api_types_hdf5.pxd:357:2: 'H5D_alloc_time_t' redeclared\n",
      "  warning: h5py\\api_types_hdf5.pxd:364:2: 'H5D_space_status_t' redeclared\n",
      "  warning: h5py\\api_types_hdf5.pxd:370:2: 'H5D_fill_time_t' redeclared\n",
      "  warning: h5py\\api_types_hdf5.pxd:376:2: 'H5D_fill_value_t' redeclared\n",
      "  warning: h5py\\api_types_hdf5.pxd:388:7: 'H5F_close_degree_t' redeclared\n",
      "  warning: h5py\\api_types_hdf5.pxd:394:2: 'H5FD_mem_t' redeclared\n",
      "  warning: h5py\\api_types_hdf5.pxd:492:2: 'H5T_cset_t' redeclared\n",
      "  warning: h5py\\api_types_hdf5.pxd:671:7: 'H5Z_EDC_t' redeclared\n",
      "  warning: h5py\\api_types_hdf5.pxd:351:4: 'H5D_LAYOUT_ERROR' redeclared\n",
      "  warning: h5py\\api_types_hdf5.pxd:352:4: 'H5D_COMPACT' redeclared\n",
      "  warning: h5py\\api_types_hdf5.pxd:353:4: 'H5D_CONTIGUOUS' redeclared\n",
      "  warning: h5py\\api_types_hdf5.pxd:354:4: 'H5D_CHUNKED' redeclared\n",
      "  warning: h5py\\api_types_hdf5.pxd:355:4: 'H5D_NLAYOUTS' redeclared\n",
      "  warning: h5py\\api_types_hdf5.pxd:358:4: 'H5D_ALLOC_TIME_ERROR' redeclared\n",
      "  warning: h5py\\api_types_hdf5.pxd:359:4: 'H5D_ALLOC_TIME_DEFAULT' redeclared\n",
      "  warning: h5py\\api_types_hdf5.pxd:360:4: 'H5D_ALLOC_TIME_EARLY' redeclared\n",
      "  warning: h5py\\api_types_hdf5.pxd:361:4: 'H5D_ALLOC_TIME_LATE' redeclared\n",
      "  warning: h5py\\api_types_hdf5.pxd:362:4: 'H5D_ALLOC_TIME_INCR' redeclared\n",
      "  warning: h5py\\api_types_hdf5.pxd:365:4: 'H5D_SPACE_STATUS_ERROR' redeclared\n",
      "  warning: h5py\\api_types_hdf5.pxd:366:4: 'H5D_SPACE_STATUS_NOT_ALLOCATED' redeclared\n",
      "  warning: h5py\\api_types_hdf5.pxd:367:4: 'H5D_SPACE_STATUS_PART_ALLOCATED' redeclared\n",
      "  warning: h5py\\api_types_hdf5.pxd:368:4: 'H5D_SPACE_STATUS_ALLOCATED' redeclared\n",
      "  warning: h5py\\api_types_hdf5.pxd:371:4: 'H5D_FILL_TIME_ERROR' redeclared\n",
      "  warning: h5py\\api_types_hdf5.pxd:372:4: 'H5D_FILL_TIME_ALLOC' redeclared\n",
      "  warning: h5py\\api_types_hdf5.pxd:373:4: 'H5D_FILL_TIME_NEVER' redeclared\n",
      "  warning: h5py\\api_types_hdf5.pxd:374:4: 'H5D_FILL_TIME_IFSET' redeclared\n",
      "  warning: h5py\\api_types_hdf5.pxd:377:4: 'H5D_FILL_VALUE_ERROR' redeclared\n",
      "  warning: h5py\\api_types_hdf5.pxd:378:4: 'H5D_FILL_VALUE_UNDEFINED' redeclared\n",
      "  warning: h5py\\api_types_hdf5.pxd:379:4: 'H5D_FILL_VALUE_DEFAULT' redeclared\n",
      "  warning: h5py\\api_types_hdf5.pxd:380:4: 'H5D_FILL_VALUE_USER_DEFINED' redeclared\n",
      "  warning: h5py\\api_types_hdf5.pxd:389:4: 'H5F_CLOSE_WEAK' redeclared\n",
      "  warning: h5py\\api_types_hdf5.pxd:390:4: 'H5F_CLOSE_SEMI' redeclared\n",
      "  warning: h5py\\api_types_hdf5.pxd:391:4: 'H5F_CLOSE_STRONG' redeclared\n",
      "  warning: h5py\\api_types_hdf5.pxd:392:4: 'H5F_CLOSE_DEFAULT' redeclared\n",
      "  warning: h5py\\api_types_hdf5.pxd:395:4: 'H5FD_MEM_NOLIST' redeclared\n",
      "  warning: h5py\\api_types_hdf5.pxd:396:4: 'H5FD_MEM_DEFAULT' redeclared\n",
      "  warning: h5py\\api_types_hdf5.pxd:397:4: 'H5FD_MEM_SUPER' redeclared\n",
      "  warning: h5py\\api_types_hdf5.pxd:398:4: 'H5FD_MEM_BTREE' redeclared\n",
      "  warning: h5py\\api_types_hdf5.pxd:399:4: 'H5FD_MEM_DRAW' redeclared\n",
      "  warning: h5py\\api_types_hdf5.pxd:400:4: 'H5FD_MEM_GHEAP' redeclared\n",
      "  warning: h5py\\api_types_hdf5.pxd:401:4: 'H5FD_MEM_LHEAP' redeclared\n",
      "  warning: h5py\\api_types_hdf5.pxd:402:4: 'H5FD_MEM_OHDR' redeclared\n",
      "  warning: h5py\\api_types_hdf5.pxd:403:4: 'H5FD_MEM_NTYPES' redeclared\n",
      "  warning: h5py\\api_types_hdf5.pxd:493:4: 'H5T_CSET_ERROR' redeclared\n",
      "  warning: h5py\\api_types_hdf5.pxd:494:4: 'H5T_CSET_ASCII' redeclared\n",
      "  warning: h5py\\api_types_hdf5.pxd:637:2: 'H5Z_filter_t' redeclared\n",
      "  warning: h5py\\api_types_hdf5.pxd:672:6: 'H5Z_ERROR_EDC' redeclared\n",
      "  warning: h5py\\api_types_hdf5.pxd:673:6: 'H5Z_DISABLE_EDC' redeclared\n",
      "  warning: h5py\\api_types_hdf5.pxd:674:6: 'H5Z_ENABLE_EDC' redeclared\n",
      "  warning: h5py\\api_types_hdf5.pxd:675:6: 'H5Z_NO_EDC' redeclared\n",
      "  C:\\ProgramData\\Anaconda3\\lib\\site-packages\\Cython\\Compiler\\Main.py:369: FutureWarning: Cython directive 'language_level' not set, using 2 for now (Py2). This will change in a later release! File: C:\\Users\\Сергей\\AppData\\Local\\Temp\\pip-install-da1__nts\\h5py_6f1684e3c5d644bd9f05a35b86a9e30f\\h5py\\h5a.pxd\n",
      "    tree = Parsing.p_module(s, pxd, full_module_name)\n",
      "  warning: h5py\\api_types_hdf5.pxd:350:2: 'H5D_layout_t' redeclared\n",
      "  warning: h5py\\api_types_hdf5.pxd:357:2: 'H5D_alloc_time_t' redeclared\n",
      "  warning: h5py\\api_types_hdf5.pxd:364:2: 'H5D_space_status_t' redeclared\n",
      "  warning: h5py\\api_types_hdf5.pxd:370:2: 'H5D_fill_time_t' redeclared\n",
      "  warning: h5py\\api_types_hdf5.pxd:376:2: 'H5D_fill_value_t' redeclared\n",
      "  warning: h5py\\api_types_hdf5.pxd:388:7: 'H5F_close_degree_t' redeclared\n",
      "  warning: h5py\\api_types_hdf5.pxd:394:2: 'H5FD_mem_t' redeclared\n",
      "  warning: h5py\\api_types_hdf5.pxd:492:2: 'H5T_cset_t' redeclared\n",
      "  warning: h5py\\api_types_hdf5.pxd:671:7: 'H5Z_EDC_t' redeclared\n",
      "  warning: h5py\\api_types_hdf5.pxd:351:4: 'H5D_LAYOUT_ERROR' redeclared\n",
      "  warning: h5py\\api_types_hdf5.pxd:352:4: 'H5D_COMPACT' redeclared\n",
      "  warning: h5py\\api_types_hdf5.pxd:353:4: 'H5D_CONTIGUOUS' redeclared\n",
      "  warning: h5py\\api_types_hdf5.pxd:354:4: 'H5D_CHUNKED' redeclared\n",
      "  warning: h5py\\api_types_hdf5.pxd:355:4: 'H5D_NLAYOUTS' redeclared\n",
      "  warning: h5py\\api_types_hdf5.pxd:358:4: 'H5D_ALLOC_TIME_ERROR' redeclared\n",
      "  warning: h5py\\api_types_hdf5.pxd:359:4: 'H5D_ALLOC_TIME_DEFAULT' redeclared\n",
      "  warning: h5py\\api_types_hdf5.pxd:360:4: 'H5D_ALLOC_TIME_EARLY' redeclared\n",
      "  warning: h5py\\api_types_hdf5.pxd:361:4: 'H5D_ALLOC_TIME_LATE' redeclared\n",
      "  warning: h5py\\api_types_hdf5.pxd:362:4: 'H5D_ALLOC_TIME_INCR' redeclared\n",
      "  warning: h5py\\api_types_hdf5.pxd:365:4: 'H5D_SPACE_STATUS_ERROR' redeclared\n",
      "  warning: h5py\\api_types_hdf5.pxd:366:4: 'H5D_SPACE_STATUS_NOT_ALLOCATED' redeclared\n",
      "  warning: h5py\\api_types_hdf5.pxd:367:4: 'H5D_SPACE_STATUS_PART_ALLOCATED' redeclared\n",
      "  warning: h5py\\api_types_hdf5.pxd:368:4: 'H5D_SPACE_STATUS_ALLOCATED' redeclared\n",
      "  warning: h5py\\api_types_hdf5.pxd:371:4: 'H5D_FILL_TIME_ERROR' redeclared\n",
      "  warning: h5py\\api_types_hdf5.pxd:372:4: 'H5D_FILL_TIME_ALLOC' redeclared\n",
      "  warning: h5py\\api_types_hdf5.pxd:373:4: 'H5D_FILL_TIME_NEVER' redeclared\n",
      "  warning: h5py\\api_types_hdf5.pxd:374:4: 'H5D_FILL_TIME_IFSET' redeclared\n",
      "  warning: h5py\\api_types_hdf5.pxd:377:4: 'H5D_FILL_VALUE_ERROR' redeclared\n",
      "  warning: h5py\\api_types_hdf5.pxd:378:4: 'H5D_FILL_VALUE_UNDEFINED' redeclared\n",
      "  warning: h5py\\api_types_hdf5.pxd:379:4: 'H5D_FILL_VALUE_DEFAULT' redeclared\n",
      "  warning: h5py\\api_types_hdf5.pxd:380:4: 'H5D_FILL_VALUE_USER_DEFINED' redeclared\n",
      "  warning: h5py\\api_types_hdf5.pxd:389:4: 'H5F_CLOSE_WEAK' redeclared\n",
      "  warning: h5py\\api_types_hdf5.pxd:390:4: 'H5F_CLOSE_SEMI' redeclared\n"
     ]
    }
   ]
  },
  {
   "cell_type": "code",
   "execution_count": 5,
   "outputs": [
    {
     "name": "stdout",
     "output_type": "stream",
     "text": [
      "Requirement already satisfied: rnnmorph in c:\\programdata\\anaconda3\\lib\\site-packages (0.4.0)\n",
      "Requirement already satisfied: jsonpickle>=0.9.4 in c:\\programdata\\anaconda3\\lib\\site-packages (from rnnmorph) (2.1.0)\n",
      "Requirement already satisfied: tensorflow>=1.1.0 in c:\\programdata\\anaconda3\\lib\\site-packages (from rnnmorph) (2.8.0)\n",
      "Requirement already satisfied: tqdm>=4.14.0 in c:\\programdata\\anaconda3\\lib\\site-packages (from rnnmorph) (4.62.3)\n",
      "Requirement already satisfied: scikit-learn>=0.18.1 in c:\\programdata\\anaconda3\\lib\\site-packages (from rnnmorph) (0.24.2)\n",
      "Requirement already satisfied: nltk>=3.2.5 in c:\\programdata\\anaconda3\\lib\\site-packages (from rnnmorph) (3.6.5)\n",
      "Requirement already satisfied: numpy>=1.11.3 in c:\\programdata\\anaconda3\\lib\\site-packages (from rnnmorph) (1.20.3)\n",
      "Requirement already satisfied: scipy>=0.18.1 in c:\\programdata\\anaconda3\\lib\\site-packages (from rnnmorph) (1.7.1)\n",
      "Requirement already satisfied: russian-tagsets==0.6 in c:\\programdata\\anaconda3\\lib\\site-packages (from rnnmorph) (0.6)\n",
      "Requirement already satisfied: pymorphy2>=0.8 in c:\\programdata\\anaconda3\\lib\\site-packages (from rnnmorph) (0.9.1)\n",
      "Requirement already satisfied: keras>=2.0.6 in c:\\programdata\\anaconda3\\lib\\site-packages (from rnnmorph) (2.1.4)\n",
      "Requirement already satisfied: pyyaml in c:\\users\\сергей\\appdata\\roaming\\python\\python39\\site-packages (from keras>=2.0.6->rnnmorph) (5.3.1)\n",
      "Requirement already satisfied: six>=1.9.0 in c:\\programdata\\anaconda3\\lib\\site-packages (from keras>=2.0.6->rnnmorph) (1.16.0)\n",
      "Requirement already satisfied: click in c:\\programdata\\anaconda3\\lib\\site-packages (from nltk>=3.2.5->rnnmorph) (8.0.3)\n",
      "Requirement already satisfied: joblib in c:\\programdata\\anaconda3\\lib\\site-packages (from nltk>=3.2.5->rnnmorph) (1.1.0)\n",
      "Requirement already satisfied: regex>=2021.8.3 in c:\\programdata\\anaconda3\\lib\\site-packages (from nltk>=3.2.5->rnnmorph) (2021.8.3)\n",
      "Requirement already satisfied: pymorphy2-dicts-ru<3.0,>=2.4 in c:\\programdata\\anaconda3\\lib\\site-packages (from pymorphy2>=0.8->rnnmorph) (2.4.417127.4579844)\n",
      "Requirement already satisfied: dawg-python>=0.7.1 in c:\\programdata\\anaconda3\\lib\\site-packages (from pymorphy2>=0.8->rnnmorph) (0.7.2)\n",
      "Requirement already satisfied: docopt>=0.6 in c:\\programdata\\anaconda3\\lib\\site-packages (from pymorphy2>=0.8->rnnmorph) (0.6.2)\n",
      "Requirement already satisfied: threadpoolctl>=2.0.0 in c:\\programdata\\anaconda3\\lib\\site-packages (from scikit-learn>=0.18.1->rnnmorph) (2.2.0)\n",
      "Requirement already satisfied: protobuf>=3.9.2 in c:\\programdata\\anaconda3\\lib\\site-packages (from tensorflow>=1.1.0->rnnmorph) (3.20.1)\n",
      "Collecting keras>=2.0.6\n",
      "  Using cached keras-2.8.0-py2.py3-none-any.whl (1.4 MB)\n",
      "Requirement already satisfied: absl-py>=0.4.0 in c:\\programdata\\anaconda3\\lib\\site-packages (from tensorflow>=1.1.0->rnnmorph) (1.0.0)\n",
      "Requirement already satisfied: typing-extensions>=3.6.6 in c:\\programdata\\anaconda3\\lib\\site-packages (from tensorflow>=1.1.0->rnnmorph) (3.10.0.2)\n",
      "Requirement already satisfied: setuptools in c:\\programdata\\anaconda3\\lib\\site-packages (from tensorflow>=1.1.0->rnnmorph) (58.0.4)\n",
      "Requirement already satisfied: libclang>=9.0.1 in c:\\programdata\\anaconda3\\lib\\site-packages (from tensorflow>=1.1.0->rnnmorph) (14.0.1)\n",
      "Requirement already satisfied: google-pasta>=0.1.1 in c:\\programdata\\anaconda3\\lib\\site-packages (from tensorflow>=1.1.0->rnnmorph) (0.2.0)\n",
      "Requirement already satisfied: gast>=0.2.1 in c:\\programdata\\anaconda3\\lib\\site-packages (from tensorflow>=1.1.0->rnnmorph) (0.5.3)\n",
      "Requirement already satisfied: opt-einsum>=2.3.2 in c:\\programdata\\anaconda3\\lib\\site-packages (from tensorflow>=1.1.0->rnnmorph) (3.3.0)\n",
      "Requirement already satisfied: tensorflow-io-gcs-filesystem>=0.23.1 in c:\\programdata\\anaconda3\\lib\\site-packages (from tensorflow>=1.1.0->rnnmorph) (0.25.0)\n",
      "Requirement already satisfied: tf-estimator-nightly==2.8.0.dev2021122109 in c:\\programdata\\anaconda3\\lib\\site-packages (from tensorflow>=1.1.0->rnnmorph) (2.8.0.dev2021122109)\n",
      "Requirement already satisfied: keras-preprocessing>=1.1.1 in c:\\programdata\\anaconda3\\lib\\site-packages (from tensorflow>=1.1.0->rnnmorph) (1.1.2)\n",
      "Requirement already satisfied: termcolor>=1.1.0 in c:\\programdata\\anaconda3\\lib\\site-packages (from tensorflow>=1.1.0->rnnmorph) (1.1.0)\n",
      "Requirement already satisfied: flatbuffers>=1.12 in c:\\programdata\\anaconda3\\lib\\site-packages (from tensorflow>=1.1.0->rnnmorph) (2.0)\n",
      "Requirement already satisfied: grpcio<2.0,>=1.24.3 in c:\\programdata\\anaconda3\\lib\\site-packages (from tensorflow>=1.1.0->rnnmorph) (1.46.0)\n",
      "Requirement already satisfied: wrapt>=1.11.0 in c:\\programdata\\anaconda3\\lib\\site-packages (from tensorflow>=1.1.0->rnnmorph) (1.12.1)\n",
      "Requirement already satisfied: h5py>=2.9.0 in c:\\programdata\\anaconda3\\lib\\site-packages (from tensorflow>=1.1.0->rnnmorph) (3.2.1)\n",
      "Requirement already satisfied: tensorboard<2.9,>=2.8 in c:\\programdata\\anaconda3\\lib\\site-packages (from tensorflow>=1.1.0->rnnmorph) (2.8.0)\n",
      "Requirement already satisfied: astunparse>=1.6.0 in c:\\programdata\\anaconda3\\lib\\site-packages (from tensorflow>=1.1.0->rnnmorph) (1.6.3)\n",
      "Requirement already satisfied: colorama in c:\\programdata\\anaconda3\\lib\\site-packages (from tqdm>=4.14.0->rnnmorph) (0.4.4)\n",
      "Requirement already satisfied: wheel<1.0,>=0.23.0 in c:\\programdata\\anaconda3\\lib\\site-packages (from astunparse>=1.6.0->tensorflow>=1.1.0->rnnmorph) (0.37.0)\n",
      "Requirement already satisfied: google-auth-oauthlib<0.5,>=0.4.1 in c:\\programdata\\anaconda3\\lib\\site-packages (from tensorboard<2.9,>=2.8->tensorflow>=1.1.0->rnnmorph) (0.4.6)\n",
      "Requirement already satisfied: markdown>=2.6.8 in c:\\programdata\\anaconda3\\lib\\site-packages (from tensorboard<2.9,>=2.8->tensorflow>=1.1.0->rnnmorph) (3.3.6)\n",
      "Requirement already satisfied: requests<3,>=2.21.0 in c:\\programdata\\anaconda3\\lib\\site-packages (from tensorboard<2.9,>=2.8->tensorflow>=1.1.0->rnnmorph) (2.26.0)\n",
      "Requirement already satisfied: werkzeug>=0.11.15 in c:\\programdata\\anaconda3\\lib\\site-packages (from tensorboard<2.9,>=2.8->tensorflow>=1.1.0->rnnmorph) (2.0.2)\n",
      "Requirement already satisfied: google-auth<3,>=1.6.3 in c:\\programdata\\anaconda3\\lib\\site-packages (from tensorboard<2.9,>=2.8->tensorflow>=1.1.0->rnnmorph) (2.6.6)\n",
      "Requirement already satisfied: tensorboard-plugin-wit>=1.6.0 in c:\\programdata\\anaconda3\\lib\\site-packages (from tensorboard<2.9,>=2.8->tensorflow>=1.1.0->rnnmorph) (1.8.1)\n",
      "Requirement already satisfied: tensorboard-data-server<0.7.0,>=0.6.0 in c:\\programdata\\anaconda3\\lib\\site-packages (from tensorboard<2.9,>=2.8->tensorflow>=1.1.0->rnnmorph) (0.6.1)\n",
      "Requirement already satisfied: cachetools<6.0,>=2.0.0 in c:\\programdata\\anaconda3\\lib\\site-packages (from google-auth<3,>=1.6.3->tensorboard<2.9,>=2.8->tensorflow>=1.1.0->rnnmorph) (5.0.0)\n",
      "Requirement already satisfied: rsa<5,>=3.1.4 in c:\\programdata\\anaconda3\\lib\\site-packages (from google-auth<3,>=1.6.3->tensorboard<2.9,>=2.8->tensorflow>=1.1.0->rnnmorph) (4.8)\n",
      "Requirement already satisfied: pyasn1-modules>=0.2.1 in c:\\programdata\\anaconda3\\lib\\site-packages (from google-auth<3,>=1.6.3->tensorboard<2.9,>=2.8->tensorflow>=1.1.0->rnnmorph) (0.2.8)\n",
      "Requirement already satisfied: requests-oauthlib>=0.7.0 in c:\\programdata\\anaconda3\\lib\\site-packages (from google-auth-oauthlib<0.5,>=0.4.1->tensorboard<2.9,>=2.8->tensorflow>=1.1.0->rnnmorph) (1.3.1)\n",
      "Requirement already satisfied: importlib-metadata>=4.4 in c:\\users\\сергей\\appdata\\roaming\\python\\python39\\site-packages (from markdown>=2.6.8->tensorboard<2.9,>=2.8->tensorflow>=1.1.0->rnnmorph) (4.11.3)\n",
      "Requirement already satisfied: urllib3<1.27,>=1.21.1 in c:\\programdata\\anaconda3\\lib\\site-packages (from requests<3,>=2.21.0->tensorboard<2.9,>=2.8->tensorflow>=1.1.0->rnnmorph) (1.26.7)\n",
      "Requirement already satisfied: charset-normalizer~=2.0.0 in c:\\programdata\\anaconda3\\lib\\site-packages (from requests<3,>=2.21.0->tensorboard<2.9,>=2.8->tensorflow>=1.1.0->rnnmorph) (2.0.4)\n",
      "Requirement already satisfied: idna<4,>=2.5 in c:\\programdata\\anaconda3\\lib\\site-packages (from requests<3,>=2.21.0->tensorboard<2.9,>=2.8->tensorflow>=1.1.0->rnnmorph) (3.2)\n",
      "Requirement already satisfied: certifi>=2017.4.17 in c:\\programdata\\anaconda3\\lib\\site-packages (from requests<3,>=2.21.0->tensorboard<2.9,>=2.8->tensorflow>=1.1.0->rnnmorph) (2021.10.8)\n",
      "Requirement already satisfied: zipp>=0.5 in c:\\programdata\\anaconda3\\lib\\site-packages (from importlib-metadata>=4.4->markdown>=2.6.8->tensorboard<2.9,>=2.8->tensorflow>=1.1.0->rnnmorph) (3.6.0)\n",
      "Requirement already satisfied: pyasn1<0.5.0,>=0.4.6 in c:\\programdata\\anaconda3\\lib\\site-packages (from pyasn1-modules>=0.2.1->google-auth<3,>=1.6.3->tensorboard<2.9,>=2.8->tensorflow>=1.1.0->rnnmorph) (0.4.8)\n",
      "Requirement already satisfied: oauthlib>=3.0.0 in c:\\programdata\\anaconda3\\lib\\site-packages (from requests-oauthlib>=0.7.0->google-auth-oauthlib<0.5,>=0.4.1->tensorboard<2.9,>=2.8->tensorflow>=1.1.0->rnnmorph) (3.2.0)\n",
      "Installing collected packages: keras\n",
      "  Attempting uninstall: keras\n",
      "    Found existing installation: Keras 2.1.4\n",
      "    Uninstalling Keras-2.1.4:\n",
      "      Successfully uninstalled Keras-2.1.4\n",
      "Successfully installed keras-2.8.0\n"
     ]
    },
    {
     "name": "stderr",
     "output_type": "stream",
     "text": [
      "WARNING: Ignoring invalid distribution -5py (c:\\programdata\\anaconda3\\lib\\site-packages)\n",
      "WARNING: Ignoring invalid distribution - (c:\\programdata\\anaconda3\\lib\\site-packages)\n",
      "WARNING: Ignoring invalid distribution -5py (c:\\programdata\\anaconda3\\lib\\site-packages)\n",
      "WARNING: Ignoring invalid distribution - (c:\\programdata\\anaconda3\\lib\\site-packages)\n",
      "WARNING: Ignoring invalid distribution -5py (c:\\programdata\\anaconda3\\lib\\site-packages)\n",
      "WARNING: Ignoring invalid distribution - (c:\\programdata\\anaconda3\\lib\\site-packages)\n",
      "    WARNING: Ignoring invalid distribution -5py (c:\\programdata\\anaconda3\\lib\\site-packages)\n",
      "    WARNING: Ignoring invalid distribution - (c:\\programdata\\anaconda3\\lib\\site-packages)\n",
      "WARNING: Ignoring invalid distribution -5py (c:\\programdata\\anaconda3\\lib\\site-packages)\n",
      "WARNING: Ignoring invalid distribution - (c:\\programdata\\anaconda3\\lib\\site-packages)\n",
      "WARNING: Ignoring invalid distribution -5py (c:\\programdata\\anaconda3\\lib\\site-packages)\n",
      "WARNING: Ignoring invalid distribution - (c:\\programdata\\anaconda3\\lib\\site-packages)\n"
     ]
    }
   ],
   "source": [
    "! pip install rnnmorph"
   ],
   "metadata": {
    "collapsed": false,
    "pycharm": {
     "name": "#%%\n"
    }
   }
  },
  {
   "cell_type": "markdown",
   "metadata": {
    "id": "gbxMKqhPH1Dk",
    "pycharm": {
     "name": "#%% md\n"
    }
   },
   "source": [
    "Создаём объект морфологического анализатора `RNNMorph`"
   ]
  },
  {
   "cell_type": "code",
   "metadata": {
    "colab": {
     "base_uri": "https://localhost:8080/"
    },
    "id": "24zMUhvi99AV",
    "outputId": "295d4160-837e-465f-9d7d-aaa222f60dc7",
    "pycharm": {
     "name": "#%%\n"
    }
   },
   "source": [
    "import warnings\n",
    "warnings.filterwarnings('ignore')\n",
    "\n",
    "from rnnmorph.predictor import RNNMorphPredictor\n",
    "predictor = RNNMorphPredictor(language=\"ru\")"
   ],
   "execution_count": 24,
   "outputs": []
  },
  {
   "cell_type": "code",
   "execution_count": 23,
   "outputs": [
    {
     "name": "stdout",
     "output_type": "stream",
     "text": [
      "Collecting rnnmorph\n",
      "  Downloading rnnmorph-0.4.1.tar.gz (19.7 MB)\n",
      "     ---------------------------------------- 19.7/19.7 MB 7.8 MB/s eta 0:00:00\n",
      "  Preparing metadata (setup.py): started\n",
      "  Preparing metadata (setup.py): finished with status 'done'\n",
      "Requirement already satisfied: numpy>=1.12.1 in c:\\programdata\\anaconda3\\lib\\site-packages (from rnnmorph) (1.20.3)\n",
      "Requirement already satisfied: scipy>=0.19.0 in c:\\programdata\\anaconda3\\lib\\site-packages (from rnnmorph) (1.7.1)\n",
      "Requirement already satisfied: scikit-learn>=0.18.1 in c:\\programdata\\anaconda3\\lib\\site-packages (from rnnmorph) (0.24.2)\n",
      "Requirement already satisfied: keras>=2.1.4 in c:\\programdata\\anaconda3\\lib\\site-packages (from rnnmorph) (2.8.0)\n",
      "Requirement already satisfied: h5py>=2.7.0 in c:\\programdata\\anaconda3\\lib\\site-packages (from rnnmorph) (3.2.1)\n",
      "Requirement already satisfied: pymorphy2>=0.8 in c:\\programdata\\anaconda3\\lib\\site-packages (from rnnmorph) (0.9.1)\n",
      "Requirement already satisfied: russian-tagsets==0.6 in c:\\programdata\\anaconda3\\lib\\site-packages (from rnnmorph) (0.6)\n",
      "Requirement already satisfied: tqdm>=4.14.0 in c:\\programdata\\anaconda3\\lib\\site-packages (from rnnmorph) (4.62.3)\n",
      "Requirement already satisfied: jsonpickle>=0.9.4 in c:\\programdata\\anaconda3\\lib\\site-packages (from rnnmorph) (2.1.0)\n",
      "Requirement already satisfied: nltk>=3.2.5 in c:\\programdata\\anaconda3\\lib\\site-packages (from rnnmorph) (3.6.5)\n",
      "Requirement already satisfied: click in c:\\programdata\\anaconda3\\lib\\site-packages (from nltk>=3.2.5->rnnmorph) (8.0.3)\n",
      "Requirement already satisfied: joblib in c:\\programdata\\anaconda3\\lib\\site-packages (from nltk>=3.2.5->rnnmorph) (1.1.0)\n",
      "Requirement already satisfied: regex>=2021.8.3 in c:\\programdata\\anaconda3\\lib\\site-packages (from nltk>=3.2.5->rnnmorph) (2021.8.3)\n",
      "Requirement already satisfied: docopt>=0.6 in c:\\programdata\\anaconda3\\lib\\site-packages (from pymorphy2>=0.8->rnnmorph) (0.6.2)\n",
      "Requirement already satisfied: pymorphy2-dicts-ru<3.0,>=2.4 in c:\\programdata\\anaconda3\\lib\\site-packages (from pymorphy2>=0.8->rnnmorph) (2.4.417127.4579844)\n",
      "Requirement already satisfied: dawg-python>=0.7.1 in c:\\programdata\\anaconda3\\lib\\site-packages (from pymorphy2>=0.8->rnnmorph) (0.7.2)\n",
      "Requirement already satisfied: threadpoolctl>=2.0.0 in c:\\programdata\\anaconda3\\lib\\site-packages (from scikit-learn>=0.18.1->rnnmorph) (2.2.0)\n",
      "Requirement already satisfied: colorama in c:\\programdata\\anaconda3\\lib\\site-packages (from tqdm>=4.14.0->rnnmorph) (0.4.4)\n",
      "Building wheels for collected packages: rnnmorph\n",
      "  Building wheel for rnnmorph (setup.py): started\n",
      "  Building wheel for rnnmorph (setup.py): finished with status 'done'\n",
      "  Created wheel for rnnmorph: filename=rnnmorph-0.4.1-py3-none-any.whl size=19746379 sha256=ae23d62ff4e6464f2c98f030fc47c3ec752a99c085f9dc061c1e38615a435b80\n",
      "  Stored in directory: c:\\users\\сергей\\appdata\\local\\pip\\cache\\wheels\\72\\a0\\38\\a38dd247132c2af64dec89a6575614d1c28b7a117374431123\n",
      "Successfully built rnnmorph\n",
      "Installing collected packages: rnnmorph\n",
      "Successfully installed rnnmorph-0.4.1\n"
     ]
    },
    {
     "name": "stderr",
     "output_type": "stream",
     "text": [
      "WARNING: Ignoring invalid distribution -5py (c:\\programdata\\anaconda3\\lib\\site-packages)\n",
      "WARNING: Ignoring invalid distribution - (c:\\programdata\\anaconda3\\lib\\site-packages)\n",
      "WARNING: Ignoring invalid distribution -5py (c:\\programdata\\anaconda3\\lib\\site-packages)\n",
      "WARNING: Ignoring invalid distribution - (c:\\programdata\\anaconda3\\lib\\site-packages)\n",
      "WARNING: Ignoring invalid distribution -5py (c:\\programdata\\anaconda3\\lib\\site-packages)\n",
      "WARNING: Ignoring invalid distribution - (c:\\programdata\\anaconda3\\lib\\site-packages)\n",
      "WARNING: Ignoring invalid distribution -5py (c:\\programdata\\anaconda3\\lib\\site-packages)\n",
      "WARNING: Ignoring invalid distribution - (c:\\programdata\\anaconda3\\lib\\site-packages)\n",
      "WARNING: Ignoring invalid distribution -5py (c:\\programdata\\anaconda3\\lib\\site-packages)\n",
      "WARNING: Ignoring invalid distribution - (c:\\programdata\\anaconda3\\lib\\site-packages)\n"
     ]
    }
   ],
   "source": [
    "!pip install rnnmorph"
   ],
   "metadata": {
    "collapsed": false,
    "pycharm": {
     "name": "#%%\n"
    }
   }
  },
  {
   "cell_type": "markdown",
   "metadata": {
    "id": "59q1L9p0H9K9",
    "pycharm": {
     "name": "#%% md\n"
    }
   },
   "source": [
    "Скачиваем текст, по которому будет дано задание, с помощью `urllib`"
   ]
  },
  {
   "cell_type": "code",
   "metadata": {
    "id": "0uW0fw_h-Pft",
    "pycharm": {
     "name": "#%%\n"
    }
   },
   "source": [
    "import urllib.request\n",
    "\n",
    "opener = urllib.request.URLopener({})\n",
    "resource = opener.open(DATA_URL)\n",
    "raw_text = resource.read().decode(resource.headers.get_content_charset()) #Текс с html тегами"
   ],
   "execution_count": 14,
   "outputs": []
  },
  {
   "cell_type": "code",
   "metadata": {
    "colab": {
     "base_uri": "https://localhost:8080/",
     "height": 54
    },
    "id": "-hSPOjDo4sdh",
    "outputId": "5df0a28e-b91f-46bc-da40-a5a0eacf36c3",
    "pycharm": {
     "name": "#%%\n"
    }
   },
   "source": [
    "raw_text[:200]"
   ],
   "execution_count": 15,
   "outputs": [
    {
     "data": {
      "text/plain": "'<html>\\r\\n<head>\\r\\n<title>Lib.ru/Классика: Толстой Алексей Константинович. Упырь</title>\\r\\n</head>\\r\\n\\r\\n<body>\\r\\n\\r\\n\\r\\n<center>\\r\\n\\r\\n<h2><a href=/t/tolstoj_a_k/>Толстой Алексей Константинович</a><br>\\r\\nУпырь</h2>'"
     },
     "execution_count": 15,
     "metadata": {},
     "output_type": "execute_result"
    }
   ]
  },
  {
   "cell_type": "markdown",
   "metadata": {
    "id": "uZiLHQNSITAt",
    "pycharm": {
     "name": "#%% md\n"
    }
   },
   "source": [
    "Как видно, текст содержит html теги, от которых нужно избавиться. Выбрасываем из текста HTML-теги с помощью библиотеки Beatiful soap"
   ]
  },
  {
   "cell_type": "code",
   "metadata": {
    "id": "We4LkyUMPfuq",
    "pycharm": {
     "name": "#%%\n"
    }
   },
   "source": [
    "from bs4 import BeautifulSoup\n",
    "soup = BeautifulSoup(raw_text, features=\"html.parser\")\n",
    "\n",
    "# kill all script and style elements\n",
    "for script in soup([\"script\", \"style\"]):\n",
    "    script.extract()    # rip it out\n",
    "\n",
    "# get text\n",
    "cleaned_text = soup.get_text()"
   ],
   "execution_count": 16,
   "outputs": []
  },
  {
   "cell_type": "code",
   "metadata": {
    "colab": {
     "base_uri": "https://localhost:8080/",
     "height": 54
    },
    "id": "lOD8PJnG4rbl",
    "outputId": "77233252-31f0-47c2-d3cc-e8292a97dde6",
    "pycharm": {
     "name": "#%%\n"
    }
   },
   "source": [
    "cleaned_text[:200]"
   ],
   "execution_count": 17,
   "outputs": [
    {
     "data": {
      "text/plain": "'\\n\\nLib.ru/Классика: Толстой Алексей Константинович. Упырь\\n\\n\\n\\nТолстой Алексей Константинович\\r\\nУпырь\\n\\n\\nLib.ru/Классика:\\n\\r\\n\\n\\n[Регистрация]\\n \\n\\r\\n\\r\\n\\r\\n[Найти] \\r\\n[Рейтинги]\\r\\n[Обсуждения]\\r\\n[Новинки]\\r\\n[Обзоры]\\r\\n'"
     },
     "execution_count": 17,
     "metadata": {},
     "output_type": "execute_result"
    }
   ]
  },
  {
   "cell_type": "markdown",
   "metadata": {
    "id": "14fYYb5hIpnY",
    "pycharm": {
     "name": "#%% md\n"
    }
   },
   "source": [
    "С помощью библиотеки [NLTK](https://nltk.org/) разбиваем текст на предложения и токены."
   ]
  },
  {
   "cell_type": "code",
   "metadata": {
    "colab": {
     "base_uri": "https://localhost:8080/",
     "height": 71
    },
    "id": "hRNu7jPvN6G_",
    "outputId": "68d081da-6b1f-4418-cce5-143a8bff7f03",
    "pycharm": {
     "name": "#%%\n"
    }
   },
   "source": [
    "from nltk.tokenize import sent_tokenize, word_tokenize\n",
    "import nltk\n",
    "nltk.download('punkt')\n",
    "\n",
    "tokenized_sentences = [word_tokenize(sentence) for sentence in sent_tokenize(cleaned_text)]\n",
    "\"A total of %d 'sentences'\" % len(tokenized_sentences)"
   ],
   "execution_count": 18,
   "outputs": [
    {
     "name": "stderr",
     "output_type": "stream",
     "text": [
      "[nltk_data] Downloading package punkt to\n",
      "[nltk_data]     C:\\Users\\Сергей\\AppData\\Roaming\\nltk_data...\n",
      "[nltk_data]   Package punkt is already up-to-date!\n"
     ]
    },
    {
     "data": {
      "text/plain": "\"A total of 1464 'sentences'\""
     },
     "execution_count": 18,
     "metadata": {},
     "output_type": "execute_result"
    }
   ]
  },
  {
   "cell_type": "markdown",
   "metadata": {
    "id": "xRU4KEBAIyYT",
    "pycharm": {
     "name": "#%% md\n"
    }
   },
   "source": [
    "## Задание 1\n",
    "С помощью метода `str.isalpha` из стандартной библиотеки Python модифицируйте нижеследующий код так, чтобы в predictions остались только буквенные токены."
   ]
  },
  {
   "cell_type": "code",
   "metadata": {
    "colab": {
     "base_uri": "https://localhost:8080/"
    },
    "id": "4U5HH2CDPVUM",
    "outputId": "ceb42471-25ff-4916-a74a-4415ff5eefd6",
    "pycharm": {
     "name": "#%%\n"
    }
   },
   "source": [
    "from tqdm import tqdm\n",
    "predictions = [[pred.normal_form for pred in sent] \n",
    "               for sent in tqdm(predictor.predict_sentences(sentences=tokenized_sentences), \"sentences\") ]\n",
    "predictions[-11:-10] #Сейчас видно, что токены типа \"точка\", \"запятая\" и тд пока присутствуют в предложениях. От них нужно избавиться\n",
    "\n"
   ],
   "execution_count": 25,
   "outputs": [
    {
     "name": "stderr",
     "output_type": "stream",
     "text": [
      "sentences: 100%|██████████| 1464/1464 [00:00<00:00, 488579.01it/s]\n"
     ]
    },
    {
     "data": {
      "text/plain": "[['слышать', 'ли', '?']]"
     },
     "execution_count": 25,
     "metadata": {},
     "output_type": "execute_result"
    }
   ]
  },
  {
   "cell_type": "markdown",
   "metadata": {
    "id": "CHGDhxhNJtTz",
    "pycharm": {
     "name": "#%% md\n"
    }
   },
   "source": [
    "Проверьте себя. Должны получиться следующие значения:\n",
    "\n",
    "*   Предложений: 577 (возможны расхождения в несколько предложений)\n",
    "*   Токенов: примерно 8621 (возможны расхождения в некоторое количество токенов)"
   ]
  },
  {
   "cell_type": "code",
   "metadata": {
    "colab": {
     "base_uri": "https://localhost:8080/"
    },
    "id": "nwK_qRbw6sac",
    "outputId": "76dfc208-96cc-4845-dc56-613a7aebd9bb",
    "pycharm": {
     "name": "#%%\n"
    }
   },
   "source": [
    "len(predictions)"
   ],
   "execution_count": 26,
   "outputs": [
    {
     "data": {
      "text/plain": "1464"
     },
     "execution_count": 26,
     "metadata": {},
     "output_type": "execute_result"
    }
   ]
  },
  {
   "cell_type": "code",
   "metadata": {
    "id": "J5jL4sWyKUnO",
    "colab": {
     "base_uri": "https://localhost:8080/"
    },
    "outputId": "edf259f6-894c-4120-d1e7-ca68593be12c",
    "pycharm": {
     "name": "#%%\n"
    }
   },
   "source": [
    "non_uniq_tokens = [word for sentence in predictions for word in sentence]\n",
    "len(non_uniq_tokens) \n"
   ],
   "execution_count": 27,
   "outputs": [
    {
     "data": {
      "text/plain": "26488"
     },
     "execution_count": 27,
     "metadata": {},
     "output_type": "execute_result"
    }
   ]
  },
  {
   "cell_type": "code",
   "execution_count": 37,
   "outputs": [
    {
     "data": {
      "text/plain": "'константинович'"
     },
     "execution_count": 37,
     "metadata": {},
     "output_type": "execute_result"
    }
   ],
   "source": [],
   "metadata": {
    "collapsed": false,
    "pycharm": {
     "name": "#%%\n"
    }
   }
  },
  {
   "cell_type": "markdown",
   "metadata": {
    "id": "Yg2e-1hAKiT3",
    "pycharm": {
     "name": "#%% md\n"
    }
   },
   "source": [
    "Для продолжения работы над заданием числа должны быть близки к указанным"
   ]
  },
  {
   "cell_type": "markdown",
   "metadata": {
    "id": "Mci9Nd5hKuJP",
    "pycharm": {
     "name": "#%% md\n"
    }
   },
   "source": [
    "## Задание 2\n",
    "\n",
    "Используя `non_uniq_tokens`, стоп-слова для русского языка из библиотеки nltk (`nltk.corpus.stopwords`) и `nltk.FreqDist`, вычислите, **какую долю среди 100 самых частотных** токенов в произведении занимают токены, **не относящиеся** к стоп словам. \n",
    "\n",
    "**Например**, если среди 100 самых частотных слов встречается 25 слов, входящих в стоп лист, значит не входят в стоп лист 75 слов, и их доля составит 0.75. \n",
    "\n",
    "**Не бойтесь использовать документацию NLTK и тьюториалы.**"
   ]
  },
  {
   "cell_type": "code",
   "metadata": {
    "colab": {
     "base_uri": "https://localhost:8080/"
    },
    "id": "gHbtLqkLKfZC",
    "outputId": "5f62c17c-d14a-464f-dbe2-b854e66765df",
    "pycharm": {
     "name": "#%%\n"
    }
   },
   "source": [
    "import nltk\n",
    "from nltk import FreqDist\n",
    "from nltk.corpus import stopwords\n",
    "nltk.download(\"stopwords\")\n",
    "STOPWORDS = set(stopwords.words(\"russian\"))\n",
    "stopwords.words(\"russian\")[:5] #Пример стоп слов"
   ],
   "execution_count": null,
   "outputs": [
    {
     "output_type": "stream",
     "text": [
      "[nltk_data] Downloading package stopwords to /root/nltk_data...\n",
      "[nltk_data]   Unzipping corpora/stopwords.zip.\n"
     ],
     "name": "stdout"
    },
    {
     "output_type": "execute_result",
     "data": {
      "text/plain": [
       "['и', 'в', 'во', 'не', 'что']"
      ]
     },
     "metadata": {
      "tags": []
     },
     "execution_count": 14
    }
   ]
  },
  {
   "cell_type": "markdown",
   "metadata": {
    "id": "ezdbB95YwtSl",
    "pycharm": {
     "name": "#%% md\n"
    }
   },
   "source": [
    "Проверьте себя: должно получиться 0.49 (допустимо небольшое расхождение)"
   ]
  },
  {
   "cell_type": "markdown",
   "metadata": {
    "id": "HChyAdk2Ovx1",
    "pycharm": {
     "name": "#%% md\n"
    }
   },
   "source": [
    "## Задание 3\n",
    "Вычислите, сколько токенов встречается в тексте **строго больше** 50 раз."
   ]
  },
  {
   "cell_type": "markdown",
   "metadata": {
    "id": "V6HZ2w3yxJEh",
    "pycharm": {
     "name": "#%% md\n"
    }
   },
   "source": [
    "Проверьте себя: должно получиться значение 22 (возможно небольшое расхождение)\n"
   ]
  }
 ]
}