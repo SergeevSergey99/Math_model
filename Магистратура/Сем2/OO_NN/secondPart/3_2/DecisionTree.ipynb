{
 "cells": [
  {
   "cell_type": "code",
   "execution_count": 1,
   "metadata": {
    "pycharm": {
     "name": "#%%\n"
    }
   },
   "outputs": [],
   "source": [
    "import pandas as pd\n",
    "import matplotlib\n",
    "import numpy as np\n",
    "import matplotlib.pyplot as plt\n",
    "%matplotlib inline "
   ]
  },
  {
   "cell_type": "code",
   "execution_count": 2,
   "metadata": {
    "pycharm": {
     "name": "#%%\n"
    }
   },
   "outputs": [],
   "source": [
    "df = pd.read_csv('diabetes.csv') "
   ]
  },
  {
   "cell_type": "code",
   "execution_count": 3,
   "metadata": {
    "pycharm": {
     "name": "#%%\n"
    }
   },
   "outputs": [
    {
     "data": {
      "text/plain": "   Pregnancies  Glucose  BloodPressure  SkinThickness  Insulin   BMI  \\\n0            6      148             72             35        0  33.6   \n1            1       85             66             29        0  26.6   \n2            8      183             64              0        0  23.3   \n3            1       89             66             23       94  28.1   \n4            0      137             40             35      168  43.1   \n\n   DiabetesPedigreeFunction  Age  Outcome  \n0                     0.627   50        1  \n1                     0.351   31        0  \n2                     0.672   32        1  \n3                     0.167   21        0  \n4                     2.288   33        1  ",
      "text/html": "<div>\n<style scoped>\n    .dataframe tbody tr th:only-of-type {\n        vertical-align: middle;\n    }\n\n    .dataframe tbody tr th {\n        vertical-align: top;\n    }\n\n    .dataframe thead th {\n        text-align: right;\n    }\n</style>\n<table border=\"1\" class=\"dataframe\">\n  <thead>\n    <tr style=\"text-align: right;\">\n      <th></th>\n      <th>Pregnancies</th>\n      <th>Glucose</th>\n      <th>BloodPressure</th>\n      <th>SkinThickness</th>\n      <th>Insulin</th>\n      <th>BMI</th>\n      <th>DiabetesPedigreeFunction</th>\n      <th>Age</th>\n      <th>Outcome</th>\n    </tr>\n  </thead>\n  <tbody>\n    <tr>\n      <th>0</th>\n      <td>6</td>\n      <td>148</td>\n      <td>72</td>\n      <td>35</td>\n      <td>0</td>\n      <td>33.6</td>\n      <td>0.627</td>\n      <td>50</td>\n      <td>1</td>\n    </tr>\n    <tr>\n      <th>1</th>\n      <td>1</td>\n      <td>85</td>\n      <td>66</td>\n      <td>29</td>\n      <td>0</td>\n      <td>26.6</td>\n      <td>0.351</td>\n      <td>31</td>\n      <td>0</td>\n    </tr>\n    <tr>\n      <th>2</th>\n      <td>8</td>\n      <td>183</td>\n      <td>64</td>\n      <td>0</td>\n      <td>0</td>\n      <td>23.3</td>\n      <td>0.672</td>\n      <td>32</td>\n      <td>1</td>\n    </tr>\n    <tr>\n      <th>3</th>\n      <td>1</td>\n      <td>89</td>\n      <td>66</td>\n      <td>23</td>\n      <td>94</td>\n      <td>28.1</td>\n      <td>0.167</td>\n      <td>21</td>\n      <td>0</td>\n    </tr>\n    <tr>\n      <th>4</th>\n      <td>0</td>\n      <td>137</td>\n      <td>40</td>\n      <td>35</td>\n      <td>168</td>\n      <td>43.1</td>\n      <td>2.288</td>\n      <td>33</td>\n      <td>1</td>\n    </tr>\n  </tbody>\n</table>\n</div>"
     },
     "execution_count": 3,
     "metadata": {},
     "output_type": "execute_result"
    }
   ],
   "source": [
    "df.head()"
   ]
  },
  {
   "cell_type": "markdown",
   "metadata": {
    "pycharm": {
     "name": "#%% md\n"
    }
   },
   "source": [
    "Отбор первых 590 строк:"
   ]
  },
  {
   "cell_type": "code",
   "execution_count": 17,
   "metadata": {
    "pycharm": {
     "name": "#%%\n"
    }
   },
   "outputs": [],
   "source": [
    "task_data = df.head(680)"
   ]
  },
  {
   "cell_type": "markdown",
   "metadata": {
    "pycharm": {
     "name": "#%% md\n"
    }
   },
   "source": [
    "Вывод числа строк в получившейся выборке и относящихся к классу 1 (пациент болен диабетом)"
   ]
  },
  {
   "cell_type": "code",
   "execution_count": 18,
   "metadata": {
    "pycharm": {
     "name": "#%%\n"
    }
   },
   "outputs": [
    {
     "data": {
      "text/plain": "446"
     },
     "execution_count": 18,
     "metadata": {},
     "output_type": "execute_result"
    }
   ],
   "source": [
    "len(task_data[task_data['Outcome'] == 0])"
   ]
  },
  {
   "cell_type": "markdown",
   "metadata": {
    "pycharm": {
     "name": "#%% md\n"
    }
   },
   "source": [
    "Разделеные данных на тренировочные и тестовые. Первые 70% строк — тренировочные, остальные — тестовые."
   ]
  },
  {
   "cell_type": "code",
   "execution_count": 19,
   "metadata": {
    "pycharm": {
     "name": "#%%\n"
    }
   },
   "outputs": [],
   "source": [
    "train = task_data.head(int(len(task_data)*0.8))\n",
    "test = task_data.tail(int(len(task_data)*0.2))"
   ]
  },
  {
   "cell_type": "markdown",
   "metadata": {
    "pycharm": {
     "name": "#%% md\n"
    }
   },
   "source": [
    "Выделяем предикторы (8 первых столбцов) и отклик (Outcome):"
   ]
  },
  {
   "cell_type": "code",
   "execution_count": 20,
   "metadata": {
    "pycharm": {
     "name": "#%%\n"
    }
   },
   "outputs": [],
   "source": [
    "features = list(train.columns[:8])\n",
    "x = train[features]\n",
    "y = train['Outcome']"
   ]
  },
  {
   "cell_type": "markdown",
   "metadata": {
    "pycharm": {
     "name": "#%% md\n"
    }
   },
   "source": [
    "Подключем классификатор DecisionTreeClassifier:"
   ]
  },
  {
   "cell_type": "code",
   "execution_count": 8,
   "metadata": {
    "pycharm": {
     "name": "#%%\n"
    }
   },
   "outputs": [],
   "source": [
    "from sklearn.tree import DecisionTreeClassifier"
   ]
  },
  {
   "cell_type": "markdown",
   "metadata": {
    "pycharm": {
     "name": "#%% md\n"
    }
   },
   "source": [
    "Задаем параметры дерева принятия решений и обучаем модель:"
   ]
  },
  {
   "cell_type": "code",
   "execution_count": 21,
   "metadata": {
    "pycharm": {
     "name": "#%%\n"
    }
   },
   "outputs": [],
   "source": [
    "tree = DecisionTreeClassifier(criterion='entropy', #критерий разделения\n",
    "                              min_samples_leaf=10, #минимальное число объектов в листе\n",
    "                              max_leaf_nodes=15, #максимальное число листьев\n",
    "                              random_state=2020)\n",
    "clf=tree.fit(x, y)"
   ]
  },
  {
   "cell_type": "markdown",
   "metadata": {
    "pycharm": {
     "name": "#%% md\n"
    }
   },
   "source": [
    "Подключаем библиотеку для визуализации дерева. Сохраняем в файл и выводим на экран."
   ]
  },
  {
   "cell_type": "code",
   "execution_count": 22,
   "metadata": {
    "pycharm": {
     "name": "#%%\n"
    }
   },
   "outputs": [
    {
     "data": {
      "image/svg+xml": "<?xml version=\"1.0\" encoding=\"UTF-8\" standalone=\"no\"?>\n<!DOCTYPE svg PUBLIC \"-//W3C//DTD SVG 1.1//EN\"\n \"http://www.w3.org/Graphics/SVG/1.1/DTD/svg11.dtd\">\n<!-- Generated by graphviz version 3.0.0 (20220226.1711)\n -->\n<!-- Title: Tree Pages: 1 -->\n<svg width=\"1216pt\" height=\"790pt\"\n viewBox=\"0.00 0.00 1216.00 790.00\" xmlns=\"http://www.w3.org/2000/svg\" xmlns:xlink=\"http://www.w3.org/1999/xlink\">\n<g id=\"graph0\" class=\"graph\" transform=\"scale(1 1) rotate(0) translate(4 786)\">\n<title>Tree</title>\n<polygon fill=\"white\" stroke=\"transparent\" points=\"-4,4 -4,-786 1212,-786 1212,4 -4,4\"/>\n<!-- 0 -->\n<g id=\"node1\" class=\"node\">\n<title>0</title>\n<path fill=\"#f3c6a6\" stroke=\"black\" d=\"M542,-782C542,-782 435,-782 435,-782 429,-782 423,-776 423,-770 423,-770 423,-711 423,-711 423,-705 429,-699 435,-699 435,-699 542,-699 542,-699 548,-699 554,-705 554,-711 554,-711 554,-770 554,-770 554,-776 548,-782 542,-782\"/>\n<text text-anchor=\"middle\" x=\"488.5\" y=\"-766.8\" font-family=\"Helvetica,sans-Serif\" font-size=\"14.00\">Glucose &lt;= 127.5</text>\n<text text-anchor=\"middle\" x=\"488.5\" y=\"-751.8\" font-family=\"Helvetica,sans-Serif\" font-size=\"14.00\">entropy = 0.94</text>\n<text text-anchor=\"middle\" x=\"488.5\" y=\"-736.8\" font-family=\"Helvetica,sans-Serif\" font-size=\"14.00\">samples = 544</text>\n<text text-anchor=\"middle\" x=\"488.5\" y=\"-721.8\" font-family=\"Helvetica,sans-Serif\" font-size=\"14.00\">value = [351, 193]</text>\n<text text-anchor=\"middle\" x=\"488.5\" y=\"-706.8\" font-family=\"Helvetica,sans-Serif\" font-size=\"14.00\">class = 0</text>\n</g>\n<!-- 1 -->\n<g id=\"node2\" class=\"node\">\n<title>1</title>\n<path fill=\"#eca26c\" stroke=\"black\" d=\"M463.5,-663C463.5,-663 365.5,-663 365.5,-663 359.5,-663 353.5,-657 353.5,-651 353.5,-651 353.5,-592 353.5,-592 353.5,-586 359.5,-580 365.5,-580 365.5,-580 463.5,-580 463.5,-580 469.5,-580 475.5,-586 475.5,-592 475.5,-592 475.5,-651 475.5,-651 475.5,-657 469.5,-663 463.5,-663\"/>\n<text text-anchor=\"middle\" x=\"414.5\" y=\"-647.8\" font-family=\"Helvetica,sans-Serif\" font-size=\"14.00\">Age &lt;= 27.5</text>\n<text text-anchor=\"middle\" x=\"414.5\" y=\"-632.8\" font-family=\"Helvetica,sans-Serif\" font-size=\"14.00\">entropy = 0.73</text>\n<text text-anchor=\"middle\" x=\"414.5\" y=\"-617.8\" font-family=\"Helvetica,sans-Serif\" font-size=\"14.00\">samples = 340</text>\n<text text-anchor=\"middle\" x=\"414.5\" y=\"-602.8\" font-family=\"Helvetica,sans-Serif\" font-size=\"14.00\">value = [270, 70]</text>\n<text text-anchor=\"middle\" x=\"414.5\" y=\"-587.8\" font-family=\"Helvetica,sans-Serif\" font-size=\"14.00\">class = 0</text>\n</g>\n<!-- 0&#45;&gt;1 -->\n<g id=\"edge1\" class=\"edge\">\n<title>0&#45;&gt;1</title>\n<path fill=\"none\" stroke=\"black\" d=\"M462.83,-698.91C457.26,-690.1 451.31,-680.7 445.56,-671.61\"/>\n<polygon fill=\"black\" stroke=\"black\" points=\"448.43,-669.6 440.13,-663.02 442.52,-673.34 448.43,-669.6\"/>\n<text text-anchor=\"middle\" x=\"434.64\" y=\"-683.71\" font-family=\"Helvetica,sans-Serif\" font-size=\"14.00\">True</text>\n</g>\n<!-- 2 -->\n<g id=\"node13\" class=\"node\">\n<title>2</title>\n<path fill=\"#bbdef6\" stroke=\"black\" d=\"M664.5,-663C664.5,-663 566.5,-663 566.5,-663 560.5,-663 554.5,-657 554.5,-651 554.5,-651 554.5,-592 554.5,-592 554.5,-586 560.5,-580 566.5,-580 566.5,-580 664.5,-580 664.5,-580 670.5,-580 676.5,-586 676.5,-592 676.5,-592 676.5,-651 676.5,-651 676.5,-657 670.5,-663 664.5,-663\"/>\n<text text-anchor=\"middle\" x=\"615.5\" y=\"-647.8\" font-family=\"Helvetica,sans-Serif\" font-size=\"14.00\">BMI &lt;= 29.95</text>\n<text text-anchor=\"middle\" x=\"615.5\" y=\"-632.8\" font-family=\"Helvetica,sans-Serif\" font-size=\"14.00\">entropy = 0.97</text>\n<text text-anchor=\"middle\" x=\"615.5\" y=\"-617.8\" font-family=\"Helvetica,sans-Serif\" font-size=\"14.00\">samples = 204</text>\n<text text-anchor=\"middle\" x=\"615.5\" y=\"-602.8\" font-family=\"Helvetica,sans-Serif\" font-size=\"14.00\">value = [81, 123]</text>\n<text text-anchor=\"middle\" x=\"615.5\" y=\"-587.8\" font-family=\"Helvetica,sans-Serif\" font-size=\"14.00\">class = 1</text>\n</g>\n<!-- 0&#45;&gt;2 -->\n<g id=\"edge12\" class=\"edge\">\n<title>0&#45;&gt;2</title>\n<path fill=\"none\" stroke=\"black\" d=\"M532.56,-698.91C542.71,-689.56 553.59,-679.54 564.02,-669.93\"/>\n<polygon fill=\"black\" stroke=\"black\" points=\"566.53,-672.37 571.52,-663.02 561.79,-667.22 566.53,-672.37\"/>\n<text text-anchor=\"middle\" x=\"570.49\" y=\"-684.3\" font-family=\"Helvetica,sans-Serif\" font-size=\"14.00\">False</text>\n</g>\n<!-- 3 -->\n<g id=\"node3\" class=\"node\">\n<title>3</title>\n<path fill=\"#e78b49\" stroke=\"black\" d=\"M236.5,-544C236.5,-544 138.5,-544 138.5,-544 132.5,-544 126.5,-538 126.5,-532 126.5,-532 126.5,-473 126.5,-473 126.5,-467 132.5,-461 138.5,-461 138.5,-461 236.5,-461 236.5,-461 242.5,-461 248.5,-467 248.5,-473 248.5,-473 248.5,-532 248.5,-532 248.5,-538 242.5,-544 236.5,-544\"/>\n<text text-anchor=\"middle\" x=\"187.5\" y=\"-528.8\" font-family=\"Helvetica,sans-Serif\" font-size=\"14.00\">BMI &lt;= 30.9</text>\n<text text-anchor=\"middle\" x=\"187.5\" y=\"-513.8\" font-family=\"Helvetica,sans-Serif\" font-size=\"14.00\">entropy = 0.38</text>\n<text text-anchor=\"middle\" x=\"187.5\" y=\"-498.8\" font-family=\"Helvetica,sans-Serif\" font-size=\"14.00\">samples = 173</text>\n<text text-anchor=\"middle\" x=\"187.5\" y=\"-483.8\" font-family=\"Helvetica,sans-Serif\" font-size=\"14.00\">value = [160, 13]</text>\n<text text-anchor=\"middle\" x=\"187.5\" y=\"-468.8\" font-family=\"Helvetica,sans-Serif\" font-size=\"14.00\">class = 0</text>\n</g>\n<!-- 1&#45;&gt;3 -->\n<g id=\"edge2\" class=\"edge\">\n<title>1&#45;&gt;3</title>\n<path fill=\"none\" stroke=\"black\" d=\"M353.37,-588.99C323.85,-573.78 288.27,-555.44 257.65,-539.66\"/>\n<polygon fill=\"black\" stroke=\"black\" points=\"259.23,-536.53 248.74,-535.06 256.02,-542.76 259.23,-536.53\"/>\n</g>\n<!-- 4 -->\n<g id=\"node6\" class=\"node\">\n<title>4</title>\n<path fill=\"#f2c2a0\" stroke=\"black\" d=\"M463.5,-544C463.5,-544 365.5,-544 365.5,-544 359.5,-544 353.5,-538 353.5,-532 353.5,-532 353.5,-473 353.5,-473 353.5,-467 359.5,-461 365.5,-461 365.5,-461 463.5,-461 463.5,-461 469.5,-461 475.5,-467 475.5,-473 475.5,-473 475.5,-532 475.5,-532 475.5,-538 469.5,-544 463.5,-544\"/>\n<text text-anchor=\"middle\" x=\"414.5\" y=\"-528.8\" font-family=\"Helvetica,sans-Serif\" font-size=\"14.00\">BMI &lt;= 26.35</text>\n<text text-anchor=\"middle\" x=\"414.5\" y=\"-513.8\" font-family=\"Helvetica,sans-Serif\" font-size=\"14.00\">entropy = 0.93</text>\n<text text-anchor=\"middle\" x=\"414.5\" y=\"-498.8\" font-family=\"Helvetica,sans-Serif\" font-size=\"14.00\">samples = 167</text>\n<text text-anchor=\"middle\" x=\"414.5\" y=\"-483.8\" font-family=\"Helvetica,sans-Serif\" font-size=\"14.00\">value = [110, 57]</text>\n<text text-anchor=\"middle\" x=\"414.5\" y=\"-468.8\" font-family=\"Helvetica,sans-Serif\" font-size=\"14.00\">class = 0</text>\n</g>\n<!-- 1&#45;&gt;4 -->\n<g id=\"edge5\" class=\"edge\">\n<title>1&#45;&gt;4</title>\n<path fill=\"none\" stroke=\"black\" d=\"M414.5,-579.91C414.5,-571.65 414.5,-562.86 414.5,-554.3\"/>\n<polygon fill=\"black\" stroke=\"black\" points=\"418,-554.02 414.5,-544.02 411,-554.02 418,-554.02\"/>\n</g>\n<!-- 9 -->\n<g id=\"node4\" class=\"node\">\n<title>9</title>\n<path fill=\"#e5823b\" stroke=\"black\" d=\"M101,-417.5C101,-417.5 12,-417.5 12,-417.5 6,-417.5 0,-411.5 0,-405.5 0,-405.5 0,-361.5 0,-361.5 0,-355.5 6,-349.5 12,-349.5 12,-349.5 101,-349.5 101,-349.5 107,-349.5 113,-355.5 113,-361.5 113,-361.5 113,-405.5 113,-405.5 113,-411.5 107,-417.5 101,-417.5\"/>\n<text text-anchor=\"middle\" x=\"56.5\" y=\"-402.3\" font-family=\"Helvetica,sans-Serif\" font-size=\"14.00\">entropy = 0.08</text>\n<text text-anchor=\"middle\" x=\"56.5\" y=\"-387.3\" font-family=\"Helvetica,sans-Serif\" font-size=\"14.00\">samples = 103</text>\n<text text-anchor=\"middle\" x=\"56.5\" y=\"-372.3\" font-family=\"Helvetica,sans-Serif\" font-size=\"14.00\">value = [102, 1]</text>\n<text text-anchor=\"middle\" x=\"56.5\" y=\"-357.3\" font-family=\"Helvetica,sans-Serif\" font-size=\"14.00\">class = 0</text>\n</g>\n<!-- 3&#45;&gt;9 -->\n<g id=\"edge3\" class=\"edge\">\n<title>3&#45;&gt;9</title>\n<path fill=\"none\" stroke=\"black\" d=\"M142.05,-460.91C128.83,-449.1 114.4,-436.22 101.23,-424.45\"/>\n<polygon fill=\"black\" stroke=\"black\" points=\"103.43,-421.72 93.64,-417.67 98.76,-426.94 103.43,-421.72\"/>\n</g>\n<!-- 10 -->\n<g id=\"node5\" class=\"node\">\n<title>10</title>\n<path fill=\"#ea9b62\" stroke=\"black\" d=\"M232,-417.5C232,-417.5 143,-417.5 143,-417.5 137,-417.5 131,-411.5 131,-405.5 131,-405.5 131,-361.5 131,-361.5 131,-355.5 137,-349.5 143,-349.5 143,-349.5 232,-349.5 232,-349.5 238,-349.5 244,-355.5 244,-361.5 244,-361.5 244,-405.5 244,-405.5 244,-411.5 238,-417.5 232,-417.5\"/>\n<text text-anchor=\"middle\" x=\"187.5\" y=\"-402.3\" font-family=\"Helvetica,sans-Serif\" font-size=\"14.00\">entropy = 0.66</text>\n<text text-anchor=\"middle\" x=\"187.5\" y=\"-387.3\" font-family=\"Helvetica,sans-Serif\" font-size=\"14.00\">samples = 70</text>\n<text text-anchor=\"middle\" x=\"187.5\" y=\"-372.3\" font-family=\"Helvetica,sans-Serif\" font-size=\"14.00\">value = [58, 12]</text>\n<text text-anchor=\"middle\" x=\"187.5\" y=\"-357.3\" font-family=\"Helvetica,sans-Serif\" font-size=\"14.00\">class = 0</text>\n</g>\n<!-- 3&#45;&gt;10 -->\n<g id=\"edge4\" class=\"edge\">\n<title>3&#45;&gt;10</title>\n<path fill=\"none\" stroke=\"black\" d=\"M187.5,-460.91C187.5,-450.2 187.5,-438.62 187.5,-427.78\"/>\n<polygon fill=\"black\" stroke=\"black\" points=\"191,-427.67 187.5,-417.67 184,-427.67 191,-427.67\"/>\n</g>\n<!-- 7 -->\n<g id=\"node7\" class=\"node\">\n<title>7</title>\n<path fill=\"#e6853f\" stroke=\"black\" d=\"M358.5,-417.5C358.5,-417.5 274.5,-417.5 274.5,-417.5 268.5,-417.5 262.5,-411.5 262.5,-405.5 262.5,-405.5 262.5,-361.5 262.5,-361.5 262.5,-355.5 268.5,-349.5 274.5,-349.5 274.5,-349.5 358.5,-349.5 358.5,-349.5 364.5,-349.5 370.5,-355.5 370.5,-361.5 370.5,-361.5 370.5,-405.5 370.5,-405.5 370.5,-411.5 364.5,-417.5 358.5,-417.5\"/>\n<text text-anchor=\"middle\" x=\"316.5\" y=\"-402.3\" font-family=\"Helvetica,sans-Serif\" font-size=\"14.00\">entropy = 0.19</text>\n<text text-anchor=\"middle\" x=\"316.5\" y=\"-387.3\" font-family=\"Helvetica,sans-Serif\" font-size=\"14.00\">samples = 34</text>\n<text text-anchor=\"middle\" x=\"316.5\" y=\"-372.3\" font-family=\"Helvetica,sans-Serif\" font-size=\"14.00\">value = [33, 1]</text>\n<text text-anchor=\"middle\" x=\"316.5\" y=\"-357.3\" font-family=\"Helvetica,sans-Serif\" font-size=\"14.00\">class = 0</text>\n</g>\n<!-- 4&#45;&gt;7 -->\n<g id=\"edge6\" class=\"edge\">\n<title>4&#45;&gt;7</title>\n<path fill=\"none\" stroke=\"black\" d=\"M380.5,-460.91C370.89,-449.43 360.42,-436.94 350.79,-425.44\"/>\n<polygon fill=\"black\" stroke=\"black\" points=\"353.39,-423.09 344.28,-417.67 348.02,-427.58 353.39,-423.09\"/>\n</g>\n<!-- 8 -->\n<g id=\"node8\" class=\"node\">\n<title>8</title>\n<path fill=\"#f8ddc9\" stroke=\"black\" d=\"M498.5,-425C498.5,-425 400.5,-425 400.5,-425 394.5,-425 388.5,-419 388.5,-413 388.5,-413 388.5,-354 388.5,-354 388.5,-348 394.5,-342 400.5,-342 400.5,-342 498.5,-342 498.5,-342 504.5,-342 510.5,-348 510.5,-354 510.5,-354 510.5,-413 510.5,-413 510.5,-419 504.5,-425 498.5,-425\"/>\n<text text-anchor=\"middle\" x=\"449.5\" y=\"-409.8\" font-family=\"Helvetica,sans-Serif\" font-size=\"14.00\">Glucose &lt;= 99.5</text>\n<text text-anchor=\"middle\" x=\"449.5\" y=\"-394.8\" font-family=\"Helvetica,sans-Serif\" font-size=\"14.00\">entropy = 0.98</text>\n<text text-anchor=\"middle\" x=\"449.5\" y=\"-379.8\" font-family=\"Helvetica,sans-Serif\" font-size=\"14.00\">samples = 133</text>\n<text text-anchor=\"middle\" x=\"449.5\" y=\"-364.8\" font-family=\"Helvetica,sans-Serif\" font-size=\"14.00\">value = [77, 56]</text>\n<text text-anchor=\"middle\" x=\"449.5\" y=\"-349.8\" font-family=\"Helvetica,sans-Serif\" font-size=\"14.00\">class = 0</text>\n</g>\n<!-- 4&#45;&gt;8 -->\n<g id=\"edge7\" class=\"edge\">\n<title>4&#45;&gt;8</title>\n<path fill=\"none\" stroke=\"black\" d=\"M426.64,-460.91C429.17,-452.47 431.86,-443.48 434.47,-434.74\"/>\n<polygon fill=\"black\" stroke=\"black\" points=\"437.87,-435.6 437.38,-425.02 431.16,-433.6 437.87,-435.6\"/>\n</g>\n<!-- 15 -->\n<g id=\"node9\" class=\"node\">\n<title>15</title>\n<path fill=\"#eca06a\" stroke=\"black\" d=\"M305.5,-298.5C305.5,-298.5 221.5,-298.5 221.5,-298.5 215.5,-298.5 209.5,-292.5 209.5,-286.5 209.5,-286.5 209.5,-242.5 209.5,-242.5 209.5,-236.5 215.5,-230.5 221.5,-230.5 221.5,-230.5 305.5,-230.5 305.5,-230.5 311.5,-230.5 317.5,-236.5 317.5,-242.5 317.5,-242.5 317.5,-286.5 317.5,-286.5 317.5,-292.5 311.5,-298.5 305.5,-298.5\"/>\n<text text-anchor=\"middle\" x=\"263.5\" y=\"-283.3\" font-family=\"Helvetica,sans-Serif\" font-size=\"14.00\">entropy = 0.72</text>\n<text text-anchor=\"middle\" x=\"263.5\" y=\"-268.3\" font-family=\"Helvetica,sans-Serif\" font-size=\"14.00\">samples = 40</text>\n<text text-anchor=\"middle\" x=\"263.5\" y=\"-253.3\" font-family=\"Helvetica,sans-Serif\" font-size=\"14.00\">value = [32, 8]</text>\n<text text-anchor=\"middle\" x=\"263.5\" y=\"-238.3\" font-family=\"Helvetica,sans-Serif\" font-size=\"14.00\">class = 0</text>\n</g>\n<!-- 8&#45;&gt;15 -->\n<g id=\"edge8\" class=\"edge\">\n<title>8&#45;&gt;15</title>\n<path fill=\"none\" stroke=\"black\" d=\"M388.39,-344.74C368.6,-332.45 346.59,-318.7 326.5,-306 325.57,-305.41 324.62,-304.81 323.68,-304.21\"/>\n<polygon fill=\"black\" stroke=\"black\" points=\"325.35,-301.13 315.03,-298.72 321.59,-307.04 325.35,-301.13\"/>\n</g>\n<!-- 16 -->\n<g id=\"node10\" class=\"node\">\n<title>16</title>\n<path fill=\"#f3f9fd\" stroke=\"black\" d=\"M553.5,-306C553.5,-306 347.5,-306 347.5,-306 341.5,-306 335.5,-300 335.5,-294 335.5,-294 335.5,-235 335.5,-235 335.5,-229 341.5,-223 347.5,-223 347.5,-223 553.5,-223 553.5,-223 559.5,-223 565.5,-229 565.5,-235 565.5,-235 565.5,-294 565.5,-294 565.5,-300 559.5,-306 553.5,-306\"/>\n<text text-anchor=\"middle\" x=\"450.5\" y=\"-290.8\" font-family=\"Helvetica,sans-Serif\" font-size=\"14.00\">DiabetesPedigreeFunction &lt;= 0.2</text>\n<text text-anchor=\"middle\" x=\"450.5\" y=\"-275.8\" font-family=\"Helvetica,sans-Serif\" font-size=\"14.00\">entropy = 1.0</text>\n<text text-anchor=\"middle\" x=\"450.5\" y=\"-260.8\" font-family=\"Helvetica,sans-Serif\" font-size=\"14.00\">samples = 93</text>\n<text text-anchor=\"middle\" x=\"450.5\" y=\"-245.8\" font-family=\"Helvetica,sans-Serif\" font-size=\"14.00\">value = [45, 48]</text>\n<text text-anchor=\"middle\" x=\"450.5\" y=\"-230.8\" font-family=\"Helvetica,sans-Serif\" font-size=\"14.00\">class = 1</text>\n</g>\n<!-- 8&#45;&gt;16 -->\n<g id=\"edge9\" class=\"edge\">\n<title>8&#45;&gt;16</title>\n<path fill=\"none\" stroke=\"black\" d=\"M449.85,-341.91C449.92,-333.65 449.99,-324.86 450.07,-316.3\"/>\n<polygon fill=\"black\" stroke=\"black\" points=\"453.57,-316.05 450.15,-306.02 446.57,-315.99 453.57,-316.05\"/>\n</g>\n<!-- 21 -->\n<g id=\"node11\" class=\"node\">\n<title>21</title>\n<path fill=\"#ea985d\" stroke=\"black\" d=\"M433.5,-179.5C433.5,-179.5 349.5,-179.5 349.5,-179.5 343.5,-179.5 337.5,-173.5 337.5,-167.5 337.5,-167.5 337.5,-123.5 337.5,-123.5 337.5,-117.5 343.5,-111.5 349.5,-111.5 349.5,-111.5 433.5,-111.5 433.5,-111.5 439.5,-111.5 445.5,-117.5 445.5,-123.5 445.5,-123.5 445.5,-167.5 445.5,-167.5 445.5,-173.5 439.5,-179.5 433.5,-179.5\"/>\n<text text-anchor=\"middle\" x=\"391.5\" y=\"-164.3\" font-family=\"Helvetica,sans-Serif\" font-size=\"14.00\">entropy = 0.62</text>\n<text text-anchor=\"middle\" x=\"391.5\" y=\"-149.3\" font-family=\"Helvetica,sans-Serif\" font-size=\"14.00\">samples = 13</text>\n<text text-anchor=\"middle\" x=\"391.5\" y=\"-134.3\" font-family=\"Helvetica,sans-Serif\" font-size=\"14.00\">value = [11, 2]</text>\n<text text-anchor=\"middle\" x=\"391.5\" y=\"-119.3\" font-family=\"Helvetica,sans-Serif\" font-size=\"14.00\">class = 0</text>\n</g>\n<!-- 16&#45;&gt;21 -->\n<g id=\"edge10\" class=\"edge\">\n<title>16&#45;&gt;21</title>\n<path fill=\"none\" stroke=\"black\" d=\"M430.03,-222.91C424.47,-211.87 418.43,-199.9 412.82,-188.77\"/>\n<polygon fill=\"black\" stroke=\"black\" points=\"415.85,-187.02 408.23,-179.67 409.6,-190.17 415.85,-187.02\"/>\n</g>\n<!-- 22 -->\n<g id=\"node12\" class=\"node\">\n<title>22</title>\n<path fill=\"#cbe5f8\" stroke=\"black\" d=\"M565,-179.5C565,-179.5 476,-179.5 476,-179.5 470,-179.5 464,-173.5 464,-167.5 464,-167.5 464,-123.5 464,-123.5 464,-117.5 470,-111.5 476,-111.5 476,-111.5 565,-111.5 565,-111.5 571,-111.5 577,-117.5 577,-123.5 577,-123.5 577,-167.5 577,-167.5 577,-173.5 571,-179.5 565,-179.5\"/>\n<text text-anchor=\"middle\" x=\"520.5\" y=\"-164.3\" font-family=\"Helvetica,sans-Serif\" font-size=\"14.00\">entropy = 0.98</text>\n<text text-anchor=\"middle\" x=\"520.5\" y=\"-149.3\" font-family=\"Helvetica,sans-Serif\" font-size=\"14.00\">samples = 80</text>\n<text text-anchor=\"middle\" x=\"520.5\" y=\"-134.3\" font-family=\"Helvetica,sans-Serif\" font-size=\"14.00\">value = [34, 46]</text>\n<text text-anchor=\"middle\" x=\"520.5\" y=\"-119.3\" font-family=\"Helvetica,sans-Serif\" font-size=\"14.00\">class = 1</text>\n</g>\n<!-- 16&#45;&gt;22 -->\n<g id=\"edge11\" class=\"edge\">\n<title>16&#45;&gt;22</title>\n<path fill=\"none\" stroke=\"black\" d=\"M474.79,-222.91C481.45,-211.76 488.7,-199.66 495.41,-188.44\"/>\n<polygon fill=\"black\" stroke=\"black\" points=\"498.53,-190.05 500.66,-179.67 492.52,-186.45 498.53,-190.05\"/>\n</g>\n<!-- 5 -->\n<g id=\"node14\" class=\"node\">\n<title>5</title>\n<path fill=\"#eeae80\" stroke=\"black\" d=\"M673.5,-544C673.5,-544 557.5,-544 557.5,-544 551.5,-544 545.5,-538 545.5,-532 545.5,-532 545.5,-473 545.5,-473 545.5,-467 551.5,-461 557.5,-461 557.5,-461 673.5,-461 673.5,-461 679.5,-461 685.5,-467 685.5,-473 685.5,-473 685.5,-532 685.5,-532 685.5,-538 679.5,-544 673.5,-544\"/>\n<text text-anchor=\"middle\" x=\"615.5\" y=\"-528.8\" font-family=\"Helvetica,sans-Serif\" font-size=\"14.00\">Pregnancies &lt;= 1.5</text>\n<text text-anchor=\"middle\" x=\"615.5\" y=\"-513.8\" font-family=\"Helvetica,sans-Serif\" font-size=\"14.00\">entropy = 0.83</text>\n<text text-anchor=\"middle\" x=\"615.5\" y=\"-498.8\" font-family=\"Helvetica,sans-Serif\" font-size=\"14.00\">samples = 57</text>\n<text text-anchor=\"middle\" x=\"615.5\" y=\"-483.8\" font-family=\"Helvetica,sans-Serif\" font-size=\"14.00\">value = [42, 15]</text>\n<text text-anchor=\"middle\" x=\"615.5\" y=\"-468.8\" font-family=\"Helvetica,sans-Serif\" font-size=\"14.00\">class = 0</text>\n</g>\n<!-- 2&#45;&gt;5 -->\n<g id=\"edge13\" class=\"edge\">\n<title>2&#45;&gt;5</title>\n<path fill=\"none\" stroke=\"black\" d=\"M615.5,-579.91C615.5,-571.65 615.5,-562.86 615.5,-554.3\"/>\n<polygon fill=\"black\" stroke=\"black\" points=\"619,-554.02 615.5,-544.02 612,-554.02 619,-554.02\"/>\n</g>\n<!-- 6 -->\n<g id=\"node21\" class=\"node\">\n<title>6</title>\n<path fill=\"#80c0ee\" stroke=\"black\" d=\"M970,-544C970,-544 863,-544 863,-544 857,-544 851,-538 851,-532 851,-532 851,-473 851,-473 851,-467 857,-461 863,-461 863,-461 970,-461 970,-461 976,-461 982,-467 982,-473 982,-473 982,-532 982,-532 982,-538 976,-544 970,-544\"/>\n<text text-anchor=\"middle\" x=\"916.5\" y=\"-528.8\" font-family=\"Helvetica,sans-Serif\" font-size=\"14.00\">Glucose &lt;= 155.5</text>\n<text text-anchor=\"middle\" x=\"916.5\" y=\"-513.8\" font-family=\"Helvetica,sans-Serif\" font-size=\"14.00\">entropy = 0.83</text>\n<text text-anchor=\"middle\" x=\"916.5\" y=\"-498.8\" font-family=\"Helvetica,sans-Serif\" font-size=\"14.00\">samples = 147</text>\n<text text-anchor=\"middle\" x=\"916.5\" y=\"-483.8\" font-family=\"Helvetica,sans-Serif\" font-size=\"14.00\">value = [39, 108]</text>\n<text text-anchor=\"middle\" x=\"916.5\" y=\"-468.8\" font-family=\"Helvetica,sans-Serif\" font-size=\"14.00\">class = 1</text>\n</g>\n<!-- 2&#45;&gt;6 -->\n<g id=\"edge20\" class=\"edge\">\n<title>2&#45;&gt;6</title>\n<path fill=\"none\" stroke=\"black\" d=\"M676.77,-596.68C724.33,-578.2 790.49,-552.48 841.26,-532.75\"/>\n<polygon fill=\"black\" stroke=\"black\" points=\"842.83,-535.89 850.88,-529.01 840.29,-529.37 842.83,-535.89\"/>\n</g>\n<!-- 17 -->\n<g id=\"node15\" class=\"node\">\n<title>17</title>\n<path fill=\"#e58139\" stroke=\"black\" d=\"M622,-417.5C622,-417.5 541,-417.5 541,-417.5 535,-417.5 529,-411.5 529,-405.5 529,-405.5 529,-361.5 529,-361.5 529,-355.5 535,-349.5 541,-349.5 541,-349.5 622,-349.5 622,-349.5 628,-349.5 634,-355.5 634,-361.5 634,-361.5 634,-405.5 634,-405.5 634,-411.5 628,-417.5 622,-417.5\"/>\n<text text-anchor=\"middle\" x=\"581.5\" y=\"-402.3\" font-family=\"Helvetica,sans-Serif\" font-size=\"14.00\">entropy = 0.0</text>\n<text text-anchor=\"middle\" x=\"581.5\" y=\"-387.3\" font-family=\"Helvetica,sans-Serif\" font-size=\"14.00\">samples = 14</text>\n<text text-anchor=\"middle\" x=\"581.5\" y=\"-372.3\" font-family=\"Helvetica,sans-Serif\" font-size=\"14.00\">value = [14, 0]</text>\n<text text-anchor=\"middle\" x=\"581.5\" y=\"-357.3\" font-family=\"Helvetica,sans-Serif\" font-size=\"14.00\">class = 0</text>\n</g>\n<!-- 5&#45;&gt;17 -->\n<g id=\"edge14\" class=\"edge\">\n<title>5&#45;&gt;17</title>\n<path fill=\"none\" stroke=\"black\" d=\"M603.7,-460.91C600.56,-450.09 597.16,-438.38 593.98,-427.44\"/>\n<polygon fill=\"black\" stroke=\"black\" points=\"597.29,-426.29 591.14,-417.67 590.57,-428.25 597.29,-426.29\"/>\n</g>\n<!-- 18 -->\n<g id=\"node16\" class=\"node\">\n<title>18</title>\n<path fill=\"#f3c4a3\" stroke=\"black\" d=\"M804.5,-425C804.5,-425 664.5,-425 664.5,-425 658.5,-425 652.5,-419 652.5,-413 652.5,-413 652.5,-354 652.5,-354 652.5,-348 658.5,-342 664.5,-342 664.5,-342 804.5,-342 804.5,-342 810.5,-342 816.5,-348 816.5,-354 816.5,-354 816.5,-413 816.5,-413 816.5,-419 810.5,-425 804.5,-425\"/>\n<text text-anchor=\"middle\" x=\"734.5\" y=\"-409.8\" font-family=\"Helvetica,sans-Serif\" font-size=\"14.00\">BloodPressure &lt;= 73.0</text>\n<text text-anchor=\"middle\" x=\"734.5\" y=\"-394.8\" font-family=\"Helvetica,sans-Serif\" font-size=\"14.00\">entropy = 0.93</text>\n<text text-anchor=\"middle\" x=\"734.5\" y=\"-379.8\" font-family=\"Helvetica,sans-Serif\" font-size=\"14.00\">samples = 43</text>\n<text text-anchor=\"middle\" x=\"734.5\" y=\"-364.8\" font-family=\"Helvetica,sans-Serif\" font-size=\"14.00\">value = [28, 15]</text>\n<text text-anchor=\"middle\" x=\"734.5\" y=\"-349.8\" font-family=\"Helvetica,sans-Serif\" font-size=\"14.00\">class = 0</text>\n</g>\n<!-- 5&#45;&gt;18 -->\n<g id=\"edge15\" class=\"edge\">\n<title>5&#45;&gt;18</title>\n<path fill=\"none\" stroke=\"black\" d=\"M656.79,-460.91C666.2,-451.65 676.29,-441.73 685.98,-432.21\"/>\n<polygon fill=\"black\" stroke=\"black\" points=\"688.61,-434.53 693.29,-425.02 683.7,-429.54 688.61,-434.53\"/>\n</g>\n<!-- 23 -->\n<g id=\"node17\" class=\"node\">\n<title>23</title>\n<path fill=\"#c9e4f8\" stroke=\"black\" d=\"M682.5,-298.5C682.5,-298.5 598.5,-298.5 598.5,-298.5 592.5,-298.5 586.5,-292.5 586.5,-286.5 586.5,-286.5 586.5,-242.5 586.5,-242.5 586.5,-236.5 592.5,-230.5 598.5,-230.5 598.5,-230.5 682.5,-230.5 682.5,-230.5 688.5,-230.5 694.5,-236.5 694.5,-242.5 694.5,-242.5 694.5,-286.5 694.5,-286.5 694.5,-292.5 688.5,-298.5 682.5,-298.5\"/>\n<text text-anchor=\"middle\" x=\"640.5\" y=\"-283.3\" font-family=\"Helvetica,sans-Serif\" font-size=\"14.00\">entropy = 0.98</text>\n<text text-anchor=\"middle\" x=\"640.5\" y=\"-268.3\" font-family=\"Helvetica,sans-Serif\" font-size=\"14.00\">samples = 19</text>\n<text text-anchor=\"middle\" x=\"640.5\" y=\"-253.3\" font-family=\"Helvetica,sans-Serif\" font-size=\"14.00\">value = [8, 11]</text>\n<text text-anchor=\"middle\" x=\"640.5\" y=\"-238.3\" font-family=\"Helvetica,sans-Serif\" font-size=\"14.00\">class = 1</text>\n</g>\n<!-- 18&#45;&gt;23 -->\n<g id=\"edge16\" class=\"edge\">\n<title>18&#45;&gt;23</title>\n<path fill=\"none\" stroke=\"black\" d=\"M701.89,-341.91C692.76,-330.54 682.82,-318.18 673.66,-306.77\"/>\n<polygon fill=\"black\" stroke=\"black\" points=\"676.14,-304.27 667.15,-298.67 670.68,-308.65 676.14,-304.27\"/>\n</g>\n<!-- 24 -->\n<g id=\"node18\" class=\"node\">\n<title>24</title>\n<path fill=\"#ea9a61\" stroke=\"black\" d=\"M832,-306C832,-306 725,-306 725,-306 719,-306 713,-300 713,-294 713,-294 713,-235 713,-235 713,-229 719,-223 725,-223 725,-223 832,-223 832,-223 838,-223 844,-229 844,-235 844,-235 844,-294 844,-294 844,-300 838,-306 832,-306\"/>\n<text text-anchor=\"middle\" x=\"778.5\" y=\"-290.8\" font-family=\"Helvetica,sans-Serif\" font-size=\"14.00\">Glucose &lt;= 146.5</text>\n<text text-anchor=\"middle\" x=\"778.5\" y=\"-275.8\" font-family=\"Helvetica,sans-Serif\" font-size=\"14.00\">entropy = 0.65</text>\n<text text-anchor=\"middle\" x=\"778.5\" y=\"-260.8\" font-family=\"Helvetica,sans-Serif\" font-size=\"14.00\">samples = 24</text>\n<text text-anchor=\"middle\" x=\"778.5\" y=\"-245.8\" font-family=\"Helvetica,sans-Serif\" font-size=\"14.00\">value = [20, 4]</text>\n<text text-anchor=\"middle\" x=\"778.5\" y=\"-230.8\" font-family=\"Helvetica,sans-Serif\" font-size=\"14.00\">class = 0</text>\n</g>\n<!-- 18&#45;&gt;24 -->\n<g id=\"edge17\" class=\"edge\">\n<title>18&#45;&gt;24</title>\n<path fill=\"none\" stroke=\"black\" d=\"M749.77,-341.91C752.97,-333.38 756.39,-324.28 759.71,-315.46\"/>\n<polygon fill=\"black\" stroke=\"black\" points=\"763.02,-316.61 763.26,-306.02 756.47,-314.15 763.02,-316.61\"/>\n</g>\n<!-- 25 -->\n<g id=\"node19\" class=\"node\">\n<title>25</title>\n<path fill=\"#e58139\" stroke=\"black\" d=\"M724,-179.5C724,-179.5 643,-179.5 643,-179.5 637,-179.5 631,-173.5 631,-167.5 631,-167.5 631,-123.5 631,-123.5 631,-117.5 637,-111.5 643,-111.5 643,-111.5 724,-111.5 724,-111.5 730,-111.5 736,-117.5 736,-123.5 736,-123.5 736,-167.5 736,-167.5 736,-173.5 730,-179.5 724,-179.5\"/>\n<text text-anchor=\"middle\" x=\"683.5\" y=\"-164.3\" font-family=\"Helvetica,sans-Serif\" font-size=\"14.00\">entropy = 0.0</text>\n<text text-anchor=\"middle\" x=\"683.5\" y=\"-149.3\" font-family=\"Helvetica,sans-Serif\" font-size=\"14.00\">samples = 14</text>\n<text text-anchor=\"middle\" x=\"683.5\" y=\"-134.3\" font-family=\"Helvetica,sans-Serif\" font-size=\"14.00\">value = [14, 0]</text>\n<text text-anchor=\"middle\" x=\"683.5\" y=\"-119.3\" font-family=\"Helvetica,sans-Serif\" font-size=\"14.00\">class = 0</text>\n</g>\n<!-- 24&#45;&gt;25 -->\n<g id=\"edge18\" class=\"edge\">\n<title>24&#45;&gt;25</title>\n<path fill=\"none\" stroke=\"black\" d=\"M745.54,-222.91C736.22,-211.43 726.08,-198.94 716.74,-187.44\"/>\n<polygon fill=\"black\" stroke=\"black\" points=\"719.45,-185.22 710.43,-179.67 714.02,-189.64 719.45,-185.22\"/>\n</g>\n<!-- 26 -->\n<g id=\"node20\" class=\"node\">\n<title>26</title>\n<path fill=\"#f6d5bd\" stroke=\"black\" d=\"M850.5,-179.5C850.5,-179.5 766.5,-179.5 766.5,-179.5 760.5,-179.5 754.5,-173.5 754.5,-167.5 754.5,-167.5 754.5,-123.5 754.5,-123.5 754.5,-117.5 760.5,-111.5 766.5,-111.5 766.5,-111.5 850.5,-111.5 850.5,-111.5 856.5,-111.5 862.5,-117.5 862.5,-123.5 862.5,-123.5 862.5,-167.5 862.5,-167.5 862.5,-173.5 856.5,-179.5 850.5,-179.5\"/>\n<text text-anchor=\"middle\" x=\"808.5\" y=\"-164.3\" font-family=\"Helvetica,sans-Serif\" font-size=\"14.00\">entropy = 0.97</text>\n<text text-anchor=\"middle\" x=\"808.5\" y=\"-149.3\" font-family=\"Helvetica,sans-Serif\" font-size=\"14.00\">samples = 10</text>\n<text text-anchor=\"middle\" x=\"808.5\" y=\"-134.3\" font-family=\"Helvetica,sans-Serif\" font-size=\"14.00\">value = [6, 4]</text>\n<text text-anchor=\"middle\" x=\"808.5\" y=\"-119.3\" font-family=\"Helvetica,sans-Serif\" font-size=\"14.00\">class = 0</text>\n</g>\n<!-- 24&#45;&gt;26 -->\n<g id=\"edge19\" class=\"edge\">\n<title>24&#45;&gt;26</title>\n<path fill=\"none\" stroke=\"black\" d=\"M788.91,-222.91C791.68,-212.09 794.69,-200.38 797.49,-189.44\"/>\n<polygon fill=\"black\" stroke=\"black\" points=\"800.9,-190.22 800,-179.67 794.12,-188.48 800.9,-190.22\"/>\n</g>\n<!-- 11 -->\n<g id=\"node22\" class=\"node\">\n<title>11</title>\n<path fill=\"#b1d9f5\" stroke=\"black\" d=\"M986.5,-425C986.5,-425 846.5,-425 846.5,-425 840.5,-425 834.5,-419 834.5,-413 834.5,-413 834.5,-354 834.5,-354 834.5,-348 840.5,-342 846.5,-342 846.5,-342 986.5,-342 986.5,-342 992.5,-342 998.5,-348 998.5,-354 998.5,-354 998.5,-413 998.5,-413 998.5,-419 992.5,-425 986.5,-425\"/>\n<text text-anchor=\"middle\" x=\"916.5\" y=\"-409.8\" font-family=\"Helvetica,sans-Serif\" font-size=\"14.00\">BloodPressure &lt;= 61.0</text>\n<text text-anchor=\"middle\" x=\"916.5\" y=\"-394.8\" font-family=\"Helvetica,sans-Serif\" font-size=\"14.00\">entropy = 0.96</text>\n<text text-anchor=\"middle\" x=\"916.5\" y=\"-379.8\" font-family=\"Helvetica,sans-Serif\" font-size=\"14.00\">samples = 82</text>\n<text text-anchor=\"middle\" x=\"916.5\" y=\"-364.8\" font-family=\"Helvetica,sans-Serif\" font-size=\"14.00\">value = [31, 51]</text>\n<text text-anchor=\"middle\" x=\"916.5\" y=\"-349.8\" font-family=\"Helvetica,sans-Serif\" font-size=\"14.00\">class = 1</text>\n</g>\n<!-- 6&#45;&gt;11 -->\n<g id=\"edge21\" class=\"edge\">\n<title>6&#45;&gt;11</title>\n<path fill=\"none\" stroke=\"black\" d=\"M916.5,-460.91C916.5,-452.65 916.5,-443.86 916.5,-435.3\"/>\n<polygon fill=\"black\" stroke=\"black\" points=\"920,-435.02 916.5,-425.02 913,-435.02 920,-435.02\"/>\n</g>\n<!-- 12 -->\n<g id=\"node29\" class=\"node\">\n<title>12</title>\n<path fill=\"#55abe9\" stroke=\"black\" d=\"M1112.5,-417.5C1112.5,-417.5 1028.5,-417.5 1028.5,-417.5 1022.5,-417.5 1016.5,-411.5 1016.5,-405.5 1016.5,-405.5 1016.5,-361.5 1016.5,-361.5 1016.5,-355.5 1022.5,-349.5 1028.5,-349.5 1028.5,-349.5 1112.5,-349.5 1112.5,-349.5 1118.5,-349.5 1124.5,-355.5 1124.5,-361.5 1124.5,-361.5 1124.5,-405.5 1124.5,-405.5 1124.5,-411.5 1118.5,-417.5 1112.5,-417.5\"/>\n<text text-anchor=\"middle\" x=\"1070.5\" y=\"-402.3\" font-family=\"Helvetica,sans-Serif\" font-size=\"14.00\">entropy = 0.54</text>\n<text text-anchor=\"middle\" x=\"1070.5\" y=\"-387.3\" font-family=\"Helvetica,sans-Serif\" font-size=\"14.00\">samples = 65</text>\n<text text-anchor=\"middle\" x=\"1070.5\" y=\"-372.3\" font-family=\"Helvetica,sans-Serif\" font-size=\"14.00\">value = [8, 57]</text>\n<text text-anchor=\"middle\" x=\"1070.5\" y=\"-357.3\" font-family=\"Helvetica,sans-Serif\" font-size=\"14.00\">class = 1</text>\n</g>\n<!-- 6&#45;&gt;12 -->\n<g id=\"edge28\" class=\"edge\">\n<title>6&#45;&gt;12</title>\n<path fill=\"none\" stroke=\"black\" d=\"M969.93,-460.91C985.76,-448.88 1003.06,-435.73 1018.78,-423.79\"/>\n<polygon fill=\"black\" stroke=\"black\" points=\"1021,-426.5 1026.84,-417.67 1016.76,-420.93 1021,-426.5\"/>\n</g>\n<!-- 13 -->\n<g id=\"node23\" class=\"node\">\n<title>13</title>\n<path fill=\"#399de5\" stroke=\"black\" d=\"M956,-298.5C956,-298.5 875,-298.5 875,-298.5 869,-298.5 863,-292.5 863,-286.5 863,-286.5 863,-242.5 863,-242.5 863,-236.5 869,-230.5 875,-230.5 875,-230.5 956,-230.5 956,-230.5 962,-230.5 968,-236.5 968,-242.5 968,-242.5 968,-286.5 968,-286.5 968,-292.5 962,-298.5 956,-298.5\"/>\n<text text-anchor=\"middle\" x=\"915.5\" y=\"-283.3\" font-family=\"Helvetica,sans-Serif\" font-size=\"14.00\">entropy = 0.0</text>\n<text text-anchor=\"middle\" x=\"915.5\" y=\"-268.3\" font-family=\"Helvetica,sans-Serif\" font-size=\"14.00\">samples = 13</text>\n<text text-anchor=\"middle\" x=\"915.5\" y=\"-253.3\" font-family=\"Helvetica,sans-Serif\" font-size=\"14.00\">value = [0, 13]</text>\n<text text-anchor=\"middle\" x=\"915.5\" y=\"-238.3\" font-family=\"Helvetica,sans-Serif\" font-size=\"14.00\">class = 1</text>\n</g>\n<!-- 11&#45;&gt;13 -->\n<g id=\"edge22\" class=\"edge\">\n<title>11&#45;&gt;13</title>\n<path fill=\"none\" stroke=\"black\" d=\"M916.15,-341.91C916.06,-331.2 915.96,-319.62 915.87,-308.78\"/>\n<polygon fill=\"black\" stroke=\"black\" points=\"919.37,-308.64 915.78,-298.67 912.37,-308.7 919.37,-308.64\"/>\n</g>\n<!-- 14 -->\n<g id=\"node24\" class=\"node\">\n<title>14</title>\n<path fill=\"#dbedfa\" stroke=\"black\" d=\"M1087,-306C1087,-306 998,-306 998,-306 992,-306 986,-300 986,-294 986,-294 986,-235 986,-235 986,-229 992,-223 998,-223 998,-223 1087,-223 1087,-223 1093,-223 1099,-229 1099,-235 1099,-235 1099,-294 1099,-294 1099,-300 1093,-306 1087,-306\"/>\n<text text-anchor=\"middle\" x=\"1042.5\" y=\"-290.8\" font-family=\"Helvetica,sans-Serif\" font-size=\"14.00\">Age &lt;= 30.5</text>\n<text text-anchor=\"middle\" x=\"1042.5\" y=\"-275.8\" font-family=\"Helvetica,sans-Serif\" font-size=\"14.00\">entropy = 0.99</text>\n<text text-anchor=\"middle\" x=\"1042.5\" y=\"-260.8\" font-family=\"Helvetica,sans-Serif\" font-size=\"14.00\">samples = 69</text>\n<text text-anchor=\"middle\" x=\"1042.5\" y=\"-245.8\" font-family=\"Helvetica,sans-Serif\" font-size=\"14.00\">value = [31, 38]</text>\n<text text-anchor=\"middle\" x=\"1042.5\" y=\"-230.8\" font-family=\"Helvetica,sans-Serif\" font-size=\"14.00\">class = 1</text>\n</g>\n<!-- 11&#45;&gt;14 -->\n<g id=\"edge23\" class=\"edge\">\n<title>11&#45;&gt;14</title>\n<path fill=\"none\" stroke=\"black\" d=\"M960.22,-341.91C970.28,-332.56 981.07,-322.54 991.42,-312.93\"/>\n<polygon fill=\"black\" stroke=\"black\" points=\"993.92,-315.39 998.86,-306.02 989.15,-310.26 993.92,-315.39\"/>\n</g>\n<!-- 19 -->\n<g id=\"node25\" class=\"node\">\n<title>19</title>\n<path fill=\"#f3c3a1\" stroke=\"black\" d=\"M1065,-187C1065,-187 958,-187 958,-187 952,-187 946,-181 946,-175 946,-175 946,-116 946,-116 946,-110 952,-104 958,-104 958,-104 1065,-104 1065,-104 1071,-104 1077,-110 1077,-116 1077,-116 1077,-175 1077,-175 1077,-181 1071,-187 1065,-187\"/>\n<text text-anchor=\"middle\" x=\"1011.5\" y=\"-171.8\" font-family=\"Helvetica,sans-Serif\" font-size=\"14.00\">Glucose &lt;= 142.5</text>\n<text text-anchor=\"middle\" x=\"1011.5\" y=\"-156.8\" font-family=\"Helvetica,sans-Serif\" font-size=\"14.00\">entropy = 0.93</text>\n<text text-anchor=\"middle\" x=\"1011.5\" y=\"-141.8\" font-family=\"Helvetica,sans-Serif\" font-size=\"14.00\">samples = 29</text>\n<text text-anchor=\"middle\" x=\"1011.5\" y=\"-126.8\" font-family=\"Helvetica,sans-Serif\" font-size=\"14.00\">value = [19, 10]</text>\n<text text-anchor=\"middle\" x=\"1011.5\" y=\"-111.8\" font-family=\"Helvetica,sans-Serif\" font-size=\"14.00\">class = 0</text>\n</g>\n<!-- 14&#45;&gt;19 -->\n<g id=\"edge24\" class=\"edge\">\n<title>14&#45;&gt;19</title>\n<path fill=\"none\" stroke=\"black\" d=\"M1031.74,-222.91C1029.51,-214.47 1027.13,-205.48 1024.81,-196.74\"/>\n<polygon fill=\"black\" stroke=\"black\" points=\"1028.18,-195.79 1022.24,-187.02 1021.41,-197.58 1028.18,-195.79\"/>\n</g>\n<!-- 20 -->\n<g id=\"node28\" class=\"node\">\n<title>20</title>\n<path fill=\"#8ec7f0\" stroke=\"black\" d=\"M1196,-179.5C1196,-179.5 1107,-179.5 1107,-179.5 1101,-179.5 1095,-173.5 1095,-167.5 1095,-167.5 1095,-123.5 1095,-123.5 1095,-117.5 1101,-111.5 1107,-111.5 1107,-111.5 1196,-111.5 1196,-111.5 1202,-111.5 1208,-117.5 1208,-123.5 1208,-123.5 1208,-167.5 1208,-167.5 1208,-173.5 1202,-179.5 1196,-179.5\"/>\n<text text-anchor=\"middle\" x=\"1151.5\" y=\"-164.3\" font-family=\"Helvetica,sans-Serif\" font-size=\"14.00\">entropy = 0.88</text>\n<text text-anchor=\"middle\" x=\"1151.5\" y=\"-149.3\" font-family=\"Helvetica,sans-Serif\" font-size=\"14.00\">samples = 40</text>\n<text text-anchor=\"middle\" x=\"1151.5\" y=\"-134.3\" font-family=\"Helvetica,sans-Serif\" font-size=\"14.00\">value = [12, 28]</text>\n<text text-anchor=\"middle\" x=\"1151.5\" y=\"-119.3\" font-family=\"Helvetica,sans-Serif\" font-size=\"14.00\">class = 1</text>\n</g>\n<!-- 14&#45;&gt;20 -->\n<g id=\"edge27\" class=\"edge\">\n<title>14&#45;&gt;20</title>\n<path fill=\"none\" stroke=\"black\" d=\"M1080.32,-222.91C1091.11,-211.32 1102.87,-198.7 1113.67,-187.11\"/>\n<polygon fill=\"black\" stroke=\"black\" points=\"1116.35,-189.37 1120.6,-179.67 1111.22,-184.6 1116.35,-189.37\"/>\n</g>\n<!-- 27 -->\n<g id=\"node26\" class=\"node\">\n<title>27</title>\n<path fill=\"#ffffff\" stroke=\"black\" d=\"M989,-68C989,-68 910,-68 910,-68 904,-68 898,-62 898,-56 898,-56 898,-12 898,-12 898,-6 904,0 910,0 910,0 989,0 989,0 995,0 1001,-6 1001,-12 1001,-12 1001,-56 1001,-56 1001,-62 995,-68 989,-68\"/>\n<text text-anchor=\"middle\" x=\"949.5\" y=\"-52.8\" font-family=\"Helvetica,sans-Serif\" font-size=\"14.00\">entropy = 1.0</text>\n<text text-anchor=\"middle\" x=\"949.5\" y=\"-37.8\" font-family=\"Helvetica,sans-Serif\" font-size=\"14.00\">samples = 18</text>\n<text text-anchor=\"middle\" x=\"949.5\" y=\"-22.8\" font-family=\"Helvetica,sans-Serif\" font-size=\"14.00\">value = [9, 9]</text>\n<text text-anchor=\"middle\" x=\"949.5\" y=\"-7.8\" font-family=\"Helvetica,sans-Serif\" font-size=\"14.00\">class = 0</text>\n</g>\n<!-- 19&#45;&gt;27 -->\n<g id=\"edge25\" class=\"edge\">\n<title>19&#45;&gt;27</title>\n<path fill=\"none\" stroke=\"black\" d=\"M988.41,-103.73C983.51,-95.06 978.32,-85.9 973.38,-77.18\"/>\n<polygon fill=\"black\" stroke=\"black\" points=\"976.33,-75.28 968.35,-68.3 970.24,-78.73 976.33,-75.28\"/>\n</g>\n<!-- 28 -->\n<g id=\"node27\" class=\"node\">\n<title>28</title>\n<path fill=\"#e88e4d\" stroke=\"black\" d=\"M1115.5,-68C1115.5,-68 1031.5,-68 1031.5,-68 1025.5,-68 1019.5,-62 1019.5,-56 1019.5,-56 1019.5,-12 1019.5,-12 1019.5,-6 1025.5,0 1031.5,0 1031.5,0 1115.5,0 1115.5,0 1121.5,0 1127.5,-6 1127.5,-12 1127.5,-12 1127.5,-56 1127.5,-56 1127.5,-62 1121.5,-68 1115.5,-68\"/>\n<text text-anchor=\"middle\" x=\"1073.5\" y=\"-52.8\" font-family=\"Helvetica,sans-Serif\" font-size=\"14.00\">entropy = 0.44</text>\n<text text-anchor=\"middle\" x=\"1073.5\" y=\"-37.8\" font-family=\"Helvetica,sans-Serif\" font-size=\"14.00\">samples = 11</text>\n<text text-anchor=\"middle\" x=\"1073.5\" y=\"-22.8\" font-family=\"Helvetica,sans-Serif\" font-size=\"14.00\">value = [10, 1]</text>\n<text text-anchor=\"middle\" x=\"1073.5\" y=\"-7.8\" font-family=\"Helvetica,sans-Serif\" font-size=\"14.00\">class = 0</text>\n</g>\n<!-- 19&#45;&gt;28 -->\n<g id=\"edge26\" class=\"edge\">\n<title>19&#45;&gt;28</title>\n<path fill=\"none\" stroke=\"black\" d=\"M1034.59,-103.73C1039.49,-95.06 1044.68,-85.9 1049.62,-77.18\"/>\n<polygon fill=\"black\" stroke=\"black\" points=\"1052.76,-78.73 1054.65,-68.3 1046.67,-75.28 1052.76,-78.73\"/>\n</g>\n</g>\n</svg>\n",
      "text/plain": "<graphviz.sources.Source at 0x255e97cb790>"
     },
     "execution_count": 22,
     "metadata": {},
     "output_type": "execute_result"
    }
   ],
   "source": [
    "from sklearn.tree import export_graphviz\n",
    "import graphviz\n",
    "columns = list(x.columns)\n",
    "export_graphviz(clf, out_file='tree.dot', \n",
    "                feature_names=columns,\n",
    "                class_names=['0', '1'],\n",
    "                rounded = True, proportion = False, \n",
    "                precision = 2, filled = True, label='all')\n",
    "\n",
    "with open('tree.dot') as f:\n",
    "    dot_graph = f.read()\n",
    "\n",
    "graphviz.Source(dot_graph)"
   ]
  },
  {
   "cell_type": "markdown",
   "metadata": {
    "pycharm": {
     "name": "#%% md\n"
    }
   },
   "source": [
    "Выводим глубину дерева:"
   ]
  },
  {
   "cell_type": "code",
   "execution_count": 23,
   "metadata": {
    "pycharm": {
     "name": "#%%\n"
    }
   },
   "outputs": [
    {
     "data": {
      "text/plain": "6"
     },
     "execution_count": 23,
     "metadata": {},
     "output_type": "execute_result"
    }
   ],
   "source": [
    "clf.tree_.max_depth"
   ]
  },
  {
   "cell_type": "markdown",
   "metadata": {
    "pycharm": {
     "name": "#%% md\n"
    }
   },
   "source": [
    "Выполняем предсказание для объектов из тестовой выборки:"
   ]
  },
  {
   "cell_type": "code",
   "execution_count": 24,
   "metadata": {
    "pycharm": {
     "name": "#%%\n"
    }
   },
   "outputs": [],
   "source": [
    "features = list(test.columns[:8])\n",
    "x = test[features]\n",
    "y_true = test['Outcome']\n",
    "y_pred = clf.predict(x)"
   ]
  },
  {
   "cell_type": "markdown",
   "metadata": {
    "pycharm": {
     "name": "#%% md\n"
    }
   },
   "source": [
    "Доля правильных ответов классификатора:"
   ]
  },
  {
   "cell_type": "code",
   "execution_count": 25,
   "metadata": {
    "pycharm": {
     "name": "#%%\n"
    }
   },
   "outputs": [
    {
     "data": {
      "text/plain": "0.7941176470588235"
     },
     "execution_count": 25,
     "metadata": {},
     "output_type": "execute_result"
    }
   ],
   "source": [
    "from sklearn.metrics import accuracy_score\n",
    "accuracy_score(y_true, y_pred)"
   ]
  },
  {
   "cell_type": "markdown",
   "metadata": {
    "pycharm": {
     "name": "#%% md\n"
    }
   },
   "source": [
    "Среднее значение метрик $F_1$ (Macro-F1):"
   ]
  },
  {
   "cell_type": "code",
   "execution_count": 26,
   "metadata": {
    "pycharm": {
     "name": "#%%\n"
    }
   },
   "outputs": [
    {
     "data": {
      "text/plain": "0.7588652482269503"
     },
     "execution_count": 26,
     "metadata": {},
     "output_type": "execute_result"
    }
   ],
   "source": [
    "from sklearn.metrics import f1_score\n",
    "f1_score(y_true, y_pred, average='macro')"
   ]
  },
  {
   "cell_type": "markdown",
   "metadata": {
    "pycharm": {
     "name": "#%% md\n"
    }
   },
   "source": [
    "Выполним предсказание для конкретного объекта (с индексом 708) исходных данных:"
   ]
  },
  {
   "cell_type": "code",
   "execution_count": 29,
   "metadata": {
    "pycharm": {
     "name": "#%%\n"
    }
   },
   "outputs": [
    {
     "data": {
      "text/plain": "Pregnancies                  8.0\nGlucose                     65.0\nBloodPressure               72.0\nSkinThickness               23.0\nInsulin                      0.0\nBMI                         32.0\nDiabetesPedigreeFunction     0.6\nAge                         42.0\nName: 737, dtype: float64"
     },
     "execution_count": 29,
     "metadata": {},
     "output_type": "execute_result"
    }
   ],
   "source": [
    "df.loc[737, features]"
   ]
  },
  {
   "cell_type": "markdown",
   "metadata": {
    "pycharm": {
     "name": "#%% md\n"
    }
   },
   "source": [
    "Назначенный класс:"
   ]
  },
  {
   "cell_type": "code",
   "execution_count": 30,
   "outputs": [
    {
     "data": {
      "text/plain": "0"
     },
     "execution_count": 30,
     "metadata": {},
     "output_type": "execute_result"
    }
   ],
   "source": [
    "clf.predict([df.loc[737, features].tolist()])[0]"
   ],
   "metadata": {
    "collapsed": false,
    "pycharm": {
     "name": "#%%\n"
    }
   }
  },
  {
   "cell_type": "code",
   "execution_count": 31,
   "outputs": [
    {
     "data": {
      "text/plain": "1"
     },
     "execution_count": 31,
     "metadata": {},
     "output_type": "execute_result"
    }
   ],
   "source": [
    "clf.predict([df.loc[740, features].tolist()])[0]"
   ],
   "metadata": {
    "collapsed": false,
    "pycharm": {
     "name": "#%%\n"
    }
   }
  },
  {
   "cell_type": "code",
   "execution_count": 32,
   "outputs": [
    {
     "data": {
      "text/plain": "0"
     },
     "execution_count": 32,
     "metadata": {},
     "output_type": "execute_result"
    }
   ],
   "source": [
    "clf.predict([df.loc[763, features].tolist()])[0]"
   ],
   "metadata": {
    "collapsed": false,
    "pycharm": {
     "name": "#%%\n"
    }
   }
  },
  {
   "cell_type": "code",
   "execution_count": 33,
   "outputs": [
    {
     "data": {
      "text/plain": "1"
     },
     "execution_count": 33,
     "metadata": {},
     "output_type": "execute_result"
    }
   ],
   "source": [
    "clf.predict([df.loc[702, features].tolist()])[0]"
   ],
   "metadata": {
    "collapsed": false,
    "pycharm": {
     "name": "#%%\n"
    }
   }
  },
  {
   "cell_type": "code",
   "execution_count": null,
   "outputs": [],
   "source": [],
   "metadata": {
    "collapsed": false,
    "pycharm": {
     "name": "#%%\n"
    }
   }
  }
 ],
 "metadata": {
  "kernelspec": {
   "display_name": "Python 3",
   "language": "python",
   "name": "python3"
  },
  "language_info": {
   "codemirror_mode": {
    "name": "ipython",
    "version": 3
   },
   "file_extension": ".py",
   "mimetype": "text/x-python",
   "name": "python",
   "nbconvert_exporter": "python",
   "pygments_lexer": "ipython3",
   "version": "3.5.4"
  }
 },
 "nbformat": 4,
 "nbformat_minor": 4
}