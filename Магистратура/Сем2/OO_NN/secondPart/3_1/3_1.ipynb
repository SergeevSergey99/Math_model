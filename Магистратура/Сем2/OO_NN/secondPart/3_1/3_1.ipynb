{
 "cells": [
  {
   "cell_type": "code",
   "execution_count": 1,
   "metadata": {
    "collapsed": true,
    "pycharm": {
     "name": "#%%\n"
    }
   },
   "outputs": [],
   "source": [
    "import numpy as np\n",
    "import pandas as pd"
   ]
  },
  {
   "cell_type": "code",
   "execution_count": 16,
   "outputs": [],
   "source": [
    "data = pd.read_csv(\"data.csv\", delimiter=',')"
   ],
   "metadata": {
    "collapsed": false,
    "pycharm": {
     "name": "#%%\n"
    }
   }
  },
  {
   "cell_type": "code",
   "execution_count": 17,
   "outputs": [
    {
     "data": {
      "text/plain": "       Food  Price  Taste Demand\n0     Pizza      3      3    Yes\n1     Pizza      5      2     No\n2     Pizza      1      2    Yes\n3     Pizza      4      4     No\n4     Pizza      4      1     No\n5     Sushi      1      2    Yes\n6     Sushi      2      5     No\n7     Sushi      4      2    Yes\n8     Sushi      3      1     No\n9     Sushi      3      5     No\n10    Sushi      5      5     No\n11    Sushi      4      4     No\n12    Sushi      5      5    Yes\n13  Burgers      4      4    Yes\n14  Burgers      3      3    Yes\n15  Burgers      2      2    Yes\n16  Burgers      3      3     No\n17  Burgers      1      1    Yes\n18  Burgers      2      2     No\n19  Burgers      1      1     No",
      "text/html": "<div>\n<style scoped>\n    .dataframe tbody tr th:only-of-type {\n        vertical-align: middle;\n    }\n\n    .dataframe tbody tr th {\n        vertical-align: top;\n    }\n\n    .dataframe thead th {\n        text-align: right;\n    }\n</style>\n<table border=\"1\" class=\"dataframe\">\n  <thead>\n    <tr style=\"text-align: right;\">\n      <th></th>\n      <th>Food</th>\n      <th>Price</th>\n      <th>Taste</th>\n      <th>Demand</th>\n    </tr>\n  </thead>\n  <tbody>\n    <tr>\n      <th>0</th>\n      <td>Pizza</td>\n      <td>3</td>\n      <td>3</td>\n      <td>Yes</td>\n    </tr>\n    <tr>\n      <th>1</th>\n      <td>Pizza</td>\n      <td>5</td>\n      <td>2</td>\n      <td>No</td>\n    </tr>\n    <tr>\n      <th>2</th>\n      <td>Pizza</td>\n      <td>1</td>\n      <td>2</td>\n      <td>Yes</td>\n    </tr>\n    <tr>\n      <th>3</th>\n      <td>Pizza</td>\n      <td>4</td>\n      <td>4</td>\n      <td>No</td>\n    </tr>\n    <tr>\n      <th>4</th>\n      <td>Pizza</td>\n      <td>4</td>\n      <td>1</td>\n      <td>No</td>\n    </tr>\n    <tr>\n      <th>5</th>\n      <td>Sushi</td>\n      <td>1</td>\n      <td>2</td>\n      <td>Yes</td>\n    </tr>\n    <tr>\n      <th>6</th>\n      <td>Sushi</td>\n      <td>2</td>\n      <td>5</td>\n      <td>No</td>\n    </tr>\n    <tr>\n      <th>7</th>\n      <td>Sushi</td>\n      <td>4</td>\n      <td>2</td>\n      <td>Yes</td>\n    </tr>\n    <tr>\n      <th>8</th>\n      <td>Sushi</td>\n      <td>3</td>\n      <td>1</td>\n      <td>No</td>\n    </tr>\n    <tr>\n      <th>9</th>\n      <td>Sushi</td>\n      <td>3</td>\n      <td>5</td>\n      <td>No</td>\n    </tr>\n    <tr>\n      <th>10</th>\n      <td>Sushi</td>\n      <td>5</td>\n      <td>5</td>\n      <td>No</td>\n    </tr>\n    <tr>\n      <th>11</th>\n      <td>Sushi</td>\n      <td>4</td>\n      <td>4</td>\n      <td>No</td>\n    </tr>\n    <tr>\n      <th>12</th>\n      <td>Sushi</td>\n      <td>5</td>\n      <td>5</td>\n      <td>Yes</td>\n    </tr>\n    <tr>\n      <th>13</th>\n      <td>Burgers</td>\n      <td>4</td>\n      <td>4</td>\n      <td>Yes</td>\n    </tr>\n    <tr>\n      <th>14</th>\n      <td>Burgers</td>\n      <td>3</td>\n      <td>3</td>\n      <td>Yes</td>\n    </tr>\n    <tr>\n      <th>15</th>\n      <td>Burgers</td>\n      <td>2</td>\n      <td>2</td>\n      <td>Yes</td>\n    </tr>\n    <tr>\n      <th>16</th>\n      <td>Burgers</td>\n      <td>3</td>\n      <td>3</td>\n      <td>No</td>\n    </tr>\n    <tr>\n      <th>17</th>\n      <td>Burgers</td>\n      <td>1</td>\n      <td>1</td>\n      <td>Yes</td>\n    </tr>\n    <tr>\n      <th>18</th>\n      <td>Burgers</td>\n      <td>2</td>\n      <td>2</td>\n      <td>No</td>\n    </tr>\n    <tr>\n      <th>19</th>\n      <td>Burgers</td>\n      <td>1</td>\n      <td>1</td>\n      <td>No</td>\n    </tr>\n  </tbody>\n</table>\n</div>"
     },
     "execution_count": 17,
     "metadata": {},
     "output_type": "execute_result"
    }
   ],
   "source": [
    "data"
   ],
   "metadata": {
    "collapsed": false,
    "pycharm": {
     "name": "#%%\n"
    }
   }
  },
  {
   "cell_type": "code",
   "execution_count": 27,
   "outputs": [
    {
     "data": {
      "text/plain": "0.9927744539878083"
     },
     "execution_count": 27,
     "metadata": {},
     "output_type": "execute_result"
    }
   ],
   "source": [
    "-9/20 * np.log2(9/20) - 11/20 * np.log2(11/20)"
   ],
   "metadata": {
    "collapsed": false,
    "pycharm": {
     "name": "#%%\n"
    }
   }
  },
  {
   "cell_type": "code",
   "execution_count": 6,
   "outputs": [],
   "source": [
    "def H(a, b):\n",
    "    return -a * np.log2(a) - b * np.log2(b)"
   ],
   "metadata": {
    "collapsed": false,
    "pycharm": {
     "name": "#%%\n"
    }
   }
  },
  {
   "cell_type": "code",
   "execution_count": 39,
   "outputs": [
    {
     "data": {
      "text/plain": "8"
     },
     "execution_count": 39,
     "metadata": {},
     "output_type": "execute_result"
    }
   ],
   "source": [
    "len(data.loc[data['Food'] == 'Sushi'])"
   ],
   "metadata": {
    "collapsed": false,
    "pycharm": {
     "name": "#%%\n"
    }
   }
  },
  {
   "cell_type": "code",
   "execution_count": 40,
   "outputs": [
    {
     "name": "stdout",
     "output_type": "stream",
     "text": [
      "H(Demand|Pizza) =  0.9709505944546686\n",
      "H(Demand|Sushi) =  0.954434002924965\n",
      "H(Demand|Burgers) =  0.9852281360342515\n",
      "IG(Demand|Food) =  0.023433356592167165\n"
     ]
    }
   ],
   "source": [
    "pizza_YES, pizza_NO = 2/5, 3/5\n",
    "Demand_Pizza = H(pizza_YES, pizza_NO)\n",
    "print(\"H(Demand|Pizza) = \", Demand_Pizza)\n",
    "\n",
    "sushi_YES, sushi_NO = 3/8, 5/8\n",
    "Demand_Sushi = H(sushi_YES, sushi_NO)\n",
    "print(\"H(Demand|Sushi) = \", Demand_Sushi)\n",
    "\n",
    "\n",
    "burgers_YES, burgers_NO = 4/7,3/7\n",
    "Demand_Burgers = H(burgers_YES, burgers_NO)\n",
    "print(\"H(Demand|Burgers) = \", Demand_Burgers)\n",
    "\n",
    "Demand_Food = Demand_Pizza * len(data.loc[data['Food'] == 'Pizza'])/20 + Demand_Sushi * len(data.loc[data['Food'] == 'Sushi'])/20 + Demand_Burgers * len(data.loc[data['Food'] == 'Burgers'])/20\n",
    "\n",
    "print(\"IG(Demand|Food) = \", H(9/20,11/20) - Demand_Food)"
   ],
   "metadata": {
    "collapsed": false,
    "pycharm": {
     "name": "#%%\n"
    }
   }
  },
  {
   "cell_type": "code",
   "execution_count": 19,
   "outputs": [
    {
     "data": {
      "text/plain": "       Food  Price  Taste Demand\n2     Pizza      1      2    Yes\n5     Sushi      1      2    Yes\n17  Burgers      1      1    Yes\n19  Burgers      1      1     No",
      "text/html": "<div>\n<style scoped>\n    .dataframe tbody tr th:only-of-type {\n        vertical-align: middle;\n    }\n\n    .dataframe tbody tr th {\n        vertical-align: top;\n    }\n\n    .dataframe thead th {\n        text-align: right;\n    }\n</style>\n<table border=\"1\" class=\"dataframe\">\n  <thead>\n    <tr style=\"text-align: right;\">\n      <th></th>\n      <th>Food</th>\n      <th>Price</th>\n      <th>Taste</th>\n      <th>Demand</th>\n    </tr>\n  </thead>\n  <tbody>\n    <tr>\n      <th>2</th>\n      <td>Pizza</td>\n      <td>1</td>\n      <td>2</td>\n      <td>Yes</td>\n    </tr>\n    <tr>\n      <th>5</th>\n      <td>Sushi</td>\n      <td>1</td>\n      <td>2</td>\n      <td>Yes</td>\n    </tr>\n    <tr>\n      <th>17</th>\n      <td>Burgers</td>\n      <td>1</td>\n      <td>1</td>\n      <td>Yes</td>\n    </tr>\n    <tr>\n      <th>19</th>\n      <td>Burgers</td>\n      <td>1</td>\n      <td>1</td>\n      <td>No</td>\n    </tr>\n  </tbody>\n</table>\n</div>"
     },
     "execution_count": 19,
     "metadata": {},
     "output_type": "execute_result"
    }
   ],
   "source": [
    "data.loc[data['Price'] == 1]"
   ],
   "metadata": {
    "collapsed": false,
    "pycharm": {
     "name": "#%%\n"
    }
   }
  },
  {
   "cell_type": "code",
   "execution_count": 20,
   "outputs": [
    {
     "data": {
      "text/plain": "       Food  Price  Taste Demand\n6     Sushi      2      5     No\n15  Burgers      2      2    Yes\n18  Burgers      2      2     No",
      "text/html": "<div>\n<style scoped>\n    .dataframe tbody tr th:only-of-type {\n        vertical-align: middle;\n    }\n\n    .dataframe tbody tr th {\n        vertical-align: top;\n    }\n\n    .dataframe thead th {\n        text-align: right;\n    }\n</style>\n<table border=\"1\" class=\"dataframe\">\n  <thead>\n    <tr style=\"text-align: right;\">\n      <th></th>\n      <th>Food</th>\n      <th>Price</th>\n      <th>Taste</th>\n      <th>Demand</th>\n    </tr>\n  </thead>\n  <tbody>\n    <tr>\n      <th>6</th>\n      <td>Sushi</td>\n      <td>2</td>\n      <td>5</td>\n      <td>No</td>\n    </tr>\n    <tr>\n      <th>15</th>\n      <td>Burgers</td>\n      <td>2</td>\n      <td>2</td>\n      <td>Yes</td>\n    </tr>\n    <tr>\n      <th>18</th>\n      <td>Burgers</td>\n      <td>2</td>\n      <td>2</td>\n      <td>No</td>\n    </tr>\n  </tbody>\n</table>\n</div>"
     },
     "execution_count": 20,
     "metadata": {},
     "output_type": "execute_result"
    }
   ],
   "source": [
    "data.loc[data['Price'] == 2]"
   ],
   "metadata": {
    "collapsed": false,
    "pycharm": {
     "name": "#%%\n"
    }
   }
  },
  {
   "cell_type": "code",
   "execution_count": 21,
   "outputs": [
    {
     "data": {
      "text/plain": "       Food  Price  Taste Demand\n0     Pizza      3      3    Yes\n8     Sushi      3      1     No\n9     Sushi      3      5     No\n14  Burgers      3      3    Yes\n16  Burgers      3      3     No",
      "text/html": "<div>\n<style scoped>\n    .dataframe tbody tr th:only-of-type {\n        vertical-align: middle;\n    }\n\n    .dataframe tbody tr th {\n        vertical-align: top;\n    }\n\n    .dataframe thead th {\n        text-align: right;\n    }\n</style>\n<table border=\"1\" class=\"dataframe\">\n  <thead>\n    <tr style=\"text-align: right;\">\n      <th></th>\n      <th>Food</th>\n      <th>Price</th>\n      <th>Taste</th>\n      <th>Demand</th>\n    </tr>\n  </thead>\n  <tbody>\n    <tr>\n      <th>0</th>\n      <td>Pizza</td>\n      <td>3</td>\n      <td>3</td>\n      <td>Yes</td>\n    </tr>\n    <tr>\n      <th>8</th>\n      <td>Sushi</td>\n      <td>3</td>\n      <td>1</td>\n      <td>No</td>\n    </tr>\n    <tr>\n      <th>9</th>\n      <td>Sushi</td>\n      <td>3</td>\n      <td>5</td>\n      <td>No</td>\n    </tr>\n    <tr>\n      <th>14</th>\n      <td>Burgers</td>\n      <td>3</td>\n      <td>3</td>\n      <td>Yes</td>\n    </tr>\n    <tr>\n      <th>16</th>\n      <td>Burgers</td>\n      <td>3</td>\n      <td>3</td>\n      <td>No</td>\n    </tr>\n  </tbody>\n</table>\n</div>"
     },
     "execution_count": 21,
     "metadata": {},
     "output_type": "execute_result"
    }
   ],
   "source": [
    "data.loc[data['Price'] == 3]"
   ],
   "metadata": {
    "collapsed": false,
    "pycharm": {
     "name": "#%%\n"
    }
   }
  },
  {
   "cell_type": "code",
   "execution_count": 22,
   "outputs": [
    {
     "data": {
      "text/plain": "       Food  Price  Taste Demand\n3     Pizza      4      4     No\n4     Pizza      4      1     No\n7     Sushi      4      2    Yes\n11    Sushi      4      4     No\n13  Burgers      4      4    Yes",
      "text/html": "<div>\n<style scoped>\n    .dataframe tbody tr th:only-of-type {\n        vertical-align: middle;\n    }\n\n    .dataframe tbody tr th {\n        vertical-align: top;\n    }\n\n    .dataframe thead th {\n        text-align: right;\n    }\n</style>\n<table border=\"1\" class=\"dataframe\">\n  <thead>\n    <tr style=\"text-align: right;\">\n      <th></th>\n      <th>Food</th>\n      <th>Price</th>\n      <th>Taste</th>\n      <th>Demand</th>\n    </tr>\n  </thead>\n  <tbody>\n    <tr>\n      <th>3</th>\n      <td>Pizza</td>\n      <td>4</td>\n      <td>4</td>\n      <td>No</td>\n    </tr>\n    <tr>\n      <th>4</th>\n      <td>Pizza</td>\n      <td>4</td>\n      <td>1</td>\n      <td>No</td>\n    </tr>\n    <tr>\n      <th>7</th>\n      <td>Sushi</td>\n      <td>4</td>\n      <td>2</td>\n      <td>Yes</td>\n    </tr>\n    <tr>\n      <th>11</th>\n      <td>Sushi</td>\n      <td>4</td>\n      <td>4</td>\n      <td>No</td>\n    </tr>\n    <tr>\n      <th>13</th>\n      <td>Burgers</td>\n      <td>4</td>\n      <td>4</td>\n      <td>Yes</td>\n    </tr>\n  </tbody>\n</table>\n</div>"
     },
     "execution_count": 22,
     "metadata": {},
     "output_type": "execute_result"
    }
   ],
   "source": [
    "data.loc[data['Price'] == 4]"
   ],
   "metadata": {
    "collapsed": false,
    "pycharm": {
     "name": "#%%\n"
    }
   }
  },
  {
   "cell_type": "code",
   "execution_count": 23,
   "outputs": [
    {
     "data": {
      "text/plain": "     Food  Price  Taste Demand\n1   Pizza      5      2     No\n10  Sushi      5      5     No\n12  Sushi      5      5    Yes",
      "text/html": "<div>\n<style scoped>\n    .dataframe tbody tr th:only-of-type {\n        vertical-align: middle;\n    }\n\n    .dataframe tbody tr th {\n        vertical-align: top;\n    }\n\n    .dataframe thead th {\n        text-align: right;\n    }\n</style>\n<table border=\"1\" class=\"dataframe\">\n  <thead>\n    <tr style=\"text-align: right;\">\n      <th></th>\n      <th>Food</th>\n      <th>Price</th>\n      <th>Taste</th>\n      <th>Demand</th>\n    </tr>\n  </thead>\n  <tbody>\n    <tr>\n      <th>1</th>\n      <td>Pizza</td>\n      <td>5</td>\n      <td>2</td>\n      <td>No</td>\n    </tr>\n    <tr>\n      <th>10</th>\n      <td>Sushi</td>\n      <td>5</td>\n      <td>5</td>\n      <td>No</td>\n    </tr>\n    <tr>\n      <th>12</th>\n      <td>Sushi</td>\n      <td>5</td>\n      <td>5</td>\n      <td>Yes</td>\n    </tr>\n  </tbody>\n</table>\n</div>"
     },
     "execution_count": 23,
     "metadata": {},
     "output_type": "execute_result"
    }
   ],
   "source": [
    "data.loc[data['Price'] == 5]"
   ],
   "metadata": {
    "collapsed": false,
    "pycharm": {
     "name": "#%%\n"
    }
   }
  },
  {
   "cell_type": "code",
   "execution_count": 42,
   "outputs": [
    {
     "name": "stdout",
     "output_type": "stream",
     "text": [
      "H(Demand|price1) =  0.8112781244591328\n",
      "H(Demand|price2) =  0.9182958340544896\n",
      "H(Demand|price3) =  0.9709505944546686\n",
      "H(Demand|price4) =  0.9709505944546686\n",
      "H(Demand|price5) =  0.9182958340544896\n",
      "IG(Demand|Price) =  0.06955478165230033\n"
     ]
    }
   ],
   "source": [
    "price1_YES, price1_NO = 3/4, 1/4\n",
    "Demand_price1 = H(price1_YES, price1_NO)\n",
    "print(\"H(Demand|price1) = \", Demand_price1)\n",
    "\n",
    "price2_YES, price2_NO = 1/3, 2/3\n",
    "Demand_price2 = H(price2_YES, price2_NO)\n",
    "print(\"H(Demand|price2) = \", Demand_price2)\n",
    "\n",
    "price3_YES, price3_NO = 2/5,3/5\n",
    "Demand_price3 = H(price3_YES, price3_NO)\n",
    "print(\"H(Demand|price3) = \", Demand_price3)\n",
    "\n",
    "price4_YES, price4_NO = 2/5,3/5\n",
    "Demand_price4 = H(price4_YES, price4_NO)\n",
    "print(\"H(Demand|price4) = \", Demand_price4)\n",
    "\n",
    "price5_YES, price5_NO = 1/3,2/3\n",
    "Demand_price5 = H(price5_YES, price5_NO)\n",
    "print(\"H(Demand|price5) = \", Demand_price5)\n",
    "\n",
    "Demand_Price = Demand_price1 * len(data.loc[data['Price'] == 1])/20 + Demand_price2 * len(data.loc[data['Price'] == 2])/20 + Demand_price3 * len(data.loc[data['Price'] == 3])/20 + Demand_price4 * len(data.loc[data['Price'] == 4])/20 + Demand_price5 * len(data.loc[data['Price'] == 5])/20\n",
    "\n",
    "print(\"IG(Demand|Price) = \", H(9/20,11/20) - Demand_Price)"
   ],
   "metadata": {
    "collapsed": false,
    "pycharm": {
     "name": "#%%\n"
    }
   }
  },
  {
   "cell_type": "code",
   "execution_count": 25,
   "outputs": [
    {
     "data": {
      "text/plain": "       Food  Price  Taste Demand\n4     Pizza      4      1     No\n8     Sushi      3      1     No\n17  Burgers      1      1    Yes\n19  Burgers      1      1     No",
      "text/html": "<div>\n<style scoped>\n    .dataframe tbody tr th:only-of-type {\n        vertical-align: middle;\n    }\n\n    .dataframe tbody tr th {\n        vertical-align: top;\n    }\n\n    .dataframe thead th {\n        text-align: right;\n    }\n</style>\n<table border=\"1\" class=\"dataframe\">\n  <thead>\n    <tr style=\"text-align: right;\">\n      <th></th>\n      <th>Food</th>\n      <th>Price</th>\n      <th>Taste</th>\n      <th>Demand</th>\n    </tr>\n  </thead>\n  <tbody>\n    <tr>\n      <th>4</th>\n      <td>Pizza</td>\n      <td>4</td>\n      <td>1</td>\n      <td>No</td>\n    </tr>\n    <tr>\n      <th>8</th>\n      <td>Sushi</td>\n      <td>3</td>\n      <td>1</td>\n      <td>No</td>\n    </tr>\n    <tr>\n      <th>17</th>\n      <td>Burgers</td>\n      <td>1</td>\n      <td>1</td>\n      <td>Yes</td>\n    </tr>\n    <tr>\n      <th>19</th>\n      <td>Burgers</td>\n      <td>1</td>\n      <td>1</td>\n      <td>No</td>\n    </tr>\n  </tbody>\n</table>\n</div>"
     },
     "execution_count": 25,
     "metadata": {},
     "output_type": "execute_result"
    }
   ],
   "source": [
    "data.loc[data['Taste'] == 1]"
   ],
   "metadata": {
    "collapsed": false,
    "pycharm": {
     "name": "#%%\n"
    }
   }
  },
  {
   "cell_type": "code",
   "execution_count": 30,
   "outputs": [
    {
     "data": {
      "text/plain": "       Food  Price  Taste Demand\n1     Pizza      5      2     No\n2     Pizza      1      2    Yes\n5     Sushi      1      2    Yes\n7     Sushi      4      2    Yes\n15  Burgers      2      2    Yes\n18  Burgers      2      2     No",
      "text/html": "<div>\n<style scoped>\n    .dataframe tbody tr th:only-of-type {\n        vertical-align: middle;\n    }\n\n    .dataframe tbody tr th {\n        vertical-align: top;\n    }\n\n    .dataframe thead th {\n        text-align: right;\n    }\n</style>\n<table border=\"1\" class=\"dataframe\">\n  <thead>\n    <tr style=\"text-align: right;\">\n      <th></th>\n      <th>Food</th>\n      <th>Price</th>\n      <th>Taste</th>\n      <th>Demand</th>\n    </tr>\n  </thead>\n  <tbody>\n    <tr>\n      <th>1</th>\n      <td>Pizza</td>\n      <td>5</td>\n      <td>2</td>\n      <td>No</td>\n    </tr>\n    <tr>\n      <th>2</th>\n      <td>Pizza</td>\n      <td>1</td>\n      <td>2</td>\n      <td>Yes</td>\n    </tr>\n    <tr>\n      <th>5</th>\n      <td>Sushi</td>\n      <td>1</td>\n      <td>2</td>\n      <td>Yes</td>\n    </tr>\n    <tr>\n      <th>7</th>\n      <td>Sushi</td>\n      <td>4</td>\n      <td>2</td>\n      <td>Yes</td>\n    </tr>\n    <tr>\n      <th>15</th>\n      <td>Burgers</td>\n      <td>2</td>\n      <td>2</td>\n      <td>Yes</td>\n    </tr>\n    <tr>\n      <th>18</th>\n      <td>Burgers</td>\n      <td>2</td>\n      <td>2</td>\n      <td>No</td>\n    </tr>\n  </tbody>\n</table>\n</div>"
     },
     "execution_count": 30,
     "metadata": {},
     "output_type": "execute_result"
    }
   ],
   "source": [
    "data.loc[data['Taste'] == 2]"
   ],
   "metadata": {
    "collapsed": false,
    "pycharm": {
     "name": "#%%\n"
    }
   }
  },
  {
   "cell_type": "code",
   "execution_count": 31,
   "outputs": [
    {
     "data": {
      "text/plain": "       Food  Price  Taste Demand\n0     Pizza      3      3    Yes\n14  Burgers      3      3    Yes\n16  Burgers      3      3     No",
      "text/html": "<div>\n<style scoped>\n    .dataframe tbody tr th:only-of-type {\n        vertical-align: middle;\n    }\n\n    .dataframe tbody tr th {\n        vertical-align: top;\n    }\n\n    .dataframe thead th {\n        text-align: right;\n    }\n</style>\n<table border=\"1\" class=\"dataframe\">\n  <thead>\n    <tr style=\"text-align: right;\">\n      <th></th>\n      <th>Food</th>\n      <th>Price</th>\n      <th>Taste</th>\n      <th>Demand</th>\n    </tr>\n  </thead>\n  <tbody>\n    <tr>\n      <th>0</th>\n      <td>Pizza</td>\n      <td>3</td>\n      <td>3</td>\n      <td>Yes</td>\n    </tr>\n    <tr>\n      <th>14</th>\n      <td>Burgers</td>\n      <td>3</td>\n      <td>3</td>\n      <td>Yes</td>\n    </tr>\n    <tr>\n      <th>16</th>\n      <td>Burgers</td>\n      <td>3</td>\n      <td>3</td>\n      <td>No</td>\n    </tr>\n  </tbody>\n</table>\n</div>"
     },
     "execution_count": 31,
     "metadata": {},
     "output_type": "execute_result"
    }
   ],
   "source": [
    "data.loc[data['Taste'] == 3]"
   ],
   "metadata": {
    "collapsed": false,
    "pycharm": {
     "name": "#%%\n"
    }
   }
  },
  {
   "cell_type": "code",
   "execution_count": 32,
   "outputs": [
    {
     "data": {
      "text/plain": "       Food  Price  Taste Demand\n3     Pizza      4      4     No\n11    Sushi      4      4     No\n13  Burgers      4      4    Yes",
      "text/html": "<div>\n<style scoped>\n    .dataframe tbody tr th:only-of-type {\n        vertical-align: middle;\n    }\n\n    .dataframe tbody tr th {\n        vertical-align: top;\n    }\n\n    .dataframe thead th {\n        text-align: right;\n    }\n</style>\n<table border=\"1\" class=\"dataframe\">\n  <thead>\n    <tr style=\"text-align: right;\">\n      <th></th>\n      <th>Food</th>\n      <th>Price</th>\n      <th>Taste</th>\n      <th>Demand</th>\n    </tr>\n  </thead>\n  <tbody>\n    <tr>\n      <th>3</th>\n      <td>Pizza</td>\n      <td>4</td>\n      <td>4</td>\n      <td>No</td>\n    </tr>\n    <tr>\n      <th>11</th>\n      <td>Sushi</td>\n      <td>4</td>\n      <td>4</td>\n      <td>No</td>\n    </tr>\n    <tr>\n      <th>13</th>\n      <td>Burgers</td>\n      <td>4</td>\n      <td>4</td>\n      <td>Yes</td>\n    </tr>\n  </tbody>\n</table>\n</div>"
     },
     "execution_count": 32,
     "metadata": {},
     "output_type": "execute_result"
    }
   ],
   "source": [
    "data.loc[data['Taste'] == 4]"
   ],
   "metadata": {
    "collapsed": false,
    "pycharm": {
     "name": "#%%\n"
    }
   }
  },
  {
   "cell_type": "code",
   "execution_count": 33,
   "outputs": [
    {
     "data": {
      "text/plain": "     Food  Price  Taste Demand\n6   Sushi      2      5     No\n9   Sushi      3      5     No\n10  Sushi      5      5     No\n12  Sushi      5      5    Yes",
      "text/html": "<div>\n<style scoped>\n    .dataframe tbody tr th:only-of-type {\n        vertical-align: middle;\n    }\n\n    .dataframe tbody tr th {\n        vertical-align: top;\n    }\n\n    .dataframe thead th {\n        text-align: right;\n    }\n</style>\n<table border=\"1\" class=\"dataframe\">\n  <thead>\n    <tr style=\"text-align: right;\">\n      <th></th>\n      <th>Food</th>\n      <th>Price</th>\n      <th>Taste</th>\n      <th>Demand</th>\n    </tr>\n  </thead>\n  <tbody>\n    <tr>\n      <th>6</th>\n      <td>Sushi</td>\n      <td>2</td>\n      <td>5</td>\n      <td>No</td>\n    </tr>\n    <tr>\n      <th>9</th>\n      <td>Sushi</td>\n      <td>3</td>\n      <td>5</td>\n      <td>No</td>\n    </tr>\n    <tr>\n      <th>10</th>\n      <td>Sushi</td>\n      <td>5</td>\n      <td>5</td>\n      <td>No</td>\n    </tr>\n    <tr>\n      <th>12</th>\n      <td>Sushi</td>\n      <td>5</td>\n      <td>5</td>\n      <td>Yes</td>\n    </tr>\n  </tbody>\n</table>\n</div>"
     },
     "execution_count": 33,
     "metadata": {},
     "output_type": "execute_result"
    }
   ],
   "source": [
    "data.loc[data['Taste'] == 5]"
   ],
   "metadata": {
    "collapsed": false,
    "pycharm": {
     "name": "#%%\n"
    }
   }
  },
  {
   "cell_type": "code",
   "execution_count": 43,
   "outputs": [
    {
     "data": {
      "text/plain": "3"
     },
     "execution_count": 43,
     "metadata": {},
     "output_type": "execute_result"
    }
   ],
   "source": [],
   "metadata": {
    "collapsed": false,
    "pycharm": {
     "name": "#%%\n"
    }
   }
  },
  {
   "cell_type": "code",
   "execution_count": 44,
   "outputs": [
    {
     "name": "stdout",
     "output_type": "stream",
     "text": [
      "H(Demand|taste1) =  0.8112781244591328\n",
      "H(Demand|taste2) =  0.9182958340544896\n",
      "H(Demand|taste3) =  0.9182958340544896\n",
      "H(Demand|taste4) =  0.9182958340544896\n",
      "H(Demand|taste5) =  0.8112781244591328\n",
      "IG(Demand|Price) =  0.11728570377146141\n"
     ]
    }
   ],
   "source": [
    "taste1_YES, taste1_NO = 1/4, 3/4\n",
    "Demand_taste1 = H(taste1_YES, taste1_NO)\n",
    "print(\"H(Demand|taste1) = \", Demand_taste1)\n",
    "\n",
    "taste2_YES, taste2_NO = 4/6, 2/6\n",
    "Demand_taste2 = H(taste2_YES, taste2_NO)\n",
    "print(\"H(Demand|taste2) = \", Demand_taste2)\n",
    "\n",
    "taste3_YES, taste3_NO = 2/3,1/3\n",
    "Demand_taste3 = H(taste3_YES, taste3_NO)\n",
    "print(\"H(Demand|taste3) = \", Demand_taste3)\n",
    "\n",
    "taste4_YES, taste4_NO = 1/3,2/3\n",
    "Demand_taste4 = H(taste4_YES, taste4_NO)\n",
    "print(\"H(Demand|taste4) = \", Demand_taste4)\n",
    "\n",
    "taste5_YES, taste5_NO = 1/4,3/4\n",
    "Demand_taste5 = H(taste5_YES, taste5_NO)\n",
    "print(\"H(Demand|taste5) = \", Demand_taste5)\n",
    "\n",
    "Demand_taste = Demand_taste1 * len(data.loc[data['Taste'] == 1])/20 + Demand_taste2 * len(data.loc[data['Taste'] == 2])/20 + Demand_taste3 * len(data.loc[data['Taste'] == 3])/20 + Demand_taste4 * len(data.loc[data['Taste'] == 4])/20 + Demand_taste5 * len(data.loc[data['Taste'] == 5])/20\n",
    "\n",
    "print(\"IG(Demand|Price) = \", H(9/20,11/20) - Demand_taste)"
   ],
   "metadata": {
    "collapsed": false,
    "pycharm": {
     "name": "#%%\n"
    }
   }
  },
  {
   "cell_type": "code",
   "execution_count": null,
   "outputs": [],
   "source": [],
   "metadata": {
    "collapsed": false,
    "pycharm": {
     "name": "#%%\n"
    }
   }
  }
 ],
 "metadata": {
  "kernelspec": {
   "display_name": "Python 3",
   "language": "python",
   "name": "python3"
  },
  "language_info": {
   "codemirror_mode": {
    "name": "ipython",
    "version": 2
   },
   "file_extension": ".py",
   "mimetype": "text/x-python",
   "name": "python",
   "nbconvert_exporter": "python",
   "pygments_lexer": "ipython2",
   "version": "2.7.6"
  }
 },
 "nbformat": 4,
 "nbformat_minor": 0
}