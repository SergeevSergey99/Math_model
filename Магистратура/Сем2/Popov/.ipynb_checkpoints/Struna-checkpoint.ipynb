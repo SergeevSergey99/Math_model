{
 "cells": [
  {
   "cell_type": "code",
   "execution_count": 1,
   "metadata": {
    "id": "ZbmcIYkwZeGW",
    "pycharm": {
     "name": "#%%\n"
    }
   },
   "outputs": [],
   "source": [
    "import numpy as np\n",
    "import random\n",
    "import math\n",
    "\n",
    "from mpl_toolkits.mplot3d import Axes3D\n",
    "import matplotlib.pyplot as plt\n",
    "import plotly.graph_objects as go"
   ]
  },
  {
   "cell_type": "code",
   "execution_count": 2,
   "metadata": {
    "pycharm": {
     "name": "#%%\n"
    }
   },
   "outputs": [],
   "source": [
    "def fill(type):\n",
    "    z = np.zeros(shape=(TN, Nx))\n",
    "\n",
    "    if type == 1:\n",
    "        for i in range(Nx):\n",
    "            if i < int(Nx / 2):\n",
    "                z[0][i] = i * dx * umax / (Lengt/2)\n",
    "            elif i >= int(Nx / 2):\n",
    "                z[0][i] = (Nx - i) * dx * umax / (Lengt/2)\n",
    "    elif type == 2:\n",
    "        for i in range(Nx):\n",
    "            if i > int(Nx / 4) and i < int(Nx / 2):\n",
    "                z[0][i] = (i - int(Nx / 4)) * dx * umax / (Lengt/2)\n",
    "            elif i >= int(Nx / 2) and i < int(Nx / 4 * 3):\n",
    "                z[0][i] = (Nx - i - int(Nx / 4)) * dx * umax / (Lengt/2)\n",
    "    elif type == 3:\n",
    "        for i in range(Nx):\n",
    "            if i > int(Nx / 4) - int(Nx/5) and i < int(Nx / 2) - int(Nx/5):\n",
    "                z[0][i] = (i - int(Nx / 4) + int(Nx/5)) * dx * umax / (Lengt/2)\n",
    "            elif i >= int(Nx / 2) - int(Nx/5) and i < int(Nx / 4 * 3) - int(Nx/5):\n",
    "                z[0][i] = (Nx - i - int(Nx / 4) - int(Nx/5)) * dx * umax / (Lengt/2)\n",
    "    elif type == 4:\n",
    "        for i in range(Nx):\n",
    "            if i >= int(Nx / 10 * 2) and i < int(Nx / 10 * 3):\n",
    "                z[0][i] = umax / 5\n",
    "            elif i >= int(Nx / 10 * 3) and i < int(Nx / 10 * 4):\n",
    "                z[0][i] = umax / 5 * 2\n",
    "            elif i >= int(Nx / 10 * 4) and i < int(Nx / 10 * 5):\n",
    "                z[0][i] = umax / 5\n",
    "            else:\n",
    "                z[0][i] = 0\n",
    "\n",
    "    return z"
   ]
  },
  {
   "cell_type": "code",
   "execution_count": 3,
   "metadata": {
    "pycharm": {
     "name": "#%%\n"
    }
   },
   "outputs": [],
   "source": [
    "Lengt = 1\n",
    "dx = 0.01\n",
    "Time = 20\n",
    "dt = 0.01\n",
    "\n",
    "umax = 0.005\n",
    "\n",
    "TN = (int)(Time/dt)\n",
    "Nx = (int)(Lengt/dx)\n",
    "type = 4\n",
    "z = fill(type)\n",
    "\n",
    "zatuhanie = True\n",
    "dopname = \"\"\n",
    "if zatuhanie:\n",
    "    dopname = \"zatuhanie_\"\n",
    "γ = 0.00002"
   ]
  },
  {
   "cell_type": "code",
   "execution_count": 4,
   "metadata": {
    "pycharm": {
     "name": "#%%\n"
    }
   },
   "outputs": [
    {
     "data": {
      "image/png": "[encoded data removed]",
      "text/plain": [
       "<Figure size 1080x432 with 1 Axes>"
      ]
     },
     "metadata": {
      "needs_background": "light"
     },
     "output_type": "display_data"
    }
   ],
   "source": [
    "x = np.linspace(0, Lengt, Nx)\n",
    "\n",
    "plt.figure(figsize=(15, 6))\n",
    "plt.plot(x, z[0])\n",
    "plt.savefig(dopname+\"startState\" + str(type) + \".png\")"
   ]
  },
  {
   "cell_type": "markdown",
   "metadata": {
    "pycharm": {
     "name": "#%% md\n"
    }
   },
   "source": [
    "## Изначальная формула\n",
    "![title](Formula.png)\n",
    "## Формула для нахождения U(i+1,j)\n",
    "![title](Formula2.png)"
   ]
  },
  {
   "cell_type": "code",
   "execution_count": 5,
   "metadata": {
    "pycharm": {
     "name": "#%%\n"
    }
   },
   "outputs": [
    {
     "name": "stdout",
     "output_type": "stream",
     "text": [
      "0.5\n"
     ]
    }
   ],
   "source": [
    "O = 2\n",
    "\n",
    "a = dt / dx / O\n",
    "\n",
    "print(a)\n",
    "a = a**2\n",
    "\n",
    "for t in range(1, TN):\n",
    "    for i in range(1, Nx-1):\n",
    "        if t > 1:\n",
    "            z[t][i] = a * (z[t - 1][i + 1] - 2*z[t - 1][i] + z[t - 1][i - 1]) + 2*z[t-1][i] - z[t - 2][i]\n",
    "            if zatuhanie:\n",
    "                z[t][i] -= γ * (z[t-1][i] - z[t-2][i]) / dt\n",
    "        else:\n",
    "            z[t][i] = z[0][i]\n"
   ]
  },
  {
   "cell_type": "code",
   "execution_count": null,
   "metadata": {
    "pycharm": {
     "name": "#%%\n"
    }
   },
   "outputs": [],
   "source": [
    "fig = go.Figure(data=[go.Surface(z=z, x=x, y=np.linspace(0, Time, TN), colorscale = 'Rainbow')])\n",
    "\n",
    "fig.update_layout(title='Struna',\n",
    "                  autosize=False,\n",
    "                  width=1000, height=1000)\n",
    "\n",
    "fig.update_layout(scene = dict(zaxis = dict(range=[-0.02,0.02],),))\n",
    "\n",
    "\n",
    "fig.update_layout(width=800, height=800)\n",
    "fig.write_image(dopname+\"3dplot\" + str(type) + \".png\")\n",
    "fig.show()"
   ]
  },
  {
   "cell_type": "markdown",
   "metadata": {
    "pycharm": {
     "name": "#%% md\n"
    }
   },
   "source": [
    "#Результат\n",
    "![](Plot1.png)"
   ]
  },
  {
   "cell_type": "code",
   "execution_count": 7,
   "metadata": {
    "pycharm": {
     "name": "#%%\n"
    }
   },
   "outputs": [],
   "source": [
    "frames = []\n",
    "for i in range(TN):\n",
    "  frames.append(go.Frame(data=[go.Scatter(x=x, y=z[i])]))"
   ]
  },
  {
   "cell_type": "code",
   "execution_count": null,
   "metadata": {
    "pycharm": {
     "name": "#%%\n"
    }
   },
   "outputs": [],
   "source": [
    "fig = go.Figure(data=[go.Scatter(x=np.linspace(0, Lengt, (int)(Lengt/dx)), y=z[0])],\n",
    "                layout=go.Layout(\n",
    "                    xaxis=dict(range=[0, Lengt], autorange=False),\n",
    "                    yaxis=dict(range=[-0.01, 0.013], autorange=False),\n",
    "                    title=\"Start Title\",\n",
    "                    updatemenus=[dict(\n",
    "                        type=\"buttons\",\n",
    "                        buttons=[dict(label=\"Play\",\n",
    "                                      method=\"animate\",\n",
    "                                      args=[None, {\"frame\": {\"duration\": 10, \"redraw\": False},\n",
    "                                                   \"fromcurrent\": True, \"transition\": {\"duration\": 0,\n",
    "                                                                                       \"easing\": \"quadratic-in-out\"}}]),\n",
    "                                 dict(label=\"Pause\",\n",
    "                                      method=\"animate\",\n",
    "                                      args=[[None], {\"frame\": {\"duration\": 0, \"redraw\": False},\n",
    "                                                     \"mode\": \"immediate\",\n",
    "                                                     \"transition\": {\"duration\": 0}}]\n",
    "\n",
    "                                      )])]\n",
    "                ),\n",
    "                frames=frames\n",
    "                )\n",
    "\n",
    "fig.update_layout(title='Struna', autosize=False,\n",
    "                  width=1000, height=500)\n",
    "fig.show()"
   ]
  },
  {
   "cell_type": "markdown",
   "metadata": {
    "pycharm": {
     "name": "#%% md\n"
    }
   },
   "source": [
    "## Тут будет выведена анимация\n",
    "## Ниже сохранение этой анимации в график"
   ]
  },
  {
   "cell_type": "code",
   "execution_count": 9,
   "metadata": {
    "pycharm": {
     "name": "#%%\n"
    }
   },
   "outputs": [],
   "source": [
    "import gif\n",
    "\n",
    "@gif.frame\n",
    "def plot(i):\n",
    "    f = go.Figure(data=[go.Scatter(x=x, y=z[i])],\n",
    "                  layout=go.Layout(\n",
    "                      xaxis=dict(range=[0, Lengt], autorange=False),\n",
    "                      yaxis=dict(range=[-0.01, 0.01], autorange=False)))\n",
    "    return f\n",
    "\n",
    "# Construct list of frames\n",
    "frames = []\n",
    "for i in range(TN):\n",
    "    frame = plot(i)\n",
    "    frames.append(frame)\n"
   ]
  },
  {
   "cell_type": "code",
   "execution_count": 10,
   "metadata": {},
   "outputs": [],
   "source": [
    "\n",
    "gif.save(frames, dopname+'_Gif' + str(type) + '.gif', duration=1)\n",
    "\n",
    "#import imageio\n",
    "\n",
    "#gif_original = '_Gif' + str(type) + '.gif'\n",
    "#gif_speed_up = 'Gif' + str(type) + '.gif'\n",
    "\n",
    "#gifs = imageio.mimread(gif_original, memtest = False)\n"
   ]
  },
  {
   "cell_type": "code",
   "execution_count": 11,
   "metadata": {},
   "outputs": [],
   "source": [
    "\n",
    "#imageio.mimsave(gif_speed_up, gifs, duration=0.02)"
   ]
  },
  {
   "cell_type": "markdown",
   "metadata": {
    "pycharm": {
     "name": "#%% md\n"
    }
   },
   "source": [
    "## Процесс колебания\n",
    "![](ezgif.com-gif-maker.gif)"
   ]
  },
  {
   "cell_type": "code",
   "execution_count": 12,
   "metadata": {
    "pycharm": {
     "name": "#%%\n"
    }
   },
   "outputs": [
    {
     "data": {
      "image/png": "[encoded data removed]",
      "text/plain": [
       "<Figure size 1080x720 with 1 Axes>"
      ]
     },
     "metadata": {
      "needs_background": "light"
     },
     "output_type": "display_data"
    }
   ],
   "source": [
    "sound = np.zeros(TN)\n",
    "for i in range(1, TN):\n",
    "    for j in range(Nx):\n",
    "        sound[i] += ((z[i][j] - z[i - 1][j]) / dt)**2\n",
    "        \n",
    "plt.figure(figsize=(15, 10)) \n",
    "plt.plot(np.linspace(0, Time, TN), sound)\n",
    "plt.savefig(dopname+\"sound\" + str(type) + \".png\")"
   ]
  },
  {
   "cell_type": "code",
   "execution_count": 13,
   "metadata": {
    "pycharm": {
     "name": "#%%\n"
    }
   },
   "outputs": [],
   "source": [
    "from scipy.fft import fft, fftfreq\n",
    "if zatuhanie == False:\n",
    "    F_result = fft(sound)\n",
    "    xf = fftfreq(TN, dt)[:TN//2]\n",
    "    plt.figure(figsize=(15, 10)) \n",
    "    #plt.xlim(0,35)\n",
    "    plt.ylim(0,0.0005)\n",
    "    plt.plot(xf, 2.0/TN * np.abs(F_result[0:TN//2]))\n",
    "    plt.grid()\n",
    "    plt.savefig(dopname+\"spectr\" + str(type) + \".png\")\n",
    "    plt.show()\n",
    "else:\n",
    "    yfft = []\n",
    "    step = 10\n",
    "    fftsize = 200\n",
    "    xfft = fftfreq(fftsize, dt)[:fftsize//2]\n",
    "    \n",
    "    for i in range(int(TN / step - fftsize / step)):\n",
    "        F_result = fft(sound[i * step : i * step + fftsize])\n",
    "        yfft.append(2.0/fftsize * np.abs(F_result[0:fftsize//2]))\n",
    "\n",
    "        #plt.plot(xfft,yfft[i])\n",
    "        #plt.show()\n",
    "        \n",
    "    @gif.frame\n",
    "    def fftplot(i):\n",
    "        f = go.Figure(data=[go.Scatter(x=xfft, y=yfft[i])],\n",
    "                      layout=go.Layout(\n",
    "                          xaxis=dict(range=[0, 50], autorange=False),\n",
    "                          yaxis=dict(range=[0, 0.001], autorange=False)))\n",
    "        return f\n",
    "\n",
    "    # Construct list of frames\n",
    "    frames = []\n",
    "    for i in range(len(yfft)):\n",
    "        frame = fftplot(i)\n",
    "        frames.append(frame)\n",
    "\n",
    "    gif.save(frames, dopname+'_spectr_Gif' + str(type) + '.gif', duration=100)"
   ]
  },
  {
   "cell_type": "code",
   "execution_count": 14,
   "metadata": {
    "pycharm": {
     "name": "#%%\n"
    }
   },
   "outputs": [
    {
     "data": {
      "text/plain": [
       "'frames = []\\nfor i in range(TN):\\n  frames.append(go.Frame(data=[go.Scatter(x=x, y=z[i],\\n    marker = dict(size = sound[i]))]))'"
      ]
     },
     "execution_count": 14,
     "metadata": {},
     "output_type": "execute_result"
    }
   ],
   "source": [
    "\"\"\"frames = []\n",
    "for i in range(TN):\n",
    "  frames.append(go.Frame(data=[go.Scatter(x=x, y=z[i],\n",
    "    marker = dict(size = sound[i]))]))\"\"\""
   ]
  },
  {
   "cell_type": "code",
   "execution_count": null,
   "metadata": {
    "pycharm": {
     "name": "#%%\n"
    }
   },
   "outputs": [],
   "source": []
  },
  {
   "cell_type": "code",
   "execution_count": null,
   "metadata": {
    "pycharm": {
     "name": "#%%\n"
    }
   },
   "outputs": [],
   "source": []
  },
  {
   "cell_type": "code",
   "execution_count": null,
   "metadata": {
    "pycharm": {
     "name": "#%%\n"
    }
   },
   "outputs": [],
   "source": []
  }
 ],
 "metadata": {
  "colab": {
   "collapsed_sections": [],
   "name": "Struna.ipynb",
   "provenance": []
  },
  "kernelspec": {
   "display_name": "Python 3 (ipykernel)",
   "language": "python",
   "name": "python3"
  },
  "language_info": {
   "codemirror_mode": {
    "name": "ipython",
    "version": 3
   },
   "file_extension": ".py",
   "mimetype": "text/x-python",
   "name": "python",
   "nbconvert_exporter": "python",
   "pygments_lexer": "ipython3",
   "version": "3.9.7"
  }
 },
 "nbformat": 4,
 "nbformat_minor": 1
}
