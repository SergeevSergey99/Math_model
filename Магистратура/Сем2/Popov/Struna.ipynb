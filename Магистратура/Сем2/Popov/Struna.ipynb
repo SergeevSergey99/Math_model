{
 "cells": [
  {
   "cell_type": "code",
   "execution_count": 5,
   "metadata": {
    "id": "ZbmcIYkwZeGW",
    "pycharm": {
     "name": "#%%\n"
    }
   },
   "outputs": [],
   "source": [
    "import numpy as np\n",
    "import random\n",
    "import math\n",
    "\n",
    "from mpl_toolkits.mplot3d import Axes3D\n",
    "import matplotlib.pyplot as plt\n",
    "import plotly.graph_objects as go"
   ]
  },
  {
   "cell_type": "code",
   "execution_count": 6,
   "metadata": {
    "id": "0RNaNVXeaLm2",
    "pycharm": {
     "name": "#%%\n"
    }
   },
   "outputs": [],
   "source": [
    "Lengt = 1\n",
    "dx = 0.01\n",
    "Time = 20\n",
    "dt = 0.01\n",
    "\n",
    "umax = 0.005\n",
    "\n",
    "TN = (int)(Time/dt)\n",
    "Nx = (int)(Lengt/dx)\n",
    "\n",
    "z = np.zeros(shape=(TN, Nx))\n",
    "for i in range(Nx):\n",
    "  if i < int(Nx / 2):\n",
    "    z[0][i] = i * dx * umax / (Lengt/2) \n",
    "  elif i > int(Nx / 2):\n",
    "    z[0][i] = (Nx - i) * dx * umax / (Lengt/2) \n",
    "  elif i == int(Nx / 2):\n",
    "    z[0][i] = umax "
   ]
  },
  {
   "cell_type": "code",
   "execution_count": 7,
   "metadata": {
    "colab": {
     "base_uri": "https://localhost:8080/",
     "height": 282
    },
    "id": "gczmFvtY-PvF",
    "outputId": "32daa4a8-e3eb-4ab7-fe5d-f0f2c26e38b3",
    "pycharm": {
     "name": "#%%\n"
    }
   },
   "outputs": [
    {
     "data": {
      "text/plain": [
       "[<matplotlib.lines.Line2D at 0x1f1fed54490>]"
      ]
     },
     "execution_count": 7,
     "metadata": {},
     "output_type": "execute_result"
    },
    {
     "data": {
      "image/png": "[encoded data removed]",
      "text/plain": [
       "<Figure size 432x288 with 1 Axes>"
      ]
     },
     "metadata": {
      "needs_background": "light"
     },
     "output_type": "display_data"
    }
   ],
   "source": [
    "x = np.linspace(0, Lengt, Nx)\n",
    "\n",
    "plt.plot(x, z[0])"
   ]
  },
  {
   "cell_type": "markdown",
   "metadata": {
    "pycharm": {
     "name": "#%% md\n"
    }
   },
   "source": [
    "## Изначальная формула\n",
    "![title](Formula.png)\n",
    "## Формула для нахождения U(i+1,j)\n",
    "![title](Formula2.png)"
   ]
  },
  {
   "cell_type": "code",
   "execution_count": 8,
   "metadata": {
    "colab": {
     "base_uri": "https://localhost:8080/"
    },
    "id": "aGjBAxhRSNWR",
    "outputId": "cad1d30e-e023-4054-9e61-cb70977f4f36",
    "pycharm": {
     "name": "#%%\n"
    }
   },
   "outputs": [
    {
     "name": "stdout",
     "output_type": "stream",
     "text": [
      "0.5\n"
     ]
    }
   ],
   "source": [
    "O = 2\n",
    "\n",
    "a = dt / dx / O\n",
    "\n",
    "print(a)\n",
    "a = a**2\n",
    "\n",
    "for t in range(1, TN):\n",
    "    for i in range(1, Nx-1):\n",
    "        if t > 1:\n",
    "            z[t][i] = a * (z[t - 1][i + 1] - 2*z[t - 1][i] + z[t - 1][i - 1]) + 2*z[t-1][i] - z[t - 2][i]\n",
    "        else:\n",
    "            z[t][i] = z[0][i]\n"
   ]
  },
  {
   "cell_type": "code",
   "execution_count": null,
   "metadata": {
    "colab": {
     "base_uri": "https://localhost:8080/",
     "height": 817
    },
    "id": "xRj5xCn2aLhR",
    "outputId": "a0f843c2-4075-4899-d2b3-5e19256a7154",
    "pycharm": {
     "name": "#%%\n"
    }
   },
   "outputs": [],
   "source": [
    "fig = go.Figure(data=[go.Surface(z=z, x=x, y=np.linspace(0, Time, TN), colorscale = 'Rainbow')])\n",
    "\n",
    "fig.update_layout(title='Struna',\n",
    "                  autosize=False,\n",
    "                  width=1000, height=1000)\n",
    "\n",
    "fig.update_layout(scene = dict(zaxis = dict(range=[-0.02,0.02],),))\n",
    "\n",
    "\n",
    "fig.update_layout(width=800, height=800)\n",
    "fig.show()"
   ]
  },
  {
   "cell_type": "markdown",
   "metadata": {
    "pycharm": {
     "name": "#%% md\n"
    }
   },
   "source": [
    "#Результат\n",
    "![](Plot1.png)"
   ]
  },
  {
   "cell_type": "code",
   "execution_count": 11,
   "metadata": {
    "id": "44wSqnPYEtSI",
    "pycharm": {
     "name": "#%%\n"
    }
   },
   "outputs": [],
   "source": [
    "frames = []\n",
    "for i in range(TN):\n",
    "  frames.append(go.Frame(data=[go.Scatter(x=x, y=z[i])]))"
   ]
  },
  {
   "cell_type": "code",
   "execution_count": 10,
   "metadata": {
    "pycharm": {
     "name": "#%%\n"
    }
   },
   "outputs": [
    {
     "name": "stdout",
     "output_type": "stream",
     "text": [
      "Collecting plotly-gif\n",
      "  Using cached plotly_gif-0.0.3-py3-none-any.whl (7.7 kB)\n",
      "Requirement already satisfied: kaleido>=0.2.1 in c:\\programdata\\anaconda3\\lib\\site-packages (from plotly-gif) (0.2.1)\n",
      "Collecting Pillow>=9.0.0\n",
      "  Using cached Pillow-9.1.0-cp39-cp39-win_amd64.whl (3.3 MB)\n",
      "Requirement already satisfied: plotly>=5.5.0 in c:\\programdata\\anaconda3\\lib\\site-packages (from plotly-gif) (5.7.0)\n",
      "Requirement already satisfied: tenacity>=6.2.0 in c:\\programdata\\anaconda3\\lib\\site-packages (from plotly>=5.5.0->plotly-gif) (8.0.1)\n",
      "Requirement already satisfied: six in c:\\programdata\\anaconda3\\lib\\site-packages (from plotly>=5.5.0->plotly-gif) (1.16.0)\n",
      "Installing collected packages: Pillow, plotly-gif\n",
      "Successfully installed Pillow-9.1.0 plotly-gif-0.0.3\n"
     ]
    }
   ],
   "source": [
    "!pip install plotly-gif --user"
   ]
  },
  {
   "cell_type": "code",
   "execution_count": 35,
   "metadata": {
    "colab": {
     "base_uri": "https://localhost:8080/",
     "height": 517
    },
    "id": "HOzkLl-jiz9D",
    "outputId": "76294d87-d68c-4c8e-eeee-c9f9ac3856b4",
    "pycharm": {
     "name": "#%%\n"
    }
   },
   "outputs": [],
   "source": [
    "fig = go.Figure(data=[go.Scatter(x=np.linspace(0, Lengt, (int)(Lengt/dx)), y=z[0])],\n",
    "                layout=go.Layout(\n",
    "                    xaxis=dict(range=[0, Lengt], autorange=False),\n",
    "                    yaxis=dict(range=[-0.01, 0.013], autorange=False),\n",
    "                    title=\"Start Title\",\n",
    "                    updatemenus=[dict(\n",
    "                        type=\"buttons\",\n",
    "                        buttons=[dict(label=\"Play\",\n",
    "                                      method=\"animate\",\n",
    "                                      args=[None, {\"frame\": {\"duration\": 10, \"redraw\": False},\n",
    "                                                   \"fromcurrent\": True, \"transition\": {\"duration\": 0,\n",
    "                                                                                       \"easing\": \"quadratic-in-out\"}}]),\n",
    "                                 dict(label=\"Pause\",\n",
    "                                      method=\"animate\",\n",
    "                                      args=[[None], {\"frame\": {\"duration\": 0, \"redraw\": False},\n",
    "                                                     \"mode\": \"immediate\",\n",
    "                                                     \"transition\": {\"duration\": 0}}]\n",
    "\n",
    "                                      )])]\n",
    "                ),\n",
    "                frames=frames\n",
    "                )\n",
    "\n",
    "fig.update_layout(title='Struna', autosize=False,\n",
    "                  width=1000, height=500)\n",
    "\n",
    "fig.show()"
   ]
  },
  {
   "cell_type": "markdown",
   "source": [
    "## Тут будет выведена анимация\n",
    "## Ниже сохранение этой анимации в график"
   ],
   "metadata": {
    "collapsed": false,
    "pycharm": {
     "name": "#%% md\n"
    }
   }
  },
  {
   "cell_type": "code",
   "execution_count": 35,
   "outputs": [],
   "source": [
    "import gif\n",
    "\n",
    "@gif.frame\n",
    "def plot(i):\n",
    "    f = go.Figure(data=[go.Scatter(x=x, y=z[i])],\n",
    "                  layout=go.Layout(\n",
    "                      xaxis=dict(range=[0, Lengt], autorange=False),\n",
    "                      yaxis=dict(range=[-0.01, 0.01], autorange=False)))\n",
    "    return f\n",
    "\n",
    "# Construct list of frames\n",
    "frames = []\n",
    "for i in range(TN):\n",
    "    frame = plot(i)\n",
    "    frames.append(frame)\n",
    "\n",
    "gif.save(frames, 'Gif1.gif', duration=10)"
   ],
   "metadata": {
    "collapsed": false,
    "pycharm": {
     "name": "#%%\n"
    }
   }
  },
  {
   "cell_type": "markdown",
   "source": [
    "## Процесс колебания\n",
    "![](ezgif.com-gif-maker.gif)"
   ],
   "metadata": {
    "collapsed": false,
    "pycharm": {
     "name": "#%% md\n"
    }
   }
  },
  {
   "cell_type": "code",
   "execution_count": null,
   "outputs": [],
   "source": [],
   "metadata": {
    "collapsed": false,
    "pycharm": {
     "name": "#%%\n"
    }
   }
  }
 ],
 "metadata": {
  "colab": {
   "collapsed_sections": [],
   "name": "Struna.ipynb",
   "provenance": []
  },
  "kernelspec": {
   "display_name": "Python 3 (ipykernel)",
   "language": "python",
   "name": "python3"
  },
  "language_info": {
   "codemirror_mode": {
    "name": "ipython",
    "version": 3
   },
   "file_extension": ".py",
   "mimetype": "text/x-python",
   "name": "python",
   "nbconvert_exporter": "python",
   "pygments_lexer": "ipython3",
   "version": "3.9.7"
  }
 },
 "nbformat": 4,
 "nbformat_minor": 1
}