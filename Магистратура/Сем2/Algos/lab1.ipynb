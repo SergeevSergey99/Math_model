{
 "cells": [
  {
   "cell_type": "code",
   "execution_count": 1,
   "metadata": {
    "collapsed": true,
    "pycharm": {
     "name": "#%%\n"
    }
   },
   "outputs": [
    {
     "name": "stdout",
     "output_type": "stream",
     "text": [
      "Collecting girth\n",
      "  Downloading girth-0.8.0-py3-none-any.whl (67 kB)\n",
      "     -------------------------------------- 67.7/67.7 KB 736.4 kB/s eta 0:00:00\n",
      "Requirement already satisfied: numpy in c:\\programdata\\anaconda3\\lib\\site-packages (from girth) (1.20.3)\n",
      "Requirement already satisfied: scipy in c:\\programdata\\anaconda3\\lib\\site-packages (from girth) (1.7.1)\n",
      "Installing collected packages: girth\n",
      "Successfully installed girth-0.8.0\n"
     ]
    }
   ],
   "source": [
    "!pip install girth --upgrade"
   ]
  },
  {
   "cell_type": "code",
   "execution_count": 101,
   "outputs": [],
   "source": [
    "import numpy as np\n",
    "\n",
    "from girth.synthetic import create_synthetic_irt_dichotomous\n",
    "from girth import twopl_mml\n",
    "from girth import twopl_jml\n",
    "from girth import ability_mle\n",
    "\n",
    "# Create Synthetic Data\n",
    "difficulty = np.linspace(-2.5, 2.5, 10)\n",
    "discrimination = np.random.rand(10) + 0.5\n",
    "theta = np.random.randn(500)\n",
    "\n",
    "syn_data = create_synthetic_irt_dichotomous(difficulty, discrimination, theta)\n",
    "\n",
    "# Solve for parameters\n",
    "estimates_mml = twopl_mml(syn_data)\n",
    "estimates_jml = twopl_jml(syn_data)\n",
    "\n",
    "# Unpack estimates\n",
    "discr_mml = estimates_mml['Discrimination']\n",
    "diff_mml = estimates_mml['Difficulty']\n",
    "abil_mml = estimates_mml['Ability']\n",
    "\n",
    "discr_jml = estimates_jml['Discrimination']\n",
    "diff_jml = estimates_jml['Difficulty']\n",
    "abil_jml = ability_mle(syn_data, diff_jml, discr_jml, 6)"
   ],
   "metadata": {
    "collapsed": false,
    "pycharm": {
     "name": "#%%\n"
    }
   }
  },
  {
   "cell_type": "code",
   "execution_count": 99,
   "outputs": [],
   "source": [
    "rmse = lambda x, y: np.sqrt(np.mean((x - y) ** 2))\n",
    "bias = lambda x, y: np.average(y - x)"
   ],
   "metadata": {
    "collapsed": false,
    "pycharm": {
     "name": "#%%\n"
    }
   }
  },
  {
   "cell_type": "code",
   "execution_count": 103,
   "outputs": [
    {
     "name": "stdout",
     "output_type": "stream",
     "text": [
      "bias diff_mml\t=\t 0.0027040899661122777\n",
      "bias discr_mml\t=\t 0.03361016597243778\n",
      "bias abil_mml\t=\t -0.010193780708878957\n",
      "bias diff_jml\t=\t 0.23309477185474153\n",
      "bias discr_jml\t=\t 0.5915085171489949\n",
      "bias abil_jml\t=\t 0.09115540773030693\n"
     ]
    }
   ],
   "source": [
    "print(\"bias diff_mml\\t=\\t\", bias(difficulty, diff_mml))\n",
    "print(\"bias discr_mml\\t=\\t\", bias(discrimination, discr_mml))\n",
    "print(\"bias abil_mml\\t=\\t\", bias(theta, abil_mml))\n",
    "print(\"bias diff_jml\\t=\\t\", bias(difficulty, diff_jml))\n",
    "print(\"bias discr_jml\\t=\\t\", bias(discrimination, discr_jml))\n",
    "print(\"bias abil_jml\\t=\\t\", bias(theta, abil_jml))"
   ],
   "metadata": {
    "collapsed": false,
    "pycharm": {
     "name": "#%%\n"
    }
   }
  },
  {
   "cell_type": "code",
   "execution_count": 104,
   "outputs": [
    {
     "name": "stdout",
     "output_type": "stream",
     "text": [
      "rmse diff_mml\t=\t 0.24703868479043498\n",
      "rmse discr_mml\t=\t 0.19967906167755653\n",
      "rmse abil_mml\t=\t 0.6369249713872088\n",
      "rmse diff_jml\t=\t 0.5286202224958934\n",
      "rmse discr_jml\t=\t 1.2744796972233554\n",
      "rmse abil_jml\t=\t 0.935076721096584\n"
     ]
    }
   ],
   "source": [
    "print(\"rmse diff_mml\\t=\\t\", rmse(difficulty, diff_mml))\n",
    "print(\"rmse discr_mml\\t=\\t\", rmse(discrimination, discr_mml))\n",
    "print(\"rmse abil_mml\\t=\\t\", rmse(theta, abil_mml))\n",
    "print(\"rmse diff_jml\\t=\\t\", rmse(difficulty, diff_jml))\n",
    "print(\"rmse discr_jml\\t=\\t\", rmse(discrimination, discr_jml))\n",
    "print(\"rmse abil_jml\\t=\\t\", rmse(theta, abil_jml))"
   ],
   "metadata": {
    "collapsed": false,
    "pycharm": {
     "name": "#%%\n"
    }
   }
  },
  {
   "cell_type": "markdown",
   "source": [
    "## MML выглядит лучше чем JML"
   ],
   "metadata": {
    "collapsed": false,
    "pycharm": {
     "name": "#%% md\n"
    }
   }
  },
  {
   "cell_type": "code",
   "execution_count": 72,
   "outputs": [],
   "source": [
    "from girth.unidimensional.polytomous import grm_mml\n",
    "\n",
    "# Solve for parameters\n",
    "estimates_grm_mml = grm_mml(syn_data)\n",
    "# Unpack estimates\n",
    "diff_grm_mml = estimates_grm_mml['Difficulty']\n",
    "discr_grm_mml = estimates_grm_mml['Discrimination']"
   ],
   "metadata": {
    "collapsed": false,
    "pycharm": {
     "name": "#%%\n"
    }
   }
  },
  {
   "cell_type": "code",
   "execution_count": 73,
   "outputs": [],
   "source": [],
   "metadata": {
    "collapsed": false,
    "pycharm": {
     "name": "#%%\n"
    }
   }
  }
 ],
 "metadata": {
  "kernelspec": {
   "display_name": "Python 3",
   "language": "python",
   "name": "python3"
  },
  "language_info": {
   "codemirror_mode": {
    "name": "ipython",
    "version": 2
   },
   "file_extension": ".py",
   "mimetype": "text/x-python",
   "name": "python",
   "nbconvert_exporter": "python",
   "pygments_lexer": "ipython2",
   "version": "2.7.6"
  }
 },
 "nbformat": 4,
 "nbformat_minor": 0
}