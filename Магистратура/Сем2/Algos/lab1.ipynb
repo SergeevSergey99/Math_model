{
 "cells": [
  {
   "cell_type": "code",
   "execution_count": 1,
   "metadata": {
    "collapsed": true,
    "pycharm": {
     "name": "#%%\n"
    }
   },
   "outputs": [
    {
     "name": "stdout",
     "output_type": "stream",
     "text": [
      "Requirement already satisfied: girth in c:\\programdata\\anaconda3\\lib\\site-packages (0.8.0)\n",
      "Requirement already satisfied: scipy in c:\\programdata\\anaconda3\\lib\\site-packages (from girth) (1.7.1)\n",
      "Requirement already satisfied: numpy in c:\\programdata\\anaconda3\\lib\\site-packages (from girth) (1.20.3)\n"
     ]
    },
    {
     "name": "stderr",
     "output_type": "stream",
     "text": [
      "WARNING: Ignoring invalid distribution -5py (c:\\programdata\\anaconda3\\lib\\site-packages)\n",
      "WARNING: Ignoring invalid distribution - (c:\\programdata\\anaconda3\\lib\\site-packages)\n",
      "WARNING: Ignoring invalid distribution -cikit-learn (c:\\programdata\\anaconda3\\lib\\site-packages)\n",
      "WARNING: Ignoring invalid distribution -5py (c:\\programdata\\anaconda3\\lib\\site-packages)\n",
      "WARNING: Ignoring invalid distribution - (c:\\programdata\\anaconda3\\lib\\site-packages)\n",
      "WARNING: Ignoring invalid distribution -cikit-learn (c:\\programdata\\anaconda3\\lib\\site-packages)\n",
      "WARNING: Ignoring invalid distribution -5py (c:\\programdata\\anaconda3\\lib\\site-packages)\n",
      "WARNING: Ignoring invalid distribution - (c:\\programdata\\anaconda3\\lib\\site-packages)\n",
      "WARNING: Ignoring invalid distribution -cikit-learn (c:\\programdata\\anaconda3\\lib\\site-packages)\n",
      "WARNING: Ignoring invalid distribution -5py (c:\\programdata\\anaconda3\\lib\\site-packages)\n",
      "WARNING: Ignoring invalid distribution - (c:\\programdata\\anaconda3\\lib\\site-packages)\n",
      "WARNING: Ignoring invalid distribution -cikit-learn (c:\\programdata\\anaconda3\\lib\\site-packages)\n",
      "WARNING: You are using pip version 22.0.4; however, version 22.1 is available.\n",
      "You should consider upgrading via the 'C:\\ProgramData\\Anaconda3\\python.exe -m pip install --upgrade pip' command.\n"
     ]
    }
   ],
   "source": [
    "import matplotlib.pyplot as plt\n",
    "!pip install girth --upgrade"
   ]
  },
  {
   "cell_type": "code",
   "execution_count": 2,
   "outputs": [],
   "source": [
    "import numpy as np\n",
    "\n",
    "from girth.synthetic import create_synthetic_irt_dichotomous\n",
    "from girth import twopl_mml\n",
    "from girth import twopl_jml\n",
    "from girth import ability_mle\n",
    "\n",
    "# Create Synthetic Data\n",
    "difficulty = np.linspace(-2.5, 2.5, 10)\n",
    "discrimination = np.random.rand(10) + 0.5\n",
    "theta = np.random.randn(500)\n",
    "\n",
    "syn_data = create_synthetic_irt_dichotomous(difficulty, discrimination, theta)\n",
    "\n",
    "# Solve for parameters\n",
    "estimates_mml = twopl_mml(syn_data)\n",
    "estimates_jml = twopl_jml(syn_data)\n",
    "\n",
    "# Unpack estimates\n",
    "discr_mml = estimates_mml['Discrimination']\n",
    "diff_mml = estimates_mml['Difficulty']\n",
    "abil_mml = estimates_mml['Ability']\n",
    "\n",
    "discr_jml = estimates_jml['Discrimination']\n",
    "diff_jml = estimates_jml['Difficulty']\n",
    "abil_jml = ability_mle(syn_data, diff_jml, discr_jml, 6)"
   ],
   "metadata": {
    "collapsed": false,
    "pycharm": {
     "name": "#%%\n"
    }
   }
  },
  {
   "cell_type": "code",
   "execution_count": 3,
   "outputs": [],
   "source": [
    "rmse = lambda x, y: np.sqrt(np.mean((x - y) ** 2))\n",
    "bias = lambda x, y: np.average(y - x)"
   ],
   "metadata": {
    "collapsed": false,
    "pycharm": {
     "name": "#%%\n"
    }
   }
  },
  {
   "cell_type": "code",
   "execution_count": 4,
   "outputs": [
    {
     "name": "stdout",
     "output_type": "stream",
     "text": [
      "bias diff_mml\t=\t 0.06472562230768106\n",
      "bias discr_mml\t=\t 0.20142814182324376\n",
      "bias abil_mml\t=\t 0.06770326082588972\n",
      "bias diff_jml\t=\t 0.17387126784289877\n",
      "bias discr_jml\t=\t 0.8597796247950447\n",
      "bias abil_jml\t=\t 0.12574159283811193\n"
     ]
    }
   ],
   "source": [
    "print(\"bias diff_mml\\t=\\t\", bias(difficulty, diff_mml))\n",
    "print(\"bias discr_mml\\t=\\t\", bias(discrimination, discr_mml))\n",
    "print(\"bias abil_mml\\t=\\t\", bias(theta, abil_mml))\n",
    "print(\"bias diff_jml\\t=\\t\", bias(difficulty, diff_jml))\n",
    "print(\"bias discr_jml\\t=\\t\", bias(discrimination, discr_jml))\n",
    "print(\"bias abil_jml\\t=\\t\", bias(theta, abil_jml))"
   ],
   "metadata": {
    "collapsed": false,
    "pycharm": {
     "name": "#%%\n"
    }
   }
  },
  {
   "cell_type": "code",
   "execution_count": 5,
   "outputs": [
    {
     "name": "stdout",
     "output_type": "stream",
     "text": [
      "rmse diff_mml\t=\t 0.339939691664438\n",
      "rmse discr_mml\t=\t 0.3169798654134989\n",
      "rmse abil_mml\t=\t 0.6354930945490131\n",
      "rmse diff_jml\t=\t 0.5060124797974331\n",
      "rmse discr_jml\t=\t 1.369176994362915\n",
      "rmse abil_jml\t=\t 0.847227311909876\n"
     ]
    }
   ],
   "source": [
    "print(\"rmse diff_mml\\t=\\t\", rmse(difficulty, diff_mml))\n",
    "print(\"rmse discr_mml\\t=\\t\", rmse(discrimination, discr_mml))\n",
    "print(\"rmse abil_mml\\t=\\t\", rmse(theta, abil_mml))\n",
    "print(\"rmse diff_jml\\t=\\t\", rmse(difficulty, diff_jml))\n",
    "print(\"rmse discr_jml\\t=\\t\", rmse(discrimination, discr_jml))\n",
    "print(\"rmse abil_jml\\t=\\t\", rmse(theta, abil_jml))"
   ],
   "metadata": {
    "collapsed": false,
    "pycharm": {
     "name": "#%%\n"
    }
   }
  },
  {
   "cell_type": "markdown",
   "source": [
    "## MML выглядит лучше чем JML"
   ],
   "metadata": {
    "collapsed": false,
    "pycharm": {
     "name": "#%% md\n"
    }
   }
  },
  {
   "cell_type": "markdown",
   "source": [
    "## Задание 2"
   ],
   "metadata": {
    "collapsed": false,
    "pycharm": {
     "name": "#%% md\n"
    }
   }
  },
  {
   "cell_type": "code",
   "execution_count": 23,
   "outputs": [],
   "source": [
    "import numpy as np\n",
    "import matplotlib.pyplot as plt\n",
    "from girth.unidimensional.polytomous import grm_mml"
   ],
   "metadata": {
    "collapsed": false,
    "pycharm": {
     "name": "#%%\n"
    }
   }
  },
  {
   "cell_type": "code",
   "execution_count": 30,
   "outputs": [],
   "source": [
    "# Solve for parameters\n",
    "estimates_grm_mml = grm_mml(syn_data)\n",
    "# Unpack estimates\n",
    "diff_grm_mml = estimates_grm_mml['Difficulty']\n",
    "discr_grm_mml = estimates_grm_mml['Discrimination']\n",
    "abil_grm_mml = estimates_grm_mml['Ability']"
   ],
   "metadata": {
    "collapsed": false,
    "pycharm": {
     "name": "#%%\n"
    }
   }
  },
  {
   "cell_type": "code",
   "execution_count": 82,
   "outputs": [],
   "source": [
    "IF = lambda x: 1 / np.mean((np.mean(x) - x) ** 2)"
   ],
   "metadata": {
    "collapsed": false,
    "pycharm": {
     "name": "#%%\n"
    }
   }
  },
  {
   "cell_type": "code",
   "execution_count": 83,
   "outputs": [
    {
     "data": {
      "text/plain": "1.5200597555858137"
     },
     "execution_count": 83,
     "metadata": {},
     "output_type": "execute_result"
    }
   ],
   "source": [
    "IF(abil_grm_mml)"
   ],
   "metadata": {
    "collapsed": false,
    "pycharm": {
     "name": "#%%\n"
    }
   }
  },
  {
   "cell_type": "code",
   "execution_count": 50,
   "outputs": [
    {
     "data": {
      "text/plain": "'\\nplt.scatter(abil_grm_mml, 1/D)\\nplt.scatter(abil_grm_mml, D)\\nplt.ylim(0,10)\\n'"
     },
     "execution_count": 50,
     "metadata": {},
     "output_type": "execute_result"
    }
   ],
   "source": [
    "\"\"\"\n",
    "plt.scatter(abil_grm_mml, 1/D)\n",
    "plt.scatter(abil_grm_mml, D)\n",
    "plt.ylim(0,10)\n",
    "\"\"\""
   ],
   "metadata": {
    "collapsed": false,
    "pycharm": {
     "name": "#%%\n"
    }
   }
  },
  {
   "cell_type": "code",
   "execution_count": 46,
   "outputs": [
    {
     "data": {
      "text/plain": "\"\\nx , y = estimates_grm_mml['LatentPDF'].cubic_splines[-1].continuous_pdf()\\nplt.plot(x, y)\\n\""
     },
     "execution_count": 46,
     "metadata": {},
     "output_type": "execute_result"
    }
   ],
   "source": [
    "\"\"\"\n",
    "x , y = estimates_grm_mml['LatentPDF'].cubic_splines[-1].continuous_pdf()\n",
    "plt.plot(x, y)\n",
    "\"\"\""
   ],
   "metadata": {
    "collapsed": false,
    "pycharm": {
     "name": "#%%\n"
    }
   }
  },
  {
   "cell_type": "markdown",
   "source": [
    "## Задание 3"
   ],
   "metadata": {
    "collapsed": false,
    "pycharm": {
     "name": "#%% md\n"
    }
   }
  },
  {
   "cell_type": "code",
   "execution_count": 108,
   "outputs": [
    {
     "data": {
      "text/plain": "array([[ 6,  1, 10,  7,  3,  2, 11,  7,  8,  6,  5, 10,  5,  6,  7,  5,\n         5,  1,  8,  3,  7,  8,  8,  7,  1,  9,  3,  4,  8,  7,  5,  7,\n         7,  5,  2,  1,  8,  1,  7,  3,  1,  9,  9,  8,  6,  4,  4,  4,\n         9,  3,  7,  8,  4,  1,  5,  8,  6,  8,  8,  8,  8,  5,  6,  8,\n         6, 11, 11,  9,  8,  8,  5,  7,  5,  5,  8,  5,  8,  8,  1,  7,\n         4,  7,  3,  5,  7,  5, 11,  2,  7,  6,  3,  6, 11,  6,  4,  8,\n         7,  7,  5,  8,  5, 11,  7,  8,  4,  9,  1,  7,  7,  4,  6, 11,\n         8,  5,  6,  5, 11,  2,  2, 10,  5,  8,  6,  1,  4,  8, 11, 11,\n         9,  2, 10,  2,  7,  5,  1,  3,  3,  7,  4,  7,  2,  6, 11,  5,\n         1,  1,  3,  7,  9,  5,  2,  9,  2, 10,  5,  8,  2,  8,  7,  3,\n         5,  4,  6,  7,  7, 11,  9,  5,  4,  8,  1,  8,  3,  3,  4, 11,\n         8,  5,  5, 10,  8,  1,  7,  2,  8,  9,  6,  7,  6,  8,  9,  8,\n         6,  8,  3,  7,  3,  8,  1,  9,  3,  8,  9,  6,  7,  7,  6,  1,\n        11,  9,  3,  4,  6,  4,  7, 11,  6,  9,  2,  2,  4,  9,  1,  7,\n        11,  4,  7,  4,  6,  4,  5,  1,  4,  2, 11,  7,  7,  7,  7,  2,\n        11,  4,  9,  4, 11,  8,  6,  6,  7,  3,  8,  3,  9,  7, 11,  6,\n         4,  7,  6,  4,  6,  3,  4, 11,  6,  1,  7,  8,  9,  7,  5,  8,\n        11,  7,  3,  8,  9,  7,  2,  2,  7,  1,  7,  7, 11,  2,  9, 10,\n         6,  4,  5,  7,  6, 11,  7,  8,  4,  5,  5,  9,  4,  3,  5,  8,\n         1, 11,  1,  1, 11,  4,  5,  1,  1, 10, 10,  9,  1,  4, 10,  9,\n         7,  7,  6,  4, 11,  4,  8,  7,  5,  3, 10,  6,  2,  4, 11,  1,\n         3,  2, 10,  5,  9,  4,  4, 11,  4,  2,  6,  5,  7,  6,  1,  8,\n         8,  7,  3,  4,  7,  3,  1,  1,  8,  6,  5,  8,  2,  4,  9,  6,\n         5,  7,  2,  1,  9, 11,  7,  7,  2,  3,  7,  9, 11,  8,  2,  1,\n         8,  4,  2,  7,  9,  3,  6,  5,  5,  4,  6, 11,  1,  3,  7,  5,\n         1,  4,  7,  9,  7,  4,  5,  4,  8, 10,  7,  5, 11, 11,  8, 10,\n         8,  6,  5,  7,  5, 11,  4,  5,  7,  6,  2,  1, 10,  3,  5, 10,\n        11,  6,  4,  8, 10,  7,  7,  6,  5,  5,  7, 10,  4,  3,  8,  7,\n         4, 10,  6,  6,  7,  4,  1,  7,  5,  5,  2,  1,  5, 10,  4,  8,\n         7,  5,  3, 11,  4,  5,  4,  5,  4,  6,  8,  8, 10,  6,  3, 10,\n         3,  2,  4,  7,  5, 11,  4,  7,  8,  7,  7,  3,  6,  1,  4,  1,\n         6,  7,  3,  1]])"
     },
     "execution_count": 108,
     "metadata": {},
     "output_type": "execute_result"
    }
   ],
   "source": [
    "from girth.synthetic import polytomous\n",
    "from girth.synthetic import create_synthetic_irt_polytomous\n",
    "from girth import twopl_mml\n",
    "\n",
    "syn_data2 = create_synthetic_irt_polytomous(difficulty, discrimination, theta)\n",
    "syn_data2"
   ],
   "metadata": {
    "collapsed": false,
    "pycharm": {
     "name": "#%%\n"
    }
   }
  },
  {
   "cell_type": "code",
   "execution_count": 109,
   "outputs": [
    {
     "name": "stdout",
     "output_type": "stream",
     "text": [
      "maxval =  11\n"
     ]
    },
    {
     "data": {
      "text/plain": "array([[0, 0, 0, 0, 0, 0, 1, 0, 0, 0, 0, 0, 0, 0, 0, 0, 0, 0, 0, 0, 0, 0,\n        0, 0, 0, 0, 0, 0, 0, 0, 0, 0, 0, 0, 0, 0, 0, 0, 0, 0, 0, 0, 0, 0,\n        0, 0, 0, 0, 0, 0, 0, 0, 0, 0, 0, 0, 0, 0, 0, 0, 0, 0, 0, 0, 0, 1,\n        1, 0, 0, 0, 0, 0, 0, 0, 0, 0, 0, 0, 0, 0, 0, 0, 0, 0, 0, 0, 1, 0,\n        0, 0, 0, 0, 1, 0, 0, 0, 0, 0, 0, 0, 0, 1, 0, 0, 0, 0, 0, 0, 0, 0,\n        0, 1, 0, 0, 0, 0, 1, 0, 0, 0, 0, 0, 0, 0, 0, 0, 1, 1, 0, 0, 0, 0,\n        0, 0, 0, 0, 0, 0, 0, 0, 0, 0, 1, 0, 0, 0, 0, 0, 0, 0, 0, 0, 0, 0,\n        0, 0, 0, 0, 0, 0, 0, 0, 0, 0, 0, 1, 0, 0, 0, 0, 0, 0, 0, 0, 0, 1,\n        0, 0, 0, 0, 0, 0, 0, 0, 0, 0, 0, 0, 0, 0, 0, 0, 0, 0, 0, 0, 0, 0,\n        0, 0, 0, 0, 0, 0, 0, 0, 0, 0, 1, 0, 0, 0, 0, 0, 0, 1, 0, 0, 0, 0,\n        0, 0, 0, 0, 1, 0, 0, 0, 0, 0, 0, 0, 0, 0, 1, 0, 0, 0, 0, 0, 1, 0,\n        0, 0, 1, 0, 0, 0, 0, 0, 0, 0, 0, 0, 1, 0, 0, 0, 0, 0, 0, 0, 0, 1,\n        0, 0, 0, 0, 0, 0, 0, 0, 1, 0, 0, 0, 0, 0, 0, 0, 0, 0, 0, 0, 1, 0,\n        0, 0, 0, 0, 0, 0, 0, 1, 0, 0, 0, 0, 0, 0, 0, 0, 0, 0, 0, 1, 0, 0,\n        1, 0, 0, 0, 0, 0, 0, 0, 0, 0, 0, 0, 0, 0, 0, 0, 1, 0, 0, 0, 0, 0,\n        0, 0, 0, 0, 1, 0, 0, 0, 0, 0, 0, 0, 0, 1, 0, 0, 0, 0, 0, 0, 0, 0,\n        0, 0, 0, 0, 0, 0, 0, 0, 0, 0, 0, 0, 0, 0, 0, 0, 0, 0, 0, 0, 0, 1,\n        0, 0, 0, 0, 0, 0, 1, 0, 0, 0, 0, 0, 0, 0, 0, 0, 0, 0, 0, 0, 0, 1,\n        0, 0, 0, 0, 0, 0, 0, 0, 0, 0, 0, 0, 0, 0, 0, 0, 1, 1, 0, 0, 0, 0,\n        0, 0, 0, 1, 0, 0, 0, 0, 0, 0, 0, 0, 0, 0, 1, 0, 0, 0, 0, 0, 0, 0,\n        0, 0, 0, 0, 0, 0, 0, 0, 0, 0, 0, 0, 0, 0, 0, 0, 0, 0, 0, 0, 0, 0,\n        0, 0, 0, 0, 0, 1, 0, 0, 0, 0, 0, 0, 0, 0, 0, 0, 0, 0, 0, 0, 0, 0,\n        0, 1, 0, 0, 0, 0, 0, 0, 0, 0, 0, 0, 0, 0, 0, 0]])"
     },
     "execution_count": 109,
     "metadata": {},
     "output_type": "execute_result"
    }
   ],
   "source": [
    "maxval = max(syn_data2[0])\n",
    "print(\"maxval = \", maxval)\n",
    "syn_data2[0] = np.array(list(map(lambda x: int(x == maxval) , syn_data2[0])))\n",
    "syn_data2"
   ],
   "metadata": {
    "collapsed": false,
    "pycharm": {
     "name": "#%%\n"
    }
   }
  },
  {
   "cell_type": "code",
   "execution_count": 78,
   "outputs": [],
   "source": [
    "a = twopl_mml(syn_data2)"
   ],
   "metadata": {
    "collapsed": false,
    "pycharm": {
     "name": "#%%\n"
    }
   }
  },
  {
   "cell_type": "code",
   "execution_count": 85,
   "outputs": [
    {
     "data": {
      "text/plain": "12.715661344363792"
     },
     "execution_count": 85,
     "metadata": {},
     "output_type": "execute_result"
    }
   ],
   "source": [
    "IF(a['Ability'])"
   ],
   "metadata": {
    "collapsed": false,
    "pycharm": {
     "name": "#%%\n"
    }
   }
  },
  {
   "cell_type": "markdown",
   "source": [],
   "metadata": {
    "collapsed": false,
    "pycharm": {
     "name": "#%% md\n"
    }
   }
  },
  {
   "cell_type": "code",
   "execution_count": null,
   "outputs": [],
   "source": [],
   "metadata": {
    "collapsed": false,
    "pycharm": {
     "name": "#%%\n"
    }
   }
  }
 ],
 "metadata": {
  "kernelspec": {
   "display_name": "Python 3",
   "language": "python",
   "name": "python3"
  },
  "language_info": {
   "codemirror_mode": {
    "name": "ipython",
    "version": 2
   },
   "file_extension": ".py",
   "mimetype": "text/x-python",
   "name": "python",
   "nbconvert_exporter": "python",
   "pygments_lexer": "ipython2",
   "version": "2.7.6"
  }
 },
 "nbformat": 4,
 "nbformat_minor": 0
}