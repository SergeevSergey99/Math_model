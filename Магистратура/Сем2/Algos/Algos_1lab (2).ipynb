{
 "cells": [
  {
   "cell_type": "code",
   "execution_count": 20,
   "metadata": {
    "pycharm": {
     "name": "#%%\n"
    }
   },
   "outputs": [],
   "source": [
    "! pip install -q girth --upgrade"
   ]
  },
  {
   "cell_type": "code",
   "execution_count": 21,
   "metadata": {
    "pycharm": {
     "name": "#%%\n"
    }
   },
   "outputs": [],
   "source": [
    "import matplotlib.pyplot as plt\n",
    "import pandas as pd\n",
    "import numpy as np"
   ]
  },
  {
   "cell_type": "markdown",
   "metadata": {
    "pycharm": {
     "name": "#%% md\n"
    }
   },
   "source": [
    "# Задание №1\n",
    "\n",
    "Сравните разные методы оценки параметров. Для этого сгенерируйте данные согласно модели 2PL. На полученных данных сравните результаты действия методов совместного максимального правдоподобия (JML) и маргинального максимального правдоподобия (MML). Для этого посчитайте среднее смещение (bias) и квадратный корень из средней ошибки оценивания (RMSE) для оцениваемых параметров. Какой метод оценки параметров и в каких случаях более предпочтителен и почему?\n"
   ]
  },
  {
   "cell_type": "code",
   "execution_count": 22,
   "metadata": {
    "pycharm": {
     "name": "#%%\n"
    }
   },
   "outputs": [],
   "source": [
    "from girth import twopl_mml\n",
    "from girth import twopl_jml\n",
    "from girth import grm_mml\n",
    "from girth import ability_mle\n",
    "\n",
    "from girth.synthetic import create_synthetic_irt_dichotomous\n",
    "from girth.synthetic import create_synthetic_irt_polytomous"
   ]
  },
  {
   "cell_type": "code",
   "execution_count": 23,
   "metadata": {
    "pycharm": {
     "name": "#%%\n"
    }
   },
   "outputs": [
    {
     "data": {
      "text/plain": [
       "array([[1, 0, 1, ..., 1, 1, 1],\n",
       "       [0, 0, 1, ..., 1, 1, 1],\n",
       "       [0, 0, 0, ..., 1, 1, 0],\n",
       "       ...,\n",
       "       [0, 1, 0, ..., 0, 1, 0],\n",
       "       [1, 0, 0, ..., 0, 1, 0],\n",
       "       [0, 0, 0, ..., 0, 1, 1]])"
      ]
     },
     "execution_count": 23,
     "metadata": {},
     "output_type": "execute_result"
    }
   ],
   "source": [
    "discrimination = np.random.rand(30) \n",
    "difficulty = np.linspace(-2.5, 2.5, 30)\n",
    "theta = np.random.randn(500)\n",
    "\n",
    "syn_data = create_synthetic_irt_dichotomous(difficulty, \n",
    "                                            discrimination, \n",
    "                                            theta)\n",
    "syn_data"
   ]
  },
  {
   "cell_type": "code",
   "execution_count": 24,
   "metadata": {
    "pycharm": {
     "name": "#%%\n"
    }
   },
   "outputs": [
    {
     "data": {
      "text/plain": [
       "{'Discrimination': array([0.24566991, 0.20000342, 1.22193329, 1.0042212 , 1.08906382,\n",
       "        0.22536695, 0.24932743, 0.20000342, 0.25659512, 0.33594941,\n",
       "        0.55803001, 0.57158892, 0.91740674, 0.40933617, 0.74091856,\n",
       "        0.27162115, 0.31986847, 0.50615435, 1.21097722, 0.7192485 ,\n",
       "        0.59082808, 0.20000342, 0.48152275, 0.79591301, 0.8156996 ,\n",
       "        1.06005688, 0.80479942, 0.39783009, 0.4928533 , 0.24976883]),\n",
       " 'Difficulty': array([-2.70292947, -4.37344134, -1.49192422, -1.63046603, -1.59549124,\n",
       "         0.03589717, -1.99334563, -0.08087721, -1.01959912, -0.58905978,\n",
       "        -0.55738321, -0.62286323, -0.43608646, -0.42803004, -0.34086888,\n",
       "         0.30006337,  0.28217119,  0.65885094,  0.47591994,  0.74565826,\n",
       "         1.47634874,  0.64726287,  1.56867939,  1.4290581 ,  1.71173905,\n",
       "         1.36039244,  2.03036143,  3.05535998,  0.79829506,  1.71610181]),\n",
       " 'Ability': array([-1.12995143, -1.33059785, -0.4746493 ,  0.79184346,  0.81254388,\n",
       "         0.20229794, -0.37602022, -1.1301917 , -1.78961088, -0.31025525,\n",
       "        -0.54203805,  0.20385408, -0.4403036 , -0.83561867, -0.63800001,\n",
       "        -0.01016344, -0.55473712,  0.65901835, -0.93039716,  0.59557112,\n",
       "         0.73053757, -0.15883125, -0.07202919,  1.53218594, -0.47749122,\n",
       "         0.52675636,  0.22603803, -0.13371345, -0.65150636, -0.17154821,\n",
       "        -0.4845487 ,  1.17839006,  0.8895357 ,  0.68611519, -0.74234174,\n",
       "        -1.53327752, -0.40089351, -0.71934684, -1.21698459,  0.23810029,\n",
       "         0.471109  , -1.23831205, -0.4734532 , -1.15849862, -1.40027445,\n",
       "        -1.755735  , -0.78815588,  0.0178629 , -0.14501261,  0.07686714,\n",
       "         2.31534643, -0.59633665,  0.09006659,  0.51120175, -0.33548954,\n",
       "         0.91103962, -1.79665108, -1.66604459, -0.79793755,  0.33491317,\n",
       "        -0.50560851, -0.59342432,  0.72795307,  0.58448347,  0.27509617,\n",
       "        -0.97411595, -0.29528792, -0.87110034, -0.16525308,  0.6030703 ,\n",
       "         0.08692799, -0.91357493, -1.14087982,  0.85126162,  0.96365823,\n",
       "        -0.04306068, -1.12628621,  0.11680188,  0.3551992 , -0.22202159,\n",
       "        -0.1095996 ,  0.65914584, -0.70626282,  0.1950361 , -0.13289906,\n",
       "         0.22957735, -0.62734075, -0.23565072, -1.44630387, -0.75279372,\n",
       "         0.91840715, -1.20076025, -0.76084855, -0.27388353,  1.50587045,\n",
       "         1.43762762,  0.01303733, -0.755852  , -0.3229272 ,  1.17828569,\n",
       "         0.3203013 ,  0.17261184, -1.20770811, -0.14915814,  0.43025103,\n",
       "        -2.01645527, -0.08215875,  0.63166242, -0.87729865,  0.53118374,\n",
       "        -0.68568151,  0.97463691,  0.81924231,  0.88242135,  1.60935362,\n",
       "         0.86573567,  0.98508527,  1.33350204, -1.08135928, -1.04686361,\n",
       "        -1.34598746,  0.02651027,  0.43593581, -0.81964266, -0.22803129,\n",
       "        -0.1808526 , -1.0057032 , -0.98025054, -0.23588279, -0.38495031,\n",
       "        -0.83714957,  0.09342964,  0.11389404, -0.23281145,  0.25332997,\n",
       "        -0.74463237,  0.79020266, -0.30892686,  0.66892702,  0.68629686,\n",
       "         0.3488621 , -0.10671897,  0.20268193, -0.33574843,  1.18425851,\n",
       "        -0.57329634,  0.40808617,  0.4799207 ,  0.33652925,  0.16895839,\n",
       "         0.7212913 ,  0.64003894,  1.47497966, -0.53500022, -1.10301308,\n",
       "         0.25254802, -0.27886044,  0.03413944,  0.51323824,  1.22633996,\n",
       "        -0.04184796, -1.11801126, -1.05006416,  0.10498702,  0.22248994,\n",
       "         1.00612302, -0.26291172, -1.0839195 ,  1.37993019, -1.24323313,\n",
       "         0.31774202,  0.1971019 , -0.25628272, -0.42365693, -0.76034149,\n",
       "        -0.63330701,  0.10302488, -0.55131195, -0.79479545,  0.671837  ,\n",
       "         0.71176517,  0.0195798 , -1.10251486,  0.45980766, -0.49455083,\n",
       "        -0.45459575, -0.42532738,  0.29342125,  0.05525752, -0.79606113,\n",
       "        -0.3438698 ,  0.97449617,  0.08182294,  0.47022676,  0.34195604,\n",
       "         0.19263947,  0.72596679, -0.22164749,  0.01558548,  0.27326727,\n",
       "         0.51542899, -0.03457131,  0.53321768, -0.30704749,  0.77695742,\n",
       "        -0.96015198,  0.21627578, -0.6053944 , -0.47618845, -0.20617346,\n",
       "        -0.08007898, -0.39975634,  1.46944769,  0.5639184 ,  1.02419119,\n",
       "         0.4899618 ,  0.10667508,  0.00744764, -0.71276843,  1.33796843,\n",
       "         0.46476317, -1.11178188, -0.45175286, -0.46126575, -0.92032613,\n",
       "        -0.1584188 ,  1.37177603,  2.12904618,  1.74574771,  0.42960823,\n",
       "        -0.85029491, -0.32691182, -0.17869752,  0.45216576,  1.40655699,\n",
       "         0.83337587, -0.7742851 ,  0.06013527,  0.41641303, -0.68042407,\n",
       "        -0.36332583,  0.01434589, -1.31241581,  1.95520277,  0.70444628,\n",
       "        -1.10588841,  0.60745024, -0.80152947,  0.30483872,  1.3525539 ,\n",
       "        -1.70736113,  2.12665986,  0.98487429, -0.17589774,  0.44092543,\n",
       "        -0.82101743, -1.13004162,  0.99484713,  1.94305085,  0.46223682,\n",
       "        -0.88631717, -0.00562202, -1.57051902, -0.76992406,  0.50756001,\n",
       "        -0.65671609,  0.43071133,  0.10765318, -0.13865843,  0.20642507,\n",
       "         0.85415305, -0.14270644,  0.56314909, -0.62531588,  1.26730011,\n",
       "        -0.44136708,  0.10371497, -0.12216371,  0.53959572, -0.22839021,\n",
       "        -0.18210555,  0.03461745,  0.15019306, -0.28353205,  1.83974601,\n",
       "        -0.43569686, -0.21610044, -0.12504114,  0.49722299,  0.13865042,\n",
       "         0.57527202, -0.73544963,  1.45242636,  0.70284822,  0.82724134,\n",
       "         0.65564088,  0.91680915, -0.06126014, -0.03502966,  0.2212505 ,\n",
       "        -1.35701708,  0.37121252, -0.64563702, -0.13612318,  0.09270244,\n",
       "        -2.34001499,  0.48280037, -0.8055892 , -0.55104577, -1.3338516 ,\n",
       "        -0.62732415,  0.57106839,  0.48288485,  0.96590069, -0.05359568,\n",
       "         0.54245197, -0.25019436,  1.15792636,  0.91256032, -1.48476274,\n",
       "         0.16758913,  0.85819267,  0.76634096,  1.27630827, -0.66306127,\n",
       "         0.41296101, -0.75761492, -0.14488447,  0.32323377,  1.25134474,\n",
       "         0.36767861, -1.51577987,  2.09223152,  0.74430225, -1.61076556,\n",
       "         0.52213506, -1.06276885,  1.30876102,  0.60873973,  1.18908279,\n",
       "        -0.01681086, -0.17569362,  0.4707957 , -0.1855601 , -0.59714786,\n",
       "        -0.29294236,  0.77911431, -1.0304592 , -0.1028105 , -0.13351103,\n",
       "         0.16461349, -0.19065135,  0.32040383,  0.91045431,  0.57633652,\n",
       "        -0.62179403,  0.87678912,  0.03226381, -0.7067284 , -0.62277526,\n",
       "         0.80519363, -0.42693778, -1.55832663,  0.31428817, -0.45000055,\n",
       "         0.72721855,  0.48381481, -0.26200284, -0.6536754 ,  0.77346365,\n",
       "        -2.23308094,  1.46915135,  0.82384977,  1.85967976, -0.29381063,\n",
       "         0.71919934, -0.63332814, -0.94922769,  1.57434014,  0.3995243 ,\n",
       "         0.25844801,  0.22907188,  0.98702535,  1.39070876, -0.73880439,\n",
       "        -0.76518922, -0.48234631,  0.70227564, -0.25094175,  1.18540272,\n",
       "         0.15744918,  0.84836086, -0.72448892,  0.29028903, -0.14933746,\n",
       "         0.16828639, -0.46568232,  1.29735328, -0.54440658,  0.49959033,\n",
       "         0.43597738,  0.6488586 , -0.07190045,  0.01745204, -1.03537096,\n",
       "        -0.949201  , -1.61425712,  0.01345173, -0.31510874, -0.33685689,\n",
       "         0.08234934,  0.40224814,  0.27625379,  0.4832839 , -0.44872097,\n",
       "        -0.14987295, -0.04339781,  0.21078805, -0.74006281, -1.15483465,\n",
       "         0.7524487 , -0.16686906, -0.24551908,  0.0425839 ,  0.0510176 ,\n",
       "        -1.80924997, -0.04256879,  1.39359265,  0.81633191, -1.29998648,\n",
       "         0.00529407, -1.45703446,  0.16450661, -2.226012  , -0.053811  ,\n",
       "         1.52730429, -0.73112071, -1.09911015,  0.10613028, -0.85403234,\n",
       "         1.09427554,  0.91337269, -0.62047209, -0.13404792,  0.35093256,\n",
       "        -0.08804562,  0.30363753, -1.15159434, -0.45429384, -0.18026433,\n",
       "         0.57765912,  1.36021273, -0.8012381 , -0.89094963, -0.89643801,\n",
       "        -0.33427484,  0.67829437, -1.13598169,  0.42643603,  0.86131619,\n",
       "         0.40444237, -1.19468237,  0.51676599, -1.70976723,  2.16669622,\n",
       "         0.31756945, -0.70747508, -0.25555221, -0.68458666, -0.18409226,\n",
       "        -1.37509594,  0.27925272,  0.0874961 ,  0.17705861,  1.17259468,\n",
       "        -0.26081112, -1.54375469, -0.44227007,  0.2817987 , -0.14526922,\n",
       "         0.69611995, -0.64514241,  1.26421987,  0.32289778, -0.99994351,\n",
       "         0.58401576,  0.99968394, -0.03183901,  0.90625177, -0.24208783,\n",
       "         0.26857484,  1.74472504, -1.16217258,  1.30026606,  1.38771872,\n",
       "         0.39649983, -0.34030604,  0.26348378,  1.34756057, -0.23163228]),\n",
       " 'LatentPDF': <girth.utilities.latent_ability_distribution.LatentPDF at 0x13f692200>,\n",
       " 'AIC': {'final': 18510.44171277878, 'null': 18510.44171277878, 'delta': 0.0},\n",
       " 'BIC': {'final': 18510.44171277878, 'null': 18510.44171277878, 'delta': 0.0}}"
      ]
     },
     "execution_count": 24,
     "metadata": {},
     "output_type": "execute_result"
    }
   ],
   "source": [
    "estimates_mml = twopl_mml(syn_data)\n",
    "estimates_mml"
   ]
  },
  {
   "cell_type": "code",
   "execution_count": 25,
   "metadata": {
    "pycharm": {
     "name": "#%%\n"
    }
   },
   "outputs": [
    {
     "data": {
      "text/plain": [
       "'mean Ability MML: -0.02307578425174075'"
      ]
     },
     "execution_count": 25,
     "metadata": {},
     "output_type": "execute_result"
    }
   ],
   "source": [
    "'mean Ability MML: %s' % np.mean(estimates_mml['Ability'] - theta)"
   ]
  },
  {
   "cell_type": "code",
   "execution_count": 26,
   "metadata": {
    "pycharm": {
     "name": "#%%\n"
    }
   },
   "outputs": [
    {
     "data": {
      "text/plain": [
       "{'Discrimination': array([0.29135782, 0.25      , 1.95129523, 1.36283782, 1.49869739,\n",
       "        0.25      , 0.25      , 0.25      , 0.29984645, 0.39616952,\n",
       "        0.69095475, 0.71168348, 1.25003836, 0.45939961, 0.97040805,\n",
       "        0.30982194, 0.37329482, 0.5804011 , 2.23630334, 0.93619171,\n",
       "        0.72611478, 0.25      , 0.56865871, 0.98564702, 0.99764021,\n",
       "        1.42500615, 0.92898913, 0.45625692, 0.5991422 , 0.27273218]),\n",
       " 'Difficulty': array([-2.29040336, -3.51556684, -1.12837511, -1.31173899, -1.28301664,\n",
       "         0.0323113 , -1.98762711, -0.06511972, -0.87746365, -0.50451021,\n",
       "        -0.46389969, -0.51637606, -0.35082271, -0.38498062, -0.27720726,\n",
       "         0.26364743,  0.243414  ,  0.58108402,  0.33033344,  0.59919233,\n",
       "         1.2334566 ,  0.52027651,  1.34862705,  1.2020495 ,  1.45641134,\n",
       "         1.103444  ,  1.80501399,  2.68823968,  0.6686783 ,  1.57442021])}"
      ]
     },
     "execution_count": 26,
     "metadata": {},
     "output_type": "execute_result"
    }
   ],
   "source": [
    "estimates_jml = twopl_jml(syn_data)\n",
    "estimates_jml"
   ]
  },
  {
   "cell_type": "code",
   "execution_count": 27,
   "metadata": {
    "pycharm": {
     "name": "#%%\n"
    }
   },
   "outputs": [
    {
     "data": {
      "text/plain": [
       "'mean Ability JML: -0.023640174639139488'"
      ]
     },
     "execution_count": 27,
     "metadata": {},
     "output_type": "execute_result"
    }
   ],
   "source": [
    "abil_jml = ability_mle(syn_data, \n",
    "                       estimates_jml['Difficulty'], \n",
    "                       estimates_jml['Discrimination'])\n",
    "\n",
    "'mean Ability JML: %s' % np.mean(abil_jml - theta)"
   ]
  },
  {
   "cell_type": "code",
   "execution_count": 28,
   "metadata": {
    "pycharm": {
     "name": "#%%\n"
    }
   },
   "outputs": [],
   "source": [
    "rmse = lambda x, y: np.sqrt(np.mean((x - y) ** 2))\n",
    "bias = lambda x, y: np.average(y - x)"
   ]
  },
  {
   "cell_type": "code",
   "execution_count": 29,
   "metadata": {
    "pycharm": {
     "name": "#%%\n"
    }
   },
   "outputs": [
    {
     "name": "stdout",
     "output_type": "stream",
     "text": [
      "RMSE Ability JML:  0.6673714972527328\n",
      "RMSE Ability MML:  0.621939983914363\n"
     ]
    }
   ],
   "source": [
    "print(\"RMSE Ability JML: \", rmse(abil_jml, theta))\n",
    "print(\"RMSE Ability MML: \", rmse(estimates_mml['Ability'], theta))"
   ]
  },
  {
   "cell_type": "code",
   "execution_count": 30,
   "metadata": {
    "pycharm": {
     "name": "#%%\n"
    }
   },
   "outputs": [
    {
     "name": "stdout",
     "output_type": "stream",
     "text": [
      "BIAS Ability JML:  0.023640174639139488\n",
      "BIAS Ability MML:  0.02307578425174075\n"
     ]
    }
   ],
   "source": [
    "print(\"BIAS Ability JML: \", bias(abil_jml, theta))\n",
    "print(\"BIAS Ability MML: \", bias(estimates_mml['Ability'], theta))"
   ]
  },
  {
   "cell_type": "markdown",
   "metadata": {
    "pycharm": {
     "name": "#%% md\n"
    }
   },
   "source": [
    "## Вывод: \n",
    "1. MML лучше, чем JML \n",
    "2. JML хуже в случае заданий с чрезвычайной сложностью или параметрами дискриминации при маленькой выборке"
   ]
  },
  {
   "cell_type": "markdown",
   "metadata": {
    "pycharm": {
     "name": "#%% md\n"
    }
   },
   "source": [
    "# Задание №2\n",
    "\n",
    "Проведите исследование одной из политомических моделей - GRM или GPCM. Для фиксированных (но допустимых) значений параметров заданий найдите информацию Фишера для уровня подготовленности. В качестве метода оценивания рекомендуется использовать MML."
   ]
  },
  {
   "cell_type": "code",
   "execution_count": 41,
   "metadata": {
    "pycharm": {
     "name": "#%%\n"
    }
   },
   "outputs": [],
   "source": [
    "diffi = np.sort(np.random.rand(30, 10), axis=1)\n",
    "discr = np.random.rand(30)\n",
    "inffi = []\n",
    "theta = np.linspace(-6, 6, 30)\n",
    "\n",
    "for t in theta:\n",
    "    data = create_synthetic_irt_polytomous(diffi, \n",
    "                                           discr, \n",
    "                                           np.asarray([t]))\n",
    "    estimates = grm_mml(data)\n",
    "    \n",
    "    inffi.append(\n",
    "        1 / (rmse(estimates['Ability'], t) ** 2)\n",
    "    )\n"
   ]
  },
  {
   "cell_type": "code",
   "execution_count": 42,
   "metadata": {
    "pycharm": {
     "name": "#%%\n"
    }
   },
   "outputs": [
    {
     "data": {
      "image/png": "[encoded data removed]",
      "text/plain": [
       "<Figure size 576x360 with 1 Axes>"
      ]
     },
     "metadata": {
      "needs_background": "light"
     },
     "output_type": "display_data"
    }
   ],
   "source": [
    "fig, ax = plt.subplots()\n",
    "\n",
    "fig.set_size_inches(8, 5)\n",
    "\n",
    "ax.plot(theta, inffi, linewidth=2.0, label='GRM MML')\n",
    "\n",
    "ax.set_xlabel('Theta')\n",
    "ax.set_ylabel('Fisher information')\n",
    "ax.legend(loc='lower left', frameon=False)\n",
    "\n",
    "\n",
    "plt.show()"
   ]
  },
  {
   "cell_type": "markdown",
   "metadata": {
    "pycharm": {
     "name": "#%% md\n"
    }
   },
   "source": [
    "# Задание №3\n",
    "Проведите исследование, как меняется информация Фишера при бинаризации ответов для выбранной в п.2 политомической модели. При бинаризации ответов считайте максимально возможное значение верным, остальные - неверными. После этого проведите анализ данных с помощью дихотомической модели: рекомендуется для этих целей использовать модель 2PL. Сравните информацию Фишера для уровня подготовленности для политомической модели из п.2 и для дихотомической модели после бинаризации ответов."
   ]
  },
  {
   "cell_type": "code",
   "execution_count": 43,
   "metadata": {
    "pycharm": {
     "name": "#%%\n"
    }
   },
   "outputs": [],
   "source": [
    "inffi_bin = []\n",
    "for t in theta:\n",
    "    data = create_synthetic_irt_polytomous(diffi, \n",
    "                                           discr, \n",
    "                                           np.asarray([t]))\n",
    "    \n",
    "    maxval = max(data[0])\n",
    "    \n",
    "    # Поляризация данных\n",
    "    data[0] = np.array(list(map(lambda x: int(x == maxval), data[0])))\n",
    "\n",
    "    estimates = grm_mml(data)       \n",
    "    \n",
    "    inffi_bin.append(\n",
    "        1 / (rmse(estimates['Ability'], t) ** 2)\n",
    "    )"
   ]
  },
  {
   "cell_type": "code",
   "execution_count": 44,
   "metadata": {
    "pycharm": {
     "name": "#%%\n"
    }
   },
   "outputs": [
    {
     "data": {
      "image/png": "[encoded data removed]",
      "text/plain": [
       "<Figure size 576x360 with 1 Axes>"
      ]
     },
     "metadata": {
      "needs_background": "light"
     },
     "output_type": "display_data"
    }
   ],
   "source": [
    "fig, ax = plt.subplots()\n",
    "\n",
    "fig.set_size_inches(8, 5)\n",
    "\n",
    "ax.plot(theta, inffi, linewidth=2.0, label='GRM MML')\n",
    "ax.plot(theta, inffi_bin, linewidth=2.0, label='GRM MML after binarization')\n",
    "\n",
    "ax.set_xlabel('Theta')\n",
    "ax.set_ylabel('Fisher information')\n",
    "ax.legend(loc='lower left', frameon=False)\n",
    "\n",
    "\n",
    "plt.show()"
   ]
  },
  {
   "cell_type": "code",
   "execution_count": 45,
   "metadata": {
    "pycharm": {
     "name": "#%%\n"
    }
   },
   "outputs": [],
   "source": [
    "inffi_bin_d = []\n",
    "\n",
    "for t in theta:\n",
    "    data = create_synthetic_irt_polytomous(diffi, \n",
    "                                           discr, \n",
    "                                           np.asarray([t]))\n",
    "    \n",
    "    maxval = max(data[0])\n",
    "    \n",
    "    # Поляризация данных\n",
    "    data[0] = np.array(list(map(lambda x: int(x == maxval), data[0])))\n",
    "\n",
    "    estimates = twopl_mml(data)\n",
    "        \n",
    "    inffi_bin_d.append(\n",
    "        1 / (rmse(estimates['Ability'], t) ** 2)\n",
    "    )"
   ]
  },
  {
   "cell_type": "code",
   "execution_count": 46,
   "metadata": {
    "pycharm": {
     "name": "#%%\n"
    }
   },
   "outputs": [
    {
     "data": {
      "image/png": "[encoded data removed]",
      "text/plain": [
       "<Figure size 576x360 with 1 Axes>"
      ]
     },
     "metadata": {
      "needs_background": "light"
     },
     "output_type": "display_data"
    }
   ],
   "source": [
    "fig, ax = plt.subplots()\n",
    "\n",
    "fig.set_size_inches(8, 5)\n",
    "\n",
    "ax.plot(theta, inffi, linewidth=2.0, label='GRM MML')\n",
    "ax.plot(theta, inffi_bin_d, linewidth=2.0, label='2PL MML after binarization')\n",
    "\n",
    "ax.set_xlabel('Theta')\n",
    "ax.set_ylabel('Fisher information')\n",
    "ax.legend(loc='lower left', frameon=False)\n",
    "\n",
    "\n",
    "plt.show()"
   ]
  },
  {
   "cell_type": "code",
   "execution_count": 47,
   "metadata": {
    "pycharm": {
     "name": "#%%\n"
    }
   },
   "outputs": [
    {
     "data": {
      "image/png": "[encoded data removed]",
      "text/plain": [
       "<Figure size 576x360 with 1 Axes>"
      ]
     },
     "metadata": {
      "needs_background": "light"
     },
     "output_type": "display_data"
    }
   ],
   "source": [
    "fig, ax = plt.subplots()\n",
    "\n",
    "fig.set_size_inches(8, 5)\n",
    "\n",
    "ax.plot(theta, inffi, linewidth=2.0, label='GRM MML')\n",
    "ax.plot(theta, inffi_bin, linewidth=2.0, label='GRM MML after binarization')\n",
    "ax.plot(theta, inffi_bin_d, linewidth=2.0, label='2PL MML after binarization')\n",
    "\n",
    "ax.set_xlabel('Theta')\n",
    "ax.set_ylabel('Fisher information')\n",
    "ax.legend(loc='lower left', frameon=False)\n",
    "\n",
    "plt.show()"
   ]
  },
  {
   "cell_type": "code",
   "execution_count": null,
   "metadata": {
    "pycharm": {
     "name": "#%%\n"
    }
   },
   "outputs": [],
   "source": []
  }
 ],
 "metadata": {
  "kernelspec": {
   "display_name": "Python 3.10.4 ('venv': venv)",
   "language": "python",
   "name": "python3"
  },
  "language_info": {
   "codemirror_mode": {
    "name": "ipython",
    "version": 3
   },
   "file_extension": ".py",
   "mimetype": "text/x-python",
   "name": "python",
   "nbconvert_exporter": "python",
   "pygments_lexer": "ipython3",
   "version": "3.10.4"
  },
  "vscode": {
   "interpreter": {
    "hash": "20bea60202107fdb3d718574b7dd7f19baaf87922649cfb15b62f597decc36f8"
   }
  }
 },
 "nbformat": 4,
 "nbformat_minor": 1
}