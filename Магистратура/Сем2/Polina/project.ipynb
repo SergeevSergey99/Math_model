{
 "cells": [
  {
   "cell_type": "code",
   "execution_count": 1,
   "outputs": [],
   "source": [
    "import numpy as np\n",
    "import matplotlib.pyplot as plt"
   ],
   "metadata": {
    "collapsed": false,
    "pycharm": {
     "name": "#%%\n"
    }
   }
  },
  {
   "cell_type": "code",
   "execution_count": 2,
   "outputs": [],
   "source": [
    "from keras.datasets import mnist\n",
    "(X_train, y_train), (X_pred, y_pred) = mnist.load_data()"
   ],
   "metadata": {
    "collapsed": false,
    "pycharm": {
     "name": "#%%\n"
    }
   }
  },
  {
   "cell_type": "code",
   "execution_count": 3,
   "outputs": [
    {
     "data": {
      "text/plain": "<matplotlib.image.AxesImage at 0x2596a01d550>"
     },
     "execution_count": 3,
     "metadata": {},
     "output_type": "execute_result"
    },
    {
     "data": {
      "text/plain": "<Figure size 432x288 with 1 Axes>",
      "image/png": "[encoded data removed]"
     },
     "metadata": {
      "needs_background": "light"
     },
     "output_type": "display_data"
    }
   ],
   "source": [
    "plt.title(\"Нулевой объект из тренировочного набора:\")\n",
    "plt.imshow(X_train[0], cmap=\"gray\")"
   ],
   "metadata": {
    "collapsed": false,
    "pycharm": {
     "name": "#%%\n"
    }
   }
  },
  {
   "cell_type": "code",
   "execution_count": 4,
   "outputs": [],
   "source": [
    "dim = 784 # 28*28\n",
    "X_train = X_train.reshape(len(X_train), dim)"
   ],
   "metadata": {
    "collapsed": false,
    "pycharm": {
     "name": "#%%\n"
    }
   }
  },
  {
   "cell_type": "code",
   "execution_count": 5,
   "outputs": [
    {
     "name": "stdout",
     "output_type": "stream",
     "text": [
      "[0.09704664 0.16800588 0.22969677 0.28359097 0.33227894 0.37540125\n",
      " 0.40812055 0.4369595  0.4645798  0.4881498  0.5092417  0.52947161\n",
      " 0.54662979 0.56355091 0.57933732 0.59416685 0.60741246 0.62018143\n",
      " 0.63205406 0.6435809  0.65424256 0.66430969 0.67384542 0.68297086\n",
      " 0.69180491 0.7001981  0.70832389 0.71618755 0.72363488 0.73054347\n",
      " 0.73712441 0.74360589 0.74963204 0.75549786 0.76119807 0.76663435\n",
      " 0.77169222 0.7765708  0.7813851  0.78610776 0.79067523 0.79512359\n",
      " 0.7993086  0.80329076]\n"
     ]
    }
   ],
   "source": [
    "from sklearn.decomposition import PCA\n",
    "\n",
    "pca = PCA(n_components=44, svd_solver='full')\n",
    "modelPCA = pca.fit(X_train)\n",
    "print(np.cumsum(pca.explained_variance_ratio_))\n",
    "X_train = modelPCA.transform(X_train)"
   ],
   "metadata": {
    "collapsed": false,
    "pycharm": {
     "name": "#%%\n"
    }
   }
  },
  {
   "cell_type": "code",
   "execution_count": 6,
   "outputs": [],
   "source": [
    "from sklearn.model_selection import train_test_split\n",
    "from sklearn.neighbors import KNeighborsClassifier\n",
    "from sklearn.svm import SVC\n",
    "from sklearn.metrics import confusion_matrix"
   ],
   "metadata": {
    "collapsed": false,
    "pycharm": {
     "name": "#%%\n"
    }
   }
  },
  {
   "cell_type": "code",
   "execution_count": 7,
   "outputs": [],
   "source": [
    "X_train, X_test, y_train, y_test = train_test_split(X_train, y_train, test_size=0.2, random_state=45)"
   ],
   "metadata": {
    "collapsed": false,
    "pycharm": {
     "name": "#%%\n"
    }
   }
  },
  {
   "cell_type": "code",
   "execution_count": 8,
   "outputs": [],
   "source": [
    "neigh = KNeighborsClassifier(n_neighbors=1)"
   ],
   "metadata": {
    "collapsed": false,
    "pycharm": {
     "name": "#%%\n"
    }
   }
  },
  {
   "cell_type": "code",
   "execution_count": 9,
   "outputs": [],
   "source": [
    "svm = SVC(probability=True)\n",
    "clf = svm.fit(X_train, y_train)"
   ],
   "metadata": {
    "collapsed": false,
    "pycharm": {
     "name": "#%%\n"
    }
   }
  },
  {
   "cell_type": "code",
   "execution_count": 10,
   "outputs": [],
   "source": [
    "y_pred = clf.predict(X_test)"
   ],
   "metadata": {
    "collapsed": false,
    "pycharm": {
     "name": "#%%\n"
    }
   }
  },
  {
   "cell_type": "code",
   "execution_count": 11,
   "outputs": [
    {
     "data": {
      "text/plain": "array([[1163,    0,    0,    0,    1,    0,    2,    0,    2,    2],\n       [   0, 1348,    4,    0,    1,    0,    0,    2,    1,    1],\n       [   1,    0, 1184,    1,    3,    0,    0,    5,    1,    2],\n       [   0,    0,   11, 1148,    0,   12,    0,    1,    8,    4],\n       [   1,    2,    2,    1, 1113,    0,    3,    1,    2,   11],\n       [   1,    1,    2,    6,    4, 1020,    6,    0,    6,    1],\n       [   0,    0,    0,    0,    3,    5, 1160,    0,    2,    0],\n       [   1,    3,    7,    0,    4,    0,    0, 1264,    1,    9],\n       [   1,    6,    2,    2,    1,    4,    3,    0, 1213,    2],\n       [   3,    1,    0,    5,   17,    2,    0,    7,    3, 1178]],\n      dtype=int64)"
     },
     "execution_count": 11,
     "metadata": {},
     "output_type": "execute_result"
    }
   ],
   "source": [
    "SVC_M = confusion_matrix(y_test, y_pred)\n",
    "SVC_M"
   ],
   "metadata": {
    "collapsed": false,
    "pycharm": {
     "name": "#%%\n"
    }
   }
  },
  {
   "cell_type": "code",
   "execution_count": 12,
   "outputs": [
    {
     "data": {
      "text/plain": "array([[1147,    0,    2,    4,    2,    4,    7,    0,    2,    2],\n       [   0, 1332,   11,    3,    1,    3,    3,    1,    2,    1],\n       [   4,    0, 1142,   15,   10,    1,    2,    6,   14,    3],\n       [   3,    1,   12, 1098,    1,   21,    3,    7,   28,   10],\n       [   3,    4,    3,    5, 1068,    0,    6,    2,    7,   38],\n       [   3,    1,    5,   19,   13,  979,   13,    1,   10,    3],\n       [   4,    1,    4,    0,    5,   16, 1136,    0,    4,    0],\n       [   1,    7,   14,    1,   14,    3,    1, 1224,    3,   21],\n       [   3,   10,   10,   25,    9,   21,    4,    1, 1140,   11],\n       [   3,    2,    6,   21,   32,    7,    1,   19,    7, 1118]],\n      dtype=int64)"
     },
     "execution_count": 12,
     "metadata": {},
     "output_type": "execute_result"
    }
   ],
   "source": [
    "from sklearn.ensemble import RandomForestClassifier\n",
    "rfc = RandomForestClassifier()\n",
    "clf = rfc.fit(X_train, y_train)\n",
    "y_pred = clf.predict(X_test)\n",
    "\n",
    "RFC_M = confusion_matrix(y_test, y_pred)\n",
    "RFC_M"
   ],
   "metadata": {
    "collapsed": false,
    "pycharm": {
     "name": "#%%\n"
    }
   }
  },
  {
   "cell_type": "code",
   "execution_count": 13,
   "outputs": [
    {
     "data": {
      "text/plain": "array([[1049,    0,   17,   11,    5,   25,   29,    3,   21,   10],\n       [   1, 1296,   11,    4,    4,    9,   13,    9,    8,    2],\n       [  19,   13,  979,   25,   20,   26,   19,   30,   50,   16],\n       [  12,    6,   39,  937,    4,   69,   13,   15,   70,   19],\n       [  10,    7,   18,   11,  905,   19,   20,   32,   25,   89],\n       [  29,    8,   21,   68,   15,  791,   26,   17,   51,   21],\n       [  23,    4,   16,    6,   22,   21, 1057,    2,   13,    6],\n       [   3,    8,   22,   27,   20,   14,    6, 1100,   18,   71],\n       [  18,   13,   55,   65,   18,   69,   10,   18,  940,   28],\n       [   8,    4,   13,   24,   97,   35,    3,   66,   27,  939]],\n      dtype=int64)"
     },
     "execution_count": 13,
     "metadata": {},
     "output_type": "execute_result"
    }
   ],
   "source": [
    "from sklearn.tree import DecisionTreeClassifier\n",
    "dtc = DecisionTreeClassifier()\n",
    "clf = dtc.fit(X_train, y_train)\n",
    "y_pred = clf.predict(X_test)\n",
    "DTC_M = confusion_matrix(y_test, y_pred)\n",
    "DTC_M"
   ],
   "metadata": {
    "collapsed": false,
    "pycharm": {
     "name": "#%%\n"
    }
   }
  },
  {
   "cell_type": "code",
   "execution_count": 14,
   "outputs": [
    {
     "name": "stderr",
     "output_type": "stream",
     "text": [
      "C:\\ProgramData\\anaconda3\\lib\\site-packages\\sklearn\\linear_model\\_logistic.py:763: ConvergenceWarning: lbfgs failed to converge (status=1):\n",
      "STOP: TOTAL NO. of ITERATIONS REACHED LIMIT.\n",
      "\n",
      "Increase the number of iterations (max_iter) or scale the data as shown in:\n",
      "    https://scikit-learn.org/stable/modules/preprocessing.html\n",
      "Please also refer to the documentation for alternative solver options:\n",
      "    https://scikit-learn.org/stable/modules/linear_model.html#logistic-regression\n",
      "  n_iter_i = _check_optimize_result(\n"
     ]
    },
    {
     "data": {
      "text/plain": "array([[1129,    1,    1,    0,    2,   15,    8,    1,    9,    4],\n       [   0, 1313,    5,    8,    0,    8,    1,    3,   18,    1],\n       [   6,   15, 1046,   20,   29,    5,   25,   10,   35,    6],\n       [   4,   10,   23, 1007,    1,   56,    8,   16,   41,   18],\n       [   4,    9,    7,    4, 1037,    3,   10,    1,   13,   48],\n       [   8,   10,   12,   44,   12,  866,   28,    9,   35,   23],\n       [   9,    3,   10,    0,   15,   26, 1094,    3,   10,    0],\n       [   1,   11,   17,    3,   15,    3,    0, 1188,    5,   46],\n       [  10,   39,   11,   39,    2,   41,   11,    6, 1063,   12],\n       [   6,    9,    8,   22,   48,   10,    1,   43,    8, 1061]],\n      dtype=int64)"
     },
     "execution_count": 14,
     "metadata": {},
     "output_type": "execute_result"
    }
   ],
   "source": [
    "from sklearn.linear_model import LogisticRegression\n",
    "lr = LogisticRegression()\n",
    "clf = lr.fit(X_train, y_train)\n",
    "y_pred = clf.predict(X_test)\n",
    "LR_M = confusion_matrix(y_test, y_pred)\n",
    "LR_M"
   ],
   "metadata": {
    "collapsed": false,
    "pycharm": {
     "name": "#%%\n"
    }
   }
  },
  {
   "cell_type": "code",
   "execution_count": 15,
   "outputs": [
    {
     "data": {
      "text/plain": "array([[1165,    0,    1,    1,    0,    0,    2,    0,    0,    1],\n       [   0, 1349,    3,    0,    1,    1,    0,    1,    1,    1],\n       [   3,    2, 1172,    1,    1,    0,    1,    9,    6,    2],\n       [   0,    1,   14, 1131,    0,   15,    0,    2,   16,    5],\n       [   2,    4,    1,    0, 1106,    0,    2,    3,    1,   17],\n       [   1,    0,    0,   11,    1, 1010,   14,    0,    1,    9],\n       [   4,    0,    1,    0,    1,    4, 1158,    0,    2,    0],\n       [   0,    6,    5,    0,    0,    0,    0, 1262,    2,   14],\n       [   3,    6,    2,   12,    3,    7,    3,    0, 1191,    7],\n       [   3,    1,    1,    4,   18,    0,    0,   16,    3, 1170]],\n      dtype=int64)"
     },
     "execution_count": 15,
     "metadata": {},
     "output_type": "execute_result"
    }
   ],
   "source": [
    "clf = neigh.fit(X_train, y_train)\n",
    "y_pred = clf.predict(X_test)\n",
    "KNN_M = confusion_matrix(y_test, y_pred)\n",
    "KNN_M"
   ],
   "metadata": {
    "collapsed": false,
    "pycharm": {
     "name": "#%%\n"
    }
   }
  },
  {
   "cell_type": "code",
   "execution_count": 16,
   "outputs": [
    {
     "data": {
      "text/plain": "array([[ -2,   0,  -1,  -1,   1,   0,   0,   0,   2,   1],\n       [  0,  -1,   1,   0,   0,  -1,   0,   1,   0,   0],\n       [ -2,  -2,  12,   0,   2,   0,  -1,  -4,  -5,   0],\n       [  0,  -1,  -3,  17,   0,  -3,   0,  -1,  -8,  -1],\n       [ -1,  -2,   1,   1,   7,   0,   1,  -2,   1,  -6],\n       [  0,   1,   2,  -5,   3,  10,  -8,   0,   5,  -8],\n       [ -4,   0,  -1,   0,   2,   1,   2,   0,   0,   0],\n       [  1,  -3,   2,   0,   4,   0,   0,   2,  -1,  -5],\n       [ -2,   0,   0, -10,  -2,  -3,   0,   0,  22,  -5],\n       [  0,   0,  -1,   1,  -1,   2,   0,  -9,   0,   8]], dtype=int64)"
     },
     "execution_count": 16,
     "metadata": {},
     "output_type": "execute_result"
    }
   ],
   "source": [
    "SVC_M - KNN_M"
   ],
   "metadata": {
    "collapsed": false,
    "pycharm": {
     "name": "#%%\n"
    }
   }
  },
  {
   "cell_type": "code",
   "execution_count": 19,
   "outputs": [
    {
     "name": "stdout",
     "output_type": "stream",
     "text": [
      "точность 0 \t SVM = 0.99402  \t KNN = 0.99573  \t RFC = 0.98034  \t DTC = 0.89658  \t LR = 0.96496\n",
      "точность 1 \t SVM = 0.99337  \t KNN = 0.99410  \t RFC = 0.98158  \t DTC = 0.95505  \t LR = 0.96758\n",
      "точность 2 \t SVM = 0.98914  \t KNN = 0.97911  \t RFC = 0.95405  \t DTC = 0.81788  \t LR = 0.87385\n",
      "точность 3 \t SVM = 0.96959  \t KNN = 0.95524  \t RFC = 0.92736  \t DTC = 0.79139  \t LR = 0.85051\n",
      "точность 4 \t SVM = 0.97975  \t KNN = 0.97359  \t RFC = 0.94014  \t DTC = 0.79665  \t LR = 0.91285\n",
      "точность 5 \t SVM = 0.97421  \t KNN = 0.96466  \t RFC = 0.93505  \t DTC = 0.75549  \t LR = 0.82713\n",
      "точность 6 \t SVM = 0.99145  \t KNN = 0.98974  \t RFC = 0.97094  \t DTC = 0.90342  \t LR = 0.93504\n",
      "точность 7 \t SVM = 0.98061  \t KNN = 0.97905  \t RFC = 0.94957  \t DTC = 0.85337  \t LR = 0.92164\n",
      "точность 8 \t SVM = 0.98298  \t KNN = 0.96515  \t RFC = 0.92382  \t DTC = 0.76175  \t LR = 0.86143\n",
      "точность 9 \t SVM = 0.96875  \t KNN = 0.96217  \t RFC = 0.91941  \t DTC = 0.77220  \t LR = 0.87253\n"
     ]
    }
   ],
   "source": [
    "for i in range(10):\n",
    "    print(\"точность \" + str(i) + \" \\t SVM = %.5f\" % (SVC_M[i][i] / np.sum(SVC_M[i])),\" \\t KNN = %.5f\" % (KNN_M[i][i] / np.sum(KNN_M[i])), \" \\t RFC = %.5f\" % (RFC_M[i][i] / np.sum(RFC_M[i])), \" \\t DTC = %.5f\" % (DTC_M[i][i] / np.sum(DTC_M[i])),\" \\t LR = %.5f\" % (LR_M[i][i] / np.sum(LR_M[i])))"
   ],
   "metadata": {
    "collapsed": false,
    "pycharm": {
     "name": "#%%\n"
    }
   }
  },
  {
   "cell_type": "code",
   "execution_count": null,
   "outputs": [],
   "source": [],
   "metadata": {
    "collapsed": false,
    "pycharm": {
     "name": "#%%\n"
    }
   }
  }
 ],
 "metadata": {
  "kernelspec": {
   "display_name": "Python 3",
   "language": "python",
   "name": "python3"
  },
  "language_info": {
   "codemirror_mode": {
    "name": "ipython",
    "version": 2
   },
   "file_extension": ".py",
   "mimetype": "text/x-python",
   "name": "python",
   "nbconvert_exporter": "python",
   "pygments_lexer": "ipython2",
   "version": "2.7.6"
  }
 },
 "nbformat": 4,
 "nbformat_minor": 0
}