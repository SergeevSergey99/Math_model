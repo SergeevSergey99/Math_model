{
 "cells": [
  {
   "cell_type": "code",
   "outputs": [],
   "source": [
    "import re"
   ],
   "metadata": {
    "collapsed": false,
    "ExecuteTime": {
     "end_time": "2024-03-28T00:02:05.086756Z",
     "start_time": "2024-03-28T00:02:05.078056Z"
    }
   },
   "id": "37825bd727177307",
   "execution_count": 1
  },
  {
   "cell_type": "markdown",
   "source": [
    "#### Cell 1: Определение паттернов для токенизации\n",
    "Определяем паттерны для токенов, используя регулярные выражения. Это включает скобки, операторы, числа и переменные."
   ],
   "metadata": {
    "collapsed": false
   },
   "id": "356d371ddad3b7e1"
  },
  {
   "cell_type": "code",
   "outputs": [],
   "source": [
    "patterns = [\n",
    "    (re.compile(r'\\('), 'LPAREN'),\n",
    "    (re.compile(r'\\)'), 'RPAREN'),\n",
    "    (re.compile(r'\\+'), 'PLUS'),\n",
    "    (re.compile(r'\\-'), 'MINUS'),\n",
    "    (re.compile(r'\\*\\*'), 'POWER'),\n",
    "    (re.compile(r'\\*'), 'MULTIPLY'),\n",
    "    (re.compile(r'\\/'), 'DIVIDE'),\n",
    "    (re.compile(r'\\d+'), 'NUMBER'),\n",
    "    (re.compile(r'lambda'), 'LAMBDA'),\n",
    "    (re.compile(r'λ'), 'LAMBDA'),\n",
    "    (re.compile(r'\\.'), 'DOT'),\n",
    "    (re.compile(r'\\,'), 'COMMA'),\n",
    "    (re.compile(r'\\:'), 'COLON'),    \n",
    "    (re.compile(r'[a-zA-Z][a-zA-Z0-9]*'), 'VARIABLE'),\n",
    "]"
   ],
   "metadata": {
    "collapsed": false,
    "ExecuteTime": {
     "end_time": "2024-03-28T00:02:12.495143Z",
     "start_time": "2024-03-28T00:02:12.487614Z"
    }
   },
   "id": "720fdb3a0247980f",
   "execution_count": 2
  },
  {
   "cell_type": "markdown",
   "source": [
    "#### Cell 2: Приоритеты операторов\n",
    "Задаём словарь `OPERATOR_PRIORITY` для определения приоритета операторов, что важно для правильного построения AST."
   ],
   "metadata": {
    "collapsed": false
   },
   "id": "e1c067e7f1b0e9f5"
  },
  {
   "cell_type": "code",
   "outputs": [],
   "source": [
    "OPERATOR_PRIORITY = {\n",
    "    'POWER': 4,\n",
    "    'MULTIPLY': 3,\n",
    "    'DIVIDE': 3,\n",
    "    'PLUS': 2,\n",
    "    'MINUS': 2,\n",
    "}"
   ],
   "metadata": {
    "collapsed": false,
    "ExecuteTime": {
     "end_time": "2024-03-24T14:47:51.172515Z",
     "start_time": "2024-03-24T14:47:51.164347Z"
    }
   },
   "id": "c106c156b9f36ea5",
   "execution_count": 3
  },
  {
   "cell_type": "markdown",
   "source": [
    "#### Cell 3: Функция токенизации\n",
    "Реализуем функцию `tokenize`, преобразующую входную строку в список токенов на основе предопределённых паттернов."
   ],
   "metadata": {
    "collapsed": false
   },
   "id": "3826e254630988d2"
  },
  {
   "cell_type": "code",
   "outputs": [],
   "source": [
    "def tokenize(input_string):\n",
    "    tokens = []\n",
    "    position = 0\n",
    "    while position < len(input_string):\n",
    "        match = None\n",
    "        for pattern, token_type in patterns:\n",
    "            regex_match = pattern.match(input_string, position)\n",
    "            if regex_match:\n",
    "                match = regex_match.group(0)\n",
    "                tokens.append((token_type, match))\n",
    "                position += len(match)\n",
    "                break\n",
    "        if not match:\n",
    "            # Не найдено соответствий: пропускаем символ\n",
    "            position += 1\n",
    "    return tokens\n"
   ],
   "metadata": {
    "collapsed": false,
    "ExecuteTime": {
     "end_time": "2024-03-24T14:47:54.099158Z",
     "start_time": "2024-03-24T14:47:54.080198Z"
    }
   },
   "id": "4cad917e759745d",
   "execution_count": 4
  },
  {
   "cell_type": "markdown",
   "source": [
    "#### Cell 4: Тестирование токенизации\n",
    "Определяем тестовое лямбда-выражение и применяем функцию токенизации для получения списка токенов."
   ],
   "metadata": {
    "collapsed": false
   },
   "id": "f4067d83555c8e74"
  },
  {
   "cell_type": "code",
   "outputs": [
    {
     "name": "stdout",
     "output_type": "stream",
     "text": [
      "[('LAMBDA', 'lambda'), ('VARIABLE', 'x'), ('COMMA', ','), ('VARIABLE', 'y'), ('COLON', ':'), ('VARIABLE', 'x'), ('POWER', '**'), ('NUMBER', '2'), ('MINUS', '-'), ('LPAREN', '('), ('VARIABLE', 'x'), ('MULTIPLY', '*'), ('NUMBER', '3'), ('PLUS', '+'), ('VARIABLE', 'y'), ('RPAREN', ')')]\n"
     ]
    }
   ],
   "source": [
    "true_expr = lambda x, y: x**2 - (x * 3 + y)\n",
    "lambda_expr = 'lambda x, y: x**2 - (x * 3 + y)'\n",
    "tokens = tokenize(lambda_expr)\n",
    "print(tokens)"
   ],
   "metadata": {
    "collapsed": false,
    "ExecuteTime": {
     "end_time": "2024-03-24T15:02:08.238378Z",
     "start_time": "2024-03-24T15:02:08.220131Z"
    }
   },
   "id": "d54b124045880890",
   "execution_count": 5
  },
  {
   "cell_type": "markdown",
   "source": [
    "#### Cell 5: Определение структуры узла\n",
    "Определяем класс `Node` для представления узлов в AST, каждый узел может иметь тип, значение и дочерние узлы."
   ],
   "metadata": {
    "collapsed": false
   },
   "id": "3a6f21752aadae73"
  },
  {
   "cell_type": "code",
   "outputs": [],
   "source": [
    "class Node:\n",
    "    def __init__(self, type, value=None, children=None):\n",
    "        self.type = type\n",
    "        self.value = value\n",
    "        self.children = children if children else []\n",
    "\n",
    "    def __repr__(self):\n",
    "        return self.pretty_print()\n",
    "\n",
    "    def pretty_print(self, level=0):\n",
    "        ret = \"    \" * level + f\"{self.type}: {self.value}\\n\"\n",
    "        for child in self.children:\n",
    "            ret += child.pretty_print(level + 1)\n",
    "        return ret"
   ],
   "metadata": {
    "collapsed": false,
    "ExecuteTime": {
     "end_time": "2024-03-24T15:02:12.534062Z",
     "start_time": "2024-03-24T15:02:12.525838Z"
    }
   },
   "id": "57847c9f254b2cca",
   "execution_count": 6
  },
  {
   "cell_type": "markdown",
   "source": [
    "#### Cell 6: Парсинг выражения в AST\n",
    "Реализуем функцию `parse_expression`, которая преобразует список токенов в AST, учитывая приоритеты операций."
   ],
   "metadata": {
    "collapsed": false
   },
   "id": "fbb0c6a1f80d735c"
  },
  {
   "cell_type": "code",
   "outputs": [],
   "source": [
    "def parse_expression(tokens, start=0, end=None):\n",
    "    if end is None:\n",
    "        end = len(tokens)\n",
    "    \n",
    "    if start == end:\n",
    "        return None\n",
    "    elif end - start == 1:\n",
    "        token = tokens[start]\n",
    "        return Node(token[0], value=token[1])\n",
    "\n",
    "    # Находим основную операцию (пропускаем выражения в скобках)\n",
    "    min_priority = float('inf')\n",
    "    main_op = None\n",
    "    i = start\n",
    "    while i < end:\n",
    "        token = tokens[i]\n",
    "        if token[0] == 'LPAREN':\n",
    "            # Пропускаем содержимое скобок\n",
    "            balance = 1\n",
    "            while balance != 0:\n",
    "                i += 1\n",
    "                if tokens[i][0] == 'LPAREN':\n",
    "                    balance += 1\n",
    "                elif tokens[i][0] == 'RPAREN':\n",
    "                    balance -= 1\n",
    "        elif token[0] in ['PLUS', 'MINUS', 'MULTIPLY', 'POWER'] and OPERATOR_PRIORITY[token[0]] <= min_priority:\n",
    "            min_priority = OPERATOR_PRIORITY[token[0]]\n",
    "            main_op = i\n",
    "        i += 1\n",
    "\n",
    "    if main_op is not None:\n",
    "        left = parse_expression(tokens, start, main_op)\n",
    "        right = parse_expression(tokens, main_op + 1, end)\n",
    "        return Node('OPERATION', value=tokens[main_op][1], children=[left, right])\n",
    "    \n",
    "    if tokens[start][0] == 'LPAREN' and tokens[end-1][0] == 'RPAREN':\n",
    "        return parse_expression(tokens, start + 1, end - 1)\n",
    "\n",
    "    # Необходим дополнительный анализ для других случаев\n",
    "    raise NotImplementedError(\"Parser logic for other cases\")\n",
    "\n",
    "def build_ast(tokens):\n",
    "    # Убеждаемся, что первый токен - 'LAMBDA'\n",
    "    assert tokens[0][0] == 'LAMBDA'\n",
    "    \n",
    "    i = 1  # Начинаем с первого токена после 'LAMBDA'\n",
    "    params = []\n",
    "    while tokens[i][0] != 'COLON':\n",
    "        # Собираем все параметры до двоеточия\n",
    "        if tokens[i][0] == 'VARIABLE':\n",
    "            params.append(tokens[i][1])\n",
    "        i += 1\n",
    "\n",
    "    # Тело лямбда-выражения начинается после ':'\n",
    "    body_start = i + 1\n",
    "    body_node = parse_expression(tokens[body_start:])\n",
    "\n",
    "    # Создаем узел лямбда-выражения с параметрами и телом\n",
    "    return Node('LAMBDA', value=params, children=[body_node])"
   ],
   "metadata": {
    "collapsed": false,
    "ExecuteTime": {
     "end_time": "2024-03-24T15:05:42.856518Z",
     "start_time": "2024-03-24T15:05:42.837123Z"
    }
   },
   "id": "9347c207f4000087",
   "execution_count": 7
  },
  {
   "cell_type": "markdown",
   "source": [
    "#### Cell 7: Визуализация AST\n",
    "Строим AST из токенов и выводим его структуру для визуальной проверки корректности парсинга."
   ],
   "metadata": {
    "collapsed": false
   },
   "id": "183adfb113a668c4"
  },
  {
   "cell_type": "code",
   "outputs": [
    {
     "name": "stdout",
     "output_type": "stream",
     "text": [
      "lambda x, y: x**2 - (x * 3 + y)\n",
      "LAMBDA: ['x', 'y']\n",
      "    OPERATION: -\n",
      "        OPERATION: **\n",
      "            VARIABLE: x\n",
      "            NUMBER: 2\n",
      "        OPERATION: +\n",
      "            OPERATION: *\n",
      "                VARIABLE: x\n",
      "                NUMBER: 3\n",
      "            VARIABLE: y\n"
     ]
    }
   ],
   "source": [
    "ast = build_ast(tokens)\n",
    "print(lambda_expr)\n",
    "print(ast)"
   ],
   "metadata": {
    "collapsed": false,
    "ExecuteTime": {
     "end_time": "2024-03-24T15:05:43.587170Z",
     "start_time": "2024-03-24T15:05:43.569456Z"
    }
   },
   "id": "e955298d265b94c8",
   "execution_count": 8
  },
  {
   "cell_type": "markdown",
   "source": [
    "#### Cell 8: Вычисление значения AST\n",
    "Реализуем функцию `evaluate_ast`, которая вычисляет результат выражения, представленного в виде AST, для заданных значений переменных."
   ],
   "metadata": {
    "collapsed": false
   },
   "id": "e1a283fdfd525a8d"
  },
  {
   "cell_type": "code",
   "outputs": [],
   "source": [
    "def evaluate_ast(node, variables=None):\n",
    "    if variables is None:\n",
    "        variables = {}\n",
    "\n",
    "    if node.type == 'NUMBER':\n",
    "        return float(node.value)\n",
    "    elif node.type == 'VARIABLE':\n",
    "        # Здесь используем значения переменных из словаря\n",
    "        if node.value in variables:\n",
    "            return variables[node.value]\n",
    "        else:\n",
    "            raise ValueError(f\"Undefined variable: {node.value}\")\n",
    "    elif node.type == 'OPERATION':\n",
    "        if node.value == '+':\n",
    "            return evaluate_ast(node.children[0], variables) + evaluate_ast(node.children[1], variables)\n",
    "        elif node.value == '-':\n",
    "            return evaluate_ast(node.children[0], variables) - evaluate_ast(node.children[1], variables)\n",
    "        elif node.value == '*':\n",
    "            return evaluate_ast(node.children[0], variables) * evaluate_ast(node.children[1], variables)\n",
    "        elif node.value == '**':\n",
    "            return evaluate_ast(node.children[0], variables) ** evaluate_ast(node.children[1], variables)\n",
    "    elif node.type == 'LAMBDA':\n",
    "        return evaluate_ast(node.children[0], variables)\n",
    "    else:\n",
    "        raise ValueError(f\"Unknown node type: {node.type}\")"
   ],
   "metadata": {
    "collapsed": false,
    "ExecuteTime": {
     "end_time": "2024-03-24T15:05:52.528420Z",
     "start_time": "2024-03-24T15:05:52.516106Z"
    }
   },
   "id": "2fe92f6ab363009c",
   "execution_count": 9
  },
  {
   "cell_type": "markdown",
   "source": [
    "#### Cell 9: Тестирование вычисления выражения\n",
    "Тестируем вычисление AST с конкретными значениями переменных и сравниваем результат с ожидаемым значением."
   ],
   "metadata": {
    "collapsed": false
   },
   "id": "5dae0b50e6efd076"
  },
  {
   "cell_type": "code",
   "outputs": [
    {
     "name": "stdout",
     "output_type": "stream",
     "text": [
      "parsed result =  -5.0\n",
      "true result =  -5\n"
     ]
    }
   ],
   "source": [
    "x = 2\n",
    "y = 3\n",
    "result = evaluate_ast(ast, {'x' : x, 'y' : y})\n",
    "print('parsed result = ', result)\n",
    "print('true result = ', true_expr(x, y))"
   ],
   "metadata": {
    "collapsed": false,
    "ExecuteTime": {
     "end_time": "2024-03-24T15:10:24.989002Z",
     "start_time": "2024-03-24T15:10:24.978418Z"
    }
   },
   "id": "d29447aa645b9b4c",
   "execution_count": 10
  }
 ],
 "metadata": {
  "kernelspec": {
   "display_name": "Python 3",
   "language": "python",
   "name": "python3"
  },
  "language_info": {
   "codemirror_mode": {
    "name": "ipython",
    "version": 2
   },
   "file_extension": ".py",
   "mimetype": "text/x-python",
   "name": "python",
   "nbconvert_exporter": "python",
   "pygments_lexer": "ipython2",
   "version": "2.7.6"
  }
 },
 "nbformat": 4,
 "nbformat_minor": 5
}
