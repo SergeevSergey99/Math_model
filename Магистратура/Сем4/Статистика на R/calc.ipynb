{
 "cells": [
  {
   "metadata": {},
   "cell_type": "markdown",
   "source": "![task](task.png)",
   "id": "4fc1b54112a1aa2c"
  },
  {
   "metadata": {
    "ExecuteTime": {
     "end_time": "2024-04-22T12:03:35.355865Z",
     "start_time": "2024-04-22T12:03:35.352354Z"
    }
   },
   "cell_type": "code",
   "source": [
    "E = (2*1*1 + 2*3*2 + 3*4*2+4*4*1+4*5*2+6*5*2+8*6*2+9*6*1+12*7*2+16*8*1)/16\n",
    "E"
   ],
   "id": "initial_id",
   "outputs": [
    {
     "data": {
      "text/plain": [
       "37.5"
      ]
     },
     "execution_count": 43,
     "metadata": {},
     "output_type": "execute_result"
    }
   ],
   "execution_count": 43
  },
  {
   "metadata": {
    "ExecuteTime": {
     "end_time": "2024-04-22T11:28:17.278455Z",
     "start_time": "2024-04-22T11:28:17.261112Z"
    }
   },
   "cell_type": "code",
   "source": "6.25*5",
   "id": "7592097d823cb534",
   "outputs": [
    {
     "data": {
      "text/plain": [
       "31.25"
      ]
     },
     "execution_count": 2,
     "metadata": {},
     "output_type": "execute_result"
    }
   ],
   "execution_count": 2
  },
  {
   "metadata": {
    "ExecuteTime": {
     "end_time": "2024-04-22T12:18:41.275584Z",
     "start_time": "2024-04-22T12:18:41.259099Z"
    }
   },
   "cell_type": "code",
   "source": "import numpy as np",
   "id": "eac1d8c1f4f6b013",
   "outputs": [],
   "execution_count": 75
  },
  {
   "metadata": {
    "ExecuteTime": {
     "end_time": "2024-04-22T12:19:09.599520Z",
     "start_time": "2024-04-22T12:19:09.592003Z"
    }
   },
   "cell_type": "code",
   "source": [
    "x =  np.array([1,    2,      3,      4,      6,      8,      9,      12,     16])\n",
    "px = np.array([1/16, 2/16,   2/16,   3/16,   2/16,   2/16,   1/16,   2/16,   1/16])\n",
    "\n",
    "y =  np.array([2,        3,      4,      5,      6,      7,      8])\n",
    "py = np.array([1/16,     2/16,   3/16,   4/16,   3/16,   2/16,   1/16])\n",
    "\n",
    "xy =  np.array([2,       6,      12,     16,     20,     30,     48,     54,     84,     128])\n",
    "pxy = np.array([1/16,    2/16,   2/16,   1/16,   2/16,   2/16,   2/16,   1/16,   2/16,   1/16])"
   ],
   "id": "a8bc4e7247574de3",
   "outputs": [],
   "execution_count": 76
  },
  {
   "metadata": {
    "ExecuteTime": {
     "end_time": "2024-04-22T12:19:12.857036Z",
     "start_time": "2024-04-22T12:19:12.850104Z"
    }
   },
   "cell_type": "code",
   "source": [
    "Ex = np.average(x, weights=px)\n",
    "Ex"
   ],
   "id": "453d7887d9f42fa9",
   "outputs": [
    {
     "data": {
      "text/plain": [
       "6.25"
      ]
     },
     "execution_count": 77,
     "metadata": {},
     "output_type": "execute_result"
    }
   ],
   "execution_count": 77
  },
  {
   "metadata": {
    "ExecuteTime": {
     "end_time": "2024-04-22T12:19:13.305652Z",
     "start_time": "2024-04-22T12:19:13.297728Z"
    }
   },
   "cell_type": "code",
   "source": [
    "Ey = np.average(y, weights=py)\n",
    "print(Ey)"
   ],
   "id": "837f52a691580f1b",
   "outputs": [
    {
     "name": "stdout",
     "output_type": "stream",
     "text": [
      "5.0\n"
     ]
    }
   ],
   "execution_count": 78
  },
  {
   "metadata": {
    "ExecuteTime": {
     "end_time": "2024-04-22T12:19:13.737640Z",
     "start_time": "2024-04-22T12:19:13.721059Z"
    }
   },
   "cell_type": "code",
   "source": [
    "Exy = np.average(xy, weights=pxy)\n",
    "print(Exy)"
   ],
   "id": "d7f3228e8e541344",
   "outputs": [
    {
     "name": "stdout",
     "output_type": "stream",
     "text": [
      "37.5\n"
     ]
    }
   ],
   "execution_count": 79
  },
  {
   "metadata": {
    "ExecuteTime": {
     "end_time": "2024-04-22T12:19:14.276728Z",
     "start_time": "2024-04-22T12:19:14.263902Z"
    }
   },
   "cell_type": "code",
   "source": [
    "cov = Exy - Ex * Ey\n",
    "cov"
   ],
   "id": "47fb80991da4ad51",
   "outputs": [
    {
     "data": {
      "text/plain": [
       "6.25"
      ]
     },
     "execution_count": 80,
     "metadata": {},
     "output_type": "execute_result"
    }
   ],
   "execution_count": 80
  },
  {
   "metadata": {
    "ExecuteTime": {
     "end_time": "2024-04-22T12:21:33.391212Z",
     "start_time": "2024-04-22T12:21:33.382655Z"
    }
   },
   "cell_type": "code",
   "source": [
    "Ex2 = np.average(x**2, weights=px)\n",
    "Ex2"
   ],
   "id": "db5fbed88269c4f4",
   "outputs": [
    {
     "data": {
      "text/plain": [
       "56.25"
      ]
     },
     "execution_count": 90,
     "metadata": {},
     "output_type": "execute_result"
    }
   ],
   "execution_count": 90
  },
  {
   "metadata": {
    "ExecuteTime": {
     "end_time": "2024-04-22T12:21:57.197215Z",
     "start_time": "2024-04-22T12:21:57.181738Z"
    }
   },
   "cell_type": "code",
   "source": [
    "Ey2 = np.average(y**2,weights=py)\n",
    "Ey2"
   ],
   "id": "a4aec20951c4c562",
   "outputs": [
    {
     "data": {
      "text/plain": [
       "27.5"
      ]
     },
     "execution_count": 91,
     "metadata": {},
     "output_type": "execute_result"
    }
   ],
   "execution_count": 91
  },
  {
   "metadata": {
    "ExecuteTime": {
     "end_time": "2024-04-22T12:24:41.859843Z",
     "start_time": "2024-04-22T12:24:41.847689Z"
    }
   },
   "cell_type": "code",
   "source": [
    "Dx = Ex2 - Ex**2\n",
    "Dx"
   ],
   "id": "d7296a3ab76e48b3",
   "outputs": [
    {
     "data": {
      "text/plain": [
       "17.1875"
      ]
     },
     "execution_count": 94,
     "metadata": {},
     "output_type": "execute_result"
    }
   ],
   "execution_count": 94
  },
  {
   "metadata": {
    "ExecuteTime": {
     "end_time": "2024-04-22T12:24:56.289234Z",
     "start_time": "2024-04-22T12:24:56.271914Z"
    }
   },
   "cell_type": "code",
   "source": [
    "Dx = np.average((x-Ex)**2, weights=px)\n",
    "Dx"
   ],
   "id": "10edccb934a763f6",
   "outputs": [
    {
     "data": {
      "text/plain": [
       "17.1875"
      ]
     },
     "execution_count": 95,
     "metadata": {},
     "output_type": "execute_result"
    }
   ],
   "execution_count": 95
  },
  {
   "metadata": {
    "ExecuteTime": {
     "end_time": "2024-04-22T12:28:08.593858Z",
     "start_time": "2024-04-22T12:28:08.575835Z"
    }
   },
   "cell_type": "code",
   "source": [
    "σx = Dx**(1/2)\n",
    "σx"
   ],
   "id": "cb9f6ba8b4c01c63",
   "outputs": [
    {
     "data": {
      "text/plain": [
       "4.14578098794425"
      ]
     },
     "execution_count": 104,
     "metadata": {},
     "output_type": "execute_result"
    }
   ],
   "execution_count": 104
  },
  {
   "metadata": {
    "ExecuteTime": {
     "end_time": "2024-04-22T12:27:47.011870Z",
     "start_time": "2024-04-22T12:27:46.999188Z"
    }
   },
   "cell_type": "code",
   "source": [
    "Dy = np.average((y - Ey)**2, weights=py)\n",
    "Dy"
   ],
   "id": "4d13fa2bc6106f01",
   "outputs": [
    {
     "data": {
      "text/plain": [
       "2.5"
      ]
     },
     "execution_count": 102,
     "metadata": {},
     "output_type": "execute_result"
    }
   ],
   "execution_count": 102
  },
  {
   "metadata": {
    "ExecuteTime": {
     "end_time": "2024-04-22T12:28:14.164102Z",
     "start_time": "2024-04-22T12:28:14.150932Z"
    }
   },
   "cell_type": "code",
   "source": [
    "σy = Dy**(1/2)\n",
    "σy"
   ],
   "id": "608fc9c6dd812a85",
   "outputs": [
    {
     "data": {
      "text/plain": [
       "1.5811388300841898"
      ]
     },
     "execution_count": 105,
     "metadata": {},
     "output_type": "execute_result"
    }
   ],
   "execution_count": 105
  },
  {
   "metadata": {
    "ExecuteTime": {
     "end_time": "2024-04-22T12:29:10.575901Z",
     "start_time": "2024-04-22T12:29:10.559638Z"
    }
   },
   "cell_type": "code",
   "source": "cov / (σx * σy)",
   "id": "4c6a46d29ea6b6d8",
   "outputs": [
    {
     "data": {
      "text/plain": [
       "0.9534625892455921"
      ]
     },
     "execution_count": 106,
     "metadata": {},
     "output_type": "execute_result"
    }
   ],
   "execution_count": 106
  },
  {
   "metadata": {
    "ExecuteTime": {
     "end_time": "2024-04-22T12:38:50.695052Z",
     "start_time": "2024-04-22T12:38:50.685908Z"
    }
   },
   "cell_type": "code",
   "source": [
    "x = np.array([1,        2,      3,      4,      5,      6])\n",
    "px = np.array([3/16,    1/16,   2/16,   3/16,   3/16,   4/16])"
   ],
   "id": "77c90eda1994fc6e",
   "outputs": [],
   "execution_count": 109
  },
  {
   "metadata": {
    "ExecuteTime": {
     "end_time": "2024-04-22T12:39:08.678644Z",
     "start_time": "2024-04-22T12:39:08.672060Z"
    }
   },
   "cell_type": "code",
   "source": [
    "E = np.average(x, weights=px)\n",
    "E"
   ],
   "id": "f55259102ac93aca",
   "outputs": [
    {
     "data": {
      "text/plain": [
       "3.875"
      ]
     },
     "execution_count": 111,
     "metadata": {},
     "output_type": "execute_result"
    }
   ],
   "execution_count": 111
  },
  {
   "metadata": {
    "ExecuteTime": {
     "end_time": "2024-04-22T13:29:09.074192Z",
     "start_time": "2024-04-22T13:29:09.058201Z"
    }
   },
   "cell_type": "code",
   "source": [
    "D = np.average((x-E)**2, weights=px)\n",
    "D"
   ],
   "id": "54a6322e072e20ce",
   "outputs": [
    {
     "data": {
      "text/plain": [
       "3.234375"
      ]
     },
     "execution_count": 112,
     "metadata": {},
     "output_type": "execute_result"
    }
   ],
   "execution_count": 112
  },
  {
   "metadata": {
    "ExecuteTime": {
     "end_time": "2024-04-22T13:30:19.207287Z",
     "start_time": "2024-04-22T13:30:19.199300Z"
    }
   },
   "cell_type": "code",
   "source": [
    "σ = D**(1/2)\n",
    "σ"
   ],
   "id": "854d5bd2fe026bf7",
   "outputs": [
    {
     "data": {
      "text/plain": [
       "1.79843682124227"
      ]
     },
     "execution_count": 114,
     "metadata": {},
     "output_type": "execute_result"
    }
   ],
   "execution_count": 114
  },
  {
   "metadata": {},
   "cell_type": "code",
   "outputs": [
    {
     "data": {
      "text/plain": [
       "0.982403712199"
      ]
     },
     "execution_count": 115,
     "metadata": {},
     "output_type": "execute_result"
    }
   ],
   "execution_count": 115,
   "source": "1-0.51**6",
   "id": "59f4bb70b3468e88"
  },
  {
   "metadata": {
    "ExecuteTime": {
     "end_time": "2024-04-22T13:51:41.396970Z",
     "start_time": "2024-04-22T13:51:41.379656Z"
    }
   },
   "cell_type": "code",
   "source": [
    "def prin_ED(x, p, label = \"\"):\n",
    "    E = np.average(x, weights=p)\n",
    "    print(\"E\"+label+\" = \", E)\n",
    "    D = np.average((x-E)**2, weights=p)\n",
    "    print(\"D\"+label+\" = \", D)\n",
    "    σ = D**(1/2)\n",
    "    print(\"σ\"+label+\" = \", σ)\n",
    "    return E, D, σ"
   ],
   "id": "5e6a5a9329b61d6b",
   "outputs": [],
   "execution_count": 133
  },
  {
   "metadata": {
    "ExecuteTime": {
     "end_time": "2024-04-22T13:59:29.883126Z",
     "start_time": "2024-04-22T13:59:29.876052Z"
    }
   },
   "cell_type": "code",
   "source": [
    "x = np.array([159,      162,    184,    192])\n",
    "px = np.array([0.26,    0.19,   0.21,   0.34])"
   ],
   "id": "9ed208d857e413c1",
   "outputs": [],
   "execution_count": 150
  },
  {
   "metadata": {
    "ExecuteTime": {
     "end_time": "2024-04-22T13:59:30.300010Z",
     "start_time": "2024-04-22T13:59:30.286491Z"
    }
   },
   "cell_type": "code",
   "source": "Ex,_,σx = prin_ED(x, px, \"x\")",
   "id": "e02c9f3a04c453b3",
   "outputs": [
    {
     "name": "stdout",
     "output_type": "stream",
     "text": [
      "Ex =  176.04000000000002\n",
      "Dx =  212.85840000000002\n",
      "σx =  14.589667576747594\n"
     ]
    }
   ],
   "execution_count": 151
  },
  {
   "metadata": {
    "ExecuteTime": {
     "end_time": "2024-04-22T14:01:15.138553Z",
     "start_time": "2024-04-22T14:01:15.131648Z"
    }
   },
   "cell_type": "code",
   "source": [
    "y = np.array([2,      3])\n",
    "py = np.array([0.3,    0.7])"
   ],
   "id": "b5c85a5ac3c77eef",
   "outputs": [],
   "execution_count": 158
  },
  {
   "metadata": {
    "ExecuteTime": {
     "end_time": "2024-04-22T14:01:15.340537Z",
     "start_time": "2024-04-22T14:01:15.337047Z"
    }
   },
   "cell_type": "code",
   "source": "Ey,_,σy = prin_ED(y, py, \"y\")",
   "id": "e87b3229900192d9",
   "outputs": [
    {
     "name": "stdout",
     "output_type": "stream",
     "text": [
      "Ey =  2.6999999999999997\n",
      "Dy =  0.21\n",
      "σy =  0.458257569495584\n"
     ]
    }
   ],
   "execution_count": 159
  },
  {
   "metadata": {
    "ExecuteTime": {
     "end_time": "2024-04-22T14:01:15.555233Z",
     "start_time": "2024-04-22T14:01:15.537120Z"
    }
   },
   "cell_type": "code",
   "source": [
    "xy = np.array([159*2, 162*2, 184*2, 192*2, 159*3, 162*3, 184*3, 192*3])\n",
    "p = np.array([0.13,  0.09,  0.01,  0.07,  0.13,  0.1,   0.2,   0.27])\n",
    "Exy, Dxy, σxy = prin_ED(xy, p, \"xy\")"
   ],
   "id": "a6cf052e2ea0bef9",
   "outputs": [
    {
     "name": "stdout",
     "output_type": "stream",
     "text": [
      "Exy =  477.59000000000003\n",
      "Dxy =  9896.601900000001\n",
      "σxy =  99.48166615010025\n"
     ]
    }
   ],
   "execution_count": 160
  },
  {
   "metadata": {
    "ExecuteTime": {
     "end_time": "2024-04-22T14:01:15.740061Z",
     "start_time": "2024-04-22T14:01:15.731240Z"
    }
   },
   "cell_type": "code",
   "source": [
    "cov = Exy - Ex * Ey\n",
    "cov"
   ],
   "id": "2e85e252a974da69",
   "outputs": [
    {
     "data": {
      "text/plain": [
       "2.282000000000039"
      ]
     },
     "execution_count": 161,
     "metadata": {},
     "output_type": "execute_result"
    }
   ],
   "execution_count": 161
  },
  {
   "metadata": {
    "ExecuteTime": {
     "end_time": "2024-04-22T14:01:16.019634Z",
     "start_time": "2024-04-22T14:01:16.003768Z"
    }
   },
   "cell_type": "code",
   "source": [
    "koef = cov / (σx * σy)\n",
    "koef"
   ],
   "id": "9f8f67ad53b7881c",
   "outputs": [
    {
     "data": {
      "text/plain": [
       "0.34131910333049137"
      ]
     },
     "execution_count": 162,
     "metadata": {},
     "output_type": "execute_result"
    }
   ],
   "execution_count": 162
  }
 ],
 "metadata": {
  "kernelspec": {
   "display_name": "Python 3",
   "language": "python",
   "name": "python3"
  },
  "language_info": {
   "codemirror_mode": {
    "name": "ipython",
    "version": 2
   },
   "file_extension": ".py",
   "mimetype": "text/x-python",
   "name": "python",
   "nbconvert_exporter": "python",
   "pygments_lexer": "ipython2",
   "version": "2.7.6"
  }
 },
 "nbformat": 4,
 "nbformat_minor": 5
}
