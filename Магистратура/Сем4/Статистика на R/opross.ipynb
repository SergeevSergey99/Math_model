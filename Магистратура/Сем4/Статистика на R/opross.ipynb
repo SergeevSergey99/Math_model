{
 "cells": [
  {
   "cell_type": "code",
   "id": "initial_id",
   "metadata": {
    "collapsed": true,
    "ExecuteTime": {
     "end_time": "2024-04-26T18:56:02.689865Z",
     "start_time": "2024-04-26T18:56:02.685876Z"
    }
   },
   "source": [
    "import pandas as pd\n",
    "import scipy as sp\n",
    "import numpy as np"
   ],
   "outputs": [],
   "execution_count": 18
  },
  {
   "metadata": {
    "ExecuteTime": {
     "end_time": "2024-04-24T06:03:29.425066Z",
     "start_time": "2024-04-24T06:03:29.407446Z"
    }
   },
   "cell_type": "code",
   "source": [
    "df = pd.read_csv('hypothesis_2.csv', header=None)\n",
    "df"
   ],
   "id": "e45e0fc69e94b2ee",
   "outputs": [
    {
     "data": {
      "text/plain": [
       "     0\n",
       "0    2\n",
       "1    3\n",
       "2    5\n",
       "3    3\n",
       "4    4\n",
       "..  ..\n",
       "95  10\n",
       "96   4\n",
       "97   0\n",
       "98   4\n",
       "99   3\n",
       "\n",
       "[100 rows x 1 columns]"
      ],
      "text/html": [
       "<div>\n",
       "<style scoped>\n",
       "    .dataframe tbody tr th:only-of-type {\n",
       "        vertical-align: middle;\n",
       "    }\n",
       "\n",
       "    .dataframe tbody tr th {\n",
       "        vertical-align: top;\n",
       "    }\n",
       "\n",
       "    .dataframe thead th {\n",
       "        text-align: right;\n",
       "    }\n",
       "</style>\n",
       "<table border=\"1\" class=\"dataframe\">\n",
       "  <thead>\n",
       "    <tr style=\"text-align: right;\">\n",
       "      <th></th>\n",
       "      <th>0</th>\n",
       "    </tr>\n",
       "  </thead>\n",
       "  <tbody>\n",
       "    <tr>\n",
       "      <th>0</th>\n",
       "      <td>2</td>\n",
       "    </tr>\n",
       "    <tr>\n",
       "      <th>1</th>\n",
       "      <td>3</td>\n",
       "    </tr>\n",
       "    <tr>\n",
       "      <th>2</th>\n",
       "      <td>5</td>\n",
       "    </tr>\n",
       "    <tr>\n",
       "      <th>3</th>\n",
       "      <td>3</td>\n",
       "    </tr>\n",
       "    <tr>\n",
       "      <th>4</th>\n",
       "      <td>4</td>\n",
       "    </tr>\n",
       "    <tr>\n",
       "      <th>...</th>\n",
       "      <td>...</td>\n",
       "    </tr>\n",
       "    <tr>\n",
       "      <th>95</th>\n",
       "      <td>10</td>\n",
       "    </tr>\n",
       "    <tr>\n",
       "      <th>96</th>\n",
       "      <td>4</td>\n",
       "    </tr>\n",
       "    <tr>\n",
       "      <th>97</th>\n",
       "      <td>0</td>\n",
       "    </tr>\n",
       "    <tr>\n",
       "      <th>98</th>\n",
       "      <td>4</td>\n",
       "    </tr>\n",
       "    <tr>\n",
       "      <th>99</th>\n",
       "      <td>3</td>\n",
       "    </tr>\n",
       "  </tbody>\n",
       "</table>\n",
       "<p>100 rows × 1 columns</p>\n",
       "</div>"
      ]
     },
     "execution_count": 6,
     "metadata": {},
     "output_type": "execute_result"
    }
   ],
   "execution_count": 6
  },
  {
   "metadata": {
    "ExecuteTime": {
     "end_time": "2024-04-26T19:59:44.087105Z",
     "start_time": "2024-04-26T19:59:43.438669Z"
    }
   },
   "cell_type": "code",
   "source": [
    "import pandas as pd\n",
    "import numpy as np\n",
    "import scipy.stats as stats\n",
    "import matplotlib.pyplot as plt\n",
    "from fractions import Fraction\n",
    "\n",
    "# Чтение данных\n",
    "url = \"https://studio.openedu.ru/assets/courseware/v1/6ea47ed325da363ccbb5ac148f2ddfc0/asset-v1:ITMOUniversity+ELSTATAN+fall_2021_ITMO+type@asset+block/hypothesis_2.csv\"\n",
    "data = pd.read_csv(url, header=None)\n",
    "sample = data[0]\n",
    "\n",
    "# Расчет таблицы распределения\n",
    "distribution_table = pd.Series(sample).value_counts(normalize=True).apply(lambda x: Fraction(x).limit_denominator()).sort_index()\n",
    "print(distribution_table)\n",
    "\n",
    "# Функция эмпирического распределения\n",
    "ecdf = stats.cumfreq(sample, numbins=len(np.unique(sample)), defaultreallimits=(sample.min(), sample.max()))\n",
    "x = np.linspace(sample.min(), sample.max(), num=len(ecdf.cumcount))\n",
    "y = ecdf.cumcount / len(sample)\n",
    "\n",
    "# Вывод значений функции распределения\n",
    "print(\"x:\", x)\n",
    "print(\"y:\", y)\n",
    "\n",
    "\n",
    "# Проверка гипотезы с использованием критерия Колмогорова-Смирнова\n",
    "D, p_value = stats.kstest(sample, 'uniform', args=(0, 10))\n",
    "print(\"D-statistic:\", D)\n",
    "print(\"p-value:\", p_value)\n",
    "\n",
    "# Определение и вывод результатов проверки гипотезы\n",
    "C = 1.36\n",
    "rho = np.sqrt(len(sample)) * D\n",
    "print(\"rho:\", rho)\n",
    "\n",
    "if rho > C:\n",
    "    print(\"Гипотеза отвергается\")\n",
    "else:\n",
    "    print(\"Гипотеза не отвергается\")\n",
    "\n",
    "# Построение графика функции\n",
    "plt.step(x, y, where='post')\n",
    "plt.show()"
   ],
   "id": "fd113b6bbbc0a07a",
   "outputs": [
    {
     "name": "stdout",
     "output_type": "stream",
     "text": [
      "0\n",
      "0      7/100\n",
      "1       7/50\n",
      "2       9/50\n",
      "3     21/100\n",
      "4       3/20\n",
      "5       3/25\n",
      "6      9/100\n",
      "7      3/100\n",
      "10     1/100\n",
      "Name: proportion, dtype: object\n",
      "x: [ 0.    1.25  2.5   3.75  5.    6.25  7.5   8.75 10.  ]\n",
      "y: [0.21 0.39 0.6  0.75 0.87 0.96 0.99 0.99 1.  ]\n",
      "D-statistic: 0.37\n",
      "p-value: 8.631287196007263e-13\n",
      "rho: 3.7\n",
      "Гипотеза отвергается\n"
     ]
    },
    {
     "data": {
      "text/plain": [
       "<Figure size 640x480 with 1 Axes>"
      ],
      "image/png": "[encoded data removed]"
     },
     "metadata": {},
     "output_type": "display_data"
    }
   ],
   "execution_count": 48
  },
  {
   "metadata": {},
   "cell_type": "markdown",
   "source": [
    "Пояснения к коду:\n",
    "1. Чтение данных: данные считываются из CSV-файла по URL. В pandas нет аналога функции header=F, так что в read_csv мы передаем header=None.\n",
    "2. Распределение: расчет процентного распределения значений и приведение долей к несократимым дробям для имитации поведения функции fractions из R.\n",
    "3. Функция эмпирического распределения: в Python она создается через cumfreq из scipy.stats.\n",
    "4. Построение графика функции: используется matplotlib.pyplot для визуализации функции эмпирического распределения.\n",
    "5. Проверка гипотезы: использование критерия Колмогорова-Смирнова для сравнения эмпирического распределения с равномерным распределением. Расчет статистики ρ и сравнение ее с критическим значением C."
   ],
   "id": "d86bffe33da75104"
  },
  {
   "metadata": {
    "ExecuteTime": {
     "end_time": "2024-04-26T17:27:05.642783Z",
     "start_time": "2024-04-26T17:27:05.629283Z"
    }
   },
   "cell_type": "code",
   "source": [
    "X = pd.read_csv('hypothesis_5_X.csv', header=None)\n",
    "Y = pd.read_csv('hypothesis_5_Y.csv', header=None)"
   ],
   "id": "433e4e551ac5ccfb",
   "outputs": [],
   "execution_count": 3
  },
  {
   "metadata": {
    "ExecuteTime": {
     "end_time": "2024-04-26T17:48:42.891542Z",
     "start_time": "2024-04-26T17:48:42.873701Z"
    }
   },
   "cell_type": "code",
   "source": "X",
   "id": "c10b95440a792b4a",
   "outputs": [
    {
     "data": {
      "text/plain": [
       "           0\n",
       "0  35.857419\n",
       "1  29.851216\n",
       "2  25.991484\n",
       "3  34.426247\n",
       "4  33.322775\n",
       "5  36.441769\n",
       "6  27.858808\n",
       "7  31.017693\n",
       "8  26.438346\n",
       "9  30.520649"
      ],
      "text/html": [
       "<div>\n",
       "<style scoped>\n",
       "    .dataframe tbody tr th:only-of-type {\n",
       "        vertical-align: middle;\n",
       "    }\n",
       "\n",
       "    .dataframe tbody tr th {\n",
       "        vertical-align: top;\n",
       "    }\n",
       "\n",
       "    .dataframe thead th {\n",
       "        text-align: right;\n",
       "    }\n",
       "</style>\n",
       "<table border=\"1\" class=\"dataframe\">\n",
       "  <thead>\n",
       "    <tr style=\"text-align: right;\">\n",
       "      <th></th>\n",
       "      <th>0</th>\n",
       "    </tr>\n",
       "  </thead>\n",
       "  <tbody>\n",
       "    <tr>\n",
       "      <th>0</th>\n",
       "      <td>35.857419</td>\n",
       "    </tr>\n",
       "    <tr>\n",
       "      <th>1</th>\n",
       "      <td>29.851216</td>\n",
       "    </tr>\n",
       "    <tr>\n",
       "      <th>2</th>\n",
       "      <td>25.991484</td>\n",
       "    </tr>\n",
       "    <tr>\n",
       "      <th>3</th>\n",
       "      <td>34.426247</td>\n",
       "    </tr>\n",
       "    <tr>\n",
       "      <th>4</th>\n",
       "      <td>33.322775</td>\n",
       "    </tr>\n",
       "    <tr>\n",
       "      <th>5</th>\n",
       "      <td>36.441769</td>\n",
       "    </tr>\n",
       "    <tr>\n",
       "      <th>6</th>\n",
       "      <td>27.858808</td>\n",
       "    </tr>\n",
       "    <tr>\n",
       "      <th>7</th>\n",
       "      <td>31.017693</td>\n",
       "    </tr>\n",
       "    <tr>\n",
       "      <th>8</th>\n",
       "      <td>26.438346</td>\n",
       "    </tr>\n",
       "    <tr>\n",
       "      <th>9</th>\n",
       "      <td>30.520649</td>\n",
       "    </tr>\n",
       "  </tbody>\n",
       "</table>\n",
       "</div>"
      ]
     },
     "execution_count": 4,
     "metadata": {},
     "output_type": "execute_result"
    }
   ],
   "execution_count": 4
  },
  {
   "metadata": {
    "ExecuteTime": {
     "end_time": "2024-04-26T17:48:51.634895Z",
     "start_time": "2024-04-26T17:48:51.628712Z"
    }
   },
   "cell_type": "code",
   "source": "Y",
   "id": "daf578a95ce10b3f",
   "outputs": [
    {
     "data": {
      "text/plain": [
       "           0\n",
       "0  38.829230\n",
       "1  32.936778\n",
       "2  39.731949\n",
       "3  37.074383\n",
       "4  33.338638\n",
       "5  35.652129\n",
       "6  33.100469"
      ],
      "text/html": [
       "<div>\n",
       "<style scoped>\n",
       "    .dataframe tbody tr th:only-of-type {\n",
       "        vertical-align: middle;\n",
       "    }\n",
       "\n",
       "    .dataframe tbody tr th {\n",
       "        vertical-align: top;\n",
       "    }\n",
       "\n",
       "    .dataframe thead th {\n",
       "        text-align: right;\n",
       "    }\n",
       "</style>\n",
       "<table border=\"1\" class=\"dataframe\">\n",
       "  <thead>\n",
       "    <tr style=\"text-align: right;\">\n",
       "      <th></th>\n",
       "      <th>0</th>\n",
       "    </tr>\n",
       "  </thead>\n",
       "  <tbody>\n",
       "    <tr>\n",
       "      <th>0</th>\n",
       "      <td>38.829230</td>\n",
       "    </tr>\n",
       "    <tr>\n",
       "      <th>1</th>\n",
       "      <td>32.936778</td>\n",
       "    </tr>\n",
       "    <tr>\n",
       "      <th>2</th>\n",
       "      <td>39.731949</td>\n",
       "    </tr>\n",
       "    <tr>\n",
       "      <th>3</th>\n",
       "      <td>37.074383</td>\n",
       "    </tr>\n",
       "    <tr>\n",
       "      <th>4</th>\n",
       "      <td>33.338638</td>\n",
       "    </tr>\n",
       "    <tr>\n",
       "      <th>5</th>\n",
       "      <td>35.652129</td>\n",
       "    </tr>\n",
       "    <tr>\n",
       "      <th>6</th>\n",
       "      <td>33.100469</td>\n",
       "    </tr>\n",
       "  </tbody>\n",
       "</table>\n",
       "</div>"
      ]
     },
     "execution_count": 5,
     "metadata": {},
     "output_type": "execute_result"
    }
   ],
   "execution_count": 5
  },
  {
   "metadata": {
    "ExecuteTime": {
     "end_time": "2024-04-26T18:40:31.895364Z",
     "start_time": "2024-04-26T18:40:31.880761Z"
    }
   },
   "cell_type": "code",
   "source": [
    "# проверка критерия колмогорова 0.05 на равномерное распределение\n",
    "res = sp.stats.kstest(Y[0], 'uniform')\n",
    "print(res)\n",
    "# значение функции отклонения\n",
    "res[0]\n"
   ],
   "id": "23f01b67513bfd39",
   "outputs": [
    {
     "name": "stdout",
     "output_type": "stream",
     "text": [
      "KstestResult(statistic=1.0, pvalue=0.0, statistic_location=32.9367778501473, statistic_sign=-1)\n"
     ]
    },
    {
     "data": {
      "text/plain": [
       "1.0"
      ]
     },
     "execution_count": 9,
     "metadata": {},
     "output_type": "execute_result"
    }
   ],
   "execution_count": 9
  },
  {
   "metadata": {
    "ExecuteTime": {
     "end_time": "2024-04-26T19:49:20.904155Z",
     "start_time": "2024-04-26T19:49:20.892672Z"
    }
   },
   "cell_type": "code",
   "source": [
    "nX = len(X)\n",
    "nY = len(Y)\n",
    "\n",
    "rho = abs(np.sqrt(nX * nY / (nX + nY)) * (X.mean() - Y.mean()) / np.sqrt(((nX - 1) * X.var() + (nY - 1) * Y.var()) / (nX + nY - 2)))[0]\n",
    "rho"
   ],
   "id": "fed06147561f4206",
   "outputs": [
    {
     "data": {
      "text/plain": [
       "2.753039845218725"
      ]
     },
     "execution_count": 42,
     "metadata": {},
     "output_type": "execute_result"
    }
   ],
   "execution_count": 42
  },
  {
   "metadata": {
    "ExecuteTime": {
     "end_time": "2024-04-26T19:49:21.582157Z",
     "start_time": "2024-04-26T19:49:21.564161Z"
    }
   },
   "cell_type": "code",
   "source": [
    "# вычислим квантиль уровня 1 - 0.05 / 2 распределения Стьюдента \n",
    "e = 0.05\n",
    "\n",
    "C = sp.stats.t.ppf(1 - e / 2, nX + nY - 2)\n",
    "C"
   ],
   "id": "bf31b0bdf8de66f1",
   "outputs": [
    {
     "data": {
      "text/plain": [
       "2.131449545559323"
      ]
     },
     "execution_count": 43,
     "metadata": {},
     "output_type": "execute_result"
    }
   ],
   "execution_count": 43
  },
  {
   "metadata": {
    "ExecuteTime": {
     "end_time": "2024-04-26T19:49:22.033034Z",
     "start_time": "2024-04-26T19:49:22.018514Z"
    }
   },
   "cell_type": "code",
   "source": [
    "if rho > C :\n",
    "    print(\"Гипотеза отвергается\")\n",
    "else:\n",
    "    print(\"Гипотеза не отвергается\")\n"
   ],
   "id": "47e8c91ad156eec2",
   "outputs": [
    {
     "name": "stdout",
     "output_type": "stream",
     "text": [
      "Гипотеза отвергается\n"
     ]
    }
   ],
   "execution_count": 44
  },
  {
   "metadata": {
    "ExecuteTime": {
     "end_time": "2024-04-27T08:02:56.568088Z",
     "start_time": "2024-04-27T08:02:56.525173Z"
    }
   },
   "cell_type": "code",
   "source": [
    "X = pd.read_csv('hypothesis_6_X.csv', header=None)\n",
    "Y = pd.read_csv('hypothesis_6_Y.csv', header=None)"
   ],
   "id": "6483136ef53af11a",
   "outputs": [],
   "execution_count": 49
  },
  {
   "metadata": {
    "ExecuteTime": {
     "end_time": "2024-04-27T11:57:35.442360Z",
     "start_time": "2024-04-27T11:57:35.433155Z"
    }
   },
   "cell_type": "code",
   "source": [
    "X = pd.read_csv('hypothesis_4.csv', header=None)\n",
    "X.mean()"
   ],
   "id": "25a5971a1c1fa6f8",
   "outputs": [
    {
     "data": {
      "text/plain": [
       "0    29.321467\n",
       "dtype: float64"
      ]
     },
     "execution_count": 55,
     "metadata": {},
     "output_type": "execute_result"
    }
   ],
   "execution_count": 55
  },
  {
   "metadata": {
    "ExecuteTime": {
     "end_time": "2024-04-27T11:58:16.992565Z",
     "start_time": "2024-04-27T11:58:16.985076Z"
    }
   },
   "cell_type": "code",
   "source": "(X.mean() - 26) * np.sqrt(10) / np.sqrt(6)",
   "id": "21a9e1b5613557b7",
   "outputs": [
    {
     "data": {
      "text/plain": [
       "0    4.287996\n",
       "dtype: float64"
      ]
     },
     "execution_count": 56,
     "metadata": {},
     "output_type": "execute_result"
    }
   ],
   "execution_count": 56
  },
  {
   "metadata": {
    "ExecuteTime": {
     "end_time": "2024-04-27T12:01:56.397102Z",
     "start_time": "2024-04-27T12:01:56.385867Z"
    }
   },
   "cell_type": "code",
   "source": [
    "X = pd.read_csv('Hypothesis_1_14.csv', header=None)\n",
    "X"
   ],
   "id": "3bf6599289b55ad0",
   "outputs": [
    {
     "data": {
      "text/plain": [
       "        0\n",
       "0  95.096\n",
       "1  85.895\n",
       "2  86.487\n",
       "3  84.948\n",
       "4  72.873\n",
       "5  86.304"
      ],
      "text/html": [
       "<div>\n",
       "<style scoped>\n",
       "    .dataframe tbody tr th:only-of-type {\n",
       "        vertical-align: middle;\n",
       "    }\n",
       "\n",
       "    .dataframe tbody tr th {\n",
       "        vertical-align: top;\n",
       "    }\n",
       "\n",
       "    .dataframe thead th {\n",
       "        text-align: right;\n",
       "    }\n",
       "</style>\n",
       "<table border=\"1\" class=\"dataframe\">\n",
       "  <thead>\n",
       "    <tr style=\"text-align: right;\">\n",
       "      <th></th>\n",
       "      <th>0</th>\n",
       "    </tr>\n",
       "  </thead>\n",
       "  <tbody>\n",
       "    <tr>\n",
       "      <th>0</th>\n",
       "      <td>95.096</td>\n",
       "    </tr>\n",
       "    <tr>\n",
       "      <th>1</th>\n",
       "      <td>85.895</td>\n",
       "    </tr>\n",
       "    <tr>\n",
       "      <th>2</th>\n",
       "      <td>86.487</td>\n",
       "    </tr>\n",
       "    <tr>\n",
       "      <th>3</th>\n",
       "      <td>84.948</td>\n",
       "    </tr>\n",
       "    <tr>\n",
       "      <th>4</th>\n",
       "      <td>72.873</td>\n",
       "    </tr>\n",
       "    <tr>\n",
       "      <th>5</th>\n",
       "      <td>86.304</td>\n",
       "    </tr>\n",
       "  </tbody>\n",
       "</table>\n",
       "</div>"
      ]
     },
     "execution_count": 59,
     "metadata": {},
     "output_type": "execute_result"
    }
   ],
   "execution_count": 59
  },
  {
   "metadata": {
    "ExecuteTime": {
     "end_time": "2024-04-27T12:02:38.643939Z",
     "start_time": "2024-04-27T12:02:38.627492Z"
    }
   },
   "cell_type": "code",
   "source": "X.mean()",
   "id": "5a970b6af94b7ef3",
   "outputs": [
    {
     "data": {
      "text/plain": [
       "0    85.267167\n",
       "dtype: float64"
      ]
     },
     "execution_count": 62,
     "metadata": {},
     "output_type": "execute_result"
    }
   ],
   "execution_count": 62
  },
  {
   "metadata": {
    "ExecuteTime": {
     "end_time": "2024-04-27T12:03:00.350210Z",
     "start_time": "2024-04-27T12:03:00.339785Z"
    }
   },
   "cell_type": "code",
   "source": [
    "# оценка среднеквадратичного отклонения\n",
    "X.std()"
   ],
   "id": "1384146226878989",
   "outputs": [
    {
     "data": {
      "text/plain": [
       "0    7.117308\n",
       "dtype: float64"
      ]
     },
     "execution_count": 65,
     "metadata": {},
     "output_type": "execute_result"
    }
   ],
   "execution_count": 65
  },
  {
   "metadata": {
    "ExecuteTime": {
     "end_time": "2024-04-27T12:08:01.285885Z",
     "start_time": "2024-04-27T12:08:01.273049Z"
    }
   },
   "cell_type": "code",
   "source": [
    "# значение модуля функции отклонения\n",
    "abs((X.mean() - 87) * np.sqrt(len(X)) / X.std())"
   ],
   "id": "3915ff45bb36d244",
   "outputs": [
    {
     "data": {
      "text/plain": [
       "0    0.596371\n",
       "dtype: float64"
      ]
     },
     "execution_count": 69,
     "metadata": {},
     "output_type": "execute_result"
    }
   ],
   "execution_count": 69
  },
  {
   "metadata": {
    "ExecuteTime": {
     "end_time": "2024-04-27T12:04:54.151393Z",
     "start_time": "2024-04-27T12:04:54.131144Z"
    }
   },
   "cell_type": "code",
   "source": [
    "# вычислим квантиль уровня 1 - 0.01 / 2 распределения Стьюдента\n",
    "e = 0.01\n",
    "\n",
    "C = sp.stats.t.ppf(1 - e / 2, len(X) - 1)\n",
    "C"
   ],
   "id": "b802c5adc95c17a8",
   "outputs": [
    {
     "data": {
      "text/plain": [
       "4.032142983557536"
      ]
     },
     "execution_count": 68,
     "metadata": {},
     "output_type": "execute_result"
    }
   ],
   "execution_count": 68
  },
  {
   "metadata": {
    "ExecuteTime": {
     "end_time": "2024-04-28T19:19:48.526948Z",
     "start_time": "2024-04-28T19:19:48.513406Z"
    }
   },
   "cell_type": "code",
   "source": [
    "X = np.array([13, 4, 11, 20])\n",
    "Y = np.array([8, 5, 6, 15])"
   ],
   "id": "322f0c580590f6ed",
   "outputs": [],
   "execution_count": 70
  },
  {
   "metadata": {
    "ExecuteTime": {
     "end_time": "2024-04-28T19:20:39.216145Z",
     "start_time": "2024-04-28T19:20:38.945205Z"
    }
   },
   "cell_type": "code",
   "source": [
    "import matplotlib.pyplot as plt\n",
    "plt.plot(X, Y, 'o')"
   ],
   "id": "69180737e6c99bef",
   "outputs": [
    {
     "data": {
      "text/plain": [
       "[<matplotlib.lines.Line2D at 0x21256875870>]"
      ]
     },
     "execution_count": 72,
     "metadata": {},
     "output_type": "execute_result"
    },
    {
     "data": {
      "text/plain": [
       "<Figure size 640x480 with 1 Axes>"
      ],
      "image/png": "[encoded data removed]"
     },
     "metadata": {},
     "output_type": "display_data"
    }
   ],
   "execution_count": 72
  },
  {
   "metadata": {
    "ExecuteTime": {
     "end_time": "2024-04-28T19:21:04.311683Z",
     "start_time": "2024-04-28T19:21:04.293671Z"
    }
   },
   "cell_type": "code",
   "source": [
    "Ex = X.mean()\n",
    "Ex"
   ],
   "id": "eb3889adcf5b4ad5",
   "outputs": [
    {
     "data": {
      "text/plain": [
       "12.0"
      ]
     },
     "execution_count": 73,
     "metadata": {},
     "output_type": "execute_result"
    }
   ],
   "execution_count": 73
  },
  {
   "metadata": {
    "ExecuteTime": {
     "end_time": "2024-04-28T19:21:07.577085Z",
     "start_time": "2024-04-28T19:21:07.561447Z"
    }
   },
   "cell_type": "code",
   "source": [
    "Ey = Y.mean()\n",
    "Ey"
   ],
   "id": "de481c0e598e4247",
   "outputs": [
    {
     "data": {
      "text/plain": [
       "8.5"
      ]
     },
     "execution_count": 74,
     "metadata": {},
     "output_type": "execute_result"
    }
   ],
   "execution_count": 74
  },
  {
   "metadata": {
    "ExecuteTime": {
     "end_time": "2024-04-28T19:22:06.808530Z",
     "start_time": "2024-04-28T19:22:06.795496Z"
    }
   },
   "cell_type": "code",
   "source": [
    "# линейная регрессия\n",
    "a = np.sum((X - Ex) * (Y - Ey)) / np.sum((X - Ex) ** 2)\n",
    "a"
   ],
   "id": "9fd3c7e1f3ea2d5f",
   "outputs": [
    {
     "data": {
      "text/plain": [
       "0.6307692307692307"
      ]
     },
     "execution_count": 78,
     "metadata": {},
     "output_type": "execute_result"
    }
   ],
   "execution_count": 78
  },
  {
   "metadata": {
    "ExecuteTime": {
     "end_time": "2024-04-28T19:22:18.966049Z",
     "start_time": "2024-04-28T19:22:18.961465Z"
    }
   },
   "cell_type": "code",
   "source": [
    "b = Ey - a * Ex\n",
    "b"
   ],
   "id": "7cd08ff1acf42657",
   "outputs": [
    {
     "data": {
      "text/plain": [
       "0.930769230769231"
      ]
     },
     "execution_count": 80,
     "metadata": {},
     "output_type": "execute_result"
    }
   ],
   "execution_count": 80
  },
  {
   "metadata": {
    "ExecuteTime": {
     "end_time": "2024-04-28T19:22:54.069636Z",
     "start_time": "2024-04-28T19:22:53.962129Z"
    }
   },
   "cell_type": "code",
   "source": [
    "plt.plot(X, Y, 'o')\n",
    "plt.plot(X, a * X + b)"
   ],
   "id": "6d7df77f6b623bd",
   "outputs": [
    {
     "data": {
      "text/plain": [
       "[<matplotlib.lines.Line2D at 0x2125b067eb0>]"
      ]
     },
     "execution_count": 81,
     "metadata": {},
     "output_type": "execute_result"
    },
    {
     "data": {
      "text/plain": [
       "<Figure size 640x480 with 1 Axes>"
      ],
      "image/png": "[encoded data removed]"
     },
     "metadata": {},
     "output_type": "display_data"
    }
   ],
   "execution_count": 81
  },
  {
   "metadata": {
    "ExecuteTime": {
     "end_time": "2024-04-29T08:29:57.511005Z",
     "start_time": "2024-04-29T08:29:57.493642Z"
    }
   },
   "cell_type": "code",
   "source": [
    "# вычислим квантиль уровня 1 - 0.05 / 2 распределения Стьюдента\n",
    "e = 0.05\n",
    "\n",
    "C = sp.stats.t.ppf(1 - e / 2, len(X) - 2)\n",
    "C"
   ],
   "id": "2b10cbb9abf5a95",
   "outputs": [
    {
     "data": {
      "text/plain": [
       "4.302652729696142"
      ]
     },
     "execution_count": 88,
     "metadata": {},
     "output_type": "execute_result"
    }
   ],
   "execution_count": 88
  },
  {
   "metadata": {
    "ExecuteTime": {
     "end_time": "2024-04-29T12:42:58.754984Z",
     "start_time": "2024-04-29T12:42:58.742382Z"
    }
   },
   "cell_type": "code",
   "source": [
    "# оценка стандартной ошибки\n",
    "RSE = np.sqrt(np.sum((Y - a * X - b) ** 2) / (len(X) - 2))\n",
    "RSE"
   ],
   "id": "27172f66ba689d68",
   "outputs": [
    {
     "data": {
      "text/plain": [
       "2.153708786828326"
      ]
     },
     "execution_count": 133,
     "metadata": {},
     "output_type": "execute_result"
    }
   ],
   "execution_count": 133
  },
  {
   "metadata": {
    "ExecuteTime": {
     "end_time": "2024-04-29T12:42:59.360452Z",
     "start_time": "2024-04-29T12:42:59.353421Z"
    }
   },
   "cell_type": "code",
   "source": [
    "SEb = RSE * np.sqrt(1 / len(X) + Ex ** 2 / np.sum((X - Ex) ** 2))\n",
    "SEb"
   ],
   "id": "2cf608e68e541a87",
   "outputs": [
    {
     "data": {
      "text/plain": [
       "2.5095026499878137"
      ]
     },
     "execution_count": 134,
     "metadata": {},
     "output_type": "execute_result"
    }
   ],
   "execution_count": 134
  },
  {
   "metadata": {
    "ExecuteTime": {
     "end_time": "2024-04-29T12:42:59.794728Z",
     "start_time": "2024-04-29T12:42:59.789412Z"
    }
   },
   "cell_type": "code",
   "source": [
    "SEa = RSE / np.sqrt(np.sum((X - Ex) ** 2))\n",
    "SEa"
   ],
   "id": "dbaa37d42a274cb7",
   "outputs": [
    {
     "data": {
      "text/plain": [
       "0.18889275627397964"
      ]
     },
     "execution_count": 135,
     "metadata": {},
     "output_type": "execute_result"
    }
   ],
   "execution_count": 135
  },
  {
   "metadata": {
    "ExecuteTime": {
     "end_time": "2024-04-29T08:52:53.027115Z",
     "start_time": "2024-04-29T08:52:53.021642Z"
    }
   },
   "cell_type": "code",
   "source": [
    "# оценка доверительного интервала\n",
    "\n",
    "# нижняя г\n",
    "b - C * SEb"
   ],
   "id": "3d3e3de4eaa4fbda",
   "outputs": [
    {
     "data": {
      "text/plain": [
       "-9.866749196380537"
      ]
     },
     "execution_count": 127,
     "metadata": {},
     "output_type": "execute_result"
    }
   ],
   "execution_count": 127
  },
  {
   "metadata": {
    "ExecuteTime": {
     "end_time": "2024-04-29T08:52:53.183127Z",
     "start_time": "2024-04-29T08:52:53.175591Z"
    }
   },
   "cell_type": "code",
   "source": [
    "# верхняя г\n",
    "b + C * SEb"
   ],
   "id": "bdb5dbb34bd9e6b5",
   "outputs": [
    {
     "data": {
      "text/plain": [
       "11.728287657919"
      ]
     },
     "execution_count": 128,
     "metadata": {},
     "output_type": "execute_result"
    }
   ],
   "execution_count": 128
  },
  {
   "metadata": {
    "ExecuteTime": {
     "end_time": "2024-04-29T08:52:53.351257Z",
     "start_time": "2024-04-29T08:52:53.344206Z"
    }
   },
   "cell_type": "code",
   "source": [
    "# нижняя г\n",
    "a - C * SEa"
   ],
   "id": "8301af2cbe83d161",
   "outputs": [
    {
     "data": {
      "text/plain": [
       "-0.18197070263283577"
      ]
     },
     "execution_count": 129,
     "metadata": {},
     "output_type": "execute_result"
    }
   ],
   "execution_count": 129
  },
  {
   "metadata": {
    "ExecuteTime": {
     "end_time": "2024-04-29T08:52:53.738697Z",
     "start_time": "2024-04-29T08:52:53.724601Z"
    }
   },
   "cell_type": "code",
   "source": [
    "# верхняя г\n",
    "a + C * SEa"
   ],
   "id": "857753c94963f017",
   "outputs": [
    {
     "data": {
      "text/plain": [
       "1.4435091641712972"
      ]
     },
     "execution_count": 130,
     "metadata": {},
     "output_type": "execute_result"
    }
   ],
   "execution_count": 130
  },
  {
   "metadata": {
    "ExecuteTime": {
     "end_time": "2024-04-29T12:35:03.089822Z",
     "start_time": "2024-04-29T12:35:03.068035Z"
    }
   },
   "cell_type": "code",
   "source": [
    "t = a / SEa\n",
    "t"
   ],
   "id": "3b2bc89af920ddad",
   "outputs": [
    {
     "data": {
      "text/plain": [
       "3.3392981457390087"
      ]
     },
     "execution_count": 131,
     "metadata": {},
     "output_type": "execute_result"
    }
   ],
   "execution_count": 131
  },
  {
   "metadata": {
    "ExecuteTime": {
     "end_time": "2024-04-29T12:43:22.451288Z",
     "start_time": "2024-04-29T12:43:22.437475Z"
    }
   },
   "cell_type": "code",
   "source": [
    "R2 = 1 - np.sum((Y - a * X - b) ** 2) / np.sum((Y - Ey) ** 2)\n",
    "R2"
   ],
   "id": "3318966a37115327",
   "outputs": [
    {
     "data": {
      "text/plain": [
       "0.8479192938209331"
      ]
     },
     "execution_count": 136,
     "metadata": {},
     "output_type": "execute_result"
    }
   ],
   "execution_count": 136
  },
  {
   "metadata": {
    "ExecuteTime": {
     "end_time": "2024-04-29T18:06:32.281797Z",
     "start_time": "2024-04-29T18:06:32.259607Z"
    }
   },
   "cell_type": "code",
   "source": [
    "x1 = np.array([1, 3, -5, 7])\n",
    "x2 = np.array([2, -4, 0, 8])"
   ],
   "id": "fbb76148efe67da2",
   "outputs": [],
   "execution_count": 137
  },
  {
   "metadata": {
    "ExecuteTime": {
     "end_time": "2024-04-29T18:07:06.343004Z",
     "start_time": "2024-04-29T18:07:06.336362Z"
    }
   },
   "cell_type": "code",
   "source": [
    "# эвклидово расстояние\n",
    "dE = np.sqrt(np.sum((x1 - x2) ** 2))\n",
    "dE"
   ],
   "id": "b35f855a342fba00",
   "outputs": [
    {
     "data": {
      "text/plain": [
       "8.717797887081348"
      ]
     },
     "execution_count": 139,
     "metadata": {},
     "output_type": "execute_result"
    }
   ],
   "execution_count": 139
  },
  {
   "metadata": {
    "ExecuteTime": {
     "end_time": "2024-04-29T18:07:38.690640Z",
     "start_time": "2024-04-29T18:07:38.676656Z"
    }
   },
   "cell_type": "code",
   "source": [
    "# манхэттенское расстояние\n",
    "dM = np.sum(np.abs(x1 - x2))\n",
    "dM"
   ],
   "id": "10131874cd7b03b9",
   "outputs": [
    {
     "data": {
      "text/plain": [
       "14"
      ]
     },
     "execution_count": 140,
     "metadata": {},
     "output_type": "execute_result"
    }
   ],
   "execution_count": 140
  },
  {
   "metadata": {
    "ExecuteTime": {
     "end_time": "2024-04-29T18:07:56.819664Z",
     "start_time": "2024-04-29T18:07:56.812998Z"
    }
   },
   "cell_type": "code",
   "source": [
    "# расстояние Чебышева\n",
    "dC = np.max(np.abs(x1 - x2))\n",
    "dC"
   ],
   "id": "4a09bca7059bf98f",
   "outputs": [
    {
     "data": {
      "text/plain": [
       "7"
      ]
     },
     "execution_count": 141,
     "metadata": {},
     "output_type": "execute_result"
    }
   ],
   "execution_count": 141
  },
  {
   "metadata": {
    "ExecuteTime": {
     "end_time": "2024-04-29T18:13:09.350513Z",
     "start_time": "2024-04-29T18:13:09.322971Z"
    }
   },
   "cell_type": "code",
   "source": [
    "df = pd.read_csv('knnOpros.csv')\n",
    "df"
   ],
   "id": "ae5c82122927d20a",
   "outputs": [
    {
     "data": {
      "text/plain": [
       "   id   X   Y  Class\n",
       "0   1  28  10      1\n",
       "1   2  49  49      1\n",
       "2   3  48  35      0\n",
       "3   4  36  33      1\n",
       "4   5  45  54      0"
      ],
      "text/html": [
       "<div>\n",
       "<style scoped>\n",
       "    .dataframe tbody tr th:only-of-type {\n",
       "        vertical-align: middle;\n",
       "    }\n",
       "\n",
       "    .dataframe tbody tr th {\n",
       "        vertical-align: top;\n",
       "    }\n",
       "\n",
       "    .dataframe thead th {\n",
       "        text-align: right;\n",
       "    }\n",
       "</style>\n",
       "<table border=\"1\" class=\"dataframe\">\n",
       "  <thead>\n",
       "    <tr style=\"text-align: right;\">\n",
       "      <th></th>\n",
       "      <th>id</th>\n",
       "      <th>X</th>\n",
       "      <th>Y</th>\n",
       "      <th>Class</th>\n",
       "    </tr>\n",
       "  </thead>\n",
       "  <tbody>\n",
       "    <tr>\n",
       "      <th>0</th>\n",
       "      <td>1</td>\n",
       "      <td>28</td>\n",
       "      <td>10</td>\n",
       "      <td>1</td>\n",
       "    </tr>\n",
       "    <tr>\n",
       "      <th>1</th>\n",
       "      <td>2</td>\n",
       "      <td>49</td>\n",
       "      <td>49</td>\n",
       "      <td>1</td>\n",
       "    </tr>\n",
       "    <tr>\n",
       "      <th>2</th>\n",
       "      <td>3</td>\n",
       "      <td>48</td>\n",
       "      <td>35</td>\n",
       "      <td>0</td>\n",
       "    </tr>\n",
       "    <tr>\n",
       "      <th>3</th>\n",
       "      <td>4</td>\n",
       "      <td>36</td>\n",
       "      <td>33</td>\n",
       "      <td>1</td>\n",
       "    </tr>\n",
       "    <tr>\n",
       "      <th>4</th>\n",
       "      <td>5</td>\n",
       "      <td>45</td>\n",
       "      <td>54</td>\n",
       "      <td>0</td>\n",
       "    </tr>\n",
       "  </tbody>\n",
       "</table>\n",
       "</div>"
      ]
     },
     "execution_count": 143,
     "metadata": {},
     "output_type": "execute_result"
    }
   ],
   "execution_count": 143
  },
  {
   "metadata": {
    "ExecuteTime": {
     "end_time": "2024-04-29T18:17:36.337615Z",
     "start_time": "2024-04-29T18:17:36.235586Z"
    }
   },
   "cell_type": "code",
   "source": [
    "# вывести в зависимости от класса разными цветами\n",
    "plt.scatter(df['X'], df['Y'], c=df['Class'])\n",
    "# вывести точку с координатами (3, 4) красным цветом\n",
    "plt.scatter(33, 47, color='red')"
   ],
   "id": "44407098f0a874e7",
   "outputs": [
    {
     "data": {
      "text/plain": [
       "<matplotlib.collections.PathCollection at 0x2125c765b10>"
      ]
     },
     "execution_count": 149,
     "metadata": {},
     "output_type": "execute_result"
    },
    {
     "data": {
      "text/plain": [
       "<Figure size 640x480 with 1 Axes>"
      ],
      "image/png": "[encoded data removed]"
     },
     "metadata": {},
     "output_type": "display_data"
    }
   ],
   "execution_count": 149
  },
  {
   "metadata": {
    "ExecuteTime": {
     "end_time": "2024-04-29T18:20:31.981010Z",
     "start_time": "2024-04-29T18:20:31.964517Z"
    }
   },
   "cell_type": "code",
   "source": [
    "# вычислим евклидово расстояние от точки (33, 47) до всех точек\n",
    "df['dE'] = np.sqrt((df['X'] - 33) ** 2 + (df['Y'] - 47) ** 2)"
   ],
   "id": "aec320050a2eef78",
   "outputs": [],
   "execution_count": 151
  },
  {
   "metadata": {
    "ExecuteTime": {
     "end_time": "2024-04-29T18:20:32.267671Z",
     "start_time": "2024-04-29T18:20:32.258154Z"
    }
   },
   "cell_type": "code",
   "source": [
    "# вычислим манхетовское расстояние от точки (33, 47) до всех точек\n",
    "df['dM'] = np.abs(df['X'] - 33) + np.abs(df['Y'] - 47)"
   ],
   "id": "90093ac1b82c838c",
   "outputs": [],
   "execution_count": 152
  },
  {
   "metadata": {
    "ExecuteTime": {
     "end_time": "2024-04-29T18:20:32.598055Z",
     "start_time": "2024-04-29T18:20:32.579720Z"
    }
   },
   "cell_type": "code",
   "source": [
    "# вычислим расстояние Чебышева от точки (33, 47) до всех точек\n",
    "df['dC'] = np.maximum(np.abs(df['X'] - 33), np.abs(df['Y'] - 47))"
   ],
   "id": "208b5fbb2b028099",
   "outputs": [],
   "execution_count": 153
  },
  {
   "metadata": {
    "ExecuteTime": {
     "end_time": "2024-04-29T18:20:38.673555Z",
     "start_time": "2024-04-29T18:20:38.653539Z"
    }
   },
   "cell_type": "code",
   "source": "df",
   "id": "22d4a959710eea2d",
   "outputs": [
    {
     "data": {
      "text/plain": [
       "   id   X   Y  Class         dE  dM  dC\n",
       "0   1  28  10      1  37.336309  42  37\n",
       "1   2  49  49      1  16.124515  18  16\n",
       "2   3  48  35      0  19.209373  27  15\n",
       "3   4  36  33      1  14.317821  17  14\n",
       "4   5  45  54      0  13.892444  19  12"
      ],
      "text/html": [
       "<div>\n",
       "<style scoped>\n",
       "    .dataframe tbody tr th:only-of-type {\n",
       "        vertical-align: middle;\n",
       "    }\n",
       "\n",
       "    .dataframe tbody tr th {\n",
       "        vertical-align: top;\n",
       "    }\n",
       "\n",
       "    .dataframe thead th {\n",
       "        text-align: right;\n",
       "    }\n",
       "</style>\n",
       "<table border=\"1\" class=\"dataframe\">\n",
       "  <thead>\n",
       "    <tr style=\"text-align: right;\">\n",
       "      <th></th>\n",
       "      <th>id</th>\n",
       "      <th>X</th>\n",
       "      <th>Y</th>\n",
       "      <th>Class</th>\n",
       "      <th>dE</th>\n",
       "      <th>dM</th>\n",
       "      <th>dC</th>\n",
       "    </tr>\n",
       "  </thead>\n",
       "  <tbody>\n",
       "    <tr>\n",
       "      <th>0</th>\n",
       "      <td>1</td>\n",
       "      <td>28</td>\n",
       "      <td>10</td>\n",
       "      <td>1</td>\n",
       "      <td>37.336309</td>\n",
       "      <td>42</td>\n",
       "      <td>37</td>\n",
       "    </tr>\n",
       "    <tr>\n",
       "      <th>1</th>\n",
       "      <td>2</td>\n",
       "      <td>49</td>\n",
       "      <td>49</td>\n",
       "      <td>1</td>\n",
       "      <td>16.124515</td>\n",
       "      <td>18</td>\n",
       "      <td>16</td>\n",
       "    </tr>\n",
       "    <tr>\n",
       "      <th>2</th>\n",
       "      <td>3</td>\n",
       "      <td>48</td>\n",
       "      <td>35</td>\n",
       "      <td>0</td>\n",
       "      <td>19.209373</td>\n",
       "      <td>27</td>\n",
       "      <td>15</td>\n",
       "    </tr>\n",
       "    <tr>\n",
       "      <th>3</th>\n",
       "      <td>4</td>\n",
       "      <td>36</td>\n",
       "      <td>33</td>\n",
       "      <td>1</td>\n",
       "      <td>14.317821</td>\n",
       "      <td>17</td>\n",
       "      <td>14</td>\n",
       "    </tr>\n",
       "    <tr>\n",
       "      <th>4</th>\n",
       "      <td>5</td>\n",
       "      <td>45</td>\n",
       "      <td>54</td>\n",
       "      <td>0</td>\n",
       "      <td>13.892444</td>\n",
       "      <td>19</td>\n",
       "      <td>12</td>\n",
       "    </tr>\n",
       "  </tbody>\n",
       "</table>\n",
       "</div>"
      ]
     },
     "execution_count": 155,
     "metadata": {},
     "output_type": "execute_result"
    }
   ],
   "execution_count": 155
  },
  {
   "metadata": {},
   "cell_type": "code",
   "outputs": [],
   "execution_count": null,
   "source": "",
   "id": "d4a57170833cce5e"
  }
 ],
 "metadata": {
  "kernelspec": {
   "display_name": "Python 3",
   "language": "python",
   "name": "python3"
  },
  "language_info": {
   "codemirror_mode": {
    "name": "ipython",
    "version": 2
   },
   "file_extension": ".py",
   "mimetype": "text/x-python",
   "name": "python",
   "nbconvert_exporter": "python",
   "pygments_lexer": "ipython2",
   "version": "2.7.6"
  }
 },
 "nbformat": 4,
 "nbformat_minor": 5
}
