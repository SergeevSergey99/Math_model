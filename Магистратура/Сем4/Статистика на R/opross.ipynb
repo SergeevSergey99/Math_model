{
 "cells": [
  {
   "cell_type": "code",
   "id": "initial_id",
   "metadata": {
    "collapsed": true,
    "ExecuteTime": {
     "end_time": "2024-04-26T18:56:02.689865Z",
     "start_time": "2024-04-26T18:56:02.685876Z"
    }
   },
   "source": [
    "import pandas as pd\n",
    "import scipy as sp\n",
    "import numpy as np"
   ],
   "outputs": [],
   "execution_count": 18
  },
  {
   "metadata": {
    "ExecuteTime": {
     "end_time": "2024-04-24T06:03:29.425066Z",
     "start_time": "2024-04-24T06:03:29.407446Z"
    }
   },
   "cell_type": "code",
   "source": [
    "df = pd.read_csv('hypothesis_2.csv', header=None)\n",
    "df"
   ],
   "id": "e45e0fc69e94b2ee",
   "outputs": [
    {
     "data": {
      "text/plain": [
       "     0\n",
       "0    2\n",
       "1    3\n",
       "2    5\n",
       "3    3\n",
       "4    4\n",
       "..  ..\n",
       "95  10\n",
       "96   4\n",
       "97   0\n",
       "98   4\n",
       "99   3\n",
       "\n",
       "[100 rows x 1 columns]"
      ],
      "text/html": [
       "<div>\n",
       "<style scoped>\n",
       "    .dataframe tbody tr th:only-of-type {\n",
       "        vertical-align: middle;\n",
       "    }\n",
       "\n",
       "    .dataframe tbody tr th {\n",
       "        vertical-align: top;\n",
       "    }\n",
       "\n",
       "    .dataframe thead th {\n",
       "        text-align: right;\n",
       "    }\n",
       "</style>\n",
       "<table border=\"1\" class=\"dataframe\">\n",
       "  <thead>\n",
       "    <tr style=\"text-align: right;\">\n",
       "      <th></th>\n",
       "      <th>0</th>\n",
       "    </tr>\n",
       "  </thead>\n",
       "  <tbody>\n",
       "    <tr>\n",
       "      <th>0</th>\n",
       "      <td>2</td>\n",
       "    </tr>\n",
       "    <tr>\n",
       "      <th>1</th>\n",
       "      <td>3</td>\n",
       "    </tr>\n",
       "    <tr>\n",
       "      <th>2</th>\n",
       "      <td>5</td>\n",
       "    </tr>\n",
       "    <tr>\n",
       "      <th>3</th>\n",
       "      <td>3</td>\n",
       "    </tr>\n",
       "    <tr>\n",
       "      <th>4</th>\n",
       "      <td>4</td>\n",
       "    </tr>\n",
       "    <tr>\n",
       "      <th>...</th>\n",
       "      <td>...</td>\n",
       "    </tr>\n",
       "    <tr>\n",
       "      <th>95</th>\n",
       "      <td>10</td>\n",
       "    </tr>\n",
       "    <tr>\n",
       "      <th>96</th>\n",
       "      <td>4</td>\n",
       "    </tr>\n",
       "    <tr>\n",
       "      <th>97</th>\n",
       "      <td>0</td>\n",
       "    </tr>\n",
       "    <tr>\n",
       "      <th>98</th>\n",
       "      <td>4</td>\n",
       "    </tr>\n",
       "    <tr>\n",
       "      <th>99</th>\n",
       "      <td>3</td>\n",
       "    </tr>\n",
       "  </tbody>\n",
       "</table>\n",
       "<p>100 rows × 1 columns</p>\n",
       "</div>"
      ]
     },
     "execution_count": 6,
     "metadata": {},
     "output_type": "execute_result"
    }
   ],
   "execution_count": 6
  },
  {
   "metadata": {
    "ExecuteTime": {
     "end_time": "2024-04-26T19:59:44.087105Z",
     "start_time": "2024-04-26T19:59:43.438669Z"
    }
   },
   "cell_type": "code",
   "source": [
    "import pandas as pd\n",
    "import numpy as np\n",
    "import scipy.stats as stats\n",
    "import matplotlib.pyplot as plt\n",
    "from fractions import Fraction\n",
    "\n",
    "# Чтение данных\n",
    "url = \"https://studio.openedu.ru/assets/courseware/v1/6ea47ed325da363ccbb5ac148f2ddfc0/asset-v1:ITMOUniversity+ELSTATAN+fall_2021_ITMO+type@asset+block/hypothesis_2.csv\"\n",
    "data = pd.read_csv(url, header=None)\n",
    "sample = data[0]\n",
    "\n",
    "# Расчет таблицы распределения\n",
    "distribution_table = pd.Series(sample).value_counts(normalize=True).apply(lambda x: Fraction(x).limit_denominator()).sort_index()\n",
    "print(distribution_table)\n",
    "\n",
    "# Функция эмпирического распределения\n",
    "ecdf = stats.cumfreq(sample, numbins=len(np.unique(sample)), defaultreallimits=(sample.min(), sample.max()))\n",
    "x = np.linspace(sample.min(), sample.max(), num=len(ecdf.cumcount))\n",
    "y = ecdf.cumcount / len(sample)\n",
    "\n",
    "# Вывод значений функции распределения\n",
    "print(\"x:\", x)\n",
    "print(\"y:\", y)\n",
    "\n",
    "\n",
    "# Проверка гипотезы с использованием критерия Колмогорова-Смирнова\n",
    "D, p_value = stats.kstest(sample, 'uniform', args=(0, 10))\n",
    "print(\"D-statistic:\", D)\n",
    "print(\"p-value:\", p_value)\n",
    "\n",
    "# Определение и вывод результатов проверки гипотезы\n",
    "C = 1.36\n",
    "rho = np.sqrt(len(sample)) * D\n",
    "print(\"rho:\", rho)\n",
    "\n",
    "if rho > C:\n",
    "    print(\"Гипотеза отвергается\")\n",
    "else:\n",
    "    print(\"Гипотеза не отвергается\")\n",
    "\n",
    "# Построение графика функции\n",
    "plt.step(x, y, where='post')\n",
    "plt.show()"
   ],
   "id": "fd113b6bbbc0a07a",
   "outputs": [
    {
     "name": "stdout",
     "output_type": "stream",
     "text": [
      "0\n",
      "0      7/100\n",
      "1       7/50\n",
      "2       9/50\n",
      "3     21/100\n",
      "4       3/20\n",
      "5       3/25\n",
      "6      9/100\n",
      "7      3/100\n",
      "10     1/100\n",
      "Name: proportion, dtype: object\n",
      "x: [ 0.    1.25  2.5   3.75  5.    6.25  7.5   8.75 10.  ]\n",
      "y: [0.21 0.39 0.6  0.75 0.87 0.96 0.99 0.99 1.  ]\n",
      "D-statistic: 0.37\n",
      "p-value: 8.631287196007263e-13\n",
      "rho: 3.7\n",
      "Гипотеза отвергается\n"
     ]
    },
    {
     "data": {
      "text/plain": [
       "<Figure size 640x480 with 1 Axes>"
      ],
      "image/png": "[encoded data removed]"
     },
     "metadata": {},
     "output_type": "display_data"
    }
   ],
   "execution_count": 48
  },
  {
   "metadata": {},
   "cell_type": "markdown",
   "source": [
    "Пояснения к коду:\n",
    "1. Чтение данных: данные считываются из CSV-файла по URL. В pandas нет аналога функции header=F, так что в read_csv мы передаем header=None.\n",
    "2. Распределение: расчет процентного распределения значений и приведение долей к несократимым дробям для имитации поведения функции fractions из R.\n",
    "3. Функция эмпирического распределения: в Python она создается через cumfreq из scipy.stats.\n",
    "4. Построение графика функции: используется matplotlib.pyplot для визуализации функции эмпирического распределения.\n",
    "5. Проверка гипотезы: использование критерия Колмогорова-Смирнова для сравнения эмпирического распределения с равномерным распределением. Расчет статистики ρ и сравнение ее с критическим значением C."
   ],
   "id": "d86bffe33da75104"
  },
  {
   "metadata": {
    "ExecuteTime": {
     "end_time": "2024-04-26T17:27:05.642783Z",
     "start_time": "2024-04-26T17:27:05.629283Z"
    }
   },
   "cell_type": "code",
   "source": [
    "X = pd.read_csv('hypothesis_5_X.csv', header=None)\n",
    "Y = pd.read_csv('hypothesis_5_Y.csv', header=None)"
   ],
   "id": "433e4e551ac5ccfb",
   "outputs": [],
   "execution_count": 3
  },
  {
   "metadata": {
    "ExecuteTime": {
     "end_time": "2024-04-26T17:48:42.891542Z",
     "start_time": "2024-04-26T17:48:42.873701Z"
    }
   },
   "cell_type": "code",
   "source": "X",
   "id": "c10b95440a792b4a",
   "outputs": [
    {
     "data": {
      "text/plain": [
       "           0\n",
       "0  35.857419\n",
       "1  29.851216\n",
       "2  25.991484\n",
       "3  34.426247\n",
       "4  33.322775\n",
       "5  36.441769\n",
       "6  27.858808\n",
       "7  31.017693\n",
       "8  26.438346\n",
       "9  30.520649"
      ],
      "text/html": [
       "<div>\n",
       "<style scoped>\n",
       "    .dataframe tbody tr th:only-of-type {\n",
       "        vertical-align: middle;\n",
       "    }\n",
       "\n",
       "    .dataframe tbody tr th {\n",
       "        vertical-align: top;\n",
       "    }\n",
       "\n",
       "    .dataframe thead th {\n",
       "        text-align: right;\n",
       "    }\n",
       "</style>\n",
       "<table border=\"1\" class=\"dataframe\">\n",
       "  <thead>\n",
       "    <tr style=\"text-align: right;\">\n",
       "      <th></th>\n",
       "      <th>0</th>\n",
       "    </tr>\n",
       "  </thead>\n",
       "  <tbody>\n",
       "    <tr>\n",
       "      <th>0</th>\n",
       "      <td>35.857419</td>\n",
       "    </tr>\n",
       "    <tr>\n",
       "      <th>1</th>\n",
       "      <td>29.851216</td>\n",
       "    </tr>\n",
       "    <tr>\n",
       "      <th>2</th>\n",
       "      <td>25.991484</td>\n",
       "    </tr>\n",
       "    <tr>\n",
       "      <th>3</th>\n",
       "      <td>34.426247</td>\n",
       "    </tr>\n",
       "    <tr>\n",
       "      <th>4</th>\n",
       "      <td>33.322775</td>\n",
       "    </tr>\n",
       "    <tr>\n",
       "      <th>5</th>\n",
       "      <td>36.441769</td>\n",
       "    </tr>\n",
       "    <tr>\n",
       "      <th>6</th>\n",
       "      <td>27.858808</td>\n",
       "    </tr>\n",
       "    <tr>\n",
       "      <th>7</th>\n",
       "      <td>31.017693</td>\n",
       "    </tr>\n",
       "    <tr>\n",
       "      <th>8</th>\n",
       "      <td>26.438346</td>\n",
       "    </tr>\n",
       "    <tr>\n",
       "      <th>9</th>\n",
       "      <td>30.520649</td>\n",
       "    </tr>\n",
       "  </tbody>\n",
       "</table>\n",
       "</div>"
      ]
     },
     "execution_count": 4,
     "metadata": {},
     "output_type": "execute_result"
    }
   ],
   "execution_count": 4
  },
  {
   "metadata": {
    "ExecuteTime": {
     "end_time": "2024-04-26T17:48:51.634895Z",
     "start_time": "2024-04-26T17:48:51.628712Z"
    }
   },
   "cell_type": "code",
   "source": "Y",
   "id": "daf578a95ce10b3f",
   "outputs": [
    {
     "data": {
      "text/plain": [
       "           0\n",
       "0  38.829230\n",
       "1  32.936778\n",
       "2  39.731949\n",
       "3  37.074383\n",
       "4  33.338638\n",
       "5  35.652129\n",
       "6  33.100469"
      ],
      "text/html": [
       "<div>\n",
       "<style scoped>\n",
       "    .dataframe tbody tr th:only-of-type {\n",
       "        vertical-align: middle;\n",
       "    }\n",
       "\n",
       "    .dataframe tbody tr th {\n",
       "        vertical-align: top;\n",
       "    }\n",
       "\n",
       "    .dataframe thead th {\n",
       "        text-align: right;\n",
       "    }\n",
       "</style>\n",
       "<table border=\"1\" class=\"dataframe\">\n",
       "  <thead>\n",
       "    <tr style=\"text-align: right;\">\n",
       "      <th></th>\n",
       "      <th>0</th>\n",
       "    </tr>\n",
       "  </thead>\n",
       "  <tbody>\n",
       "    <tr>\n",
       "      <th>0</th>\n",
       "      <td>38.829230</td>\n",
       "    </tr>\n",
       "    <tr>\n",
       "      <th>1</th>\n",
       "      <td>32.936778</td>\n",
       "    </tr>\n",
       "    <tr>\n",
       "      <th>2</th>\n",
       "      <td>39.731949</td>\n",
       "    </tr>\n",
       "    <tr>\n",
       "      <th>3</th>\n",
       "      <td>37.074383</td>\n",
       "    </tr>\n",
       "    <tr>\n",
       "      <th>4</th>\n",
       "      <td>33.338638</td>\n",
       "    </tr>\n",
       "    <tr>\n",
       "      <th>5</th>\n",
       "      <td>35.652129</td>\n",
       "    </tr>\n",
       "    <tr>\n",
       "      <th>6</th>\n",
       "      <td>33.100469</td>\n",
       "    </tr>\n",
       "  </tbody>\n",
       "</table>\n",
       "</div>"
      ]
     },
     "execution_count": 5,
     "metadata": {},
     "output_type": "execute_result"
    }
   ],
   "execution_count": 5
  },
  {
   "metadata": {
    "ExecuteTime": {
     "end_time": "2024-04-26T18:40:31.895364Z",
     "start_time": "2024-04-26T18:40:31.880761Z"
    }
   },
   "cell_type": "code",
   "source": [
    "# проверка критерия колмогорова 0.05 на равномерное распределение\n",
    "res = sp.stats.kstest(Y[0], 'uniform')\n",
    "print(res)\n",
    "# значение функции отклонения\n",
    "res[0]\n"
   ],
   "id": "23f01b67513bfd39",
   "outputs": [
    {
     "name": "stdout",
     "output_type": "stream",
     "text": [
      "KstestResult(statistic=1.0, pvalue=0.0, statistic_location=32.9367778501473, statistic_sign=-1)\n"
     ]
    },
    {
     "data": {
      "text/plain": [
       "1.0"
      ]
     },
     "execution_count": 9,
     "metadata": {},
     "output_type": "execute_result"
    }
   ],
   "execution_count": 9
  },
  {
   "metadata": {
    "ExecuteTime": {
     "end_time": "2024-04-26T19:49:20.904155Z",
     "start_time": "2024-04-26T19:49:20.892672Z"
    }
   },
   "cell_type": "code",
   "source": [
    "nX = len(X)\n",
    "nY = len(Y)\n",
    "\n",
    "rho = abs(np.sqrt(nX * nY / (nX + nY)) * (X.mean() - Y.mean()) / np.sqrt(((nX - 1) * X.var() + (nY - 1) * Y.var()) / (nX + nY - 2)))[0]\n",
    "rho"
   ],
   "id": "fed06147561f4206",
   "outputs": [
    {
     "data": {
      "text/plain": [
       "2.753039845218725"
      ]
     },
     "execution_count": 42,
     "metadata": {},
     "output_type": "execute_result"
    }
   ],
   "execution_count": 42
  },
  {
   "metadata": {
    "ExecuteTime": {
     "end_time": "2024-04-26T19:49:21.582157Z",
     "start_time": "2024-04-26T19:49:21.564161Z"
    }
   },
   "cell_type": "code",
   "source": [
    "# вычислим квантиль уровня 1 - 0.05 / 2 распределения Стьюдента \n",
    "e = 0.05\n",
    "\n",
    "C = sp.stats.t.ppf(1 - e / 2, nX + nY - 2)\n",
    "C"
   ],
   "id": "bf31b0bdf8de66f1",
   "outputs": [
    {
     "data": {
      "text/plain": [
       "2.131449545559323"
      ]
     },
     "execution_count": 43,
     "metadata": {},
     "output_type": "execute_result"
    }
   ],
   "execution_count": 43
  },
  {
   "metadata": {
    "ExecuteTime": {
     "end_time": "2024-04-26T19:49:22.033034Z",
     "start_time": "2024-04-26T19:49:22.018514Z"
    }
   },
   "cell_type": "code",
   "source": [
    "if rho > C :\n",
    "    print(\"Гипотеза отвергается\")\n",
    "else:\n",
    "    print(\"Гипотеза не отвергается\")\n"
   ],
   "id": "47e8c91ad156eec2",
   "outputs": [
    {
     "name": "stdout",
     "output_type": "stream",
     "text": [
      "Гипотеза отвергается\n"
     ]
    }
   ],
   "execution_count": 44
  },
  {
   "metadata": {
    "ExecuteTime": {
     "end_time": "2024-04-27T08:02:56.568088Z",
     "start_time": "2024-04-27T08:02:56.525173Z"
    }
   },
   "cell_type": "code",
   "source": [
    "X = pd.read_csv('hypothesis_6_X.csv', header=None)\n",
    "Y = pd.read_csv('hypothesis_6_Y.csv', header=None)"
   ],
   "id": "6483136ef53af11a",
   "outputs": [],
   "execution_count": 49
  },
  {
   "metadata": {
    "ExecuteTime": {
     "end_time": "2024-04-27T11:57:35.442360Z",
     "start_time": "2024-04-27T11:57:35.433155Z"
    }
   },
   "cell_type": "code",
   "source": [
    "X = pd.read_csv('hypothesis_4.csv', header=None)\n",
    "X.mean()"
   ],
   "id": "25a5971a1c1fa6f8",
   "outputs": [
    {
     "data": {
      "text/plain": [
       "0    29.321467\n",
       "dtype: float64"
      ]
     },
     "execution_count": 55,
     "metadata": {},
     "output_type": "execute_result"
    }
   ],
   "execution_count": 55
  },
  {
   "metadata": {
    "ExecuteTime": {
     "end_time": "2024-04-27T11:58:16.992565Z",
     "start_time": "2024-04-27T11:58:16.985076Z"
    }
   },
   "cell_type": "code",
   "source": "(X.mean() - 26) * np.sqrt(10) / np.sqrt(6)",
   "id": "21a9e1b5613557b7",
   "outputs": [
    {
     "data": {
      "text/plain": [
       "0    4.287996\n",
       "dtype: float64"
      ]
     },
     "execution_count": 56,
     "metadata": {},
     "output_type": "execute_result"
    }
   ],
   "execution_count": 56
  },
  {
   "metadata": {
    "ExecuteTime": {
     "end_time": "2024-04-27T12:01:56.397102Z",
     "start_time": "2024-04-27T12:01:56.385867Z"
    }
   },
   "cell_type": "code",
   "source": [
    "X = pd.read_csv('Hypothesis_1_14.csv', header=None)\n",
    "X"
   ],
   "id": "3bf6599289b55ad0",
   "outputs": [
    {
     "data": {
      "text/plain": [
       "        0\n",
       "0  95.096\n",
       "1  85.895\n",
       "2  86.487\n",
       "3  84.948\n",
       "4  72.873\n",
       "5  86.304"
      ],
      "text/html": [
       "<div>\n",
       "<style scoped>\n",
       "    .dataframe tbody tr th:only-of-type {\n",
       "        vertical-align: middle;\n",
       "    }\n",
       "\n",
       "    .dataframe tbody tr th {\n",
       "        vertical-align: top;\n",
       "    }\n",
       "\n",
       "    .dataframe thead th {\n",
       "        text-align: right;\n",
       "    }\n",
       "</style>\n",
       "<table border=\"1\" class=\"dataframe\">\n",
       "  <thead>\n",
       "    <tr style=\"text-align: right;\">\n",
       "      <th></th>\n",
       "      <th>0</th>\n",
       "    </tr>\n",
       "  </thead>\n",
       "  <tbody>\n",
       "    <tr>\n",
       "      <th>0</th>\n",
       "      <td>95.096</td>\n",
       "    </tr>\n",
       "    <tr>\n",
       "      <th>1</th>\n",
       "      <td>85.895</td>\n",
       "    </tr>\n",
       "    <tr>\n",
       "      <th>2</th>\n",
       "      <td>86.487</td>\n",
       "    </tr>\n",
       "    <tr>\n",
       "      <th>3</th>\n",
       "      <td>84.948</td>\n",
       "    </tr>\n",
       "    <tr>\n",
       "      <th>4</th>\n",
       "      <td>72.873</td>\n",
       "    </tr>\n",
       "    <tr>\n",
       "      <th>5</th>\n",
       "      <td>86.304</td>\n",
       "    </tr>\n",
       "  </tbody>\n",
       "</table>\n",
       "</div>"
      ]
     },
     "execution_count": 59,
     "metadata": {},
     "output_type": "execute_result"
    }
   ],
   "execution_count": 59
  },
  {
   "metadata": {
    "ExecuteTime": {
     "end_time": "2024-04-27T12:02:38.643939Z",
     "start_time": "2024-04-27T12:02:38.627492Z"
    }
   },
   "cell_type": "code",
   "source": "X.mean()",
   "id": "5a970b6af94b7ef3",
   "outputs": [
    {
     "data": {
      "text/plain": [
       "0    85.267167\n",
       "dtype: float64"
      ]
     },
     "execution_count": 62,
     "metadata": {},
     "output_type": "execute_result"
    }
   ],
   "execution_count": 62
  },
  {
   "metadata": {
    "ExecuteTime": {
     "end_time": "2024-04-27T12:03:00.350210Z",
     "start_time": "2024-04-27T12:03:00.339785Z"
    }
   },
   "cell_type": "code",
   "source": [
    "# оценка среднеквадратичного отклонения\n",
    "X.std()"
   ],
   "id": "1384146226878989",
   "outputs": [
    {
     "data": {
      "text/plain": [
       "0    7.117308\n",
       "dtype: float64"
      ]
     },
     "execution_count": 65,
     "metadata": {},
     "output_type": "execute_result"
    }
   ],
   "execution_count": 65
  },
  {
   "metadata": {
    "ExecuteTime": {
     "end_time": "2024-04-27T12:08:01.285885Z",
     "start_time": "2024-04-27T12:08:01.273049Z"
    }
   },
   "cell_type": "code",
   "source": [
    "# значение модуля функции отклонения\n",
    "abs((X.mean() - 87) * np.sqrt(len(X)) / X.std())"
   ],
   "id": "3915ff45bb36d244",
   "outputs": [
    {
     "data": {
      "text/plain": [
       "0    0.596371\n",
       "dtype: float64"
      ]
     },
     "execution_count": 69,
     "metadata": {},
     "output_type": "execute_result"
    }
   ],
   "execution_count": 69
  },
  {
   "metadata": {
    "ExecuteTime": {
     "end_time": "2024-04-27T12:04:54.151393Z",
     "start_time": "2024-04-27T12:04:54.131144Z"
    }
   },
   "cell_type": "code",
   "source": [
    "# вычислим квантиль уровня 1 - 0.01 / 2 распределения Стьюдента\n",
    "e = 0.01\n",
    "\n",
    "C = sp.stats.t.ppf(1 - e / 2, len(X) - 1)\n",
    "C"
   ],
   "id": "b802c5adc95c17a8",
   "outputs": [
    {
     "data": {
      "text/plain": [
       "4.032142983557536"
      ]
     },
     "execution_count": 68,
     "metadata": {},
     "output_type": "execute_result"
    }
   ],
   "execution_count": 68
  }
 ],
 "metadata": {
  "kernelspec": {
   "display_name": "Python 3",
   "language": "python",
   "name": "python3"
  },
  "language_info": {
   "codemirror_mode": {
    "name": "ipython",
    "version": 2
   },
   "file_extension": ".py",
   "mimetype": "text/x-python",
   "name": "python",
   "nbconvert_exporter": "python",
   "pygments_lexer": "ipython2",
   "version": "2.7.6"
  }
 },
 "nbformat": 4,
 "nbformat_minor": 5
}
