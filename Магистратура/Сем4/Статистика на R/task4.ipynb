{
 "cells": [
  {
   "cell_type": "code",
   "id": "initial_id",
   "metadata": {
    "collapsed": true,
    "ExecuteTime": {
     "end_time": "2024-04-24T04:49:48.475752Z",
     "start_time": "2024-04-24T04:49:39.695456Z"
    }
   },
   "source": "import pandas as pd",
   "outputs": [],
   "execution_count": 1
  },
  {
   "metadata": {
    "ExecuteTime": {
     "end_time": "2024-04-24T04:52:02.335905Z",
     "start_time": "2024-04-24T04:52:02.316956Z"
    }
   },
   "cell_type": "code",
   "source": [
    "df = pd.read_csv('task4.csv', header=None)\n",
    "df.columns = ['Количество звонков']\n",
    "df"
   ],
   "id": "bae559563c48679c",
   "outputs": [
    {
     "data": {
      "text/plain": [
       "      Количество звонков\n",
       "0                      5\n",
       "1                      4\n",
       "2                      6\n",
       "3                      0\n",
       "4                      2\n",
       "...                  ...\n",
       "9995                   2\n",
       "9996                   5\n",
       "9997                   3\n",
       "9998                   4\n",
       "9999                   0\n",
       "\n",
       "[10000 rows x 1 columns]"
      ],
      "text/html": [
       "<div>\n",
       "<style scoped>\n",
       "    .dataframe tbody tr th:only-of-type {\n",
       "        vertical-align: middle;\n",
       "    }\n",
       "\n",
       "    .dataframe tbody tr th {\n",
       "        vertical-align: top;\n",
       "    }\n",
       "\n",
       "    .dataframe thead th {\n",
       "        text-align: right;\n",
       "    }\n",
       "</style>\n",
       "<table border=\"1\" class=\"dataframe\">\n",
       "  <thead>\n",
       "    <tr style=\"text-align: right;\">\n",
       "      <th></th>\n",
       "      <th>Количество звонков</th>\n",
       "    </tr>\n",
       "  </thead>\n",
       "  <tbody>\n",
       "    <tr>\n",
       "      <th>0</th>\n",
       "      <td>5</td>\n",
       "    </tr>\n",
       "    <tr>\n",
       "      <th>1</th>\n",
       "      <td>4</td>\n",
       "    </tr>\n",
       "    <tr>\n",
       "      <th>2</th>\n",
       "      <td>6</td>\n",
       "    </tr>\n",
       "    <tr>\n",
       "      <th>3</th>\n",
       "      <td>0</td>\n",
       "    </tr>\n",
       "    <tr>\n",
       "      <th>4</th>\n",
       "      <td>2</td>\n",
       "    </tr>\n",
       "    <tr>\n",
       "      <th>...</th>\n",
       "      <td>...</td>\n",
       "    </tr>\n",
       "    <tr>\n",
       "      <th>9995</th>\n",
       "      <td>2</td>\n",
       "    </tr>\n",
       "    <tr>\n",
       "      <th>9996</th>\n",
       "      <td>5</td>\n",
       "    </tr>\n",
       "    <tr>\n",
       "      <th>9997</th>\n",
       "      <td>3</td>\n",
       "    </tr>\n",
       "    <tr>\n",
       "      <th>9998</th>\n",
       "      <td>4</td>\n",
       "    </tr>\n",
       "    <tr>\n",
       "      <th>9999</th>\n",
       "      <td>0</td>\n",
       "    </tr>\n",
       "  </tbody>\n",
       "</table>\n",
       "<p>10000 rows × 1 columns</p>\n",
       "</div>"
      ]
     },
     "execution_count": 6,
     "metadata": {},
     "output_type": "execute_result"
    }
   ],
   "execution_count": 6
  },
  {
   "metadata": {
    "ExecuteTime": {
     "end_time": "2024-04-24T04:53:53.866073Z",
     "start_time": "2024-04-24T04:53:53.846127Z"
    }
   },
   "cell_type": "code",
   "source": [
    "mean = df['Количество звонков'].mean()\n",
    "std = df['Количество звонков'].std()\n",
    "median = df['Количество звонков'].median()\n",
    "mean, std, median"
   ],
   "id": "89f8c4827a2d456d",
   "outputs": [
    {
     "data": {
      "text/plain": [
       "(2.9616, 1.736556075311209, 3.0)"
      ]
     },
     "execution_count": 12,
     "metadata": {},
     "output_type": "execute_result"
    }
   ],
   "execution_count": 12
  },
  {
   "metadata": {
    "ExecuteTime": {
     "end_time": "2024-04-24T04:56:08.627621Z",
     "start_time": "2024-04-24T04:56:08.234674Z"
    }
   },
   "cell_type": "code",
   "source": [
    "#доверительный интервал 0.95\n",
    "import scipy.stats as st\n",
    "n = len(df)\n",
    "alpha = 0.05\n",
    "t = st.t.ppf(1 - alpha / 2, n - 1)\n",
    "mean - t * std / n ** 0.5, mean + t * std / n ** 0.5"
   ],
   "id": "457198750d39e4c3",
   "outputs": [
    {
     "data": {
      "text/plain": [
       "(2.927560005868256, 2.9956399941317438)"
      ]
     },
     "execution_count": 13,
     "metadata": {},
     "output_type": "execute_result"
    }
   ],
   "execution_count": 13
  },
  {
   "metadata": {},
   "cell_type": "code",
   "outputs": [],
   "execution_count": null,
   "source": "",
   "id": "40fa8ba173dfb2ad"
  }
 ],
 "metadata": {
  "kernelspec": {
   "display_name": "Python 3",
   "language": "python",
   "name": "python3"
  },
  "language_info": {
   "codemirror_mode": {
    "name": "ipython",
    "version": 2
   },
   "file_extension": ".py",
   "mimetype": "text/x-python",
   "name": "python",
   "nbconvert_exporter": "python",
   "pygments_lexer": "ipython2",
   "version": "2.7.6"
  }
 },
 "nbformat": 4,
 "nbformat_minor": 5
}
