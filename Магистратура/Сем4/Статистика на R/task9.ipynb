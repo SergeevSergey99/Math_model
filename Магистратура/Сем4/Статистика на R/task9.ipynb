{
 "cells": [
  {
   "cell_type": "code",
   "id": "initial_id",
   "metadata": {
    "collapsed": true,
    "ExecuteTime": {
     "end_time": "2024-04-30T15:17:20.798976Z",
     "start_time": "2024-04-30T15:17:20.196610Z"
    }
   },
   "source": [
    "import numpy as np\n",
    "import matplotlib.pyplot as plt\n",
    "import pandas as pd"
   ],
   "outputs": [],
   "execution_count": 1
  },
  {
   "metadata": {
    "ExecuteTime": {
     "end_time": "2024-04-30T15:36:06.788631Z",
     "start_time": "2024-04-30T15:36:06.775725Z"
    }
   },
   "cell_type": "code",
   "source": [
    "spam_data = pd.read_csv('task9_1.csv', encoding='windows-1251')\n",
    "spam_data"
   ],
   "id": "a400a6666aecc2d0",
   "outputs": [
    {
     "data": {
      "text/plain": [
       "          спам  неспам\n",
       "0  Писем    27      25\n",
       "1   Слов   138     108"
      ],
      "text/html": [
       "<div>\n",
       "<style scoped>\n",
       "    .dataframe tbody tr th:only-of-type {\n",
       "        vertical-align: middle;\n",
       "    }\n",
       "\n",
       "    .dataframe tbody tr th {\n",
       "        vertical-align: top;\n",
       "    }\n",
       "\n",
       "    .dataframe thead th {\n",
       "        text-align: right;\n",
       "    }\n",
       "</style>\n",
       "<table border=\"1\" class=\"dataframe\">\n",
       "  <thead>\n",
       "    <tr style=\"text-align: right;\">\n",
       "      <th></th>\n",
       "      <th></th>\n",
       "      <th>спам</th>\n",
       "      <th>неспам</th>\n",
       "    </tr>\n",
       "  </thead>\n",
       "  <tbody>\n",
       "    <tr>\n",
       "      <th>0</th>\n",
       "      <td>Писем</td>\n",
       "      <td>27</td>\n",
       "      <td>25</td>\n",
       "    </tr>\n",
       "    <tr>\n",
       "      <th>1</th>\n",
       "      <td>Слов</td>\n",
       "      <td>138</td>\n",
       "      <td>108</td>\n",
       "    </tr>\n",
       "  </tbody>\n",
       "</table>\n",
       "</div>"
      ]
     },
     "execution_count": 17,
     "metadata": {},
     "output_type": "execute_result"
    }
   ],
   "execution_count": 17
  },
  {
   "metadata": {
    "ExecuteTime": {
     "end_time": "2024-04-30T15:36:07.282612Z",
     "start_time": "2024-04-30T15:36:07.261292Z"
    }
   },
   "cell_type": "code",
   "source": [
    "words_data = pd.read_csv('task9_2.csv', encoding='windows-1251')\n",
    "words_data"
   ],
   "id": "a0f15a35fdd10da5",
   "outputs": [
    {
     "data": {
      "text/plain": [
       "        слово  спам  неспам\n",
       "0   Unlimited     1       7\n",
       "1     Million     2       0\n",
       "2       Money     1       4\n",
       "3       Bonus     7       9\n",
       "4    Purchase     9       5\n",
       "5       Offer    23      15\n",
       "6      Access    40       0\n",
       "7      Remove    12      16\n",
       "8        Free    42      39\n",
       "9  Investment     1      13"
      ],
      "text/html": [
       "<div>\n",
       "<style scoped>\n",
       "    .dataframe tbody tr th:only-of-type {\n",
       "        vertical-align: middle;\n",
       "    }\n",
       "\n",
       "    .dataframe tbody tr th {\n",
       "        vertical-align: top;\n",
       "    }\n",
       "\n",
       "    .dataframe thead th {\n",
       "        text-align: right;\n",
       "    }\n",
       "</style>\n",
       "<table border=\"1\" class=\"dataframe\">\n",
       "  <thead>\n",
       "    <tr style=\"text-align: right;\">\n",
       "      <th></th>\n",
       "      <th>слово</th>\n",
       "      <th>спам</th>\n",
       "      <th>неспам</th>\n",
       "    </tr>\n",
       "  </thead>\n",
       "  <tbody>\n",
       "    <tr>\n",
       "      <th>0</th>\n",
       "      <td>Unlimited</td>\n",
       "      <td>1</td>\n",
       "      <td>7</td>\n",
       "    </tr>\n",
       "    <tr>\n",
       "      <th>1</th>\n",
       "      <td>Million</td>\n",
       "      <td>2</td>\n",
       "      <td>0</td>\n",
       "    </tr>\n",
       "    <tr>\n",
       "      <th>2</th>\n",
       "      <td>Money</td>\n",
       "      <td>1</td>\n",
       "      <td>4</td>\n",
       "    </tr>\n",
       "    <tr>\n",
       "      <th>3</th>\n",
       "      <td>Bonus</td>\n",
       "      <td>7</td>\n",
       "      <td>9</td>\n",
       "    </tr>\n",
       "    <tr>\n",
       "      <th>4</th>\n",
       "      <td>Purchase</td>\n",
       "      <td>9</td>\n",
       "      <td>5</td>\n",
       "    </tr>\n",
       "    <tr>\n",
       "      <th>5</th>\n",
       "      <td>Offer</td>\n",
       "      <td>23</td>\n",
       "      <td>15</td>\n",
       "    </tr>\n",
       "    <tr>\n",
       "      <th>6</th>\n",
       "      <td>Access</td>\n",
       "      <td>40</td>\n",
       "      <td>0</td>\n",
       "    </tr>\n",
       "    <tr>\n",
       "      <th>7</th>\n",
       "      <td>Remove</td>\n",
       "      <td>12</td>\n",
       "      <td>16</td>\n",
       "    </tr>\n",
       "    <tr>\n",
       "      <th>8</th>\n",
       "      <td>Free</td>\n",
       "      <td>42</td>\n",
       "      <td>39</td>\n",
       "    </tr>\n",
       "    <tr>\n",
       "      <th>9</th>\n",
       "      <td>Investment</td>\n",
       "      <td>1</td>\n",
       "      <td>13</td>\n",
       "    </tr>\n",
       "  </tbody>\n",
       "</table>\n",
       "</div>"
      ]
     },
     "execution_count": 18,
     "metadata": {},
     "output_type": "execute_result"
    }
   ],
   "execution_count": 18
  },
  {
   "metadata": {
    "ExecuteTime": {
     "end_time": "2024-04-30T15:37:20.942389Z",
     "start_time": "2024-04-30T15:37:20.929546Z"
    }
   },
   "cell_type": "code",
   "source": [
    "spamWordsCount = words_data['спам'].sum()\n",
    "spamWordsCount"
   ],
   "id": "7024c3eebb71e557",
   "outputs": [
    {
     "data": {
      "text/plain": [
       "138"
      ]
     },
     "execution_count": 22,
     "metadata": {},
     "output_type": "execute_result"
    }
   ],
   "execution_count": 22
  },
  {
   "metadata": {
    "ExecuteTime": {
     "end_time": "2024-04-30T15:43:26.049054Z",
     "start_time": "2024-04-30T15:43:26.042071Z"
    }
   },
   "cell_type": "code",
   "source": "np.log(11/37)",
   "id": "e8f1aa1c4f3332fb",
   "outputs": [
    {
     "data": {
      "text/plain": [
       "-1.213022639845854"
      ]
     },
     "execution_count": 25,
     "metadata": {},
     "output_type": "execute_result"
    }
   ],
   "execution_count": 25
  },
  {
   "metadata": {
    "ExecuteTime": {
     "end_time": "2024-04-30T15:36:07.917775Z",
     "start_time": "2024-04-30T15:36:07.912602Z"
    }
   },
   "cell_type": "code",
   "source": [
    "phrase = \"Purchase Refund Offer Prize Investment Million Bonus\"\n",
    "words = phrase.split()\n",
    "words"
   ],
   "id": "a9a18ed4e6bfbf22",
   "outputs": [
    {
     "data": {
      "text/plain": [
       "['Purchase', 'Refund', 'Offer', 'Prize', 'Investment', 'Million', 'Bonus']"
      ]
     },
     "execution_count": 19,
     "metadata": {},
     "output_type": "execute_result"
    }
   ],
   "execution_count": 19
  },
  {
   "metadata": {
    "ExecuteTime": {
     "end_time": "2024-04-30T15:38:03.079140Z",
     "start_time": "2024-04-30T15:38:03.067152Z"
    }
   },
   "cell_type": "code",
   "source": [
    "wordsInDic = words_data[words_data['слово'].isin(words)]\n",
    "wordsInDic"
   ],
   "id": "cef3f2cf4dddfd10",
   "outputs": [
    {
     "data": {
      "text/plain": [
       "        слово  спам  неспам\n",
       "1     Million     2       0\n",
       "3       Bonus     7       9\n",
       "4    Purchase     9       5\n",
       "5       Offer    23      15\n",
       "9  Investment     1      13"
      ],
      "text/html": [
       "<div>\n",
       "<style scoped>\n",
       "    .dataframe tbody tr th:only-of-type {\n",
       "        vertical-align: middle;\n",
       "    }\n",
       "\n",
       "    .dataframe tbody tr th {\n",
       "        vertical-align: top;\n",
       "    }\n",
       "\n",
       "    .dataframe thead th {\n",
       "        text-align: right;\n",
       "    }\n",
       "</style>\n",
       "<table border=\"1\" class=\"dataframe\">\n",
       "  <thead>\n",
       "    <tr style=\"text-align: right;\">\n",
       "      <th></th>\n",
       "      <th>слово</th>\n",
       "      <th>спам</th>\n",
       "      <th>неспам</th>\n",
       "    </tr>\n",
       "  </thead>\n",
       "  <tbody>\n",
       "    <tr>\n",
       "      <th>1</th>\n",
       "      <td>Million</td>\n",
       "      <td>2</td>\n",
       "      <td>0</td>\n",
       "    </tr>\n",
       "    <tr>\n",
       "      <th>3</th>\n",
       "      <td>Bonus</td>\n",
       "      <td>7</td>\n",
       "      <td>9</td>\n",
       "    </tr>\n",
       "    <tr>\n",
       "      <th>4</th>\n",
       "      <td>Purchase</td>\n",
       "      <td>9</td>\n",
       "      <td>5</td>\n",
       "    </tr>\n",
       "    <tr>\n",
       "      <th>5</th>\n",
       "      <td>Offer</td>\n",
       "      <td>23</td>\n",
       "      <td>15</td>\n",
       "    </tr>\n",
       "    <tr>\n",
       "      <th>9</th>\n",
       "      <td>Investment</td>\n",
       "      <td>1</td>\n",
       "      <td>13</td>\n",
       "    </tr>\n",
       "  </tbody>\n",
       "</table>\n",
       "</div>"
      ]
     },
     "execution_count": 23,
     "metadata": {},
     "output_type": "execute_result"
    }
   ],
   "execution_count": 23
  },
  {
   "metadata": {
    "ExecuteTime": {
     "end_time": "2024-04-30T15:53:15.196221Z",
     "start_time": "2024-04-30T15:53:15.186411Z"
    }
   },
   "cell_type": "code",
   "source": "words[0] in words_data['слово'].array",
   "id": "cd4290194cc2cfb5",
   "outputs": [
    {
     "data": {
      "text/plain": [
       "True"
      ]
     },
     "execution_count": 36,
     "metadata": {},
     "output_type": "execute_result"
    }
   ],
   "execution_count": 36
  },
  {
   "metadata": {
    "ExecuteTime": {
     "end_time": "2024-04-30T15:57:29.829235Z",
     "start_time": "2024-04-30T15:57:29.818205Z"
    }
   },
   "cell_type": "code",
   "source": [
    "divSpam = (spamWordsCount + len(words_data) + len(words) - len(wordsInDic))\n",
    "Fspam = np.log(27/52)\n",
    "for word in words:\n",
    "    if word in words_data['слово'].array:\n",
    "        val = words_data[words_data['слово'] == word]['спам'].values[0] + 1\n",
    "        print(word + \" log \"+ str(val) + \" / \" + str(divSpam))\n",
    "        Fspam += np.log(val / divSpam)\n",
    "    else:\n",
    "        print(word + \" log 1 / \" + str(divSpam))\n",
    "        Fspam += np.log(1 / divSpam)\n",
    "Fspam"
   ],
   "id": "a3b6404e3811fa81",
   "outputs": [
    {
     "name": "stdout",
     "output_type": "stream",
     "text": [
      "Purchase log 10 / 150\n",
      "Refund log 1 / 150\n",
      "Offer log 24 / 150\n",
      "Prize log 1 / 150\n",
      "Investment log 2 / 150\n",
      "Million log 3 / 150\n",
      "Bonus log 8 / 150\n"
     ]
    },
    {
     "data": {
      "text/plain": [
       "-26.378013977001004"
      ]
     },
     "execution_count": 41,
     "metadata": {},
     "output_type": "execute_result"
    }
   ],
   "execution_count": 41
  },
  {
   "metadata": {
    "ExecuteTime": {
     "end_time": "2024-04-30T15:46:25.025405Z",
     "start_time": "2024-04-30T15:46:25.017156Z"
    }
   },
   "cell_type": "code",
   "source": [
    "notSpamWordsCount = words_data['неспам'].sum()\n",
    "notSpamWordsCount"
   ],
   "id": "5d231d15d56a5933",
   "outputs": [
    {
     "data": {
      "text/plain": [
       "108"
      ]
     },
     "execution_count": 28,
     "metadata": {},
     "output_type": "execute_result"
    }
   ],
   "execution_count": 28
  },
  {
   "metadata": {
    "ExecuteTime": {
     "end_time": "2024-04-30T15:57:48.458992Z",
     "start_time": "2024-04-30T15:57:48.442064Z"
    }
   },
   "cell_type": "code",
   "source": [
    "divNotSpam = (notSpamWordsCount + len(words_data) + len(words) - len(wordsInDic))\n",
    "FnotSpam = np.log(25/52)\n",
    "for word in words:\n",
    "    if word in words_data['слово'].array:\n",
    "        val = words_data[words_data['слово'] == word]['неспам'].values[0] + 1\n",
    "        print(\"log \"+ str(val) + \" / \" + str(divNotSpam))\n",
    "        FnotSpam += np.log(val / divNotSpam)\n",
    "    else:\n",
    "        print(\"log 1 / \" + str(divNotSpam))\n",
    "        FnotSpam += np.log(1 / divNotSpam)\n",
    "FnotSpam"
   ],
   "id": "515f139e148814a6",
   "outputs": [
    {
     "name": "stdout",
     "output_type": "stream",
     "text": [
      "log 6 / 120\n",
      "log 1 / 120\n",
      "log 16 / 120\n",
      "log 1 / 120\n",
      "log 14 / 120\n",
      "log 1 / 120\n",
      "log 10 / 120\n"
     ]
    },
    {
     "data": {
      "text/plain": [
       "-24.738819479110408"
      ]
     },
     "execution_count": 42,
     "metadata": {},
     "output_type": "execute_result"
    }
   ],
   "execution_count": 42
  },
  {
   "metadata": {
    "ExecuteTime": {
     "end_time": "2024-04-30T15:58:19.596993Z",
     "start_time": "2024-04-30T15:58:19.592993Z"
    }
   },
   "cell_type": "code",
   "source": [
    "# вероятность спама\n",
    "1 / (1 + np.exp(FnotSpam - Fspam))"
   ],
   "id": "22c31a6da53203ef",
   "outputs": [
    {
     "data": {
      "text/plain": [
       "0.1625746971885421"
      ]
     },
     "execution_count": 43,
     "metadata": {},
     "output_type": "execute_result"
    }
   ],
   "execution_count": 43
  },
  {
   "metadata": {
    "ExecuteTime": {
     "end_time": "2024-04-30T15:25:21.225593Z",
     "start_time": "2024-04-30T15:25:21.218593Z"
    }
   },
   "cell_type": "code",
   "source": [
    "\n",
    "# 1. Посчитайте априорные вероятности классов спама и не спама.\n",
    "spam_data['спам'].value_counts()"
   ],
   "id": "4137aa1930c103b2",
   "outputs": [
    {
     "data": {
      "text/plain": [
       "спам\n",
       "27     1\n",
       "138    1\n",
       "Name: count, dtype: int64"
      ]
     },
     "execution_count": 10,
     "metadata": {},
     "output_type": "execute_result"
    }
   ],
   "execution_count": 10
  },
  {
   "metadata": {},
   "cell_type": "code",
   "outputs": [],
   "execution_count": null,
   "source": "",
   "id": "6624f8985954966b"
  }
 ],
 "metadata": {
  "kernelspec": {
   "display_name": "Python 3",
   "language": "python",
   "name": "python3"
  },
  "language_info": {
   "codemirror_mode": {
    "name": "ipython",
    "version": 2
   },
   "file_extension": ".py",
   "mimetype": "text/x-python",
   "name": "python",
   "nbconvert_exporter": "python",
   "pygments_lexer": "ipython2",
   "version": "2.7.6"
  }
 },
 "nbformat": 4,
 "nbformat_minor": 5
}
