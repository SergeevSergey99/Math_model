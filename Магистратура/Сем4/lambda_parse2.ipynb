{
 "cells": [
  {
   "cell_type": "markdown",
   "source": [
    "#### Функция токенизации\n",
    "\n",
    "Реализуем функцию `tokenize`, преобразующую входную строку в список токенов на основе предопределённых паттернов. Токены представляют собой минимальные смысловые единицы, такие как переменные, лямбда-символы, скобки и т.д.\n"
   ],
   "metadata": {
    "collapsed": false
   },
   "id": "907831a3c181bdf9"
  },
  {
   "cell_type": "code",
   "outputs": [],
   "source": [
    "def tokenize(input):\n",
    "    tokens = []\n",
    "    i = 0\n",
    "    while i < len(input):\n",
    "        if input[i].isspace():\n",
    "            i += 1\n",
    "        elif input[i] == '\\\\':\n",
    "            tokens.append('LAMBDA')\n",
    "            i += 1\n",
    "        elif input[i] == 'λ':\n",
    "            tokens.append('LAMBDA')\n",
    "            i += 1\n",
    "        elif input[i] == '.':\n",
    "            tokens.append('DOT')\n",
    "            i += 1\n",
    "        elif input[i] == '(':\n",
    "            tokens.append('LPAREN')\n",
    "            i += 1\n",
    "        elif input[i] == ')':\n",
    "            tokens.append('RPAREN')\n",
    "            i += 1\n",
    "        elif input[i].isalpha():\n",
    "            tokens.append(('VAR', input[i]))\n",
    "            i += 1\n",
    "        else:\n",
    "            raise Exception(f\"Unknown character: {input[i]} at position {i}\")\n",
    "    return tokens\n"
   ],
   "metadata": {
    "collapsed": false,
    "ExecuteTime": {
     "end_time": "2024-03-26T00:12:34.636431Z",
     "start_time": "2024-03-26T00:12:34.627935Z"
    }
   },
   "id": "3038673d28d95140",
   "execution_count": 1
  },
  {
   "cell_type": "markdown",
   "source": [
    "#### Тестирование токенизации\n",
    "Определяем тестовое лямбда-выражение и применяем функцию токенизации для получения списка токенов."
   ],
   "metadata": {
    "collapsed": false
   },
   "id": "bbc1ba5524b24660"
  },
  {
   "cell_type": "code",
   "outputs": [
    {
     "name": "stdout",
     "output_type": "stream",
     "text": [
      "['LAMBDA', ('VAR', 'x'), 'DOT', 'LPAREN', 'LAMBDA', ('VAR', 'y'), 'DOT', 'LPAREN', ('VAR', 'y'), ('VAR', 'x'), 'RPAREN', ('VAR', 'x'), 'LAMBDA', ('VAR', 'x'), ('VAR', 'y'), 'DOT', ('VAR', 'x'), ('VAR', 'y'), 'RPAREN', ('VAR', 'x')]\n"
     ]
    }
   ],
   "source": [
    "lambda_expr = \"λx.(λy.(y x) x λxy.xy)x\"\n",
    "tokens = tokenize(lambda_expr)\n",
    "print(tokens)"
   ],
   "metadata": {
    "collapsed": false,
    "ExecuteTime": {
     "end_time": "2024-03-26T00:12:35.008347Z",
     "start_time": "2024-03-26T00:12:35.001327Z"
    }
   },
   "id": "68587570a53521b2",
   "execution_count": 2
  },
  {
   "cell_type": "markdown",
   "source": [
    "### Определения классов\n",
    "\n",
    "В этой части кода определяются основные классы, которые будут использоваться для представления узлов абстрактного синтаксического дерева (АСТ) лямбда-выражений\n"
   ],
   "metadata": {
    "collapsed": false
   },
   "id": "401ed4390ac7ddd9"
  },
  {
   "cell_type": "code",
   "outputs": [],
   "source": [
    "class LambdaNode:\n",
    "    def __init__(self, variables, body):\n",
    "        self.variables = variables  # Список переменных\n",
    "        self.body = body  # Тело функции (список токенов или LambdaNode)\n",
    "        \n",
    "    def __repr__(self):\n",
    "        return self.pretty_print()\n",
    "        \n",
    "    def pretty_print(self, indent=0):\n",
    "        result = ''\n",
    "        if (len(self.variables) > 0):\n",
    "            result += ' ' * indent + 'LAMBDA ' + ' '.join(self.variables) + ' .\\n'\n",
    "        for node in self.body:\n",
    "            if isinstance(node, LambdaNode):\n",
    "                result += node.pretty_print(indent + 4)\n",
    "            else:\n",
    "                result += ' ' * (indent + 4) + str(node) + '\\n'\n",
    "        return result"
   ],
   "metadata": {
    "collapsed": false,
    "ExecuteTime": {
     "end_time": "2024-03-26T00:12:35.407554Z",
     "start_time": "2024-03-26T00:12:35.389077Z"
    }
   },
   "id": "60f5b271629040bb",
   "execution_count": 3
  },
  {
   "cell_type": "markdown",
   "source": [
    "#### Парсер\n",
    "\n",
    "Эта часть содержит реализацию парсера, который преобразует последовательность токенов, в АСТ. Парсер следует грамматике лямбда-выражений для построения дерева, корректно определяя структуру вложенных функций и применений.\n"
   ],
   "metadata": {
    "collapsed": false
   },
   "id": "4d283f7b22a71f5f"
  },
  {
   "cell_type": "code",
   "outputs": [],
   "source": [
    "def parse_lambda(tokens, start = 0, end = None):\n",
    "    variables = []\n",
    "    body = []\n",
    "    if end is None:\n",
    "        end = len(tokens)\n",
    "\n",
    "    if tokens[start] == 'LAMBDA':\n",
    "        # Собираем переменные функции\n",
    "        start += 1  # Пропускаем токен 'LAMBDA'\n",
    "        while tokens[start] != 'DOT':\n",
    "            if tokens[start][0] == 'VAR':\n",
    "                variables.append(tokens[start][1])\n",
    "            start += 1\n",
    "    \n",
    "        start += 1  # Пропускаем токен 'DOT'\n",
    "        \n",
    "    # Обрабатываем тело функции\n",
    "    while start < end:\n",
    "        if tokens[start] == 'LPAREN':\n",
    "            #body.append(tokens[start])\n",
    "            i = start\n",
    "            balance = 1\n",
    "            while balance != 0:\n",
    "                assert i < end, \"Unbalanced parentheses\"\n",
    "                i += 1\n",
    "                if tokens[i] == 'LPAREN':\n",
    "                    balance += 1\n",
    "                elif tokens[i] == 'RPAREN':\n",
    "                    balance -= 1\n",
    "            body.append(parse_lambda(tokens, start+1, i))\n",
    "            #body.append(tokens[i])\n",
    "            start = i + 1\n",
    "        elif tokens[start] == 'LAMBDA':\n",
    "            # Рекурсивный разбор вложенной лямбды\n",
    "            node = parse_lambda(tokens, start, end+1)\n",
    "            body.append(node)\n",
    "            start += len(node.variables) + 2 + len(node.body)\n",
    "        else:\n",
    "            if tokens[start][0] == 'VAR':\n",
    "                body.append(tokens[start])\n",
    "            start += 1\n",
    "\n",
    "    return LambdaNode(variables, body)\n",
    "\n"
   ],
   "metadata": {
    "collapsed": false,
    "ExecuteTime": {
     "end_time": "2024-03-26T00:12:35.777339Z",
     "start_time": "2024-03-26T00:12:35.771824Z"
    }
   },
   "id": "fbbddaab54839b72",
   "execution_count": 4
  },
  {
   "cell_type": "markdown",
   "source": [
    "#### Визуализация AST\n",
    "Парсим тестовый набор токенов, строим AST и выводим его структуру для визуальной проверки корректности парсинга."
   ],
   "metadata": {
    "collapsed": false
   },
   "id": "8aea6b96450aa2ea"
  },
  {
   "cell_type": "code",
   "outputs": [
    {
     "name": "stdout",
     "output_type": "stream",
     "text": [
      "Lambda: λx.(λy.(y x) x λxy.xy)x\n",
      "LAMBDA x .\n",
      "    LAMBDA y .\n",
      "            ('VAR', 'y')\n",
      "            ('VAR', 'x')\n",
      "        ('VAR', 'x')\n",
      "        LAMBDA x y .\n",
      "            ('VAR', 'x')\n",
      "            ('VAR', 'y')\n",
      "    ('VAR', 'x')\n"
     ]
    }
   ],
   "source": [
    "ast = parse_lambda(tokens)\n",
    "print(\"Lambda:\", lambda_expr)\n",
    "print(ast)"
   ],
   "metadata": {
    "collapsed": false,
    "ExecuteTime": {
     "end_time": "2024-03-26T00:12:36.163206Z",
     "start_time": "2024-03-26T00:12:36.156782Z"
    }
   },
   "id": "aa1a6de1d8e988f5",
   "execution_count": 5
  },
  {
   "cell_type": "markdown",
   "source": [
    "#### Альфа-конверсия\n",
    "\n",
    "В данном блоке кода реализована функция альфа-конверсии. Альфа-конверсия необходима для переименования переменных в лямбда-выражениях, чтобы избежать конфликтов имен в различных областях видимости.\n"
   ],
   "metadata": {
    "collapsed": false
   },
   "id": "17eb3f9e6312e7ea"
  },
  {
   "cell_type": "code",
   "outputs": [],
   "source": [
    "def generate_unique_var_name(var_name, existing_vars):\n",
    "    \"\"\"Генерирует уникальное имя переменной на основе существующих.\"\"\"\n",
    "    unique_var_name = var_name\n",
    "    count = 1\n",
    "    while unique_var_name in existing_vars:\n",
    "        unique_var_name = f\"{var_name}_{count}\"\n",
    "        count += 1\n",
    "    return unique_var_name\n",
    "\n",
    "def alpha_conversion(node, parent_vars=set()):\n",
    "    # Проверяем наличие переменных с одинаковыми именами\n",
    "    new_variables_dict = {}\n",
    "    for var in node.variables:\n",
    "        if var in parent_vars:\n",
    "            new_var = generate_unique_var_name(var, parent_vars)\n",
    "            new_variables_dict[var] = new_var\n",
    "            parent_vars.add(new_var)\n",
    "        else:\n",
    "            parent_vars.add(var)\n",
    "            \n",
    "    def replace_var(node, var_dict):\n",
    "        if isinstance(node, LambdaNode):\n",
    "            node.variables = [var_dict.get(var, var) for var in node.variables]\n",
    "            for i in range(len(node.body)):\n",
    "                if isinstance(node.body[i], tuple) and node.body[i][0] == 'VAR':\n",
    "                    node.body[i] = ('VAR', var_dict.get(node.body[i][1], node.body[i][1]))\n",
    "                else:\n",
    "                    replace_var(node.body[i], var_dict)\n",
    "    \n",
    "    replace_var(node, new_variables_dict)\n",
    "    \n",
    "    # Рекурсивно вызываем alpha_conversion для всех дочерних узлов\n",
    "    for i in range(len(node.body)):\n",
    "        if isinstance(node.body[i], LambdaNode):\n",
    "            alpha_conversion(node.body[i], parent_vars)\n",
    "           \n",
    "           "
   ],
   "metadata": {
    "collapsed": false,
    "ExecuteTime": {
     "end_time": "2024-03-26T00:12:36.577361Z",
     "start_time": "2024-03-26T00:12:36.570770Z"
    }
   },
   "id": "65ede8bccf4de3d5",
   "execution_count": 6
  },
  {
   "cell_type": "markdown",
   "source": [
    "#### Тестирование альфа-конверсии\n",
    "Применяем альфа-конверсию к тестовому AST и выводим результат. Получаем сет переменных, которые были переименованы."
   ],
   "metadata": {
    "collapsed": false
   },
   "id": "8e282870daf8a6e2"
  },
  {
   "cell_type": "code",
   "outputs": [
    {
     "name": "stdout",
     "output_type": "stream",
     "text": [
      "Lambda: λx.(λy.(y x) x λxy.xy)x\n",
      "Renamed variables set: {'y_1', 'y', 'x', 'x_1'}\n",
      "LAMBDA x .\n",
      "    LAMBDA y .\n",
      "            ('VAR', 'y')\n",
      "            ('VAR', 'x')\n",
      "        ('VAR', 'x')\n",
      "        LAMBDA x_1 y_1 .\n",
      "            ('VAR', 'x_1')\n",
      "            ('VAR', 'y_1')\n",
      "    ('VAR', 'x')\n"
     ]
    }
   ],
   "source": [
    "vars_set = set()\n",
    "alpha_conversion(ast, vars_set)\n",
    "\n",
    "print(\"Lambda:\", lambda_expr)\n",
    "print(\"Renamed variables set:\", vars_set)\n",
    "print(ast)"
   ],
   "metadata": {
    "collapsed": false,
    "ExecuteTime": {
     "end_time": "2024-03-26T00:12:37.350071Z",
     "start_time": "2024-03-26T00:12:37.342830Z"
    }
   },
   "id": "56001f59c290feae",
   "execution_count": 7
  },
  {
   "cell_type": "markdown",
   "source": [
    "#### Бета-редукция\n",
    "\n",
    "Эти ячейки содержат реализацию бета-редукции, процесса вычисления (или упрощения) лямбда-выражений путем подстановки аргументов функции вместо соответствующих параметров. Бета-редукция является ключевой операцией в лямбда-исчислении, позволяющей \"выполнить\" лямбда-выражение.\n"
   ],
   "metadata": {
    "collapsed": false
   },
   "id": "7808897c52ea0ec"
  },
  {
   "cell_type": "code",
   "outputs": [],
   "source": [
    "def beta_reduction(node, values):\n",
    "    if isinstance(node, LambdaNode):\n",
    "        node.variables = [\"(\" + var + \" = \" + str(values.get(var, var)) + \")\" for var in node.variables]\n",
    "        #node.variables = [str(values.get(var, var)) for var in node.variables]\n",
    "        for i in range(len(node.body)):\n",
    "            if isinstance(node.body[i], tuple) and node.body[i][0] == 'VAR':\n",
    "                if node.body[i][1] in values:\n",
    "                    #node.body[i] = ('VAR', values[node.body[i][1]])\n",
    "                    node.body[i] = \"(\" + node.body[i][1] + \" = \" + str(values[node.body[i][1]]) + \")\"\n",
    "            else:\n",
    "                beta_reduction(node.body[i], values)"
   ],
   "metadata": {
    "collapsed": false,
    "ExecuteTime": {
     "end_time": "2024-03-26T00:12:38.302705Z",
     "start_time": "2024-03-26T00:12:38.291032Z"
    }
   },
   "id": "2a8d1ec24286cf69",
   "execution_count": 8
  },
  {
   "cell_type": "markdown",
   "source": [
    "#### Тестирование бета-редукции\n",
    "Применяем бета-редукцию к AST, используя словарь значений переменных. Визуализируем результат."
   ],
   "metadata": {
    "collapsed": false
   },
   "id": "c986276aa31dfd9c"
  },
  {
   "cell_type": "code",
   "outputs": [
    {
     "name": "stdout",
     "output_type": "stream",
     "text": [
      "LAMBDA (x = 1) .\n",
      "    LAMBDA (y = 2) .\n",
      "            (y = 2)\n",
      "            (x = 1)\n",
      "        (x = 1)\n",
      "        LAMBDA (x_1 = 3) (y_1 = 4) .\n",
      "            (x_1 = 3)\n",
      "            (y_1 = 4)\n",
      "    (x = 1)\n"
     ]
    }
   ],
   "source": [
    "values = {'x' : 1, 'y' : 2, 'x_1' : 3, 'y_1' : 4}\n",
    "beta_reduction(ast, values)\n",
    "print(ast)"
   ],
   "metadata": {
    "collapsed": false,
    "ExecuteTime": {
     "end_time": "2024-03-26T00:12:39.645465Z",
     "start_time": "2024-03-26T00:12:39.641475Z"
    }
   },
   "id": "b301ed9c3c921946",
   "execution_count": 9
  }
 ],
 "metadata": {
  "kernelspec": {
   "display_name": "Python 3",
   "language": "python",
   "name": "python3"
  },
  "language_info": {
   "codemirror_mode": {
    "name": "ipython",
    "version": 2
   },
   "file_extension": ".py",
   "mimetype": "text/x-python",
   "name": "python",
   "nbconvert_exporter": "python",
   "pygments_lexer": "ipython2",
   "version": "2.7.6"
  }
 },
 "nbformat": 4,
 "nbformat_minor": 5
}
