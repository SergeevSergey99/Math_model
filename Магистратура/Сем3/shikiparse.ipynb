{
 "cells": [
  {
   "cell_type": "code",
   "execution_count": 7,
   "outputs": [
    {
     "name": "stdout",
     "output_type": "stream",
     "text": [
      "Collecting shikimori_api\n",
      "  Downloading shikimori_api-1.0.1-py3-none-any.whl (4.7 kB)\n",
      "Requirement already satisfied: requests-oauthlib~=1.3.0 in c:\\programdata\\anaconda3\\lib\\site-packages (from shikimori_api) (1.3.1)\n",
      "Requirement already satisfied: oauthlib>=3.0.0 in c:\\programdata\\anaconda3\\lib\\site-packages (from requests-oauthlib~=1.3.0->shikimori_api) (3.2.0)\n",
      "Requirement already satisfied: requests>=2.0.0 in c:\\programdata\\anaconda3\\lib\\site-packages (from requests-oauthlib~=1.3.0->shikimori_api) (2.26.0)\n",
      "Requirement already satisfied: certifi>=2017.4.17 in c:\\programdata\\anaconda3\\lib\\site-packages (from requests>=2.0.0->requests-oauthlib~=1.3.0->shikimori_api) (2022.6.15)\n",
      "Requirement already satisfied: urllib3<1.27,>=1.21.1 in c:\\programdata\\anaconda3\\lib\\site-packages (from requests>=2.0.0->requests-oauthlib~=1.3.0->shikimori_api) (1.26.7)\n",
      "Requirement already satisfied: charset-normalizer~=2.0.0 in c:\\programdata\\anaconda3\\lib\\site-packages (from requests>=2.0.0->requests-oauthlib~=1.3.0->shikimori_api) (2.0.4)\n",
      "Requirement already satisfied: idna<4,>=2.5 in c:\\programdata\\anaconda3\\lib\\site-packages (from requests>=2.0.0->requests-oauthlib~=1.3.0->shikimori_api) (3.2)\n",
      "Installing collected packages: shikimori_api\n",
      "Successfully installed shikimori_api-1.0.1\n"
     ]
    },
    {
     "name": "stderr",
     "output_type": "stream",
     "text": [
      "WARNING: You are using pip version 22.0.4; however, version 22.3 is available.\n",
      "You should consider upgrading via the 'C:\\ProgramData\\Anaconda3\\python.exe -m pip install --upgrade pip' command.\n"
     ]
    }
   ],
   "source": [
    "!pip install shikimori_api"
   ],
   "metadata": {
    "collapsed": false
   }
  },
  {
   "cell_type": "code",
   "execution_count": 1,
   "outputs": [],
   "source": [
    "from shikimori_api import Shikimori as shiki\n",
    "import time\n",
    "import json\n",
    "from IPython.display import clear_output\n",
    "\n",
    "from pathlib import Path"
   ],
   "metadata": {
    "collapsed": false
   }
  },
  {
   "cell_type": "code",
   "execution_count": 2,
   "outputs": [
    {
     "data": {
      "text/plain": "[{'original': '/system/screenshots/original/b1276021bfb0fc514c35bb106361dd2bcb20f967.jpg?1521803518',\n  'preview': '/system/screenshots/x332/b1276021bfb0fc514c35bb106361dd2bcb20f967.jpg?1521803518'},\n {'original': '/system/screenshots/original/210f496943c6aa7c0e8d875f3d1dae235ac009b2.jpg?1521803527',\n  'preview': '/system/screenshots/x332/210f496943c6aa7c0e8d875f3d1dae235ac009b2.jpg?1521803527'},\n {'original': '/system/screenshots/original/007b4cfc349afc0bc516479ed6a27ffe0422c3e7.jpg?1521803540',\n  'preview': '/system/screenshots/x332/007b4cfc349afc0bc516479ed6a27ffe0422c3e7.jpg?1521803540'},\n {'original': '/system/screenshots/original/625915f43102eadd283f1a5f796025c9c2ef1964.jpg?1521803552',\n  'preview': '/system/screenshots/x332/625915f43102eadd283f1a5f796025c9c2ef1964.jpg?1521803552'},\n {'original': '/system/screenshots/original/d0f2cd49646703d2074bd88305d9bd145a234dd4.jpg?1521803566',\n  'preview': '/system/screenshots/x332/d0f2cd49646703d2074bd88305d9bd145a234dd4.jpg?1521803566'},\n {'original': '/system/screenshots/original/1d595c6ebecefb2faa9a2c83dbc6a3b41b9915ec.jpg?1521803573',\n  'preview': '/system/screenshots/x332/1d595c6ebecefb2faa9a2c83dbc6a3b41b9915ec.jpg?1521803573'},\n {'original': '/system/screenshots/original/ce236bdfe9cfa8f2b958294177609c29170a65b3.jpg?1521803583',\n  'preview': '/system/screenshots/x332/ce236bdfe9cfa8f2b958294177609c29170a65b3.jpg?1521803583'},\n {'original': '/system/screenshots/original/9599b4fe8fe1551de92e0aa416a92be159522b57.jpg?1521803589',\n  'preview': '/system/screenshots/x332/9599b4fe8fe1551de92e0aa416a92be159522b57.jpg?1521803589'},\n {'original': '/system/screenshots/original/b33580a7dce50e7edb33e618e354436398dfd46e.jpg?1521803597',\n  'preview': '/system/screenshots/x332/b33580a7dce50e7edb33e618e354436398dfd46e.jpg?1521803597'},\n {'original': '/system/screenshots/original/3abccf8c80d1052a2114e84ee64a99dbef01d152.jpg?1521803616',\n  'preview': '/system/screenshots/x332/3abccf8c80d1052a2114e84ee64a99dbef01d152.jpg?1521803616'},\n {'original': '/system/screenshots/original/cbb94327fec522c77ca3cc0d46d9ced96e31b86e.jpg?1521803628',\n  'preview': '/system/screenshots/x332/cbb94327fec522c77ca3cc0d46d9ced96e31b86e.jpg?1521803628'},\n {'original': '/system/screenshots/original/e37affcdd44a89894bcf532a082caa7aacca369e.jpg?1521803640',\n  'preview': '/system/screenshots/x332/e37affcdd44a89894bcf532a082caa7aacca369e.jpg?1521803640'},\n {'original': '/system/screenshots/original/030f26bb91965ac0ac1921a62fc89c75220b1fb2.jpg?1521803649',\n  'preview': '/system/screenshots/x332/030f26bb91965ac0ac1921a62fc89c75220b1fb2.jpg?1521803649'},\n {'original': '/system/screenshots/original/2094065da838f42a0178af5574a34f25a8da0b57.jpg?1521803660',\n  'preview': '/system/screenshots/x332/2094065da838f42a0178af5574a34f25a8da0b57.jpg?1521803660'},\n {'original': '/system/screenshots/original/a761957789050dce7de632cc9c3d4614891e7ef1.jpg?1521803670',\n  'preview': '/system/screenshots/x332/a761957789050dce7de632cc9c3d4614891e7ef1.jpg?1521803670'},\n {'original': '/system/screenshots/original/4996744aba3b61f7294aa02c13d339cba419f55d.jpg?1521803678',\n  'preview': '/system/screenshots/x332/4996744aba3b61f7294aa02c13d339cba419f55d.jpg?1521803678'},\n {'original': '/system/screenshots/original/c24b140d6e5099a1865f7c3da388eb7a59637b9c.jpg?1521803687',\n  'preview': '/system/screenshots/x332/c24b140d6e5099a1865f7c3da388eb7a59637b9c.jpg?1521803687'},\n {'original': '/system/screenshots/original/0ac54d21d288810849302328b3d888af5791d365.jpg?1521803703',\n  'preview': '/system/screenshots/x332/0ac54d21d288810849302328b3d888af5791d365.jpg?1521803703'},\n {'original': '/system/screenshots/original/6b88af9f4e1e40de987f1acf694a3d7759a45636.jpg?1521803713',\n  'preview': '/system/screenshots/x332/6b88af9f4e1e40de987f1acf694a3d7759a45636.jpg?1521803713'},\n {'original': '/system/screenshots/original/f93183ae0835be3e0a88525004444d03e2f78e10.jpg?1521803722',\n  'preview': '/system/screenshots/x332/f93183ae0835be3e0a88525004444d03e2f78e10.jpg?1521803722'},\n {'original': '/system/screenshots/original/6e1c5ed312fda37a958a5135fe000fb21710bbf1.jpg?1521803731',\n  'preview': '/system/screenshots/x332/6e1c5ed312fda37a958a5135fe000fb21710bbf1.jpg?1521803731'},\n {'original': '/system/screenshots/original/7000835768d092a2204f4487fa52375dcd2fe5f9.jpg?1521803741',\n  'preview': '/system/screenshots/x332/7000835768d092a2204f4487fa52375dcd2fe5f9.jpg?1521803741'},\n {'original': '/system/screenshots/original/78bbfb1dd6533c60e48d5e96417aca97fe4a5e5a.jpg?1521803748',\n  'preview': '/system/screenshots/x332/78bbfb1dd6533c60e48d5e96417aca97fe4a5e5a.jpg?1521803748'},\n {'original': '/system/screenshots/original/81e68c1a9e374726bf41ceda5e9a8a399a0a7459.jpg?1521803755',\n  'preview': '/system/screenshots/x332/81e68c1a9e374726bf41ceda5e9a8a399a0a7459.jpg?1521803755'},\n {'original': '/system/screenshots/original/d7cc449ccc10dccdfcbe6b4a4d3aa448ba857697.jpg?1521803767',\n  'preview': '/system/screenshots/x332/d7cc449ccc10dccdfcbe6b4a4d3aa448ba857697.jpg?1521803767'},\n {'original': '/system/screenshots/original/243eda8efd03eb16cfe738ea92eb1ac084bcd572.jpg?1521803781',\n  'preview': '/system/screenshots/x332/243eda8efd03eb16cfe738ea92eb1ac084bcd572.jpg?1521803781'},\n {'original': '/system/screenshots/original/df7a3d7e3147e1d23fb56cbacdc49683f4a8d8c3.jpg?1521803790',\n  'preview': '/system/screenshots/x332/df7a3d7e3147e1d23fb56cbacdc49683f4a8d8c3.jpg?1521803790'},\n {'original': '/system/screenshots/original/4e389fbf43e7113f0bb78012de422bd9e0f4af72.jpg?1521803796',\n  'preview': '/system/screenshots/x332/4e389fbf43e7113f0bb78012de422bd9e0f4af72.jpg?1521803796'},\n {'original': '/system/screenshots/original/2892eac6205eebe2a6215657953dc46ca3d34a2b.jpg?1521803803',\n  'preview': '/system/screenshots/x332/2892eac6205eebe2a6215657953dc46ca3d34a2b.jpg?1521803803'},\n {'original': '/system/screenshots/original/8d1b89bb7896baf2b98b5c7cffecbe0cc75a8c5c.jpg?1521803809',\n  'preview': '/system/screenshots/x332/8d1b89bb7896baf2b98b5c7cffecbe0cc75a8c5c.jpg?1521803809'},\n {'original': '/system/screenshots/original/376d543f85ebbe2c5216c5c5ef130b287ceaf1f0.jpg?1521803813',\n  'preview': '/system/screenshots/x332/376d543f85ebbe2c5216c5c5ef130b287ceaf1f0.jpg?1521803813'},\n {'original': '/system/screenshots/original/00db35b05b7beb65f5f36b0ea5b01fb0597b9565.jpg?1521803818',\n  'preview': '/system/screenshots/x332/00db35b05b7beb65f5f36b0ea5b01fb0597b9565.jpg?1521803818'},\n {'original': '/system/screenshots/original/d2c9680a9a7a4a0a092c5b29a2445bbb7b4bc3f2.jpg?1521803822',\n  'preview': '/system/screenshots/x332/d2c9680a9a7a4a0a092c5b29a2445bbb7b4bc3f2.jpg?1521803822'},\n {'original': '/system/screenshots/original/d0ba6c8b1029e0f8129434c82c1d8d2bdea7d496.jpg?1521803827',\n  'preview': '/system/screenshots/x332/d0ba6c8b1029e0f8129434c82c1d8d2bdea7d496.jpg?1521803827'},\n {'original': '/system/screenshots/original/296ffa9daa104569ee2fc180bc9ff774ef3b3406.jpg?1521803838',\n  'preview': '/system/screenshots/x332/296ffa9daa104569ee2fc180bc9ff774ef3b3406.jpg?1521803838'},\n {'original': '/system/screenshots/original/ca17cec64b540c01487a13f74c909f8530caee11.jpg?1521803844',\n  'preview': '/system/screenshots/x332/ca17cec64b540c01487a13f74c909f8530caee11.jpg?1521803844'},\n {'original': '/system/screenshots/original/ac1275afe070e8f05d7b510077a330a5ad8e9691.jpg?1521803854',\n  'preview': '/system/screenshots/x332/ac1275afe070e8f05d7b510077a330a5ad8e9691.jpg?1521803854'},\n {'original': '/system/screenshots/original/2ad8b1d6c855055a9852277edb7a7d190f31afaf.jpg?1521803859',\n  'preview': '/system/screenshots/x332/2ad8b1d6c855055a9852277edb7a7d190f31afaf.jpg?1521803859'},\n {'original': '/system/screenshots/original/e6f90ca79607617efa82b3c06806ec6866c8a9f0.jpg?1521803879',\n  'preview': '/system/screenshots/x332/e6f90ca79607617efa82b3c06806ec6866c8a9f0.jpg?1521803879'},\n {'original': '/system/screenshots/original/2eb8a2abf66c028e05b9648795b87969eddaab45.jpg?1521803894',\n  'preview': '/system/screenshots/x332/2eb8a2abf66c028e05b9648795b87969eddaab45.jpg?1521803894'},\n {'original': '/system/screenshots/original/8eafb80c355ce373302a5b07cf67a38fa90fa8a4.jpg?1521803910',\n  'preview': '/system/screenshots/x332/8eafb80c355ce373302a5b07cf67a38fa90fa8a4.jpg?1521803910'},\n {'original': '/system/screenshots/original/490328125616b4608c77d00d2ad189555da96357.jpg?1521803923',\n  'preview': '/system/screenshots/x332/490328125616b4608c77d00d2ad189555da96357.jpg?1521803923'},\n {'original': '/system/screenshots/original/fd6b725c00a665d7ade67e48f9feb5e5a88a2962.jpg?1521803937',\n  'preview': '/system/screenshots/x332/fd6b725c00a665d7ade67e48f9feb5e5a88a2962.jpg?1521803937'},\n {'original': '/system/screenshots/original/63fad73ba1e0291ded493834a843adcb212fccf5.jpg?1521803947',\n  'preview': '/system/screenshots/x332/63fad73ba1e0291ded493834a843adcb212fccf5.jpg?1521803947'},\n {'original': '/system/screenshots/original/72ac9be99d7be27854590c7f4afb975c1d7a5ee5.jpg?1521803961',\n  'preview': '/system/screenshots/x332/72ac9be99d7be27854590c7f4afb975c1d7a5ee5.jpg?1521803961'},\n {'original': '/system/screenshots/original/281644ed340b7185c4827be43deeed897b7a9a1c.jpg?1521803976',\n  'preview': '/system/screenshots/x332/281644ed340b7185c4827be43deeed897b7a9a1c.jpg?1521803976'},\n {'original': '/system/screenshots/original/fb2a92520d154759a35953e90c2f8be9b3f63171.jpg?1521803986',\n  'preview': '/system/screenshots/x332/fb2a92520d154759a35953e90c2f8be9b3f63171.jpg?1521803986'},\n {'original': '/system/screenshots/original/3791b5eb8c688773ebc103031ad94e9bc48f453a.jpg?1521803996',\n  'preview': '/system/screenshots/x332/3791b5eb8c688773ebc103031ad94e9bc48f453a.jpg?1521803996'},\n {'original': '/system/screenshots/original/8533f0f56a66db4c656084069957745423881f37.jpg?1521804007',\n  'preview': '/system/screenshots/x332/8533f0f56a66db4c656084069957745423881f37.jpg?1521804007'}]"
     },
     "execution_count": 2,
     "metadata": {},
     "output_type": "execute_result"
    }
   ],
   "source": [
    "session = shiki()\n",
    "api = session.get_api()\n",
    "\n",
    "api.animes.GET(search='KonoSuba', kind='movie')  # GET /api/animes?search=KonoSuba&kind=movie\n",
    "api.animes(1).GET()                              # GET /api/animes/1\n",
    "api.animes(1).screenshots.GET()                  # GET /api/animes/1/screenshots"
   ],
   "metadata": {
    "collapsed": false
   }
  },
  {
   "cell_type": "code",
   "execution_count": 7,
   "outputs": [
    {
     "ename": "NameError",
     "evalue": "name 'api' is not defined",
     "output_type": "error",
     "traceback": [
      "\u001B[1;31m---------------------------------------------------------------------------\u001B[0m",
      "\u001B[1;31mNameError\u001B[0m                                 Traceback (most recent call last)",
      "\u001B[1;32mC:\\Users\\D899~1\\AppData\\Local\\Temp/ipykernel_26552/4232563759.py\u001B[0m in \u001B[0;36m<module>\u001B[1;34m\u001B[0m\n\u001B[0;32m      1\u001B[0m \u001B[0mroot\u001B[0m \u001B[1;33m=\u001B[0m \u001B[1;34m\"https://nyaa.shikimori.one\"\u001B[0m\u001B[1;33m\u001B[0m\u001B[1;33m\u001B[0m\u001B[0m\n\u001B[1;32m----> 2\u001B[1;33m \u001B[0mapi\u001B[0m\u001B[1;33m.\u001B[0m\u001B[0manimes\u001B[0m\u001B[1;33m.\u001B[0m\u001B[0mGET\u001B[0m\u001B[1;33m(\u001B[0m\u001B[0msearch\u001B[0m\u001B[1;33m=\u001B[0m\u001B[1;34m'KonoSuba'\u001B[0m\u001B[1;33m,\u001B[0m \u001B[0mkind\u001B[0m\u001B[1;33m=\u001B[0m\u001B[1;34m'movie'\u001B[0m\u001B[1;33m)\u001B[0m  \u001B[1;31m# GET /api/animes?search=KonoSuba&kind=movie\u001B[0m\u001B[1;33m\u001B[0m\u001B[1;33m\u001B[0m\u001B[0m\n\u001B[0m",
      "\u001B[1;31mNameError\u001B[0m: name 'api' is not defined"
     ]
    }
   ],
   "source": [
    "root = \"https://nyaa.shikimori.one\"\n",
    "api.animes.GET(search='KonoSuba', kind='movie')  # GET /api/animes?search=KonoSuba&kind=movie"
   ],
   "metadata": {
    "collapsed": false
   }
  },
  {
   "cell_type": "code",
   "execution_count": 21,
   "outputs": [
    {
     "data": {
      "text/plain": "{'id': 1,\n 'name': 'Cowboy Bebop',\n 'russian': 'Ковбой Бибоп',\n 'image': {'original': '/system/animes/original/1.jpg?1633690032',\n  'preview': '/system/animes/preview/1.jpg?1633690032',\n  'x96': '/system/animes/x96/1.jpg?1633690032',\n  'x48': '/system/animes/x48/1.jpg?1633690032'},\n 'url': '/animes/1-cowboy-bebop',\n 'kind': 'tv',\n 'score': '8.77',\n 'status': 'released',\n 'episodes': 26,\n 'episodes_aired': 0,\n 'aired_on': '1998-04-03',\n 'released_on': '1999-04-24',\n 'rating': 'r_plus',\n 'english': ['Cowboy Bebop'],\n 'japanese': ['カウボーイビバップ'],\n 'synonyms': [],\n 'license_name_ru': 'Ковбой Бибоп',\n 'duration': 24,\n 'description': '2071 год. Человечество колонизировало всю Солнечную Систему, основав колонии от Венеры до Юпитера. Но десятилетия тому назад из-за техногенной катастрофы была уничтожена Луна. Последствия оказались катастрофическими: непрерывные метеоритные дожди сделали жизнь на поверхности Земли невозможной, а в первые недели после катастрофы погибло 4,7 миллиарда человек. Большая часть выживших перебралась в колонии на другие планеты.\\r\\nСо временем по всей Солнечной Системе разрослись и набрали силу преступные синдикаты, для борьбы с которыми правительство возродило древнюю практику охоты за головами. Отныне охотники за головами разъезжают по всей Солнечной Системе в поисках целей.\\r\\nСпайк Шпигель [スパイク・スピーゲル] и Джет Блэк [ジェット・ブラック] — охотники. Волею судьбы они оказались на космическом корабле «Bebop 268710». Путешествуя вместе, они подбирают Фэй Валентайн [フェイ・バレンタイン] — очаровательную картёжницу с невероятно огромным долгом, Радикал Эдварда [エドワード・ウォン・ハウ・ペペル・チブルスキー4世] — компьютерного гения и генетически модифицированную собаку Эйн [アイン].\\r\\nНа борту «Bebop» судьба сводит четырёх человек и одну собаку, и так начинаются их совместные приключения...',\n 'description_html': '<div class=\"b-text_with_paragraphs\">2071 год. Человечество колонизировало всю Солнечную Систему, основав колонии от Венеры до Юпитера. Но десятилетия тому назад из-за техногенной катастрофы была уничтожена Луна. Последствия оказались катастрофическими: непрерывные метеоритные дожди сделали жизнь на поверхности Земли невозможной, а в первые недели после катастрофы погибло 4,7 миллиарда человек. Большая часть выживших перебралась в колонии на другие планеты.<br>Со временем по всей Солнечной Системе разрослись и набрали силу преступные синдикаты, для борьбы с которыми правительство возродило древнюю практику охоты за головами. Отныне охотники за головами разъезжают по всей Солнечной Системе в поисках целей.<br><a href=\"https://shikimori.one/characters/1-spike-spiegel\" title=\"Spike Spiegel\" class=\"bubbled b-link\" data-tooltip_url=\"https://shikimori.one/characters/1-spike-spiegel/tooltip\" data-attrs=\"{&quot;id&quot;:1,&quot;type&quot;:&quot;character&quot;,&quot;name&quot;:&quot;Spike Spiegel&quot;,&quot;russian&quot;:&quot;Спайк Шпигель&quot;}\">Спайк Шпигель</a> и <a href=\"https://shikimori.one/characters/3-jet-black\" title=\"Jet Black\" class=\"bubbled b-link\" data-tooltip_url=\"https://shikimori.one/characters/3-jet-black/tooltip\" data-attrs=\"{&quot;id&quot;:3,&quot;type&quot;:&quot;character&quot;,&quot;name&quot;:&quot;Jet Black&quot;,&quot;russian&quot;:&quot;Джет Блэк&quot;}\">Джет Блэк</a> — охотники. Волею судьбы они оказались на космическом корабле «Bebop 268710». Путешествуя вместе, они подбирают <a href=\"https://shikimori.one/characters/2-faye-valentine\" title=\"Faye Valentine\" class=\"bubbled b-link\" data-tooltip_url=\"https://shikimori.one/characters/2-faye-valentine/tooltip\" data-attrs=\"{&quot;id&quot;:2,&quot;type&quot;:&quot;character&quot;,&quot;name&quot;:&quot;Faye Valentine&quot;,&quot;russian&quot;:&quot;Фэй Валентайн&quot;}\">Фэй Валентайн</a> — очаровательную картёжницу с невероятно огромным долгом, <a href=\"https://shikimori.one/characters/16-edward-wong-hau-pepelu-tivrusky-iv\" title=\"Edward Wong Hau Pepelu Tivrusky IV\" class=\"bubbled b-link\" data-tooltip_url=\"https://shikimori.one/characters/16-edward-wong-hau-pepelu-tivrusky-iv/tooltip\" data-attrs=\"{&quot;id&quot;:16,&quot;type&quot;:&quot;character&quot;,&quot;name&quot;:&quot;Edward Wong Hau Pepelu Tivrusky IV&quot;,&quot;russian&quot;:&quot;Радикал Эдвард&quot;}\">Радикал Эдварда</a> — компьютерного гения и генетически модифицированную собаку <a href=\"https://shikimori.one/characters/4-ein\" title=\"Ein\" class=\"bubbled b-link\" data-tooltip_url=\"https://shikimori.one/characters/4-ein/tooltip\" data-attrs=\"{&quot;id&quot;:4,&quot;type&quot;:&quot;character&quot;,&quot;name&quot;:&quot;Ein&quot;,&quot;russian&quot;:&quot;Эйн&quot;}\">Эйн</a>.<br>На борту «Bebop» судьба сводит четырёх человек и одну собаку, и так начинаются их совместные приключения...</div>',\n 'description_source': None,\n 'franchise': 'cowboy_bebop',\n 'favoured': False,\n 'anons': False,\n 'ongoing': False,\n 'thread_id': 3503,\n 'topic_id': 3503,\n 'myanimelist_id': 1,\n 'rates_scores_stats': [{'name': 10, 'value': 19796},\n  {'name': 9, 'value': 11532},\n  {'name': 8, 'value': 8100},\n  {'name': 7, 'value': 3665},\n  {'name': 6, 'value': 1250},\n  {'name': 5, 'value': 554},\n  {'name': 4, 'value': 196},\n  {'name': 3, 'value': 68},\n  {'name': 2, 'value': 49},\n  {'name': 1, 'value': 114}],\n 'rates_statuses_stats': [{'name': 'Запланировано', 'value': 37845},\n  {'name': 'Просмотрено', 'value': 66974},\n  {'name': 'Смотрю', 'value': 10930},\n  {'name': 'Брошено', 'value': 3581},\n  {'name': 'Отложено', 'value': 4789}],\n 'updated_at': '2022-10-23T20:49:31.427+03:00',\n 'next_episode_at': None,\n 'fansubbers': [\"Dragon'Drop\",\n  'Max Skuratov',\n  'Сергей Светличный',\n  'Suzaku',\n  'Faddeich',\n  'Netflix'],\n 'fandubbers': ['Amazing Dubbing',\n  'Е. Лурье',\n  'SHIZA Project',\n  'SkyFy',\n  'Digital Force',\n  '3df voice',\n  'Ю. Сербин',\n  'Naiman',\n  'AniLibria',\n  'KANSAI Studio'],\n 'licensors': ['Netflix'],\n 'genres': [{'id': 1, 'name': 'Action', 'russian': 'Экшен', 'kind': 'anime'},\n  {'id': 2, 'name': 'Adventure', 'russian': 'Приключения', 'kind': 'anime'},\n  {'id': 4, 'name': 'Comedy', 'russian': 'Комедия', 'kind': 'anime'},\n  {'id': 8, 'name': 'Drama', 'russian': 'Драма', 'kind': 'anime'},\n  {'id': 24, 'name': 'Sci-Fi', 'russian': 'Фантастика', 'kind': 'anime'},\n  {'id': 29, 'name': 'Space', 'russian': 'Космос', 'kind': 'anime'}],\n 'studios': [{'id': 14,\n   'name': 'Sunrise',\n   'filtered_name': 'Sunrise',\n   'real': True,\n   'image': '/system/studios/original/14.jpg?1630137154'}],\n 'videos': [{'id': 8195,\n   'url': 'https://youtube.com/watch?v=kGzneAKtAgg',\n   'image_url': 'http://img.youtube.com/vi/kGzneAKtAgg/hqdefault.jpg',\n   'player_url': 'http://youtube.com/embed/kGzneAKtAgg',\n   'name': 'COWBOY BEBOP カウボーイビバップ',\n   'kind': 'pv',\n   'hosting': 'youtube'},\n  {'id': 28853,\n   'url': 'https://youtube.com/watch?v=TdBfgwHmQsQ',\n   'image_url': 'http://img.youtube.com/vi/TdBfgwHmQsQ/hqdefault.jpg',\n   'player_url': 'http://youtube.com/embed/TdBfgwHmQsQ',\n   'name': 'Cowboy Bebop Exclusive Amazon Trailer',\n   'kind': 'pv',\n   'hosting': 'youtube'}],\n 'screenshots': [{'original': '/system/screenshots/original/b1276021bfb0fc514c35bb106361dd2bcb20f967.jpg?1521803518',\n   'preview': '/system/screenshots/x332/b1276021bfb0fc514c35bb106361dd2bcb20f967.jpg?1521803518'},\n  {'original': '/system/screenshots/original/210f496943c6aa7c0e8d875f3d1dae235ac009b2.jpg?1521803527',\n   'preview': '/system/screenshots/x332/210f496943c6aa7c0e8d875f3d1dae235ac009b2.jpg?1521803527'}],\n 'user_rate': None}"
     },
     "execution_count": 21,
     "metadata": {},
     "output_type": "execute_result"
    }
   ],
   "source": [
    "api.animes(1).GET()"
   ],
   "metadata": {
    "collapsed": false
   }
  },
  {
   "cell_type": "code",
   "execution_count": 106,
   "outputs": [
    {
     "data": {
      "text/plain": "{'id': 58358,\n 'nickname': 'Stomper',\n 'avatar': 'https://desu.shikimori.one/system/users/x48/58358.png?1512461970',\n 'image': {'x160': 'https://desu.shikimori.one/system/users/x160/58358.png?1512461970',\n  'x148': 'https://desu.shikimori.one/system/users/x148/58358.png?1512461970',\n  'x80': 'https://desu.shikimori.one/system/users/x80/58358.png?1512461970',\n  'x64': 'https://desu.shikimori.one/system/users/x64/58358.png?1512461970',\n  'x48': 'https://desu.shikimori.one/system/users/x48/58358.png?1512461970',\n  'x32': 'https://desu.shikimori.one/system/users/x32/58358.png?1512461970',\n  'x16': 'https://desu.shikimori.one/system/users/x16/58358.png?1512461970'},\n 'last_online_at': '2022-10-19T20:28:30.473+03:00',\n 'url': 'https://shikimori.one/Stomper',\n 'name': None,\n 'sex': 'male',\n 'full_years': 27,\n 'last_online': 'онлайн 19 окт. 2022',\n 'website': 'steamcommunity.com/id/yoshi_asakura/',\n 'location': None,\n 'banned': False,\n 'about': '',\n 'about_html': '',\n 'common_info': ['муж',\n  '27 лет',\n  '<a class=\"website\" href=\"http://steamcommunity.com/id/yoshi_asakura/\">steamcommunity.com</a>',\n  \"на сайте с <span class='b-tooltipped dotted mobile unprocessed' data-direction='right' title='27 октября 2015 г.'>2015 г.</span>\"],\n 'show_comments': False,\n 'in_friends': None,\n 'is_ignored': False,\n 'stats': {'statuses': {'anime': [{'id': 0,\n     'grouped_id': 'planned',\n     'name': 'planned',\n     'size': 250,\n     'type': 'Anime'},\n    {'id': 1,\n     'grouped_id': 'watching,rewatching',\n     'name': 'watching',\n     'size': 6,\n     'type': 'Anime'},\n    {'id': 2,\n     'grouped_id': 'completed',\n     'name': 'completed',\n     'size': 219,\n     'type': 'Anime'},\n    {'id': 3,\n     'grouped_id': 'on_hold',\n     'name': 'on_hold',\n     'size': 0,\n     'type': 'Anime'},\n    {'id': 4,\n     'grouped_id': 'dropped',\n     'name': 'dropped',\n     'size': 7,\n     'type': 'Anime'}],\n   'manga': [{'id': 0,\n     'grouped_id': 'planned',\n     'name': 'planned',\n     'size': 2,\n     'type': 'Manga'},\n    {'id': 1,\n     'grouped_id': 'watching,rewatching',\n     'name': 'watching',\n     'size': 0,\n     'type': 'Manga'},\n    {'id': 2,\n     'grouped_id': 'completed',\n     'name': 'completed',\n     'size': 1,\n     'type': 'Manga'},\n    {'id': 3,\n     'grouped_id': 'on_hold',\n     'name': 'on_hold',\n     'size': 0,\n     'type': 'Manga'},\n    {'id': 4,\n     'grouped_id': 'dropped',\n     'name': 'dropped',\n     'size': 0,\n     'type': 'Manga'}]},\n  'full_statuses': {'anime': [{'id': 0,\n     'grouped_id': 'planned',\n     'name': 'planned',\n     'size': 250,\n     'type': 'Anime'},\n    {'id': 1,\n     'grouped_id': 'watching',\n     'name': 'watching',\n     'size': 6,\n     'type': 'Anime'},\n    {'id': 9,\n     'grouped_id': 'rewatching',\n     'name': 'rewatching',\n     'size': 0,\n     'type': 'Anime'},\n    {'id': 2,\n     'grouped_id': 'completed',\n     'name': 'completed',\n     'size': 219,\n     'type': 'Anime'},\n    {'id': 3,\n     'grouped_id': 'on_hold',\n     'name': 'on_hold',\n     'size': 0,\n     'type': 'Anime'},\n    {'id': 4,\n     'grouped_id': 'dropped',\n     'name': 'dropped',\n     'size': 7,\n     'type': 'Anime'}],\n   'manga': [{'id': 0,\n     'grouped_id': 'planned',\n     'name': 'planned',\n     'size': 2,\n     'type': 'Manga'},\n    {'id': 1,\n     'grouped_id': 'watching',\n     'name': 'watching',\n     'size': 0,\n     'type': 'Manga'},\n    {'id': 9,\n     'grouped_id': 'rewatching',\n     'name': 'rewatching',\n     'size': 0,\n     'type': 'Manga'},\n    {'id': 2,\n     'grouped_id': 'completed',\n     'name': 'completed',\n     'size': 1,\n     'type': 'Manga'},\n    {'id': 3,\n     'grouped_id': 'on_hold',\n     'name': 'on_hold',\n     'size': 0,\n     'type': 'Manga'},\n    {'id': 4,\n     'grouped_id': 'dropped',\n     'name': 'dropped',\n     'size': 0,\n     'type': 'Manga'}]},\n  'scores': {'anime': [{'name': '10', 'value': 53},\n    {'name': '9', 'value': 64},\n    {'name': '8', 'value': 74},\n    {'name': '7', 'value': 21},\n    {'name': '6', 'value': 3},\n    {'name': '4', 'value': 1}],\n   'manga': []},\n  'types': {'anime': [{'name': 'Сериал', 'value': 181},\n    {'name': 'Фильм', 'value': 20},\n    {'name': 'OVA', 'value': 7},\n    {'name': 'ONA', 'value': 8},\n    {'name': 'Спешл', 'value': 9}],\n   'manga': [{'name': 'Ранобэ', 'value': 1}]},\n  'ratings': {'anime': [{'name': 'PG', 'value': 1},\n    {'name': 'PG-13', 'value': 118},\n    {'name': 'R-17', 'value': 93},\n    {'name': 'R+', 'value': 13}]},\n  'has_anime?': True,\n  'has_manga?': True,\n  'genres': [],\n  'studios': [],\n  'publishers': [],\n  'activity': [{'name': [1446238800, 1454596337], 'value': 96},\n   {'name': [1454596338, 1462953875], 'value': 219},\n   {'name': [1462953876, 1471311413], 'value': 64},\n   {'name': [1471311414, 1479668951], 'value': 259},\n   {'name': [1479668952, 1488026489], 'value': 105},\n   {'name': [1488026490, 1496384027], 'value': 95},\n   {'name': [1496384028, 1504741565], 'value': 73},\n   {'name': [1504741566, 1513099103], 'value': 120},\n   {'name': [1513099104, 1521456641], 'value': 133},\n   {'name': [1521456642, 1529814179], 'value': 11},\n   {'name': [1529814180, 1538171717], 'value': 12},\n   {'name': [1538171718, 1546529255], 'value': 19},\n   {'name': [1546529256, 1554886793], 'value': 17},\n   {'name': [1554886794, 1563244331], 'value': 54},\n   {'name': [1563244332, 1571601869], 'value': 49},\n   {'name': [1571601870, 1579959407], 'value': 27},\n   {'name': [1579959408, 1588316945], 'value': 3},\n   {'name': [1588316946, 1596674483], 'value': 34},\n   {'name': [1596674484, 1605032021], 'value': 5},\n   {'name': [1605032022, 1613389559], 'value': 5},\n   {'name': [1613389560, 1621747097], 'value': 28},\n   {'name': [1621747098, 1630104635], 'value': 6},\n   {'name': [1630104636, 1638462173], 'value': 12},\n   {'name': [1638462174, 1646819711], 'value': 2},\n   {'name': [1646819712, 1655177249], 'value': 17},\n   {'name': [1655177250, 1663534787], 'value': 10}]},\n 'style_id': 112559}"
     },
     "execution_count": 106,
     "metadata": {},
     "output_type": "execute_result"
    }
   ],
   "source": [
    "api.users(58358).GET()"
   ],
   "metadata": {
    "collapsed": false
   }
  },
  {
   "cell_type": "code",
   "execution_count": 51,
   "outputs": [
    {
     "ename": "HTTPError",
     "evalue": "404 Client Error: Not Found for url: https://shikimori.one/api/users/1/user_rate",
     "output_type": "error",
     "traceback": [
      "\u001B[1;31m---------------------------------------------------------------------------\u001B[0m",
      "\u001B[1;31mHTTPError\u001B[0m                                 Traceback (most recent call last)",
      "\u001B[1;32mC:\\Users\\D899~1\\AppData\\Local\\Temp/ipykernel_8484/2548504547.py\u001B[0m in \u001B[0;36m<module>\u001B[1;34m\u001B[0m\n\u001B[1;32m----> 1\u001B[1;33m \u001B[0mapi\u001B[0m\u001B[1;33m.\u001B[0m\u001B[0musers\u001B[0m\u001B[1;33m(\u001B[0m\u001B[1;36m1\u001B[0m\u001B[1;33m)\u001B[0m\u001B[1;33m.\u001B[0m\u001B[0muser_rate\u001B[0m\u001B[1;33m.\u001B[0m\u001B[0mGET\u001B[0m\u001B[1;33m(\u001B[0m\u001B[1;33m)\u001B[0m\u001B[1;33m\u001B[0m\u001B[1;33m\u001B[0m\u001B[0m\n\u001B[0m",
      "\u001B[1;32mC:\\ProgramData\\anaconda3\\lib\\site-packages\\shikimori_api\\shikimori_api.py\u001B[0m in \u001B[0;36mrequest\u001B[1;34m(self, method, path, **params)\u001B[0m\n\u001B[0;32m     59\u001B[0m         \u001B[1;32mif\u001B[0m \u001B[0mresponse\u001B[0m\u001B[1;33m.\u001B[0m\u001B[0mok\u001B[0m\u001B[1;33m:\u001B[0m\u001B[1;33m\u001B[0m\u001B[1;33m\u001B[0m\u001B[0m\n\u001B[0;32m     60\u001B[0m             \u001B[1;32mreturn\u001B[0m \u001B[0mresponse\u001B[0m\u001B[1;33m.\u001B[0m\u001B[0mjson\u001B[0m\u001B[1;33m(\u001B[0m\u001B[1;33m)\u001B[0m\u001B[1;33m\u001B[0m\u001B[1;33m\u001B[0m\u001B[0m\n\u001B[1;32m---> 61\u001B[1;33m         \u001B[0mresponse\u001B[0m\u001B[1;33m.\u001B[0m\u001B[0mraise_for_status\u001B[0m\u001B[1;33m(\u001B[0m\u001B[1;33m)\u001B[0m\u001B[1;33m\u001B[0m\u001B[1;33m\u001B[0m\u001B[0m\n\u001B[0m\u001B[0;32m     62\u001B[0m \u001B[1;33m\u001B[0m\u001B[0m\n\u001B[0;32m     63\u001B[0m     \u001B[1;32mdef\u001B[0m \u001B[0m_get_request_url\u001B[0m\u001B[1;33m(\u001B[0m\u001B[0mself\u001B[0m\u001B[1;33m,\u001B[0m \u001B[0mpath\u001B[0m\u001B[1;33m)\u001B[0m\u001B[1;33m:\u001B[0m\u001B[1;33m\u001B[0m\u001B[1;33m\u001B[0m\u001B[0m\n",
      "\u001B[1;32mC:\\ProgramData\\anaconda3\\lib\\site-packages\\requests\\models.py\u001B[0m in \u001B[0;36mraise_for_status\u001B[1;34m(self)\u001B[0m\n\u001B[0;32m    951\u001B[0m \u001B[1;33m\u001B[0m\u001B[0m\n\u001B[0;32m    952\u001B[0m         \u001B[1;32mif\u001B[0m \u001B[0mhttp_error_msg\u001B[0m\u001B[1;33m:\u001B[0m\u001B[1;33m\u001B[0m\u001B[1;33m\u001B[0m\u001B[0m\n\u001B[1;32m--> 953\u001B[1;33m             \u001B[1;32mraise\u001B[0m \u001B[0mHTTPError\u001B[0m\u001B[1;33m(\u001B[0m\u001B[0mhttp_error_msg\u001B[0m\u001B[1;33m,\u001B[0m \u001B[0mresponse\u001B[0m\u001B[1;33m=\u001B[0m\u001B[0mself\u001B[0m\u001B[1;33m)\u001B[0m\u001B[1;33m\u001B[0m\u001B[1;33m\u001B[0m\u001B[0m\n\u001B[0m\u001B[0;32m    954\u001B[0m \u001B[1;33m\u001B[0m\u001B[0m\n\u001B[0;32m    955\u001B[0m     \u001B[1;32mdef\u001B[0m \u001B[0mclose\u001B[0m\u001B[1;33m(\u001B[0m\u001B[0mself\u001B[0m\u001B[1;33m)\u001B[0m\u001B[1;33m:\u001B[0m\u001B[1;33m\u001B[0m\u001B[1;33m\u001B[0m\u001B[0m\n",
      "\u001B[1;31mHTTPError\u001B[0m: 404 Client Error: Not Found for url: https://shikimori.one/api/users/1/user_rate"
     ]
    }
   ],
   "source": [
    "api.users(1).user_rate.GET()"
   ],
   "metadata": {
    "collapsed": false
   }
  },
  {
   "cell_type": "code",
   "execution_count": 45,
   "outputs": [],
   "source": [
    "r = api.v2.user_rates.GET(user_id=1)\n"
   ],
   "metadata": {
    "collapsed": false
   }
  },
  {
   "cell_type": "code",
   "execution_count": 76,
   "outputs": [],
   "source": [
    "animeIdis = dict()"
   ],
   "metadata": {
    "collapsed": false
   }
  },
  {
   "cell_type": "code",
   "execution_count": 57,
   "outputs": [
    {
     "data": {
      "text/plain": "{'id': 7,\n 'name': 'Witch Hunter Robin',\n 'russian': 'Робин — охотница на ведьм',\n 'image': {'original': '/system/animes/original/7.jpg?1661621108',\n  'preview': '/system/animes/preview/7.jpg?1661621108',\n  'x96': '/system/animes/x96/7.jpg?1661621108',\n  'x48': '/system/animes/x48/7.jpg?1661621108'},\n 'url': '/animes/7-witch-hunter-robin',\n 'kind': 'tv',\n 'score': '7.26',\n 'status': 'released',\n 'episodes': 26,\n 'episodes_aired': 0,\n 'aired_on': '2002-07-03',\n 'released_on': '2002-12-25',\n 'rating': 'pg_13',\n 'english': ['Witch Hunter Robin'],\n 'japanese': ['Witch Hunter ROBIN (ウイッチハンターロビン)'],\n 'synonyms': ['WHR'],\n 'license_name_ru': None,\n 'duration': 25,\n 'description': 'Люди в этом мире уже давно позабыли о существовании ведьм и магов, но в средневековье их вовсе не истребили, и они до сих пор живут среди нас. Из-за изменений общественной жизни в последние десятилетия, активность ведьм и колдунов становится всё более заметной.\\n\\nИздревле охотники на ведьм объединялись и кооперировались друг с другом, в конце концов создав организацию STN, единственной целью которой является истребление ведьм. В наши дни STN не только поддерживается церковью, но и имеет связи практически со всеми крупными организациями, силовыми структурами и государствами мира. На места преступлений, где есть подозрение на причастность ведьм, немедленно вызываются оперативники STN.\\n\\nВ японское отделение STN, где недавно погиб один из оперативников, главное отделение организации посылает пятнадцатилетнюю Робин Сэну [瀬名ロビン]. В отличие от прочих филиалов STN, в Японии ведьм не уничтожают, их захватывают живыми и увозят в лабораторию, где пытаются понять их природу и источник их способностей. По крайней мере, такова официальная версия. Для центрального отделения это выглядит подозрительно, и задачей Робин становится выяснить, что же на самом деле происходит в Японии.',\n 'description_html': '<div class=\"b-text_with_paragraphs\">Люди в этом мире уже давно позабыли о существовании ведьм и магов, но в средневековье их вовсе не истребили, и они до сих пор живут среди нас. Из-за изменений общественной жизни в последние десятилетия, активность ведьм и колдунов становится всё более заметной.<br class=\"br\"><br class=\"br\">Издревле охотники на ведьм объединялись и кооперировались друг с другом, в конце концов создав организацию STN, единственной целью которой является истребление ведьм. В наши дни STN не только поддерживается церковью, но и имеет связи практически со всеми крупными организациями, силовыми структурами и государствами мира. На места преступлений, где есть подозрение на причастность ведьм, немедленно вызываются оперативники STN.<br class=\"br\"><br class=\"br\">В японское отделение STN, где недавно погиб один из оперативников, главное отделение организации посылает пятнадцатилетнюю <a href=\"https://shikimori.one/characters/299-robin-sena\" title=\"Robin Sena\" class=\"bubbled b-link\" data-tooltip_url=\"https://shikimori.one/characters/299-robin-sena/tooltip\" data-attrs=\"{&quot;id&quot;:299,&quot;type&quot;:&quot;character&quot;,&quot;name&quot;:&quot;Robin Sena&quot;,&quot;russian&quot;:&quot;Робин Сэна&quot;}\">Робин Сэну</a>. В отличие от прочих филиалов STN, в Японии ведьм не уничтожают, их захватывают живыми и увозят в лабораторию, где пытаются понять их природу и источник их способностей. По крайней мере, такова официальная версия. Для центрального отделения это выглядит подозрительно, и задачей <a href=\"https://shikimori.one/characters/299-robin-sena\" title=\"Robin Sena\" class=\"bubbled b-link\" data-tooltip_url=\"https://shikimori.one/characters/299-robin-sena/tooltip\" data-attrs=\"{&quot;id&quot;:299,&quot;type&quot;:&quot;character&quot;,&quot;name&quot;:&quot;Robin Sena&quot;,&quot;russian&quot;:&quot;Робин Сэна&quot;}\">Робин</a> становится выяснить, что же на самом деле происходит в Японии.</div>',\n 'description_source': None,\n 'franchise': None,\n 'favoured': False,\n 'anons': False,\n 'ongoing': False,\n 'thread_id': 3480,\n 'topic_id': 3480,\n 'myanimelist_id': 7,\n 'rates_scores_stats': [{'name': 10, 'value': 284},\n  {'name': 9, 'value': 316},\n  {'name': 8, 'value': 698},\n  {'name': 7, 'value': 707},\n  {'name': 6, 'value': 346},\n  {'name': 5, 'value': 187},\n  {'name': 4, 'value': 79},\n  {'name': 3, 'value': 22},\n  {'name': 2, 'value': 13},\n  {'name': 1, 'value': 14}],\n 'rates_statuses_stats': [{'name': 'Запланировано', 'value': 11079},\n  {'name': 'Просмотрено', 'value': 4137},\n  {'name': 'Смотрю', 'value': 919},\n  {'name': 'Брошено', 'value': 663},\n  {'name': 'Отложено', 'value': 612}],\n 'updated_at': '2022-10-22T08:00:04.217+03:00',\n 'next_episode_at': None,\n 'fansubbers': ['Svart'],\n 'fandubbers': ['AniDUB', 'Е. Лурье'],\n 'licensors': [],\n 'genres': [{'id': 1, 'name': 'Action', 'russian': 'Экшен', 'kind': 'anime'},\n  {'id': 8, 'name': 'Drama', 'russian': 'Драма', 'kind': 'anime'},\n  {'id': 7, 'name': 'Mystery', 'russian': 'Детектив', 'kind': 'anime'},\n  {'id': 37,\n   'name': 'Supernatural',\n   'russian': 'Сверхъестественное',\n   'kind': 'anime'},\n  {'id': 39, 'name': 'Police', 'russian': 'Полиция', 'kind': 'anime'}],\n 'studios': [{'id': 14,\n   'name': 'Sunrise',\n   'filtered_name': 'Sunrise',\n   'real': True,\n   'image': '/system/studios/original/14.jpg?1630137154'}],\n 'videos': [{'id': 2204,\n   'url': 'https://youtube.com/watch?v=VsP6EIIcaLY',\n   'image_url': 'http://img.youtube.com/vi/VsP6EIIcaLY/hqdefault.jpg',\n   'player_url': 'http://youtube.com/embed/VsP6EIIcaLY',\n   'name': 'OP1 «Shell» — Bana',\n   'kind': 'op',\n   'hosting': 'youtube'},\n  {'id': 2512,\n   'url': 'https://youtube.com/watch?v=NOIFda4f90s',\n   'image_url': 'http://img.youtube.com/vi/NOIFda4f90s/hqdefault.jpg',\n   'player_url': 'http://youtube.com/embed/NOIFda4f90s',\n   'name': 'ED1 «Half Pain» — Bana ',\n   'kind': 'ed',\n   'hosting': 'youtube'}],\n 'screenshots': [{'original': '/system/screenshots/original/3455ab9558698769cf2a5744f88b8dc6f4d5c0c4.jpg?1423561269',\n   'preview': '/system/screenshots/x332/3455ab9558698769cf2a5744f88b8dc6f4d5c0c4.jpg?1423561269'},\n  {'original': '/system/screenshots/original/460304c8415b4c59698a8270dc70fdd744879723.jpg?1423561269',\n   'preview': '/system/screenshots/x332/460304c8415b4c59698a8270dc70fdd744879723.jpg?1423561269'}],\n 'user_rate': None}"
     },
     "execution_count": 57,
     "metadata": {},
     "output_type": "execute_result"
    }
   ],
   "source": [
    "api.animes(7).GET()"
   ],
   "metadata": {
    "collapsed": false
   }
  },
  {
   "cell_type": "code",
   "execution_count": 63,
   "outputs": [],
   "source": [],
   "metadata": {
    "collapsed": false
   }
  },
  {
   "cell_type": "code",
   "execution_count": 69,
   "outputs": [
    {
     "data": {
      "text/plain": "615"
     },
     "execution_count": 69,
     "metadata": {},
     "output_type": "execute_result"
    }
   ],
   "source": [
    "len(r)"
   ],
   "metadata": {
    "collapsed": false
   }
  },
  {
   "cell_type": "code",
   "execution_count": 78,
   "outputs": [
    {
     "name": "stdout",
     "output_type": "stream",
     "text": [
      "i:420\tid: 10456 \tname: Kyoukaisenjou no Horizon \trussian: Горизонт среди пустоты \ttype: Anime \tstatus: completed \tscore: 7\n",
      "i:421\tid: 10490 \tname: Blood-C \trussian: Кровь-C \ttype: Anime \tstatus: completed \tscore: 7\n",
      "i:423\tid: 10568 \tname: Kamisama no Memochou \trussian: Записная книжка Бога \ttype: Anime \tstatus: completed \tscore: 7\n",
      "i:424\tid: 10588 \tname: Persona 4 the Animation \trussian: Персона 4 \ttype: Anime \tstatus: completed \tscore: 8\n",
      "i:425\tid: 10620 \tname: Mirai Nikki (TV) \trussian: Дневник будущего \ttype: Anime \tstatus: completed \tscore: 6\n",
      "i:426\tid: 10719 \tname: Boku wa Tomodachi ga Sukunai \trussian: У меня мало друзей \ttype: Anime \tstatus: completed \tscore: 8\n",
      "i:427\tid: 10721 \tname: Mawaru Penguindrum \trussian: Пингвиний барабан \ttype: Anime \tstatus: completed \tscore: 8\n",
      "i:428\tid: 10793 \tname: Guilty Crown \trussian: Корона грешника \ttype: Anime \tstatus: completed \tscore: 7\n",
      "i:429\tid: 10800 \tname: Chihayafuru \trussian: Яркая Тихая \ttype: Anime \tstatus: completed \tscore: 8\n",
      "i:432\tid: 11013 \tname: Inu x Boku SS \trussian: Я и мой слуга из секретной службы \ttype: Anime \tstatus: completed \tscore: 6\n",
      "i:433\tid: 11021 \tname: Muv-Luv Alternative: Total Eclipse \trussian: Мув-Лув: Альтернатива — Полное затмение \ttype: Anime \tstatus: completed \tscore: 6\n",
      "i:434\tid: 11111 \tname: Another \trussian: Иная \ttype: Anime \tstatus: completed \tscore: 8\n",
      "i:435\tid: 11313 \tname: Kimi no Iru Machi: Tasogare Kousaten \trussian: Город, в котором ты живёшь \ttype: Anime \tstatus: completed \tscore: 8\n",
      "i:436\tid: 11319 \tname: Zero no Tsukaima F \trussian: Подручный Луизы-Нулизы: Финал \ttype: Anime \tstatus: completed \tscore: 5\n",
      "i:437\tid: 11433 \tname: Ano Natsu de Matteru \trussian: Мы ждём тебя летом \ttype: Anime \tstatus: completed \tscore: 8\n",
      "i:438\tid: 11499 \tname: Sankarea \trussian: Санка Рэа \ttype: Anime \tstatus: completed \tscore: 7\n",
      "i:440\tid: 11577 \tname: Steins;Gate Movie: Fuka Ryouiki no Dejà vu \trussian: Врата Штейна: Зона загрузки дежавю \ttype: Anime \tstatus: completed \tscore: 6\n",
      "i:441\tid: 11597 \tname: Nisemonogatari \trussian: Истории подделок \ttype: Anime \tstatus: completed \tscore: 8\n",
      "i:442\tid: 11617 \tname: High School DxD \trussian: Старшая школа DxD \ttype: Anime \tstatus: completed \tscore: 7\n",
      "i:443\tid: 11665 \tname: Natsume Yuujinchou Shi \trussian: Тетрадь дружбы Нацумэ 4 \ttype: Anime \tstatus: completed \tscore: 8\n",
      "i:444\tid: 11703 \tname: Code:Breaker \trussian: Код: Крушитель \ttype: Anime \tstatus: completed \tscore: 3\n",
      "i:445\tid: 11741 \tname: Fate/Zero 2nd Season \trussian: Судьба/Начало 2 \ttype: Anime \tstatus: completed \tscore: 9\n",
      "i:446\tid: 11757 \tname: Sword Art Online \trussian: Мастера Меча Онлайн \ttype: Anime \tstatus: completed \tscore: 8\n",
      "i:447\tid: 11759 \tname: Accel World \trussian: Ускоренный мир \ttype: Anime \tstatus: completed \tscore: 7\n",
      "i:448\tid: 11771 \tname: Kuroko no Basket \trussian: Баскетбол Куроко \ttype: Anime \tstatus: completed \tscore: 8\n",
      "i:449\tid: 11783 \tname: Dog Days' \trussian: Собачьи дни 2 \ttype: Anime \tstatus: completed \tscore: 6\n",
      "i:450\tid: 11785 \tname: Haiyore! Nyaruko-san \trussian: Ползучий хаос Няруко-сан! \ttype: Anime \tstatus: completed \tscore: 7\n",
      "i:452\tid: 11887 \tname: Kokoro Connect \trussian: Связь сердец \ttype: Anime \tstatus: completed \tscore: 8\n",
      "i:453\tid: 11933 \tname: Oda Nobuna no Yabou \trussian: Великие помыслы Нобуны Оды \ttype: Anime \tstatus: completed \tscore: 6\n",
      "i:454\tid: 11977 \tname: Mahou Shoujo Madoka★Magica Movie 1: Hajimari no Monogatari \trussian: Девочка-волшебница Мадока★Волшебный фильм 1:  История начала \ttype: Anime \tstatus: completed \tscore: 7\n",
      "i:455\tid: 11979 \tname: Mahou Shoujo Madoka★Magica Movie 2: Eien no Monogatari \trussian: Девочка-волшебница Мадока★Волшебный фильм 2:  История вечности \ttype: Anime \tstatus: completed \tscore: 7\n",
      "i:456\tid: 11981 \tname: Mahou Shoujo Madoka★Magica Movie 3: Hangyaku no Monogatari \trussian: Девочка-волшебница Мадока★Волшебный фильм 3: История восстания \ttype: Anime \tstatus: completed \tscore: 7\n",
      "i:457\tid: 12029 \tname: Uchuu Senkan Yamato 2199 \trussian: Космический линкор Ямато 2199 \ttype: Anime \tstatus: completed \tscore: 9\n",
      "i:458\tid: 12031 \tname: Kingdom \trussian: Царство \ttype: Anime \tstatus: completed \tscore: 9\n",
      "i:459\tid: 12175 \tname: Koi to Senkyo to Chocolate \trussian: Любовь, выборы и шоколад \ttype: Anime \tstatus: completed \tscore: 8\n",
      "i:460\tid: 12293 \tname: Campione!: Matsurowanu Kamigami to Kamigoroshi no Maou \trussian: Чемпион! \ttype: Anime \tstatus: completed \tscore: 7\n",
      "i:461\tid: 12365 \tname: Bakuman. 3rd Season \trussian: Бакуман 3 \ttype: Anime \tstatus: completed \tscore: 8\n",
      "i:462\tid: 12367 \tname: Shining Hearts: Shiawase no Pan \trussian: Сияющие сердца: Без хлеба куска везде тоска! \ttype: Anime \tstatus: completed \tscore: 7\n",
      "i:463\tid: 12413 \tname: Jormungand \trussian: Ёрмунганд \ttype: Anime \tstatus: completed \tscore: 8\n",
      "i:464\tid: 12431 \tname: Uchuu Kyoudai \trussian: Космические братья \ttype: Anime \tstatus: on_hold \tscore: 8\n",
      "i:465\tid: 12445 \tname: Tasogare Otome x Amnesia \trussian: Амнезия сумеречной девы \ttype: Anime \tstatus: completed \tscore: 8\n",
      "i:466\tid: 12461 \tname: Hiiro no Kakera \trussian: Багровые осколки \ttype: Anime \tstatus: completed \tscore: 7\n",
      "i:467\tid: 12549 \tname: Dakara Boku wa, H ga Dekinai. \trussian: Говорю же, у меня не встаёт! \ttype: Anime \tstatus: completed \tscore: 6\n",
      "i:470\tid: 13161 \tname: Hagure Yuusha no Aesthetica \trussian: Эстетика изгнанного героя \ttype: Anime \tstatus: completed \tscore: 5\n",
      "i:471\tid: 13171 \tname: Wasurenagumo \trussian: Паучонок \ttype: Anime \tstatus: completed \tscore: 8\n",
      "i:472\tid: 13331 \tname: Jormungand: Perfect Order \trussian: Ёрмунганд 2: Идеальный порядок \ttype: Anime \tstatus: completed \tscore: 7\n",
      "i:473\tid: 13335 \tname: Fuse: Teppou Musume no Torimonochou \trussian: Фусэ: Детективная история о девушке с ружьём \ttype: Anime \tstatus: completed \tscore: 7\n",
      "i:474\tid: 13367 \tname: Kono Naka ni Hitori, Imouto ga Iru! \trussian: Одна из них — моя младшая сестра! \ttype: Anime \tstatus: completed \tscore: 6\n",
      "i:476\tid: 13535 \tname: Binbougami ga! \trussian: Нищебог же! \ttype: Anime \tstatus: completed \tscore: 8\n",
      "i:478\tid: 13599 \tname: Robotics;Notes \trussian: Записки о робототехнике \ttype: Anime \tstatus: completed \tscore: 8\n",
      "i:479\tid: 13601 \tname: Psycho-Pass \trussian: Психопаспорт \ttype: Anime \tstatus: completed \tscore: 9\n",
      "i:480\tid: 13659 \tname: Ore no Imouto ga Konnani Kawaii Wake ga Nai. \trussian: Ну не может моя сестрёнка быть такой милой 2 \ttype: Anime \tstatus: completed \tscore: 7\n",
      "i:481\tid: 13759 \tname: Sakura-sou no Pet na Kanojo \trussian: Кошечка из Сакурасо \ttype: Anime \tstatus: completed \tscore: 8\n",
      "i:484\tid: 14075 \tname: Zetsuen no Tempest \trussian: Буря потерь \ttype: Anime \tstatus: completed \tscore: 9\n",
      "i:486\tid: 14199 \tname: Oniichan dakedo Ai sae Areba Kankeinai yo ne! \trussian: Пока есть любовь, не имеет значения, что он мой брат \ttype: Anime \tstatus: completed \tscore: 6\n",
      "i:487\tid: 14227 \tname: Tonari no Kaibutsu-kun \trussian: Чудовище за соседней партой \ttype: Anime \tstatus: completed \tscore: 7\n",
      "i:488\tid: 14289 \tname: Sukitte Ii na yo. \trussian: Скажи: «Я люблю тебя» \ttype: Anime \tstatus: completed \tscore: 7\n",
      "i:489\tid: 14293 \tname: Nerawareta Gakuen \trussian: Школа под прицелом \ttype: Anime \tstatus: completed \tscore: 7\n",
      "i:490\tid: 14345 \tname: Btooom! \trussian: Бтууум! \ttype: Anime \tstatus: completed \tscore: 8\n",
      "i:491\tid: 14349 \tname: Little Witch Academia \trussian: Академия ведьмочек. Фильм \ttype: Anime \tstatus: completed \tscore: 8\n",
      "i:492\tid: 14353 \tname: Death Billiards \trussian: Смертельный бильярд \ttype: Anime \tstatus: completed \tscore: 7\n",
      "i:494\tid: 14467 \tname: K \trussian: Проект Кей \ttype: Anime \tstatus: completed \tscore: 8\n",
      "i:495\tid: 14513 \tname: Magi: The Labyrinth of Magic \trussian: Маги: Лабиринт магии \ttype: Anime \tstatus: completed \tscore: 7\n",
      "i:496\tid: 14527 \tname: Medaka Box Abnormal \trussian: Ящик предложений Мэдаки: Сверхлюди \ttype: Anime \tstatus: completed \tscore: 7\n",
      "i:497\tid: 14713 \tname: Kamisama Hajimemashita \trussian: Очень приятно, Бог \ttype: Anime \tstatus: completed \tscore: 7\n",
      "i:498\tid: 14719 \tname: JoJo no Kimyou na Bouken (TV) \trussian: Невероятное приключение ДжоДжо \ttype: Anime \tstatus: completed \tscore: 8\n",
      "i:499\tid: 14741 \tname: Chuunibyou demo Koi ga Shitai! \trussian: Чудачества любви не помеха! \ttype: Anime \tstatus: completed \tscore: 7\n",
      "i:500\tid: 14749 \tname: Ore no Kanojo to Osananajimi ga Shuraba Sugiru \trussian: Меж двух огней — Девушка и подруга детства \ttype: Anime \tstatus: completed \tscore: 7\n",
      "i:501\tid: 14765 \tname: Ixion Saga DT \trussian: Иксион-сага: Другое измерение \ttype: Anime \tstatus: completed \tscore: 6\n",
      "i:502\tid: 14813 \tname: Yahari Ore no Seishun Love Comedy wa Machigatteiru. \trussian: Как и ожидалось, моя школьная романтическая жизнь не удалась \ttype: Anime \tstatus: completed \tscore: 8\n",
      "i:503\tid: 14833 \tname: Maoyuu Maou Yuusha \trussian: Королева демонов и Герой \ttype: Anime \tstatus: completed \tscore: 8\n",
      "i:504\tid: 14921 \tname: RDG: Red Data Girl \trussian: Девушка из красной книги \ttype: Anime \tstatus: completed \tscore: 8\n",
      "i:505\tid: 14967 \tname: Boku wa Tomodachi ga Sukunai Next \trussian: У меня мало друзей: Продолжение \ttype: Anime \tstatus: completed \tscore: 7\n",
      "i:508\tid: 15133 \tname: Aoi Sekai no Chuushin de \trussian: Герои забытых времён \ttype: Anime \tstatus: completed \tscore: 6\n",
      "i:509\tid: 15225 \tname: Hentai Ouji to Warawanai Neko. \trussian: Нахальный принц и кошка-несмеяна \ttype: Anime \tstatus: completed \tscore: 6\n",
      "i:510\tid: 15315 \tname: Mondaiji-tachi ga Isekai kara Kuru Sou Desu yo? \trussian: Проблемные дети приходят из иного мира, верно? \ttype: Anime \tstatus: completed \tscore: 7\n",
      "i:511\tid: 15379 \tname: Kotoura-san \trussian: Котоура \ttype: Anime \tstatus: completed \tscore: 7\n",
      "i:512\tid: 15583 \tname: Date A Live \trussian: Рандеву с жизнью \ttype: Anime \tstatus: completed \tscore: 6\n",
      "i:514\tid: 15689 \tname: Nekomonogatari: Kuro \trussian: История кошки: Чёрная глава \ttype: Anime \tstatus: completed \tscore: 8\n",
      "i:515\tid: 15809 \tname: Hataraku Maou-sama! \trussian: Повелитель тьмы на подработке! \ttype: Anime \tstatus: completed \tscore: 7\n",
      "i:518\tid: 16005 \tname: Zettai Karen Children: The Unlimited - Hyoubu Kyousuke \trussian: Восхитительные дети: Безграничный \ttype: Anime \tstatus: completed \tscore: 8\n",
      "i:519\tid: 16009 \tname: Kamisama no Inai Nichiyoubi \trussian: В воскресенье даже Бог отдыхает \ttype: Anime \tstatus: completed \tscore: 7\n",
      "i:520\tid: 16011 \tname: Tokyo Ravens \trussian: Токийские вороны \ttype: Anime \tstatus: completed \tscore: 7\n",
      "i:521\tid: 16498 \tname: Shingeki no Kyojin \trussian: Атака титанов \ttype: Anime \tstatus: completed \tscore: 7\n",
      "i:522\tid: 16512 \tname: Devil Survivor 2 The Animation \trussian: Выживший дьявол 2 \ttype: Anime \tstatus: completed \tscore: 7\n",
      "i:523\tid: 16518 \tname: Arata Kangatari \trussian: Арата: Легенда \ttype: Anime \tstatus: completed \tscore: 6\n",
      "i:524\tid: 16524 \tname: Suisei no Gargantia \trussian: Гаргантия на просторах зелёной планеты \ttype: Anime \tstatus: completed \tscore: 7\n",
      "i:526\tid: 16592 \tname: Danganronpa: Kibou no Gakuen to Zetsubou no Koukousei The Animation \trussian: Школа надежды и безнадёжные школьники \ttype: Anime \tstatus: completed \tscore: 4\n",
      "i:527\tid: 16668 \tname: Kakumeiki Valvrave \trussian: Вальврейв Освободитель \ttype: Anime \tstatus: completed \tscore: 6\n",
      "i:528\tid: 16706 \tname: Kami nomi zo Shiru Sekai: Megami-hen \trussian: Одному лишь Богу ведомый мир III: Богини \ttype: Anime \tstatus: completed \tscore: 8\n",
      "i:529\tid: 16890 \tname: Makai Ouji: Devils and Realist \trussian: Принц преисподней: Демоны и реалист \ttype: Anime \tstatus: completed \tscore: 6\n",
      "i:532\tid: 17265 \tname: Log Horizon \trussian: Покорение горизонта \ttype: Anime \tstatus: completed \tscore: 8\n",
      "i:533\tid: 17389 \tname: Kingdom 2nd Season \trussian: Царство 2 \ttype: Anime \tstatus: completed \tscore: 8\n",
      "i:534\tid: 17895 \tname: Golden Time \trussian: Золотая пора \ttype: Anime \tstatus: completed \tscore: 7\n",
      "i:535\tid: 17909 \tname: Uchouten Kazoku \trussian: Экзотическая семейка \ttype: Anime \tstatus: completed \tscore: 8\n",
      "i:536\tid: 18095 \tname: Nourin \trussian: Сельско-лесное хозяйство \ttype: Anime \tstatus: completed \tscore: 6\n",
      "i:537\tid: 18115 \tname: Magi: The Kingdom of Magic \trussian: Маги: Королевство магии \ttype: Anime \tstatus: completed \tscore: 8\n",
      "i:538\tid: 18153 \tname: Kyoukai no Kanata \trussian: По ту сторону границы \ttype: Anime \tstatus: completed \tscore: 6\n",
      "i:540\tid: 18411 \tname: Gingitsune \trussian: Серебряный лис \ttype: Anime \tstatus: completed \tscore: 8\n",
      "i:541\tid: 18677 \tname: Yuusha ni Narenakatta Ore wa Shibushibu Shuushoku wo Ketsui Shimashita. \trussian: Раз героем мне не стать — самое время работу искать! \ttype: Anime \tstatus: completed \tscore: 5\n",
      "i:543\tid: 18897 \tname: Nisekoi \trussian: Притворная любовь \ttype: Anime \tstatus: completed \tscore: 8\n",
      "i:544\tid: 19117 \tname: Toaru Hikuushi e no Koiuta \trussian: Любовная песня одного пилота \ttype: Anime \tstatus: completed \tscore: 8\n",
      "i:546\tid: 19369 \tname: Outbreak Company \trussian: Мятежная компания \ttype: Anime \tstatus: completed \tscore: 6\n",
      "i:547\tid: 19769 \tname: Mahou Sensou \trussian: Магические войны \ttype: Anime \tstatus: completed \tscore: 6\n",
      "i:548\tid: 19815 \tname: No Game No Life \trussian: Нет игры — нет жизни \ttype: Anime \tstatus: completed \tscore: 7\n",
      "i:549\tid: 20457 \tname: Inari, Konkon, Koi Iroha. \trussian: Инари, лисицы и волшебная любовь \ttype: Anime \tstatus: completed \tscore: 7\n",
      "i:550\tid: 20507 \tname: Noragami \trussian: Бездомный бог \ttype: Anime \tstatus: completed \tscore: 7\n",
      "i:551\tid: 20651 \tname: Natsume Yuujinchou: Itsuka Yuki no Hi ni \trussian: Тетрадь дружбы Нацумэ: Однажды зимним днём \ttype: Anime \tstatus: completed \tscore: 7\n",
      "i:552\tid: 20785 \tname: Mahouka Koukou no Rettousei \trussian: Непутёвый ученик в школе магии \ttype: Anime \tstatus: completed \tscore: 7\n",
      "i:559\tid: 22535 \tname: Kiseijuu: Sei no Kakuritsu \trussian: Паразит: Учение о жизни \ttype: Anime \tstatus: completed \tscore: 8\n",
      "i:561\tid: 22877 \tname: Seireitsukai no Blade Dance \trussian: Танец клинка элементалиста \ttype: Anime \tstatus: completed \tscore: 6\n",
      "i:566\tid: 23847 \tname: Yahari Ore no Seishun Love Comedy wa Machigatteiru. Zoku \trussian: Как и ожидалось, моя школьная романтическая жизнь не удалась 2 \ttype: Anime \tstatus: completed \tscore: 6\n",
      "i:569\tid: 25835 \tname: Shirobako \trussian: Белый ящик \ttype: Anime \tstatus: completed \tscore: 9\n",
      "i:572\tid: 27775 \tname: Plastic Memories \trussian: Пластиковые воспоминания \ttype: Anime \tstatus: completed \tscore: 8\n",
      "i:573\tid: 27787 \tname: Nisekoi: \trussian: Притворная любовь 2 \ttype: Anime \tstatus: completed \tscore: 6\n",
      "i:575\tid: 28121 \tname: Dungeon ni Deai wo Motomeru no wa Machigatteiru Darou ka \trussian: Может, я встречу тебя в подземелье? \ttype: Anime \tstatus: completed \tscore: 7\n",
      "i:576\tid: 28171 \tname: Shokugeki no Souma \trussian: Повар-боец Сома \ttype: Anime \tstatus: completed \tscore: 9\n",
      "i:580\tid: 29786 \tname: Shimoneta to Iu Gainen ga Sonzai Shinai Taikutsu na Sekai \trussian: Скучный мир, где не существует самой идеи похабных шуток \ttype: Anime \tstatus: completed \tscore: 7\n",
      "i:583\tid: 30276 \tname: One Punch Man \trussian: Ванпанчмен \ttype: Anime \tstatus: completed \tscore: 9\n",
      "i:585\tid: 30831 \tname: Kono Subarashii Sekai ni Shukufuku wo! \trussian: Этот замечательный мир! \ttype: Anime \tstatus: completed \tscore: 7\n",
      "i:595\tid: 32380 \tname: Kono Subarashii Sekai ni Shukufuku wo!: Kono Subarashii Choker ni Shukufuku wo! \trussian: Этот замечательный мир! OVA \ttype: Anime \tstatus: completed \tscore: 7\n",
      "i:603\tid: 34134 \tname: One Punch Man 2nd Season \trussian: Ванпанчмен 2 \ttype: Anime \tstatus: completed \tscore: 7\n",
      "i:610\tid: 36474 \tname: Sword Art Online: Alicization \trussian: Мастера Меча Онлайн: Алисизация \ttype: Anime \tstatus: completed \tscore: 7\n",
      "i:612\tid: 38659 \tname: Shinchou Yuusha: Kono Yuusha ga Ore Tueee Kuse ni Shinchou Sugiru \trussian: Осторожный герой: и без того сильнейший, он слишком осторожен! \ttype: Anime \tstatus: completed \tscore: 7\n",
      "i:613\tid: 39597 \tname: Sword Art Online: Alicization - War of Underworld \trussian: Мастера Меча Онлайн: Алисизация — Война в Подмирье \ttype: Anime \tstatus: completed \tscore: 7\n"
     ]
    }
   ],
   "source": [
    "requestCount = 0\n",
    "requestCount2 = 0\n",
    "\n",
    "for i in range(420, len(r)):\n",
    "    animeInfo = r[i]\n",
    "    if animeInfo['target_type'] == \"Manga\" or animeInfo['score'] == 0:\n",
    "        continue\n",
    "    if not animeInfo['target_id'] in animeIdis:\n",
    "        animeIdis[animeInfo['target_id']] = api.animes(animeInfo['target_id']).GET()\n",
    "        requestCount+=1\n",
    "        requestCount2+=1\n",
    "    tmp = animeIdis[animeInfo['target_id']]\n",
    "    animeInfo['name'] = tmp['name']\n",
    "    animeInfo['russian'] = tmp['russian']\n",
    "    print(\"i:\" + str(i) +\"\\tid: \" + str(animeInfo['target_id']) + \" \\tname: \" + animeInfo['name'] + \" \\trussian: \" + animeInfo['russian'] + \" \\ttype: \" + animeInfo['target_type']+ \" \\tstatus: \" + animeInfo['status'] + \" \\tscore: \" + str(animeInfo['score']))\n",
    "\n",
    "    if requestCount >= 5:\n",
    "        time.sleep(2.5)\n",
    "        requestCount = 0\n",
    "    if requestCount2 >= 50:\n",
    "        time.sleep(10)\n",
    "        requestCount2 = 0\n",
    "\n",
    "    i+=1"
   ],
   "metadata": {
    "collapsed": false
   }
  },
  {
   "cell_type": "code",
   "execution_count": 16,
   "outputs": [
    {
     "ename": "NameError",
     "evalue": "name 'r' is not defined",
     "output_type": "error",
     "traceback": [
      "\u001B[1;31m---------------------------------------------------------------------------\u001B[0m",
      "\u001B[1;31mNameError\u001B[0m                                 Traceback (most recent call last)",
      "\u001B[1;32mC:\\Users\\D899~1\\AppData\\Local\\Temp/ipykernel_26552/3593254206.py\u001B[0m in \u001B[0;36m<module>\u001B[1;34m\u001B[0m\n\u001B[0;32m      4\u001B[0m \u001B[1;32mwith\u001B[0m \u001B[0mopen\u001B[0m\u001B[1;33m(\u001B[0m\u001B[0muser\u001B[0m\u001B[1;33m[\u001B[0m\u001B[1;34m'nickname'\u001B[0m\u001B[1;33m]\u001B[0m \u001B[1;33m+\u001B[0m \u001B[1;34m'_score.csv'\u001B[0m\u001B[1;33m,\u001B[0m \u001B[1;34m'a'\u001B[0m\u001B[1;33m,\u001B[0m\u001B[0mencoding\u001B[0m\u001B[1;33m=\u001B[0m\u001B[1;34m\"utf-8\"\u001B[0m\u001B[1;33m)\u001B[0m \u001B[1;32mas\u001B[0m \u001B[0mthe_file\u001B[0m\u001B[1;33m:\u001B[0m\u001B[1;33m\u001B[0m\u001B[1;33m\u001B[0m\u001B[0m\n\u001B[0;32m      5\u001B[0m     \u001B[0mthe_file\u001B[0m\u001B[1;33m.\u001B[0m\u001B[0mwrite\u001B[0m\u001B[1;33m(\u001B[0m\u001B[1;34m'anime_id,name,russian,status,genres,score\\n'\u001B[0m\u001B[1;33m)\u001B[0m\u001B[1;33m\u001B[0m\u001B[1;33m\u001B[0m\u001B[0m\n\u001B[1;32m----> 6\u001B[1;33m     \u001B[1;32mfor\u001B[0m \u001B[0mi\u001B[0m \u001B[1;32min\u001B[0m \u001B[0mrange\u001B[0m\u001B[1;33m(\u001B[0m\u001B[0mlen\u001B[0m\u001B[1;33m(\u001B[0m\u001B[0mr\u001B[0m\u001B[1;33m)\u001B[0m\u001B[1;33m)\u001B[0m\u001B[1;33m:\u001B[0m\u001B[1;33m\u001B[0m\u001B[1;33m\u001B[0m\u001B[0m\n\u001B[0m\u001B[0;32m      7\u001B[0m \u001B[1;33m\u001B[0m\u001B[0m\n\u001B[0;32m      8\u001B[0m         \u001B[0manimeInfo\u001B[0m \u001B[1;33m=\u001B[0m \u001B[0mr\u001B[0m\u001B[1;33m[\u001B[0m\u001B[0mi\u001B[0m\u001B[1;33m]\u001B[0m\u001B[1;33m\u001B[0m\u001B[1;33m\u001B[0m\u001B[0m\n",
      "\u001B[1;31mNameError\u001B[0m: name 'r' is not defined"
     ]
    }
   ],
   "source": [
    "user_scores = []\n",
    "i = 0\n",
    "user = api.users(1).GET()\n",
    "with open(user['nickname'] + '_score.csv', 'a',encoding=\"utf-8\") as the_file:\n",
    "    the_file.write('anime_id,name,russian,status,genres,score\\n')\n",
    "    for i in range(len(r)):\n",
    "\n",
    "        animeInfo = r[i]\n",
    "\n",
    "        if animeInfo['target_type'] == \"Manga\" or animeInfo['score'] == 0:\n",
    "            continue\n",
    "\n",
    "        if not animeInfo['target_id'] in animeIdis:\n",
    "            animeIdis[animeInfo['target_id']] = api.animes(animeInfo['target_id']).GET()\n",
    "            requestCount+=1\n",
    "            requestCount2+=1\n",
    "\n",
    "            tmp = animeIdis[animeInfo['target_id']]\n",
    "            animeInfo['name'] = tmp['name']\n",
    "            animeInfo['russian'] = tmp['russian']\n",
    "\n",
    "        gs = \"\"\n",
    "        for g in animeIdis[animeInfo['target_id']]['genres']:\n",
    "            gs += g['name']+\";\"\n",
    "        the_file.write(str(animeInfo['target_id']) + \",\" + animeInfo['name'].replace(',','_') + \",\" + animeInfo['russian'].replace(',','_') + \",\" + animeInfo['status'] + \",\" + gs + \",\" + str(animeInfo['score'])+'\\n')\n",
    "\n",
    "        print(i)\n",
    "\n",
    "        if requestCount >= 5:\n",
    "            time.sleep(2.5)\n",
    "            requestCount = 0\n",
    "        if requestCount2 >= 50:\n",
    "            time.sleep(10)\n",
    "            requestCount2 = 0"
   ],
   "metadata": {
    "collapsed": false
   }
  },
  {
   "cell_type": "code",
   "execution_count": 85,
   "outputs": [
    {
     "name": "stdout",
     "output_type": "stream",
     "text": [
      "Shounen;Comedy;Drama;Romance;\n"
     ]
    }
   ],
   "source": [
    "gs = \"\"\n",
    "for g in animeIdis[r[400]['target_id']]['genres']:\n",
    "    gs += g['name']+\";\"\n",
    "print(gs)"
   ],
   "metadata": {
    "collapsed": false
   }
  },
  {
   "cell_type": "code",
   "execution_count": 100,
   "outputs": [],
   "source": [
    "\n",
    "with open(user['nickname'] + '_score.csv', 'w') as the_file:\n",
    "    the_file.write('anime_id,name,russian,status,genres,score\\n')"
   ],
   "metadata": {
    "collapsed": false
   }
  },
  {
   "cell_type": "code",
   "execution_count": 97,
   "outputs": [
    {
     "ename": "HTTPError",
     "evalue": "404 Client Error: Not Found for url: https://shikimori.one/api/animes/78257",
     "output_type": "error",
     "traceback": [
      "\u001B[1;31m---------------------------------------------------------------------------\u001B[0m",
      "\u001B[1;31mHTTPError\u001B[0m                                 Traceback (most recent call last)",
      "\u001B[1;32mC:\\Users\\D899~1\\AppData\\Local\\Temp/ipykernel_8484/3651271173.py\u001B[0m in \u001B[0;36m<module>\u001B[1;34m\u001B[0m\n\u001B[1;32m----> 1\u001B[1;33m \u001B[0mapi\u001B[0m\u001B[1;33m.\u001B[0m\u001B[0manimes\u001B[0m\u001B[1;33m(\u001B[0m\u001B[1;36m78257\u001B[0m\u001B[1;33m)\u001B[0m\u001B[1;33m.\u001B[0m\u001B[0mGET\u001B[0m\u001B[1;33m(\u001B[0m\u001B[1;33m)\u001B[0m\u001B[1;33m\u001B[0m\u001B[1;33m\u001B[0m\u001B[0m\n\u001B[0m",
      "\u001B[1;32mC:\\ProgramData\\anaconda3\\lib\\site-packages\\shikimori_api\\shikimori_api.py\u001B[0m in \u001B[0;36mrequest\u001B[1;34m(self, method, path, **params)\u001B[0m\n\u001B[0;32m     59\u001B[0m         \u001B[1;32mif\u001B[0m \u001B[0mresponse\u001B[0m\u001B[1;33m.\u001B[0m\u001B[0mok\u001B[0m\u001B[1;33m:\u001B[0m\u001B[1;33m\u001B[0m\u001B[1;33m\u001B[0m\u001B[0m\n\u001B[0;32m     60\u001B[0m             \u001B[1;32mreturn\u001B[0m \u001B[0mresponse\u001B[0m\u001B[1;33m.\u001B[0m\u001B[0mjson\u001B[0m\u001B[1;33m(\u001B[0m\u001B[1;33m)\u001B[0m\u001B[1;33m\u001B[0m\u001B[1;33m\u001B[0m\u001B[0m\n\u001B[1;32m---> 61\u001B[1;33m         \u001B[0mresponse\u001B[0m\u001B[1;33m.\u001B[0m\u001B[0mraise_for_status\u001B[0m\u001B[1;33m(\u001B[0m\u001B[1;33m)\u001B[0m\u001B[1;33m\u001B[0m\u001B[1;33m\u001B[0m\u001B[0m\n\u001B[0m\u001B[0;32m     62\u001B[0m \u001B[1;33m\u001B[0m\u001B[0m\n\u001B[0;32m     63\u001B[0m     \u001B[1;32mdef\u001B[0m \u001B[0m_get_request_url\u001B[0m\u001B[1;33m(\u001B[0m\u001B[0mself\u001B[0m\u001B[1;33m,\u001B[0m \u001B[0mpath\u001B[0m\u001B[1;33m)\u001B[0m\u001B[1;33m:\u001B[0m\u001B[1;33m\u001B[0m\u001B[1;33m\u001B[0m\u001B[0m\n",
      "\u001B[1;32mC:\\ProgramData\\anaconda3\\lib\\site-packages\\requests\\models.py\u001B[0m in \u001B[0;36mraise_for_status\u001B[1;34m(self)\u001B[0m\n\u001B[0;32m    951\u001B[0m \u001B[1;33m\u001B[0m\u001B[0m\n\u001B[0;32m    952\u001B[0m         \u001B[1;32mif\u001B[0m \u001B[0mhttp_error_msg\u001B[0m\u001B[1;33m:\u001B[0m\u001B[1;33m\u001B[0m\u001B[1;33m\u001B[0m\u001B[0m\n\u001B[1;32m--> 953\u001B[1;33m             \u001B[1;32mraise\u001B[0m \u001B[0mHTTPError\u001B[0m\u001B[1;33m(\u001B[0m\u001B[0mhttp_error_msg\u001B[0m\u001B[1;33m,\u001B[0m \u001B[0mresponse\u001B[0m\u001B[1;33m=\u001B[0m\u001B[0mself\u001B[0m\u001B[1;33m)\u001B[0m\u001B[1;33m\u001B[0m\u001B[1;33m\u001B[0m\u001B[0m\n\u001B[0m\u001B[0;32m    954\u001B[0m \u001B[1;33m\u001B[0m\u001B[0m\n\u001B[0;32m    955\u001B[0m     \u001B[1;32mdef\u001B[0m \u001B[0mclose\u001B[0m\u001B[1;33m(\u001B[0m\u001B[0mself\u001B[0m\u001B[1;33m)\u001B[0m\u001B[1;33m:\u001B[0m\u001B[1;33m\u001B[0m\u001B[1;33m\u001B[0m\u001B[0m\n",
      "\u001B[1;31mHTTPError\u001B[0m: 404 Client Error: Not Found for url: https://shikimori.one/api/animes/78257"
     ]
    }
   ],
   "source": [
    "api.animes(78257).GET()"
   ],
   "metadata": {
    "collapsed": false
   }
  },
  {
   "cell_type": "code",
   "execution_count": 43,
   "outputs": [
    {
     "data": {
      "text/plain": "{'id': 24905,\n 'name': 'Go-hiki no Kobuta to Charleston',\n 'russian': 'Пять свиней и чарльстон',\n 'image': {'original': '/system/animes/original/24905.jpg?1635237798',\n  'preview': '/system/animes/preview/24905.jpg?1635237798',\n  'x96': '/system/animes/x96/24905.jpg?1635237798',\n  'x48': '/system/animes/x48/24905.jpg?1635237798'},\n 'url': '/animes/24905-go-hiki-no-kobuta-to-charleston',\n 'kind': 'music',\n 'score': '4.97',\n 'status': 'released',\n 'episodes': 1,\n 'episodes_aired': 0,\n 'aired_on': '1964-08-03',\n 'released_on': None,\n 'rating': 'g',\n 'english': [None],\n 'japanese': ['五匹のこぶたとチャールストン'],\n 'synonyms': ['Minna no Uta: Go-hiki no Kobuta to Charleston'],\n 'license_name_ru': None,\n 'duration': 2,\n 'description': None,\n 'description_html': '<div class=\"b-text_with_paragraphs\"></div>',\n 'description_source': None,\n 'franchise': None,\n 'favoured': False,\n 'anons': False,\n 'ongoing': False,\n 'thread_id': 290063,\n 'topic_id': 290063,\n 'myanimelist_id': 24905,\n 'rates_scores_stats': [{'name': 8, 'value': 1},\n  {'name': 7, 'value': 1},\n  {'name': 6, 'value': 1},\n  {'name': 5, 'value': 16},\n  {'name': 4, 'value': 4},\n  {'name': 3, 'value': 2},\n  {'name': 2, 'value': 2},\n  {'name': 1, 'value': 3}],\n 'rates_statuses_stats': [{'name': 'Запланировано', 'value': 20},\n  {'name': 'Просмотрено', 'value': 54},\n  {'name': 'Брошено', 'value': 21},\n  {'name': 'Отложено', 'value': 1}],\n 'updated_at': '2022-10-16T08:02:23.795+03:00',\n 'next_episode_at': None,\n 'fansubbers': [],\n 'fandubbers': [],\n 'licensors': [],\n 'genres': [{'id': 15, 'name': 'Kids', 'russian': 'Детское', 'kind': 'anime'},\n  {'id': 19, 'name': 'Music', 'russian': 'Музыка', 'kind': 'anime'}],\n 'studios': [{'id': 111,\n   'name': 'NHK',\n   'filtered_name': 'NHK',\n   'real': True,\n   'image': '/system/studios/original/111.png?1538666067'}],\n 'videos': [],\n 'screenshots': [{'original': '/system/screenshots/original/e4fab361fdac5a8262e9960fda9f9d1618b44f8f.jpg?1636480528',\n   'preview': '/system/screenshots/x332/e4fab361fdac5a8262e9960fda9f9d1618b44f8f.jpg?1636480528'},\n  {'original': '/system/screenshots/original/73b13f811529ef71b5a7ce0252ca8861b4fe5202.jpg?1636480529',\n   'preview': '/system/screenshots/x332/73b13f811529ef71b5a7ce0252ca8861b4fe5202.jpg?1636480529'}],\n 'user_rate': None}"
     },
     "execution_count": 43,
     "metadata": {},
     "output_type": "execute_result"
    }
   ],
   "source": [
    "api.animes(24905).GET()"
   ],
   "metadata": {
    "collapsed": false
   }
  },
  {
   "cell_type": "code",
   "execution_count": 3,
   "outputs": [],
   "source": [
    "with open('animeIdis.json', 'r',encoding=\"utf-8\") as the_file:\n",
    "    animeIdis =  json.loads((the_file.read()))"
   ],
   "metadata": {
    "collapsed": false
   }
  },
  {
   "cell_type": "code",
   "execution_count": 20,
   "outputs": [],
   "source": [
    "def parseUser(userId, t = 1):\n",
    "    user = []\n",
    "    try:\n",
    "        user = api.users(userId).GET()\n",
    "    except:\n",
    "        print(str(userId) + \" user does not found\")\n",
    "\n",
    "        time.sleep(t)\n",
    "        return\n",
    "\n",
    "    if user['stats']['statuses']['anime'][2]['size'] < 30:\n",
    "        print(user['nickname'] + \" have less 30 completed anims\")\n",
    "\n",
    "        time.sleep(t)\n",
    "        return\n",
    "\n",
    "\n",
    "    r = api.v2.user_rates.GET(user_id=user['id'])\n",
    "    i = 0\n",
    "    requestCount = 0\n",
    "    requestCount2 = 0\n",
    "    requestCount3 = 0\n",
    "    filename = 'user_scores/'+str(userId)+\"_\"+user['nickname'].replace('*','_STAR_').replace('|','_LINE_').replace('\\\"','_QUOTES_').replace('\\'','_QUOTE_').replace('>','_RARROW_').replace('<','_LARROW_') + '_score.csv'\n",
    "\n",
    "    unmarked = 0\n",
    "    toFileCnt =0\n",
    "    toFileStr = \"\"\n",
    "    for i in range(0, len(r)):\n",
    "\n",
    "        animeInfo = r[i]\n",
    "        if animeInfo['target_type'] == \"Manga\" or animeInfo['score'] == 0:\n",
    "            unmarked+=1\n",
    "            continue\n",
    "\n",
    "\n",
    "        if not int(animeInfo['target_id']) in animeIdis and not str(animeInfo['target_id']) in animeIdis:\n",
    "            #print(\"no id \" + str(animeInfo['target_id']))\n",
    "            animeIdis[str(animeInfo['target_id'])] = api.animes(animeInfo['target_id']).GET()\n",
    "            requestCount+=1\n",
    "            requestCount2+=1\n",
    "            requestCount3+=1\n",
    "            #time.sleep(2)\n",
    "\n",
    "        tmp = animeIdis[str(animeInfo['target_id'])]\n",
    "        animeInfo['name'] = tmp['name']\n",
    "        animeInfo['russian'] = tmp['russian']\n",
    "\n",
    "        gs = \"\"\n",
    "        for g in animeIdis[str(animeInfo['target_id'])]['genres']:\n",
    "            gs += g['name']+\";\"\n",
    "        toFileCnt +=1\n",
    "        toFileStr += str(animeInfo['target_id']) + \",\" + animeInfo['name'].replace(',','_') + \",\" + animeInfo['russian'].replace(',','_') + \",\" + animeInfo['status'] + \",\" + gs + \",\" + str(animeInfo['score'])+'\\n';\n",
    "\n",
    "        clear_output(wait=True)\n",
    "        print(\"userId: \"+ str(userId) +\"\\t\\t\"+ str(i) + \" / \" + str(user['stats']['statuses']['anime'][2]['size']))\n",
    "\n",
    "        if requestCount >= 3:\n",
    "            time.sleep(2)\n",
    "            requestCount = 0\n",
    "        if requestCount2 >= 10:\n",
    "            time.sleep(2)\n",
    "            requestCount2 = 0\n",
    "        if requestCount2 >= 50:\n",
    "            time.sleep(2)\n",
    "            requestCount3 = 0\n",
    "        i+=1\n",
    "\n",
    "    if toFileCnt >= 10:\n",
    "        with open(filename, 'w') as the_file:\n",
    "            the_file.write('anime_id,name,russian,status,genres,score\\n')\n",
    "\n",
    "\n",
    "        with open(filename, 'a',encoding=\"utf-8\") as the_file:\n",
    "            the_file.write(toFileStr)\n",
    "    time.sleep(t)\n",
    "    print(\"finish \" + user['nickname'] + \"\\t\\tmarked = \" + str(toFileCnt) + \"/\" + str(user['stats']['statuses']['anime'][0]['size'] + user['stats']['statuses']['anime'][1]['size'] + user['stats']['statuses']['anime'][2]['size'] + user['stats']['statuses']['anime'][3]['size'] + user['stats']['statuses']['anime'][4]['size']))"
   ],
   "metadata": {
    "collapsed": false
   }
  },
  {
   "cell_type": "code",
   "execution_count": 24,
   "outputs": [
    {
     "name": "stdout",
     "output_type": "stream",
     "text": [
      "userId: 119994\t\t912 / 389\n",
      "finish MrMerr\t\tmarked = 187/904\n",
      "Евгений Овертон have less 30 completed anims\n",
      "maqsic have less 30 completed anims\n",
      "NIF have less 30 completed anims\n",
      "Шоколадка have less 30 completed anims\n",
      "रकत रख have less 30 completed anims\n"
     ]
    }
   ],
   "source": [
    "#for i in range(29207, 30000):\n",
    "i =  120000\n",
    "while i < 140000:\n",
    "    parseUser(i)\n",
    "    i+=1"
   ],
   "metadata": {
    "collapsed": false
   }
  },
  {
   "cell_type": "code",
   "execution_count": 25,
   "outputs": [],
   "source": [
    "def dumper(obj):\n",
    "    try:\n",
    "        return obj.toJSON()\n",
    "    except:\n",
    "        return obj.__dict__\n",
    "\n",
    "\n",
    "with open('animeIdis.json', 'w',encoding=\"utf-8\") as the_file:\n",
    "    the_file.write(json.dumps(animeIdis, default=dumper, ensure_ascii = False, indent=2))"
   ],
   "metadata": {
    "collapsed": false
   }
  },
  {
   "cell_type": "code",
   "execution_count": 14,
   "outputs": [
    {
     "data": {
      "text/plain": "{'id': 1,\n 'name': 'Cowboy Bebop',\n 'russian': 'Ковбой Бибоп',\n 'image': {'original': '/system/animes/original/1.jpg?1633690032',\n  'preview': '/system/animes/preview/1.jpg?1633690032',\n  'x96': '/system/animes/x96/1.jpg?1633690032',\n  'x48': '/system/animes/x48/1.jpg?1633690032'},\n 'url': '/animes/1-cowboy-bebop',\n 'kind': 'tv',\n 'score': '8.77',\n 'status': 'released',\n 'episodes': 26,\n 'episodes_aired': 0,\n 'aired_on': '1998-04-03',\n 'released_on': '1999-04-24',\n 'rating': 'r_plus',\n 'english': ['Cowboy Bebop'],\n 'japanese': ['カウボーイビバップ'],\n 'synonyms': [],\n 'license_name_ru': 'Ковбой Бибоп',\n 'duration': 24,\n 'description': '2071 год. Человечество колонизировало всю Солнечную Систему, основав колонии от Венеры до Юпитера. Но десятилетия тому назад из-за техногенной катастрофы была уничтожена Луна. Последствия оказались катастрофическими: непрерывные метеоритные дожди сделали жизнь на поверхности Земли невозможной, а в первые недели после катастрофы погибло 4,7 миллиарда человек. Большая часть выживших перебралась в колонии на другие планеты.\\r\\nСо временем по всей Солнечной Системе разрослись и набрали силу преступные синдикаты, для борьбы с которыми правительство возродило древнюю практику охоты за головами. Отныне охотники за головами разъезжают по всей Солнечной Системе в поисках целей.\\r\\nСпайк Шпигель [スパイク・スピーゲル] и Джет Блэк [ジェット・ブラック] — охотники. Волею судьбы они оказались на космическом корабле «Bebop 268710». Путешествуя вместе, они подбирают Фэй Валентайн [フェイ・バレンタイン] — очаровательную картёжницу с невероятно огромным долгом, Радикал Эдварда [エドワード・ウォン・ハウ・ペペル・チブルスキー4世] — компьютерного гения и генетически модифицированную собаку Эйн [アイン].\\r\\nНа борту «Bebop» судьба сводит четырёх человек и одну собаку, и так начинаются их совместные приключения...',\n 'description_html': '<div class=\"b-text_with_paragraphs\">2071 год. Человечество колонизировало всю Солнечную Систему, основав колонии от Венеры до Юпитера. Но десятилетия тому назад из-за техногенной катастрофы была уничтожена Луна. Последствия оказались катастрофическими: непрерывные метеоритные дожди сделали жизнь на поверхности Земли невозможной, а в первые недели после катастрофы погибло 4,7 миллиарда человек. Большая часть выживших перебралась в колонии на другие планеты.<br>Со временем по всей Солнечной Системе разрослись и набрали силу преступные синдикаты, для борьбы с которыми правительство возродило древнюю практику охоты за головами. Отныне охотники за головами разъезжают по всей Солнечной Системе в поисках целей.<br><a href=\"https://shikimori.one/characters/1-spike-spiegel\" title=\"Spike Spiegel\" class=\"bubbled b-link\" data-tooltip_url=\"https://shikimori.one/characters/1-spike-spiegel/tooltip\" data-attrs=\"{&quot;id&quot;:1,&quot;type&quot;:&quot;character&quot;,&quot;name&quot;:&quot;Spike Spiegel&quot;,&quot;russian&quot;:&quot;Спайк Шпигель&quot;}\">Спайк Шпигель</a> и <a href=\"https://shikimori.one/characters/3-jet-black\" title=\"Jet Black\" class=\"bubbled b-link\" data-tooltip_url=\"https://shikimori.one/characters/3-jet-black/tooltip\" data-attrs=\"{&quot;id&quot;:3,&quot;type&quot;:&quot;character&quot;,&quot;name&quot;:&quot;Jet Black&quot;,&quot;russian&quot;:&quot;Джет Блэк&quot;}\">Джет Блэк</a> — охотники. Волею судьбы они оказались на космическом корабле «Bebop 268710». Путешествуя вместе, они подбирают <a href=\"https://shikimori.one/characters/2-faye-valentine\" title=\"Faye Valentine\" class=\"bubbled b-link\" data-tooltip_url=\"https://shikimori.one/characters/2-faye-valentine/tooltip\" data-attrs=\"{&quot;id&quot;:2,&quot;type&quot;:&quot;character&quot;,&quot;name&quot;:&quot;Faye Valentine&quot;,&quot;russian&quot;:&quot;Фэй Валентайн&quot;}\">Фэй Валентайн</a> — очаровательную картёжницу с невероятно огромным долгом, <a href=\"https://shikimori.one/characters/16-edward-wong-hau-pepelu-tivrusky-iv\" title=\"Edward Wong Hau Pepelu Tivrusky IV\" class=\"bubbled b-link\" data-tooltip_url=\"https://shikimori.one/characters/16-edward-wong-hau-pepelu-tivrusky-iv/tooltip\" data-attrs=\"{&quot;id&quot;:16,&quot;type&quot;:&quot;character&quot;,&quot;name&quot;:&quot;Edward Wong Hau Pepelu Tivrusky IV&quot;,&quot;russian&quot;:&quot;Радикал Эдвард&quot;}\">Радикал Эдварда</a> — компьютерного гения и генетически модифицированную собаку <a href=\"https://shikimori.one/characters/4-ein\" title=\"Ein\" class=\"bubbled b-link\" data-tooltip_url=\"https://shikimori.one/characters/4-ein/tooltip\" data-attrs=\"{&quot;id&quot;:4,&quot;type&quot;:&quot;character&quot;,&quot;name&quot;:&quot;Ein&quot;,&quot;russian&quot;:&quot;Эйн&quot;}\">Эйн</a>.<br>На борту «Bebop» судьба сводит четырёх человек и одну собаку, и так начинаются их совместные приключения...</div>',\n 'description_source': None,\n 'franchise': 'cowboy_bebop',\n 'favoured': False,\n 'anons': False,\n 'ongoing': False,\n 'thread_id': 3503,\n 'topic_id': 3503,\n 'myanimelist_id': 1,\n 'rates_scores_stats': [{'name': 10, 'value': 19803},\n  {'name': 9, 'value': 11533},\n  {'name': 8, 'value': 8113},\n  {'name': 7, 'value': 3667},\n  {'name': 6, 'value': 1254},\n  {'name': 5, 'value': 552},\n  {'name': 4, 'value': 196},\n  {'name': 3, 'value': 68},\n  {'name': 2, 'value': 48},\n  {'name': 1, 'value': 114}],\n 'rates_statuses_stats': [{'name': 'Запланировано', 'value': 37861},\n  {'name': 'Просмотрено', 'value': 67006},\n  {'name': 'Смотрю', 'value': 10925},\n  {'name': 'Брошено', 'value': 3584},\n  {'name': 'Отложено', 'value': 4791}],\n 'updated_at': '2022-10-23T20:49:31.427+03:00',\n 'next_episode_at': None,\n 'fansubbers': [\"Dragon'Drop\",\n  'Max Skuratov',\n  'Сергей Светличный',\n  'Suzaku',\n  'Faddeich',\n  'Netflix'],\n 'fandubbers': ['Amazing Dubbing',\n  'Е. Лурье',\n  'SHIZA Project',\n  'SkyFy',\n  'Digital Force',\n  '3df voice',\n  'Ю. Сербин',\n  'Naiman',\n  'AniLibria',\n  'KANSAI Studio'],\n 'licensors': ['Netflix'],\n 'genres': [{'id': 1, 'name': 'Action', 'russian': 'Экшен', 'kind': 'anime'},\n  {'id': 2, 'name': 'Adventure', 'russian': 'Приключения', 'kind': 'anime'},\n  {'id': 4, 'name': 'Comedy', 'russian': 'Комедия', 'kind': 'anime'},\n  {'id': 8, 'name': 'Drama', 'russian': 'Драма', 'kind': 'anime'},\n  {'id': 24, 'name': 'Sci-Fi', 'russian': 'Фантастика', 'kind': 'anime'},\n  {'id': 29, 'name': 'Space', 'russian': 'Космос', 'kind': 'anime'}],\n 'studios': [{'id': 14,\n   'name': 'Sunrise',\n   'filtered_name': 'Sunrise',\n   'real': True,\n   'image': '/system/studios/original/14.jpg?1630137154'}],\n 'videos': [{'id': 8195,\n   'url': 'https://youtube.com/watch?v=kGzneAKtAgg',\n   'image_url': 'http://img.youtube.com/vi/kGzneAKtAgg/hqdefault.jpg',\n   'player_url': 'http://youtube.com/embed/kGzneAKtAgg',\n   'name': 'COWBOY BEBOP カウボーイビバップ',\n   'kind': 'pv',\n   'hosting': 'youtube'},\n  {'id': 28853,\n   'url': 'https://youtube.com/watch?v=TdBfgwHmQsQ',\n   'image_url': 'http://img.youtube.com/vi/TdBfgwHmQsQ/hqdefault.jpg',\n   'player_url': 'http://youtube.com/embed/TdBfgwHmQsQ',\n   'name': 'Cowboy Bebop Exclusive Amazon Trailer',\n   'kind': 'pv',\n   'hosting': 'youtube'}],\n 'screenshots': [{'original': '/system/screenshots/original/b1276021bfb0fc514c35bb106361dd2bcb20f967.jpg?1521803518',\n   'preview': '/system/screenshots/x332/b1276021bfb0fc514c35bb106361dd2bcb20f967.jpg?1521803518'},\n  {'original': '/system/screenshots/original/210f496943c6aa7c0e8d875f3d1dae235ac009b2.jpg?1521803527',\n   'preview': '/system/screenshots/x332/210f496943c6aa7c0e8d875f3d1dae235ac009b2.jpg?1521803527'}],\n 'user_rate': None}"
     },
     "execution_count": 14,
     "metadata": {},
     "output_type": "execute_result"
    }
   ],
   "source": [
    "animeIdis['1']"
   ],
   "metadata": {
    "collapsed": false
   }
  },
  {
   "cell_type": "code",
   "execution_count": 239,
   "outputs": [
    {
     "ename": "HTTPError",
     "evalue": "502 Server Error: Bad Gateway for url: https://shikimori.one/api/animes/24821",
     "output_type": "error",
     "traceback": [
      "\u001B[1;31m---------------------------------------------------------------------------\u001B[0m",
      "\u001B[1;31mHTTPError\u001B[0m                                 Traceback (most recent call last)",
      "\u001B[1;32mC:\\Users\\D899~1\\AppData\\Local\\Temp/ipykernel_8484/3367464263.py\u001B[0m in \u001B[0;36m<module>\u001B[1;34m\u001B[0m\n\u001B[1;32m----> 1\u001B[1;33m \u001B[0mapi\u001B[0m\u001B[1;33m.\u001B[0m\u001B[0manimes\u001B[0m\u001B[1;33m(\u001B[0m\u001B[1;36m24821\u001B[0m\u001B[1;33m)\u001B[0m\u001B[1;33m.\u001B[0m\u001B[0mGET\u001B[0m\u001B[1;33m(\u001B[0m\u001B[1;33m)\u001B[0m\u001B[1;33m\u001B[0m\u001B[1;33m\u001B[0m\u001B[0m\n\u001B[0m",
      "\u001B[1;32mC:\\ProgramData\\anaconda3\\lib\\site-packages\\shikimori_api\\shikimori_api.py\u001B[0m in \u001B[0;36mrequest\u001B[1;34m(self, method, path, **params)\u001B[0m\n\u001B[0;32m     59\u001B[0m         \u001B[1;32mif\u001B[0m \u001B[0mresponse\u001B[0m\u001B[1;33m.\u001B[0m\u001B[0mok\u001B[0m\u001B[1;33m:\u001B[0m\u001B[1;33m\u001B[0m\u001B[1;33m\u001B[0m\u001B[0m\n\u001B[0;32m     60\u001B[0m             \u001B[1;32mreturn\u001B[0m \u001B[0mresponse\u001B[0m\u001B[1;33m.\u001B[0m\u001B[0mjson\u001B[0m\u001B[1;33m(\u001B[0m\u001B[1;33m)\u001B[0m\u001B[1;33m\u001B[0m\u001B[1;33m\u001B[0m\u001B[0m\n\u001B[1;32m---> 61\u001B[1;33m         \u001B[0mresponse\u001B[0m\u001B[1;33m.\u001B[0m\u001B[0mraise_for_status\u001B[0m\u001B[1;33m(\u001B[0m\u001B[1;33m)\u001B[0m\u001B[1;33m\u001B[0m\u001B[1;33m\u001B[0m\u001B[0m\n\u001B[0m\u001B[0;32m     62\u001B[0m \u001B[1;33m\u001B[0m\u001B[0m\n\u001B[0;32m     63\u001B[0m     \u001B[1;32mdef\u001B[0m \u001B[0m_get_request_url\u001B[0m\u001B[1;33m(\u001B[0m\u001B[0mself\u001B[0m\u001B[1;33m,\u001B[0m \u001B[0mpath\u001B[0m\u001B[1;33m)\u001B[0m\u001B[1;33m:\u001B[0m\u001B[1;33m\u001B[0m\u001B[1;33m\u001B[0m\u001B[0m\n",
      "\u001B[1;32mC:\\ProgramData\\anaconda3\\lib\\site-packages\\requests\\models.py\u001B[0m in \u001B[0;36mraise_for_status\u001B[1;34m(self)\u001B[0m\n\u001B[0;32m    951\u001B[0m \u001B[1;33m\u001B[0m\u001B[0m\n\u001B[0;32m    952\u001B[0m         \u001B[1;32mif\u001B[0m \u001B[0mhttp_error_msg\u001B[0m\u001B[1;33m:\u001B[0m\u001B[1;33m\u001B[0m\u001B[1;33m\u001B[0m\u001B[0m\n\u001B[1;32m--> 953\u001B[1;33m             \u001B[1;32mraise\u001B[0m \u001B[0mHTTPError\u001B[0m\u001B[1;33m(\u001B[0m\u001B[0mhttp_error_msg\u001B[0m\u001B[1;33m,\u001B[0m \u001B[0mresponse\u001B[0m\u001B[1;33m=\u001B[0m\u001B[0mself\u001B[0m\u001B[1;33m)\u001B[0m\u001B[1;33m\u001B[0m\u001B[1;33m\u001B[0m\u001B[0m\n\u001B[0m\u001B[0;32m    954\u001B[0m \u001B[1;33m\u001B[0m\u001B[0m\n\u001B[0;32m    955\u001B[0m     \u001B[1;32mdef\u001B[0m \u001B[0mclose\u001B[0m\u001B[1;33m(\u001B[0m\u001B[0mself\u001B[0m\u001B[1;33m)\u001B[0m\u001B[1;33m:\u001B[0m\u001B[1;33m\u001B[0m\u001B[1;33m\u001B[0m\u001B[0m\n",
      "\u001B[1;31mHTTPError\u001B[0m: 502 Server Error: Bad Gateway for url: https://shikimori.one/api/animes/24821"
     ]
    }
   ],
   "source": [
    "api.animes(24821).GET()"
   ],
   "metadata": {
    "collapsed": false
   }
  },
  {
   "cell_type": "code",
   "execution_count": 5,
   "outputs": [],
   "source": [
    "import os\n",
    "import csv"
   ],
   "metadata": {
    "collapsed": false
   }
  },
  {
   "cell_type": "code",
   "execution_count": 26,
   "outputs": [],
   "source": [
    "animeIdisWithoutH = animeIdis\n",
    "keysToDelete = []\n",
    "for animKey in animeIdisWithoutH:\n",
    "    anim = animeIdisWithoutH[animKey]\n",
    "    for g in anim['genres']:\n",
    "        if g['name'] == \"Hentai\":\n",
    "            keysToDelete.append(animKey)\n",
    "            break\n",
    "for k in keysToDelete:\n",
    "    del animeIdisWithoutH[k]\n",
    "\n",
    "with open('animeIdisWithoutH.json', 'w',encoding=\"utf-8\") as the_file:\n",
    "    the_file.write(json.dumps(animeIdisWithoutH, default=dumper, ensure_ascii = False, indent=2))"
   ],
   "metadata": {
    "collapsed": false
   }
  },
  {
   "cell_type": "code",
   "execution_count": 10,
   "outputs": [],
   "source": [
    "genres = []\n",
    "for filename in os.listdir('user_scores'):\n",
    "    with open('user_scores/' + filename, 'r',encoding=\"utf-8\") as the_file:\n",
    "        reader = csv.DictReader(the_file, delimiter=',')\n",
    "        for row in reader:\n",
    "            for g in row['genres'].split(';'):\n",
    "                if not g in genres and g!=\"Hentai\" and g!='':\n",
    "                    genres.append(g)"
   ],
   "metadata": {
    "collapsed": false
   }
  },
  {
   "cell_type": "code",
   "execution_count": 27,
   "outputs": [],
   "source": [
    "header ='anime_id,status,score'\n",
    "for g in genres:\n",
    "    header+=',' + g\n",
    "header += '\\n'\n",
    "\n",
    "\n",
    "for filename in os.listdir('user_scores'):\n",
    "    with open('user_scores/' + filename, 'r',encoding=\"utf-8\") as the_file:\n",
    "        rows = []\n",
    "        reader = csv.DictReader(the_file, delimiter=',')\n",
    "        for row in reader:\n",
    "            b = True\n",
    "            gs = row['genres'].split(';')\n",
    "            for g in gs:\n",
    "                if g==\"Hentai\":\n",
    "                    b = False\n",
    "                    break\n",
    "            if b:\n",
    "                row['genres'] = gs\n",
    "                rows.append(row)\n",
    "        if len(rows) >= 10:\n",
    "            with open('user_scores2/' + filename, 'w',encoding=\"utf-8\") as new_file:\n",
    "                new_file.write(header)\n",
    "\n",
    "                for r in rows:\n",
    "                    strRow = r['anime_id']+',' + r['status']+','+r['score']\n",
    "                    for g in genres:\n",
    "                        if g in r['genres']:\n",
    "                            strRow += ',1'\n",
    "                        else:\n",
    "                            strRow += ',0'\n",
    "                    strRow += '\\n'\n",
    "\n",
    "                    new_file.write(strRow)\n",
    "\n"
   ],
   "metadata": {
    "collapsed": false
   }
  },
  {
   "cell_type": "code",
   "execution_count": null,
   "outputs": [],
   "source": [],
   "metadata": {
    "collapsed": false
   }
  }
 ],
 "metadata": {
  "kernelspec": {
   "display_name": "Python 3",
   "language": "python",
   "name": "python3"
  },
  "language_info": {
   "codemirror_mode": {
    "name": "ipython",
    "version": 2
   },
   "file_extension": ".py",
   "mimetype": "text/x-python",
   "name": "python",
   "nbconvert_exporter": "python",
   "pygments_lexer": "ipython2",
   "version": "2.7.6"
  }
 },
 "nbformat": 4,
 "nbformat_minor": 0
}
