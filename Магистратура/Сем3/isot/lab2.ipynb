{
 "cells": [
  {
   "cell_type": "code",
   "execution_count": 3,
   "outputs": [
    {
     "name": "stderr",
     "output_type": "stream",
     "text": [
      "WARNING: You are using pip version 22.0.4; however, version 22.3.1 is available.\n",
      "You should consider upgrading via the 'C:\\ProgramData\\Anaconda3\\python.exe -m pip install --upgrade pip' command.\n"
     ]
    },
    {
     "name": "stdout",
     "output_type": "stream",
     "text": [
      "Collecting pyBKT\n",
      "  Downloading pyBKT-1.4.tar.gz (32.7 MB)\n",
      "     ---------------------------------------- 32.7/32.7 MB 8.6 MB/s eta 0:00:00\n",
      "  Preparing metadata (setup.py): started\n",
      "  Preparing metadata (setup.py): finished with status 'done'\n",
      "Requirement already satisfied: numpy in c:\\programdata\\anaconda3\\lib\\site-packages (from pyBKT) (1.20.3)\n",
      "Collecting sklearn\n",
      "  Downloading sklearn-0.0.post1.tar.gz (3.6 kB)\n",
      "  Preparing metadata (setup.py): started\n",
      "  Preparing metadata (setup.py): finished with status 'done'\n",
      "Requirement already satisfied: pandas in c:\\programdata\\anaconda3\\lib\\site-packages (from pyBKT) (1.3.4)\n",
      "Requirement already satisfied: requests in c:\\programdata\\anaconda3\\lib\\site-packages (from pyBKT) (2.26.0)\n",
      "Requirement already satisfied: pytz>=2017.3 in c:\\programdata\\anaconda3\\lib\\site-packages (from pandas->pyBKT) (2021.3)\n",
      "Requirement already satisfied: python-dateutil>=2.7.3 in c:\\programdata\\anaconda3\\lib\\site-packages (from pandas->pyBKT) (2.8.2)\n",
      "Requirement already satisfied: urllib3<1.27,>=1.21.1 in c:\\programdata\\anaconda3\\lib\\site-packages (from requests->pyBKT) (1.26.7)\n",
      "Requirement already satisfied: idna<4,>=2.5 in c:\\programdata\\anaconda3\\lib\\site-packages (from requests->pyBKT) (3.2)\n",
      "Requirement already satisfied: certifi>=2017.4.17 in c:\\programdata\\anaconda3\\lib\\site-packages (from requests->pyBKT) (2022.12.7)\n",
      "Requirement already satisfied: charset-normalizer~=2.0.0 in c:\\programdata\\anaconda3\\lib\\site-packages (from requests->pyBKT) (2.0.4)\n",
      "Requirement already satisfied: six>=1.5 in c:\\programdata\\anaconda3\\lib\\site-packages (from python-dateutil>=2.7.3->pandas->pyBKT) (1.16.0)\n",
      "Building wheels for collected packages: pyBKT, sklearn\n",
      "  Building wheel for pyBKT (setup.py): started\n",
      "  Building wheel for pyBKT (setup.py): finished with status 'done'\n",
      "  Created wheel for pyBKT: filename=pyBKT-1.4-py3-none-any.whl size=34409 sha256=078716dbc9490c1821d90c575cfbd653b5080bb550ef1a4a1391e65628ba8bc7\n",
      "  Stored in directory: c:\\users\\сергей\\appdata\\local\\pip\\cache\\wheels\\9a\\d5\\14\\b0b1005880b40618565b8565b95bff41073b11a62919ff68b1\n",
      "  Building wheel for sklearn (setup.py): started\n",
      "  Building wheel for sklearn (setup.py): finished with status 'done'\n",
      "  Created wheel for sklearn: filename=sklearn-0.0.post1-py3-none-any.whl size=2344 sha256=8484c1272315d1c55764bc06625dea62764f12e8c556e9d24d149265a15a11cc\n",
      "  Stored in directory: c:\\users\\сергей\\appdata\\local\\pip\\cache\\wheels\\f8\\e0\\3d\\9d0c2020c44a519b9f02ab4fa6d2a4a996c98d79ab2f569fa1\n",
      "Successfully built pyBKT sklearn\n",
      "Installing collected packages: sklearn, pyBKT\n",
      "Successfully installed pyBKT-1.4 sklearn-0.0.post1\n"
     ]
    }
   ],
   "source": [
    "!pip install pyBKT"
   ],
   "metadata": {
    "collapsed": false
   }
  },
  {
   "cell_type": "code",
   "execution_count": 18,
   "outputs": [],
   "source": [
    "import numpy as np\n",
    "import pandas as pd\n",
    "from pyBKT.models import Model"
   ],
   "metadata": {
    "collapsed": false
   }
  },
  {
   "cell_type": "code",
   "execution_count": 19,
   "outputs": [
    {
     "name": "stderr",
     "output_type": "stream",
     "text": [
      "C:\\ProgramData\\anaconda3\\lib\\site-packages\\IPython\\core\\interactiveshell.py:3444: DtypeWarning: Columns (61,63,65) have mixed types.Specify dtype option on import or set low_memory=False.\n",
      "  exec(code_obj, self.user_global_ns, self.user_ns)\n"
     ]
    }
   ],
   "source": [
    "ct_df = pd.read_table('data.txt', sep ='\t')"
   ],
   "metadata": {
    "collapsed": false
   }
  },
  {
   "cell_type": "code",
   "execution_count": 20,
   "outputs": [
    {
     "name": "stdout",
     "output_type": "stream",
     "text": [
      "Rows: 685615\n",
      "Columns: 73\n"
     ]
    }
   ],
   "source": [
    "print(f\"Rows: {ct_df.shape[0]}\")\n",
    "print(f\"Columns: {ct_df.shape[1]}\")"
   ],
   "metadata": {
    "collapsed": false
   }
  },
  {
   "cell_type": "code",
   "execution_count": 29,
   "outputs": [],
   "source": [
    "field = 'KC (WPI-Apr-2005)'\n",
    "data = ct_df[ct_df[field].notna()]"
   ],
   "metadata": {
    "collapsed": false
   }
  },
  {
   "cell_type": "code",
   "execution_count": 32,
   "outputs": [
    {
     "data": {
      "text/plain": "           Row Sample Name                    Transaction Id  \\\n4            5    All Data  dca05a90ed9a01bff3b2e9dda0ac9701   \n9           10    All Data  49006da9662ca146c0d63b180068a805   \n10          11    All Data  d38872ff350b66484121da8602546753   \n11          12    All Data  716c50e44beb4eaa08527b1f4f03d621   \n12          13    All Data  5dd4a559a0d57c34500b16c86e0b1683   \n...        ...         ...                               ...   \n685610  685611    All Data  ecd79274988ffb021c107b70d61dc02f   \n685611  685612    All Data  664c2ea62a7633befcaa07e04565a41d   \n685612  685613    All Data  7f9175054ed47929425c8d9ff1a83b5f   \n685613  685614    All Data  6682546d5fc7127ae180e51ee777a9bd   \n685614  685615    All Data  fc5dcfc85fd71afacb25936d8921e458   \n\n                             Anon Student Id  Session Id                 Time  \\\n4       Stu_00176143fc2991346939888160a9b1ce     2572205  2005-11-08 10:20:10   \n9       Stu_00176143fc2991346939888160a9b1ce     2572341  2005-11-08 10:22:52   \n10      Stu_00176143fc2991346939888160a9b1ce     2572454  2005-11-08 10:24:15   \n11      Stu_00176143fc2991346939888160a9b1ce     2572476  2005-11-08 10:24:43   \n12      Stu_00176143fc2991346939888160a9b1ce     2572476  2005-11-08 10:24:56   \n...                                      ...         ...                  ...   \n685610  Stu_fff5c8fc1e1e08cfd72a0e5122b547d4     4231424  2006-04-05 22:57:14   \n685611  Stu_fff5c8fc1e1e08cfd72a0e5122b547d4     4231424  2006-04-05 22:57:33   \n685612  Stu_fff5c8fc1e1e08cfd72a0e5122b547d4     4231424  2006-04-05 22:57:45   \n685613  Stu_fff5c8fc1e1e08cfd72a0e5122b547d4     4231424  2006-04-05 22:58:09   \n685614  Stu_fff5c8fc1e1e08cfd72a0e5122b547d4     4231437  2006-04-05 22:58:45   \n\n         Time Zone Duration (sec) Student Response Type  \\\n4       US/Eastern             14          HINT_REQUEST   \n9       US/Eastern             26               ATTEMPT   \n10      US/Eastern              5               ATTEMPT   \n11      US/Eastern             26          HINT_REQUEST   \n12      US/Eastern             13          HINT_REQUEST   \n...            ...            ...                   ...   \n685610  US/Eastern             50               ATTEMPT   \n685611  US/Eastern             19               ATTEMPT   \n685612  US/Eastern             12               ATTEMPT   \n685613  US/Eastern             24               ATTEMPT   \n685614  US/Eastern             31               ATTEMPT   \n\n        Student Response Subtype  ... KC (MCAS5-State_WPI-Simple).2  \\\n4                            NaN  ...                           NaN   \n9                            NaN  ...                           NaN   \n10                           NaN  ...                           NaN   \n11                           NaN  ...                           NaN   \n12                           NaN  ...                           NaN   \n...                          ...  ...                           ...   \n685610                       NaN  ...                           NaN   \n685611                       NaN  ...                           NaN   \n685612                       NaN  ...                           NaN   \n685613                       NaN  ...                           NaN   \n685614                       NaN  ...                           NaN   \n\n        KC Category (MCAS5-State_WPI-Simple).2 KC (MCAS5-State_WPI-Simple).3  \\\n4                                          NaN                           NaN   \n9                                          NaN                           NaN   \n10                                         NaN                           NaN   \n11                                         NaN                           NaN   \n12                                         NaN                           NaN   \n...                                        ...                           ...   \n685610                                     NaN                           NaN   \n685611                                     NaN                           NaN   \n685612                                     NaN                           NaN   \n685613                                     NaN                           NaN   \n685614                                     NaN                           NaN   \n\n        KC Category (MCAS5-State_WPI-Simple).3  KC (Single-KC)  \\\n4                                          NaN       Single-KC   \n9                                          NaN       Single-KC   \n10                                         NaN       Single-KC   \n11                                         NaN       Single-KC   \n12                                         NaN       Single-KC   \n...                                        ...             ...   \n685610                                     NaN       Single-KC   \n685611                                     NaN       Single-KC   \n685612                                     NaN       Single-KC   \n685613                                     NaN       Single-KC   \n685614                                     NaN       Single-KC   \n\n       KC Category (Single-KC) KC (Unique-step)  KC Category (Unique-step)  \\\n4                          NaN             KC81                        NaN   \n9                          NaN            KC184                        NaN   \n10                         NaN            KC184                        NaN   \n11                         NaN            KC111                        NaN   \n12                         NaN            KC111                        NaN   \n...                        ...              ...                        ...   \n685610                     NaN            KC190                        NaN   \n685611                     NaN              NaN                        NaN   \n685612                     NaN              NaN                        NaN   \n685613                     NaN              NaN                        NaN   \n685614                     NaN              NaN                        NaN   \n\n        School Class  \n4       103999     1  \n9       103999     1  \n10      103999     1  \n11      103999     1  \n12      103999     1  \n...        ...   ...  \n685610  103999  2006  \n685611  103999  2006  \n685612  103999  2006  \n685613  103999  2006  \n685614  103999  2006  \n\n[456822 rows x 73 columns]",
      "text/html": "<div>\n<style scoped>\n    .dataframe tbody tr th:only-of-type {\n        vertical-align: middle;\n    }\n\n    .dataframe tbody tr th {\n        vertical-align: top;\n    }\n\n    .dataframe thead th {\n        text-align: right;\n    }\n</style>\n<table border=\"1\" class=\"dataframe\">\n  <thead>\n    <tr style=\"text-align: right;\">\n      <th></th>\n      <th>Row</th>\n      <th>Sample Name</th>\n      <th>Transaction Id</th>\n      <th>Anon Student Id</th>\n      <th>Session Id</th>\n      <th>Time</th>\n      <th>Time Zone</th>\n      <th>Duration (sec)</th>\n      <th>Student Response Type</th>\n      <th>Student Response Subtype</th>\n      <th>...</th>\n      <th>KC (MCAS5-State_WPI-Simple).2</th>\n      <th>KC Category (MCAS5-State_WPI-Simple).2</th>\n      <th>KC (MCAS5-State_WPI-Simple).3</th>\n      <th>KC Category (MCAS5-State_WPI-Simple).3</th>\n      <th>KC (Single-KC)</th>\n      <th>KC Category (Single-KC)</th>\n      <th>KC (Unique-step)</th>\n      <th>KC Category (Unique-step)</th>\n      <th>School</th>\n      <th>Class</th>\n    </tr>\n  </thead>\n  <tbody>\n    <tr>\n      <th>4</th>\n      <td>5</td>\n      <td>All Data</td>\n      <td>dca05a90ed9a01bff3b2e9dda0ac9701</td>\n      <td>Stu_00176143fc2991346939888160a9b1ce</td>\n      <td>2572205</td>\n      <td>2005-11-08 10:20:10</td>\n      <td>US/Eastern</td>\n      <td>14</td>\n      <td>HINT_REQUEST</td>\n      <td>NaN</td>\n      <td>...</td>\n      <td>NaN</td>\n      <td>NaN</td>\n      <td>NaN</td>\n      <td>NaN</td>\n      <td>Single-KC</td>\n      <td>NaN</td>\n      <td>KC81</td>\n      <td>NaN</td>\n      <td>103999</td>\n      <td>1</td>\n    </tr>\n    <tr>\n      <th>9</th>\n      <td>10</td>\n      <td>All Data</td>\n      <td>49006da9662ca146c0d63b180068a805</td>\n      <td>Stu_00176143fc2991346939888160a9b1ce</td>\n      <td>2572341</td>\n      <td>2005-11-08 10:22:52</td>\n      <td>US/Eastern</td>\n      <td>26</td>\n      <td>ATTEMPT</td>\n      <td>NaN</td>\n      <td>...</td>\n      <td>NaN</td>\n      <td>NaN</td>\n      <td>NaN</td>\n      <td>NaN</td>\n      <td>Single-KC</td>\n      <td>NaN</td>\n      <td>KC184</td>\n      <td>NaN</td>\n      <td>103999</td>\n      <td>1</td>\n    </tr>\n    <tr>\n      <th>10</th>\n      <td>11</td>\n      <td>All Data</td>\n      <td>d38872ff350b66484121da8602546753</td>\n      <td>Stu_00176143fc2991346939888160a9b1ce</td>\n      <td>2572454</td>\n      <td>2005-11-08 10:24:15</td>\n      <td>US/Eastern</td>\n      <td>5</td>\n      <td>ATTEMPT</td>\n      <td>NaN</td>\n      <td>...</td>\n      <td>NaN</td>\n      <td>NaN</td>\n      <td>NaN</td>\n      <td>NaN</td>\n      <td>Single-KC</td>\n      <td>NaN</td>\n      <td>KC184</td>\n      <td>NaN</td>\n      <td>103999</td>\n      <td>1</td>\n    </tr>\n    <tr>\n      <th>11</th>\n      <td>12</td>\n      <td>All Data</td>\n      <td>716c50e44beb4eaa08527b1f4f03d621</td>\n      <td>Stu_00176143fc2991346939888160a9b1ce</td>\n      <td>2572476</td>\n      <td>2005-11-08 10:24:43</td>\n      <td>US/Eastern</td>\n      <td>26</td>\n      <td>HINT_REQUEST</td>\n      <td>NaN</td>\n      <td>...</td>\n      <td>NaN</td>\n      <td>NaN</td>\n      <td>NaN</td>\n      <td>NaN</td>\n      <td>Single-KC</td>\n      <td>NaN</td>\n      <td>KC111</td>\n      <td>NaN</td>\n      <td>103999</td>\n      <td>1</td>\n    </tr>\n    <tr>\n      <th>12</th>\n      <td>13</td>\n      <td>All Data</td>\n      <td>5dd4a559a0d57c34500b16c86e0b1683</td>\n      <td>Stu_00176143fc2991346939888160a9b1ce</td>\n      <td>2572476</td>\n      <td>2005-11-08 10:24:56</td>\n      <td>US/Eastern</td>\n      <td>13</td>\n      <td>HINT_REQUEST</td>\n      <td>NaN</td>\n      <td>...</td>\n      <td>NaN</td>\n      <td>NaN</td>\n      <td>NaN</td>\n      <td>NaN</td>\n      <td>Single-KC</td>\n      <td>NaN</td>\n      <td>KC111</td>\n      <td>NaN</td>\n      <td>103999</td>\n      <td>1</td>\n    </tr>\n    <tr>\n      <th>...</th>\n      <td>...</td>\n      <td>...</td>\n      <td>...</td>\n      <td>...</td>\n      <td>...</td>\n      <td>...</td>\n      <td>...</td>\n      <td>...</td>\n      <td>...</td>\n      <td>...</td>\n      <td>...</td>\n      <td>...</td>\n      <td>...</td>\n      <td>...</td>\n      <td>...</td>\n      <td>...</td>\n      <td>...</td>\n      <td>...</td>\n      <td>...</td>\n      <td>...</td>\n      <td>...</td>\n    </tr>\n    <tr>\n      <th>685610</th>\n      <td>685611</td>\n      <td>All Data</td>\n      <td>ecd79274988ffb021c107b70d61dc02f</td>\n      <td>Stu_fff5c8fc1e1e08cfd72a0e5122b547d4</td>\n      <td>4231424</td>\n      <td>2006-04-05 22:57:14</td>\n      <td>US/Eastern</td>\n      <td>50</td>\n      <td>ATTEMPT</td>\n      <td>NaN</td>\n      <td>...</td>\n      <td>NaN</td>\n      <td>NaN</td>\n      <td>NaN</td>\n      <td>NaN</td>\n      <td>Single-KC</td>\n      <td>NaN</td>\n      <td>KC190</td>\n      <td>NaN</td>\n      <td>103999</td>\n      <td>2006</td>\n    </tr>\n    <tr>\n      <th>685611</th>\n      <td>685612</td>\n      <td>All Data</td>\n      <td>664c2ea62a7633befcaa07e04565a41d</td>\n      <td>Stu_fff5c8fc1e1e08cfd72a0e5122b547d4</td>\n      <td>4231424</td>\n      <td>2006-04-05 22:57:33</td>\n      <td>US/Eastern</td>\n      <td>19</td>\n      <td>ATTEMPT</td>\n      <td>NaN</td>\n      <td>...</td>\n      <td>NaN</td>\n      <td>NaN</td>\n      <td>NaN</td>\n      <td>NaN</td>\n      <td>Single-KC</td>\n      <td>NaN</td>\n      <td>NaN</td>\n      <td>NaN</td>\n      <td>103999</td>\n      <td>2006</td>\n    </tr>\n    <tr>\n      <th>685612</th>\n      <td>685613</td>\n      <td>All Data</td>\n      <td>7f9175054ed47929425c8d9ff1a83b5f</td>\n      <td>Stu_fff5c8fc1e1e08cfd72a0e5122b547d4</td>\n      <td>4231424</td>\n      <td>2006-04-05 22:57:45</td>\n      <td>US/Eastern</td>\n      <td>12</td>\n      <td>ATTEMPT</td>\n      <td>NaN</td>\n      <td>...</td>\n      <td>NaN</td>\n      <td>NaN</td>\n      <td>NaN</td>\n      <td>NaN</td>\n      <td>Single-KC</td>\n      <td>NaN</td>\n      <td>NaN</td>\n      <td>NaN</td>\n      <td>103999</td>\n      <td>2006</td>\n    </tr>\n    <tr>\n      <th>685613</th>\n      <td>685614</td>\n      <td>All Data</td>\n      <td>6682546d5fc7127ae180e51ee777a9bd</td>\n      <td>Stu_fff5c8fc1e1e08cfd72a0e5122b547d4</td>\n      <td>4231424</td>\n      <td>2006-04-05 22:58:09</td>\n      <td>US/Eastern</td>\n      <td>24</td>\n      <td>ATTEMPT</td>\n      <td>NaN</td>\n      <td>...</td>\n      <td>NaN</td>\n      <td>NaN</td>\n      <td>NaN</td>\n      <td>NaN</td>\n      <td>Single-KC</td>\n      <td>NaN</td>\n      <td>NaN</td>\n      <td>NaN</td>\n      <td>103999</td>\n      <td>2006</td>\n    </tr>\n    <tr>\n      <th>685614</th>\n      <td>685615</td>\n      <td>All Data</td>\n      <td>fc5dcfc85fd71afacb25936d8921e458</td>\n      <td>Stu_fff5c8fc1e1e08cfd72a0e5122b547d4</td>\n      <td>4231437</td>\n      <td>2006-04-05 22:58:45</td>\n      <td>US/Eastern</td>\n      <td>31</td>\n      <td>ATTEMPT</td>\n      <td>NaN</td>\n      <td>...</td>\n      <td>NaN</td>\n      <td>NaN</td>\n      <td>NaN</td>\n      <td>NaN</td>\n      <td>Single-KC</td>\n      <td>NaN</td>\n      <td>NaN</td>\n      <td>NaN</td>\n      <td>103999</td>\n      <td>2006</td>\n    </tr>\n  </tbody>\n</table>\n<p>456822 rows × 73 columns</p>\n</div>"
     },
     "execution_count": 32,
     "metadata": {},
     "output_type": "execute_result"
    }
   ],
   "source": [
    "data"
   ],
   "metadata": {
    "collapsed": false
   }
  },
  {
   "cell_type": "code",
   "execution_count": 33,
   "outputs": [],
   "source": [
    "data = ct_df[ct_df[field] == 'Area']"
   ],
   "metadata": {
    "collapsed": false
   }
  },
  {
   "cell_type": "code",
   "execution_count": 34,
   "outputs": [
    {
     "name": "stdout",
     "output_type": "stream",
     "text": [
      "26        0\n",
      "28        0\n",
      "29        0\n",
      "32        0\n",
      "33        0\n",
      "         ..\n",
      "685603    0\n",
      "685604    0\n",
      "685605    0\n",
      "685607    1\n",
      "685608    1\n",
      "Name: Outcome, Length: 15702, dtype: object\n"
     ]
    }
   ],
   "source": [
    "data = data[data['Outcome'] != 'HINT']\n",
    "\n",
    "data.loc[data.Outcome == 'CORRECT', 'Outcome'] = 1\n",
    "data.loc[data.Outcome == 'INCORRECT', 'Outcome'] = 0\n",
    "\n",
    "print(data['Outcome'])"
   ],
   "metadata": {
    "collapsed": false
   }
  },
  {
   "cell_type": "code",
   "execution_count": 35,
   "outputs": [
    {
     "data": {
      "text/plain": "    custom_order                       Anon Student Id custom_skill  \\\n26            27  Stu_00176143fc2991346939888160a9b1ce         area   \n28            29  Stu_00176143fc2991346939888160a9b1ce         area   \n29            30  Stu_00176143fc2991346939888160a9b1ce         area   \n32            33  Stu_00176143fc2991346939888160a9b1ce         area   \n33            34  Stu_00176143fc2991346939888160a9b1ce         area   \n\n   custom_answer custom_gs_classes  Problem Name  \n26             0        Assistment           833  \n28             0        Assistment           833  \n29             0        Assistment           833  \n32             0        Assistment           833  \n33             0        Assistment           833  ",
      "text/html": "<div>\n<style scoped>\n    .dataframe tbody tr th:only-of-type {\n        vertical-align: middle;\n    }\n\n    .dataframe tbody tr th {\n        vertical-align: top;\n    }\n\n    .dataframe thead th {\n        text-align: right;\n    }\n</style>\n<table border=\"1\" class=\"dataframe\">\n  <thead>\n    <tr style=\"text-align: right;\">\n      <th></th>\n      <th>custom_order</th>\n      <th>Anon Student Id</th>\n      <th>custom_skill</th>\n      <th>custom_answer</th>\n      <th>custom_gs_classes</th>\n      <th>Problem Name</th>\n    </tr>\n  </thead>\n  <tbody>\n    <tr>\n      <th>26</th>\n      <td>27</td>\n      <td>Stu_00176143fc2991346939888160a9b1ce</td>\n      <td>area</td>\n      <td>0</td>\n      <td>Assistment</td>\n      <td>833</td>\n    </tr>\n    <tr>\n      <th>28</th>\n      <td>29</td>\n      <td>Stu_00176143fc2991346939888160a9b1ce</td>\n      <td>area</td>\n      <td>0</td>\n      <td>Assistment</td>\n      <td>833</td>\n    </tr>\n    <tr>\n      <th>29</th>\n      <td>30</td>\n      <td>Stu_00176143fc2991346939888160a9b1ce</td>\n      <td>area</td>\n      <td>0</td>\n      <td>Assistment</td>\n      <td>833</td>\n    </tr>\n    <tr>\n      <th>32</th>\n      <td>33</td>\n      <td>Stu_00176143fc2991346939888160a9b1ce</td>\n      <td>area</td>\n      <td>0</td>\n      <td>Assistment</td>\n      <td>833</td>\n    </tr>\n    <tr>\n      <th>33</th>\n      <td>34</td>\n      <td>Stu_00176143fc2991346939888160a9b1ce</td>\n      <td>area</td>\n      <td>0</td>\n      <td>Assistment</td>\n      <td>833</td>\n    </tr>\n  </tbody>\n</table>\n</div>"
     },
     "execution_count": 35,
     "metadata": {},
     "output_type": "execute_result"
    }
   ],
   "source": [
    "defaults = {'order_id': 'custom_order',\n",
    "            'skill_name': 'custom_skill',\n",
    "            'correct': 'custom_answer',\n",
    "            'problem_id':'Problem Name'}\n",
    "\n",
    "defaults['multiprior'] = 'custom_gs_classes'\n",
    "columns = ['Row', 'Anon Student Id', 'KC (skills_from_dataframe)', 'Outcome', 'Level (Curriculum)', 'Problem Name']\n",
    "\n",
    "custom_df = data[columns]\n",
    "custom_df.columns = ['custom_order', 'Anon Student Id',\n",
    "                     'custom_skill', 'custom_answer',\n",
    "                     'custom_gs_classes',\n",
    "                     'Problem Name']\n",
    "custom_df.head(5)"
   ],
   "metadata": {
    "collapsed": false
   }
  },
  {
   "cell_type": "code",
   "execution_count": 36,
   "outputs": [],
   "source": [
    "model = Model(seed = 41, num_fits = 1)\n",
    "model.fit(data = custom_df, defaults = defaults)"
   ],
   "metadata": {
    "collapsed": false
   }
  },
  {
   "cell_type": "code",
   "execution_count": 37,
   "outputs": [],
   "source": [
    "def mae(true_vals, pred_vals):\n",
    "    return np.mean(np.abs(true_vals - pred_vals))"
   ],
   "metadata": {
    "collapsed": false
   }
  },
  {
   "cell_type": "code",
   "execution_count": 38,
   "outputs": [
    {
     "name": "stdout",
     "output_type": "stream",
     "text": [
      "RMSE: 0.49611\n",
      "AUC: 0.57851\n",
      "MAE: 0.48995\n"
     ]
    }
   ],
   "source": [
    "#default model\n",
    "training_rmse = model.evaluate(data = custom_df)\n",
    "training_auc = model.evaluate(data = custom_df, metric = 'auc')\n",
    "training_mae = model.evaluate(data = custom_df, metric = mae)\n",
    "\n",
    "print(f\"RMSE: {training_rmse:.5}\")\n",
    "print(f\"AUC: {training_auc:.5}\")\n",
    "print(f\"MAE: {training_mae:.5}\")\n",
    "\n",
    "preds = model.predict(data = custom_df)"
   ],
   "metadata": {
    "collapsed": false
   }
  },
  {
   "cell_type": "code",
   "execution_count": 39,
   "outputs": [],
   "source": [
    "model_forget = Model(seed = 41, num_fits = 1)\n",
    "model_forget.fit(data = custom_df, defaults = defaults, forgets=True)"
   ],
   "metadata": {
    "collapsed": false
   }
  },
  {
   "cell_type": "code",
   "execution_count": 40,
   "outputs": [
    {
     "name": "stdout",
     "output_type": "stream",
     "text": [
      "RMSE: 0.49678\n",
      "AUC: 0.57366\n",
      "MAE: 0.49085\n"
     ]
    }
   ],
   "source": [
    "#model with forgetting\n",
    "training_rmse = model_forget.evaluate(data = custom_df)\n",
    "training_auc = model_forget.evaluate(data = custom_df, metric = 'auc')\n",
    "training_mae = model_forget.evaluate(data = custom_df, metric = mae)\n",
    "\n",
    "print(f\"RMSE: {training_rmse:.5}\")\n",
    "print(f\"AUC: {training_auc:.5}\")\n",
    "print(f\"MAE: {training_mae:.5}\")\n",
    "\n",
    "preds = model_forget.predict(data = custom_df)"
   ],
   "metadata": {
    "collapsed": false
   }
  },
  {
   "cell_type": "code",
   "execution_count": 41,
   "outputs": [],
   "source": [
    "model_prior = Model(seed = 41, num_fits = 1)\n",
    "model_prior.fit(data = custom_df, defaults = defaults,multiprior=True)"
   ],
   "metadata": {
    "collapsed": false
   }
  },
  {
   "cell_type": "code",
   "execution_count": 42,
   "outputs": [
    {
     "name": "stdout",
     "output_type": "stream",
     "text": [
      "RMSE: 0.4944\n",
      "AUC: 0.58421\n",
      "MAE: 0.5907\n"
     ]
    }
   ],
   "source": [
    "#multiprior model\n",
    "training_rmse = model_prior.evaluate(data = custom_df)\n",
    "training_auc = model_prior.evaluate(data = custom_df, metric = 'auc')\n",
    "training_mae = model_prior.evaluate(data = custom_df, metric = mae)\n",
    "\n",
    "print(f\"RMSE: {training_rmse:.5}\")\n",
    "print(f\"AUC: {training_auc:.5}\")\n",
    "print(f\"MAE: {training_mae:.5}\")\n",
    "\n",
    "preds = model_prior.predict(data = custom_df)"
   ],
   "metadata": {
    "collapsed": false
   }
  },
  {
   "cell_type": "code",
   "execution_count": null,
   "outputs": [],
   "source": [],
   "metadata": {
    "collapsed": false
   }
  }
 ],
 "metadata": {
  "kernelspec": {
   "display_name": "Python 3",
   "language": "python",
   "name": "python3"
  },
  "language_info": {
   "codemirror_mode": {
    "name": "ipython",
    "version": 2
   },
   "file_extension": ".py",
   "mimetype": "text/x-python",
   "name": "python",
   "nbconvert_exporter": "python",
   "pygments_lexer": "ipython2",
   "version": "2.7.6"
  }
 },
 "nbformat": 4,
 "nbformat_minor": 0
}
