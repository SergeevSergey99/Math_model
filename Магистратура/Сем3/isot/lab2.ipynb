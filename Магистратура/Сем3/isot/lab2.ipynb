{
 "cells": [
  {
   "cell_type": "code",
   "execution_count": 3,
   "outputs": [
    {
     "name": "stderr",
     "output_type": "stream",
     "text": [
      "WARNING: You are using pip version 22.0.4; however, version 22.3.1 is available.\n",
      "You should consider upgrading via the 'C:\\ProgramData\\Anaconda3\\python.exe -m pip install --upgrade pip' command.\n"
     ]
    },
    {
     "name": "stdout",
     "output_type": "stream",
     "text": [
      "Collecting pyBKT\n",
      "  Downloading pyBKT-1.4.tar.gz (32.7 MB)\n",
      "     ---------------------------------------- 32.7/32.7 MB 8.6 MB/s eta 0:00:00\n",
      "  Preparing metadata (setup.py): started\n",
      "  Preparing metadata (setup.py): finished with status 'done'\n",
      "Requirement already satisfied: numpy in c:\\programdata\\anaconda3\\lib\\site-packages (from pyBKT) (1.20.3)\n",
      "Collecting sklearn\n",
      "  Downloading sklearn-0.0.post1.tar.gz (3.6 kB)\n",
      "  Preparing metadata (setup.py): started\n",
      "  Preparing metadata (setup.py): finished with status 'done'\n",
      "Requirement already satisfied: pandas in c:\\programdata\\anaconda3\\lib\\site-packages (from pyBKT) (1.3.4)\n",
      "Requirement already satisfied: requests in c:\\programdata\\anaconda3\\lib\\site-packages (from pyBKT) (2.26.0)\n",
      "Requirement already satisfied: pytz>=2017.3 in c:\\programdata\\anaconda3\\lib\\site-packages (from pandas->pyBKT) (2021.3)\n",
      "Requirement already satisfied: python-dateutil>=2.7.3 in c:\\programdata\\anaconda3\\lib\\site-packages (from pandas->pyBKT) (2.8.2)\n",
      "Requirement already satisfied: urllib3<1.27,>=1.21.1 in c:\\programdata\\anaconda3\\lib\\site-packages (from requests->pyBKT) (1.26.7)\n",
      "Requirement already satisfied: idna<4,>=2.5 in c:\\programdata\\anaconda3\\lib\\site-packages (from requests->pyBKT) (3.2)\n",
      "Requirement already satisfied: certifi>=2017.4.17 in c:\\programdata\\anaconda3\\lib\\site-packages (from requests->pyBKT) (2022.12.7)\n",
      "Requirement already satisfied: charset-normalizer~=2.0.0 in c:\\programdata\\anaconda3\\lib\\site-packages (from requests->pyBKT) (2.0.4)\n",
      "Requirement already satisfied: six>=1.5 in c:\\programdata\\anaconda3\\lib\\site-packages (from python-dateutil>=2.7.3->pandas->pyBKT) (1.16.0)\n",
      "Building wheels for collected packages: pyBKT, sklearn\n",
      "  Building wheel for pyBKT (setup.py): started\n",
      "  Building wheel for pyBKT (setup.py): finished with status 'done'\n",
      "  Created wheel for pyBKT: filename=pyBKT-1.4-py3-none-any.whl size=34409 sha256=078716dbc9490c1821d90c575cfbd653b5080bb550ef1a4a1391e65628ba8bc7\n",
      "  Stored in directory: c:\\users\\сергей\\appdata\\local\\pip\\cache\\wheels\\9a\\d5\\14\\b0b1005880b40618565b8565b95bff41073b11a62919ff68b1\n",
      "  Building wheel for sklearn (setup.py): started\n",
      "  Building wheel for sklearn (setup.py): finished with status 'done'\n",
      "  Created wheel for sklearn: filename=sklearn-0.0.post1-py3-none-any.whl size=2344 sha256=8484c1272315d1c55764bc06625dea62764f12e8c556e9d24d149265a15a11cc\n",
      "  Stored in directory: c:\\users\\сергей\\appdata\\local\\pip\\cache\\wheels\\f8\\e0\\3d\\9d0c2020c44a519b9f02ab4fa6d2a4a996c98d79ab2f569fa1\n",
      "Successfully built pyBKT sklearn\n",
      "Installing collected packages: sklearn, pyBKT\n",
      "Successfully installed pyBKT-1.4 sklearn-0.0.post1\n"
     ]
    }
   ],
   "source": [
    "!pip install pyBKT"
   ],
   "metadata": {
    "collapsed": false
   }
  },
  {
   "cell_type": "code",
   "execution_count": 4,
   "outputs": [],
   "source": [
    "import numpy as np\n",
    "import pandas as pd\n",
    "from pyBKT.models import Model"
   ],
   "metadata": {
    "collapsed": false
   }
  },
  {
   "cell_type": "code",
   "execution_count": 6,
   "outputs": [
    {
     "name": "stderr",
     "output_type": "stream",
     "text": [
      "C:\\ProgramData\\anaconda3\\lib\\site-packages\\IPython\\core\\interactiveshell.py:3444: DtypeWarning: Columns (61,63,65) have mixed types.Specify dtype option on import or set low_memory=False.\n",
      "  exec(code_obj, self.user_global_ns, self.user_ns)\n"
     ]
    }
   ],
   "source": [
    "ct_df = pd.read_table('data.txt', sep ='\t')"
   ],
   "metadata": {
    "collapsed": false
   }
  },
  {
   "cell_type": "code",
   "execution_count": 7,
   "outputs": [
    {
     "name": "stdout",
     "output_type": "stream",
     "text": [
      "Rows: 685615\n",
      "Columns: 73\n"
     ]
    }
   ],
   "source": [
    "print(f\"Rows: {ct_df.shape[0]}\")\n",
    "print(f\"Columns: {ct_df.shape[1]}\")"
   ],
   "metadata": {
    "collapsed": false
   }
  },
  {
   "cell_type": "code",
   "execution_count": 8,
   "outputs": [],
   "source": [
    "field = 'KC (WPI-Apr-2005)'\n",
    "data = ct_df[ct_df[field].notna()]\n",
    "data = ct_df[ct_df[field] == 'Fractions']"
   ],
   "metadata": {
    "collapsed": false
   }
  },
  {
   "cell_type": "code",
   "execution_count": 9,
   "outputs": [
    {
     "name": "stdout",
     "output_type": "stream",
     "text": [
      "69        0\n",
      "72        0\n",
      "73        0\n",
      "74        1\n",
      "81        1\n",
      "         ..\n",
      "681222    0\n",
      "681228    1\n",
      "681771    1\n",
      "684520    1\n",
      "685457    1\n",
      "Name: Outcome, Length: 3172, dtype: object\n"
     ]
    }
   ],
   "source": [
    "data = data[data['Outcome'] != 'HINT']\n",
    "\n",
    "data.loc[data.Outcome == 'CORRECT', 'Outcome'] = 1\n",
    "data.loc[data.Outcome == 'INCORRECT', 'Outcome'] = 0\n",
    "\n",
    "print(data['Outcome'])"
   ],
   "metadata": {
    "collapsed": false
   }
  },
  {
   "cell_type": "code",
   "execution_count": 10,
   "outputs": [
    {
     "data": {
      "text/plain": "    custom_order                       Anon Student Id custom_skill  \\\n69            70  Stu_00176143fc2991346939888160a9b1ce    fractions   \n72            73  Stu_00176143fc2991346939888160a9b1ce    fractions   \n73            74  Stu_00176143fc2991346939888160a9b1ce    fractions   \n74            75  Stu_00176143fc2991346939888160a9b1ce    fractions   \n81            82  Stu_00176143fc2991346939888160a9b1ce    fractions   \n\n   custom_answer custom_gs_classes  Problem Name  \n69             0        Assistment          2227  \n72             0        Assistment          2227  \n73             0        Assistment          2227  \n74             1        Assistment          2227  \n81             1        Assistment          2227  ",
      "text/html": "<div>\n<style scoped>\n    .dataframe tbody tr th:only-of-type {\n        vertical-align: middle;\n    }\n\n    .dataframe tbody tr th {\n        vertical-align: top;\n    }\n\n    .dataframe thead th {\n        text-align: right;\n    }\n</style>\n<table border=\"1\" class=\"dataframe\">\n  <thead>\n    <tr style=\"text-align: right;\">\n      <th></th>\n      <th>custom_order</th>\n      <th>Anon Student Id</th>\n      <th>custom_skill</th>\n      <th>custom_answer</th>\n      <th>custom_gs_classes</th>\n      <th>Problem Name</th>\n    </tr>\n  </thead>\n  <tbody>\n    <tr>\n      <th>69</th>\n      <td>70</td>\n      <td>Stu_00176143fc2991346939888160a9b1ce</td>\n      <td>fractions</td>\n      <td>0</td>\n      <td>Assistment</td>\n      <td>2227</td>\n    </tr>\n    <tr>\n      <th>72</th>\n      <td>73</td>\n      <td>Stu_00176143fc2991346939888160a9b1ce</td>\n      <td>fractions</td>\n      <td>0</td>\n      <td>Assistment</td>\n      <td>2227</td>\n    </tr>\n    <tr>\n      <th>73</th>\n      <td>74</td>\n      <td>Stu_00176143fc2991346939888160a9b1ce</td>\n      <td>fractions</td>\n      <td>0</td>\n      <td>Assistment</td>\n      <td>2227</td>\n    </tr>\n    <tr>\n      <th>74</th>\n      <td>75</td>\n      <td>Stu_00176143fc2991346939888160a9b1ce</td>\n      <td>fractions</td>\n      <td>1</td>\n      <td>Assistment</td>\n      <td>2227</td>\n    </tr>\n    <tr>\n      <th>81</th>\n      <td>82</td>\n      <td>Stu_00176143fc2991346939888160a9b1ce</td>\n      <td>fractions</td>\n      <td>1</td>\n      <td>Assistment</td>\n      <td>2227</td>\n    </tr>\n  </tbody>\n</table>\n</div>"
     },
     "execution_count": 10,
     "metadata": {},
     "output_type": "execute_result"
    }
   ],
   "source": [
    "defaults = {'order_id': 'custom_order',\n",
    "            'skill_name': 'custom_skill',\n",
    "            'correct': 'custom_answer',\n",
    "            'problem_id':'Problem Name'}\n",
    "\n",
    "defaults['multiprior'] = 'custom_gs_classes'\n",
    "columns = ['Row', 'Anon Student Id', 'KC (skills_from_dataframe)', 'Outcome', 'Level (Curriculum)', 'Problem Name']\n",
    "\n",
    "custom_df = data[columns]\n",
    "custom_df.columns = ['custom_order', 'Anon Student Id',\n",
    "                     'custom_skill', 'custom_answer',\n",
    "                     'custom_gs_classes',\n",
    "                     'Problem Name']\n",
    "custom_df.head(5)"
   ],
   "metadata": {
    "collapsed": false
   }
  },
  {
   "cell_type": "code",
   "execution_count": 11,
   "outputs": [],
   "source": [
    "model = Model(seed = 41, num_fits = 1)\n",
    "model.fit(data = custom_df, defaults = defaults)"
   ],
   "metadata": {
    "collapsed": false
   }
  },
  {
   "cell_type": "code",
   "execution_count": 12,
   "outputs": [],
   "source": [
    "def mae(true_vals, pred_vals):\n",
    "    return np.mean(np.abs(true_vals - pred_vals))"
   ],
   "metadata": {
    "collapsed": false
   }
  },
  {
   "cell_type": "code",
   "execution_count": 13,
   "outputs": [
    {
     "name": "stdout",
     "output_type": "stream",
     "text": [
      "RMSE: 0.47752\n",
      "AUC: 0.64925\n",
      "MAE: 0.46096\n"
     ]
    }
   ],
   "source": [
    "#default model\n",
    "training_rmse = model.evaluate(data = custom_df)\n",
    "training_auc = model.evaluate(data = custom_df, metric = 'auc')\n",
    "training_mae = model.evaluate(data = custom_df, metric = mae)\n",
    "\n",
    "print(f\"RMSE: {training_rmse:.5}\")\n",
    "print(f\"AUC: {training_auc:.5}\")\n",
    "print(f\"MAE: {training_mae:.5}\")\n",
    "\n",
    "preds = model.predict(data = custom_df)"
   ],
   "metadata": {
    "collapsed": false
   }
  },
  {
   "cell_type": "code",
   "execution_count": 14,
   "outputs": [],
   "source": [
    "model_forget = Model(seed = 41, num_fits = 1)\n",
    "model_forget.fit(data = custom_df, defaults = defaults, forgets=True)"
   ],
   "metadata": {
    "collapsed": false
   }
  },
  {
   "cell_type": "code",
   "execution_count": 15,
   "outputs": [
    {
     "name": "stdout",
     "output_type": "stream",
     "text": [
      "RMSE: 0.47744\n",
      "AUC: 0.65172\n",
      "MAE: 0.46075\n"
     ]
    }
   ],
   "source": [
    "#model with forgetting\n",
    "training_rmse = model_forget.evaluate(data = custom_df)\n",
    "training_auc = model_forget.evaluate(data = custom_df, metric = 'auc')\n",
    "training_mae = model_forget.evaluate(data = custom_df, metric = mae)\n",
    "\n",
    "print(f\"RMSE: {training_rmse:.5}\")\n",
    "print(f\"AUC: {training_auc:.5}\")\n",
    "print(f\"MAE: {training_mae:.5}\")\n",
    "\n",
    "preds = model_forget.predict(data = custom_df)"
   ],
   "metadata": {
    "collapsed": false
   }
  },
  {
   "cell_type": "code",
   "execution_count": 16,
   "outputs": [],
   "source": [
    "model_prior = Model(seed = 41, num_fits = 1)\n",
    "model_prior.fit(data = custom_df, defaults = defaults,multiprior=True)"
   ],
   "metadata": {
    "collapsed": false
   }
  },
  {
   "cell_type": "code",
   "execution_count": 17,
   "outputs": [
    {
     "name": "stdout",
     "output_type": "stream",
     "text": [
      "RMSE: 0.47626\n",
      "AUC: 0.65856\n",
      "MAE: 0.61641\n"
     ]
    }
   ],
   "source": [
    "#multiprior model\n",
    "training_rmse = model_prior.evaluate(data = custom_df)\n",
    "training_auc = model_prior.evaluate(data = custom_df, metric = 'auc')\n",
    "training_mae = model_prior.evaluate(data = custom_df, metric = mae)\n",
    "\n",
    "print(f\"RMSE: {training_rmse:.5}\")\n",
    "print(f\"AUC: {training_auc:.5}\")\n",
    "print(f\"MAE: {training_mae:.5}\")\n",
    "\n",
    "preds = model_prior.predict(data = custom_df)"
   ],
   "metadata": {
    "collapsed": false
   }
  },
  {
   "cell_type": "code",
   "execution_count": null,
   "outputs": [],
   "source": [],
   "metadata": {
    "collapsed": false
   }
  }
 ],
 "metadata": {
  "kernelspec": {
   "display_name": "Python 3",
   "language": "python",
   "name": "python3"
  },
  "language_info": {
   "codemirror_mode": {
    "name": "ipython",
    "version": 2
   },
   "file_extension": ".py",
   "mimetype": "text/x-python",
   "name": "python",
   "nbconvert_exporter": "python",
   "pygments_lexer": "ipython2",
   "version": "2.7.6"
  }
 },
 "nbformat": 4,
 "nbformat_minor": 0
}
