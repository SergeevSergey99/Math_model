{
 "cells": [
  {
   "cell_type": "code",
   "execution_count": 1,
   "metadata": {},
   "outputs": [
    {
     "name": "stdout",
     "output_type": "stream",
     "text": [
      "[2, -4, 5, 3, 4, 32]\n",
      "[1, -3, 3, -1, 2, -4]\n",
      "[1, -2, 2, 2, 1, 14]\n",
      "[1, -1, 2, 5, 1, 39]\n",
      "[2, -3, 5, 8, 3, 66]\n",
      " \n",
      "2\n",
      "[1.0, -2.0, 2.5, 1.5, 2.0, 16.0]\n",
      "[0.0, -1.0, 0.5, -2.5, 0.0, -20.0]\n",
      "[0.0, 0.0, -0.5, 0.5, -1.0, -2.0]\n",
      "[0.0, 1.0, -0.5, 3.5, -1.0, 23.0]\n",
      "[0.0, 1.0, 0.0, 5.0, -1.0, 34.0]\n",
      " \n",
      "-1.0\n",
      "[1.0, -2.0, 2.5, 1.5, 2.0, 16.0]\n",
      "[-0.0, 1.0, -0.5, 2.5, -0.0, 20.0]\n",
      "[0.0, 0.0, -0.5, 0.5, -1.0, -2.0]\n",
      "[0.0, 0.0, 0.0, 1.0, -1.0, 3.0]\n",
      "[0.0, 0.0, 0.5, 2.5, -1.0, 14.0]\n",
      " \n",
      "-0.5\n",
      "[1.0, -2.0, 2.5, 1.5, 2.0, 16.0]\n",
      "[-0.0, 1.0, -0.5, 2.5, -0.0, 20.0]\n",
      "[-0.0, -0.0, 1.0, -1.0, 2.0, 4.0]\n",
      "[0.0, 0.0, 0.0, 1.0, -1.0, 3.0]\n",
      "[0.0, 0.0, 0.0, 3.0, -2.0, 12.0]\n",
      " \n",
      "1.0\n",
      "[1.0, -2.0, 2.5, 1.5, 2.0, 16.0]\n",
      "[-0.0, 1.0, -0.5, 2.5, -0.0, 20.0]\n",
      "[-0.0, -0.0, 1.0, -1.0, 2.0, 4.0]\n",
      "[0.0, 0.0, 0.0, 1.0, -1.0, 3.0]\n",
      "[0.0, 0.0, 0.0, 0.0, 1.0, 3.0]\n",
      " \n",
      "1.0\n",
      "[1.0, -2.0, 2.5, 1.5, 2.0, 16.0]\n",
      "[-0.0, 1.0, -0.5, 2.5, -0.0, 20.0]\n",
      "[-0.0, -0.0, 1.0, -1.0, 2.0, 4.0]\n",
      "[0.0, 0.0, 0.0, 1.0, -1.0, 3.0]\n",
      "[0.0, 0.0, 0.0, 0.0, 1.0, 3.0]\n",
      " \n"
     ]
    }
   ],
   "source": [
    "matrix = [[2,-4,5,3,4,32],\n",
    "         [1,-3,3,-1,2,-4],\n",
    "         [1,-2,2,2,1,14],\n",
    "         [1,-1,2,5,1,39],\n",
    "         [2,-3,5,8,3,66]]\n",
    "\n",
    "\n",
    "for i in range(5):\n",
    "    print(matrix[i])\n",
    "print(\" \")\n",
    "for i in range(5):\n",
    "    #запоминаем итое значение в строке\n",
    "    tmp = matrix[i][i]\n",
    "    print(tmp)\n",
    "    #делим весь ряд на этот элемент\n",
    "    for j in range(6):\n",
    "        if tmp == 0: continue\n",
    "        matrix[i][j] = matrix[i][j] / tmp\n",
    "    i1 = i\n",
    "    #вычитаем этот ряд из последующих домноженный на коэффициент\n",
    "    #чтобы занулить столбец под итым значением\n",
    "    while i1<4:\n",
    "        i1 = i1+1\n",
    "        tmp = matrix[i1][i]\n",
    "        for j in range(6):\n",
    "            matrix[i1][j] = matrix[i1][j] - tmp*matrix[i][j]\n",
    "    #печатаем\n",
    "    for i in range(5):\n",
    "        print(matrix[i])\n",
    "    print(\" \")\n",
    "# в итоге получается треугольная матрица"
   ]
  },
  {
   "cell_type": "code",
   "execution_count": 2,
   "metadata": {},
   "outputs": [
    {
     "name": "stdout",
     "output_type": "stream",
     "text": [
      "x5 = 3.0\n",
      "-1.0\n",
      "3 4\n",
      "[1.0, -2.0, 2.5, 1.5, 2.0, 16.0]\n",
      "[-0.0, 1.0, -0.5, 2.5, -0.0, 20.0]\n",
      "[-0.0, -0.0, 1.0, -1.0, 2.0, 4.0]\n",
      "[0.0, 0.0, 0.0, 1.0, 0, 6.0]\n",
      "[0.0, 0.0, 0.0, 0.0, 1.0, 3.0]\n",
      "\n",
      "2.0\n",
      "2 4\n",
      "[1.0, -2.0, 2.5, 1.5, 2.0, 16.0]\n",
      "[-0.0, 1.0, -0.5, 2.5, -0.0, 20.0]\n",
      "[-0.0, -0.0, 1.0, -1.0, 0, -2.0]\n",
      "[0.0, 0.0, 0.0, 1.0, 0, 6.0]\n",
      "[0.0, 0.0, 0.0, 0.0, 1.0, 3.0]\n",
      "\n",
      "-0.0\n",
      "1 4\n",
      "[1.0, -2.0, 2.5, 1.5, 2.0, 16.0]\n",
      "[-0.0, 1.0, -0.5, 2.5, 0, 20.0]\n",
      "[-0.0, -0.0, 1.0, -1.0, 0, -2.0]\n",
      "[0.0, 0.0, 0.0, 1.0, 0, 6.0]\n",
      "[0.0, 0.0, 0.0, 0.0, 1.0, 3.0]\n",
      "\n",
      "2.0\n",
      "0 4\n",
      "[1.0, -2.0, 2.5, 1.5, 0, 10.0]\n",
      "[-0.0, 1.0, -0.5, 2.5, 0, 20.0]\n",
      "[-0.0, -0.0, 1.0, -1.0, 0, -2.0]\n",
      "[0.0, 0.0, 0.0, 1.0, 0, 6.0]\n",
      "[0.0, 0.0, 0.0, 0.0, 1.0, 3.0]\n",
      "\n",
      "x4 = 6.0\n",
      "-1.0\n",
      "2 3\n",
      "[1.0, -2.0, 2.5, 1.5, 0, 10.0]\n",
      "[-0.0, 1.0, -0.5, 2.5, 0, 20.0]\n",
      "[-0.0, -0.0, 1.0, 0, 0, 4.0]\n",
      "[0.0, 0.0, 0.0, 1.0, 0, 6.0]\n",
      "[0.0, 0.0, 0.0, 0.0, 1.0, 3.0]\n",
      "\n",
      "2.5\n",
      "1 3\n",
      "[1.0, -2.0, 2.5, 1.5, 0, 10.0]\n",
      "[-0.0, 1.0, -0.5, 0, 0, 5.0]\n",
      "[-0.0, -0.0, 1.0, 0, 0, 4.0]\n",
      "[0.0, 0.0, 0.0, 1.0, 0, 6.0]\n",
      "[0.0, 0.0, 0.0, 0.0, 1.0, 3.0]\n",
      "\n",
      "1.5\n",
      "0 3\n",
      "[1.0, -2.0, 2.5, 0, 0, 1.0]\n",
      "[-0.0, 1.0, -0.5, 0, 0, 5.0]\n",
      "[-0.0, -0.0, 1.0, 0, 0, 4.0]\n",
      "[0.0, 0.0, 0.0, 1.0, 0, 6.0]\n",
      "[0.0, 0.0, 0.0, 0.0, 1.0, 3.0]\n",
      "\n",
      "x3 = 4.0\n",
      "-0.5\n",
      "1 2\n",
      "[1.0, -2.0, 2.5, 0, 0, 1.0]\n",
      "[-0.0, 1.0, 0, 0, 0, 7.0]\n",
      "[-0.0, -0.0, 1.0, 0, 0, 4.0]\n",
      "[0.0, 0.0, 0.0, 1.0, 0, 6.0]\n",
      "[0.0, 0.0, 0.0, 0.0, 1.0, 3.0]\n",
      "\n",
      "2.5\n",
      "0 2\n",
      "[1.0, -2.0, 0, 0, 0, -9.0]\n",
      "[-0.0, 1.0, 0, 0, 0, 7.0]\n",
      "[-0.0, -0.0, 1.0, 0, 0, 4.0]\n",
      "[0.0, 0.0, 0.0, 1.0, 0, 6.0]\n",
      "[0.0, 0.0, 0.0, 0.0, 1.0, 3.0]\n",
      "\n",
      "x2 = 7.0\n",
      "-2.0\n",
      "0 1\n",
      "[1.0, 0, 0, 0, 0, 5.0]\n",
      "[-0.0, 1.0, 0, 0, 0, 7.0]\n",
      "[-0.0, -0.0, 1.0, 0, 0, 4.0]\n",
      "[0.0, 0.0, 0.0, 1.0, 0, 6.0]\n",
      "[0.0, 0.0, 0.0, 0.0, 1.0, 3.0]\n",
      "\n",
      "x1 = 5.0\n"
     ]
    }
   ],
   "source": [
    "x = [0,0,0,0,0]\n",
    "for i in range(5):\n",
    "    x[4-i] = matrix[4-i][5]\n",
    "    print(\"x\"+str(5-i)+ \" = \" +str(x[4-i]))\n",
    "    j = 4-i\n",
    "    while j > 0:\n",
    "        j=j-1\n",
    "        print(matrix[j][4-i])\n",
    "        print(str(j) +\" \"+ str(4-i))\n",
    "        # вычитаем последнии ряды из предшествующих оставляя единичную матрицу\n",
    "        matrix[j][5] = matrix[j][5] - matrix[j][4-i]*x[4-i]\n",
    "        matrix[j][4-i] = 0  \n",
    "        for k in range(5):\n",
    "            print(matrix[k])\n",
    "        print(\"\")"
   ]
  },
  {
   "cell_type": "code",
   "execution_count": 3,
   "metadata": {},
   "outputs": [
    {
     "name": "stdout",
     "output_type": "stream",
     "text": [
      "[5.0, 7.0, 4.0, 6.0, 3.0]\n",
      "32.0\n",
      "-4.0\n",
      "14.0\n",
      "39.0\n",
      "66.0\n"
     ]
    }
   ],
   "source": [
    "print(x)\n",
    "matrix = [[2,-4,5,3,4,32],\n",
    "         [1,-3,3,-1,2,-4],\n",
    "         [1,-2,2,2,1,14],\n",
    "         [1,-1,2,5,1,39],\n",
    "         [2,-3,5,8,3,66]]\n",
    "for j in range(5):\n",
    "    sum = 0\n",
    "    # проверка\n",
    "    for i in range(5):\n",
    "        sum = sum + matrix[j][i]*x[i]\n",
    "    print(sum)"
   ]
  },
  {
   "cell_type": "code",
   "execution_count": 47,
   "metadata": {},
   "outputs": [
    {
     "name": "stdout",
     "output_type": "stream",
     "text": [
      "1.1757621524480961\n",
      "0.8660050063320242\n"
     ]
    }
   ],
   "source": [
    "# ищем решение системы нелинейных уравнений методом Ньютона \n",
    "# функция f1(x,y) = x^3 + e^x - y - 4 = 0 \n",
    "# функция f2(x,y) = y - arctg(x) = 0\n",
    "\n",
    "import math\n",
    "\n",
    "f1 = lambda x,y: x**3+math.exp(x)-y-4 \n",
    "f2 = lambda x,y: y - math.atan(x)\n",
    "\n",
    "# частные производные функций\n",
    "df1_dx = lambda x,y: 3*(x**2) + math.exp(x) \n",
    "df1_dy = lambda x,y: -1 \n",
    "df2_dx = lambda x,y: -1/(1+x**2) \n",
    "df2_dy = lambda x,y: 1\n",
    "\n",
    "# первое приближение решения системы\n",
    "a0 = 1\n",
    "b0 = 1\n",
    "\n",
    "# поиск решения с высокой точностью\n",
    "for i in range(100):\n",
    "    F1 = -f1(a0,b0)\n",
    "    F2 = -f2(a0,b0)\n",
    "    a = df1_dx(a0,b0)\n",
    "    b = df1_dy(a0,b0)\n",
    "    c = df2_dx(a0,b0)\n",
    "    d = df2_dy(a0,b0)\n",
    "\n",
    "    k1 = (F2 - c*F1/a)/(d + c*b/a)\n",
    "    h1 = (F1 - b*k1)/a\n",
    "\n",
    "    a1 = a0 + h1\n",
    "    b1 = b0 + k1\n",
    "\n",
    "    a0 = a1\n",
    "    b0 = b1    \n",
    "\n",
    "print(a0)\n",
    "print(b0)\n",
    "\n"
   ]
  },
  {
   "cell_type": "code",
   "execution_count": 60,
   "metadata": {},
   "outputs": [
    {
     "name": "stdout",
     "output_type": "stream",
     "text": [
      " \n",
      "1.1757621524480961\n",
      "0.8660050063320242\n",
      "17\n"
     ]
    }
   ],
   "source": [
    "\n",
    "# зададим точность для вычисления \n",
    "q = 0.00000000000000000000000000001 \n",
    "# посчитаем с заданной точностью и количество итераций для этого \n",
    "it = 0 \n",
    "# первое приближение решения системы \n",
    "a_0 = 1 \n",
    "b_0 = 1 \n",
    "while abs(a0-a_0) > q or (abs(b0 - b_0)) > q: \n",
    "    it+=1 \n",
    "    F1 = -f1(a_0,b_0) \n",
    "    F2 = -f2(a_0,b_0) \n",
    "    a = df1_dx(a_0,b_0) \n",
    "    b = df1_dy(a_0,b_0) \n",
    "    c = df2_dx(a_0,b_0) \n",
    "    d = df2_dy(a_0,b_0) \n",
    "    \n",
    "    k1 = (F2 - c*F1/a)/(d + c*b/a) \n",
    "    h1 = (F1 - b*k1)/a \n",
    "    a_0 += h1 \n",
    "    b_0 += k1 \n",
    "# вывод результата \n",
    "print (\" \") \n",
    "print(a_0) \n",
    "print(b_0) \n",
    "print(it)"
   ]
  },
  {
   "cell_type": "code",
   "execution_count": 46,
   "metadata": {},
   "outputs": [
    {
     "data": {
      "image/png": "[encoded data removed]",
      "text/plain": [
       "<matplotlib.figure.Figure at 0x268e23439e8>"
      ]
     },
     "metadata": {},
     "output_type": "display_data"
    }
   ],
   "source": [
    "import matplotlib.pyplot as plt\n",
    "import numpy as np\n",
    "import math\n",
    "f1 = lambda x: x**3+2.718281828459045**x-4 \n",
    "f2 = lambda x: np.arctan(x)\n",
    "\n",
    "# Отрисовка общего графика\n",
    "x = np.linspace(1, 1.5, 100000)\n",
    "\n",
    "\n",
    "\n",
    "plt.plot(x, f1(x), label='f1(x)')\n",
    "plt.plot(x, f2(x), label='f2(x)')\n",
    "\n",
    "plt.xlabel('x label')\n",
    "plt.ylabel('y label')\n",
    "\n",
    "plt.title(\"Very Simple Plot\")\n",
    "\n",
    "plt.legend()\n",
    "plt.grid(True)\n",
    "plt.show()"
   ]
  },
  {
   "cell_type": "code",
   "execution_count": 76,
   "metadata": {},
   "outputs": [
    {
     "name": "stdout",
     "output_type": "stream",
     "text": [
      "<class 'str'>\n",
      "0.0\n",
      "0.0\n"
     ]
    }
   ],
   "source": [
    "def toFixed(numObj, digits=0):\n",
    "    return f\"{numObj:.{digits}f}\"\n",
    "\n",
    "f1 = lambda x,y: x**3+math.exp(x)-y-4 \n",
    "f2 = lambda x,y: y - math.atan(x)\n",
    "\n",
    "print(type(toFixed(f1(a_0,b_0), 50)))\n",
    "print(f1(a_0,b_0))\n",
    "print(f2(a_0,b_0))"
   ]
  },
  {
   "cell_type": "code",
   "execution_count": null,
   "metadata": {},
   "outputs": [],
   "source": []
  }
 ],
 "metadata": {
  "kernelspec": {
   "display_name": "Python 3",
   "language": "python",
   "name": "python3"
  },
  "language_info": {
   "codemirror_mode": {
    "name": "ipython",
    "version": 3
   },
   "file_extension": ".py",
   "mimetype": "text/x-python",
   "name": "python",
   "nbconvert_exporter": "python",
   "pygments_lexer": "ipython3",
   "version": "3.6.4"
  }
 },
 "nbformat": 4,
 "nbformat_minor": 2
}
