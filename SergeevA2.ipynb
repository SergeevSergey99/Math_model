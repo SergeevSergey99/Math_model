{
 "cells": [
  {
   "cell_type": "code",
   "execution_count": 1,
   "metadata": {},
   "outputs": [],
   "source": [
    "# Неустойчивый резонатор с тепловой линзой\n",
    "# Вариант 7\n",
    "# q V , Вт/см 3   Tc, °C   k,Вт/(см*К)   α,Вт/(м 2 *К)   R AE ,см   L AE ,см   P, K -1 Q, K -1 n 0 R1,cm    R2,cm    L C ,cm  L C1 ,cm\n",
    "q_V = 2 #* 1000000\n",
    "T_c = 25 #+ 273\n",
    "k = 0.0097 #* 100\n",
    "α = 7000 \n",
    "R_AE = 0.7 #/ 100\n",
    "L_AE = 5 #/ 100\n",
    "P = 39 * 10**-7\n",
    "Q = 6*10**-7 \n",
    "n_0 = 1.521 \n",
    "R1 = -100 #/ 100\n",
    "R2 = -200 #/ 100\n",
    "L_C = 10 #/ 100\n",
    "L_C1 = 6 #/ 100"
   ]
  },
  {
   "cell_type": "code",
   "execution_count": 2,
   "metadata": {},
   "outputs": [
    {
     "name": "stdout",
     "output_type": "stream",
     "text": [
      "T0 =  50.257831958762885\n",
      "ΔT =  25.257731958762882\n"
     ]
    }
   ],
   "source": [
    "T0 = T_c + q_V * R_AE**2 / (4 * k) + q_V * R_AE / (2 * α)\n",
    "print(\"T0 = \",T0)\n",
    "ΔT = q_V * R_AE**2 / (4 * k)\n",
    "print(\"ΔT = \",ΔT)\n",
    "T = lambda r: T0 - ΔT * (r / R_AE)**2"
   ]
  },
  {
   "cell_type": "code",
   "execution_count": 3,
   "metadata": {},
   "outputs": [
    {
     "data": {
      "image/png": "[encoded data removed]",
      "text/plain": [
       "<Figure size 432x288 with 1 Axes>"
      ]
     },
     "metadata": {
      "needs_background": "light"
     },
     "output_type": "display_data"
    }
   ],
   "source": [
    "import numpy as np\n",
    "from scipy.integrate import odeint\n",
    "import matplotlib.pyplot as plt\n",
    "import math\n",
    "\n",
    "x = np.linspace(0, 1, 100)\n",
    "plt.plot(x, T(x), label='T(r)')\n",
    "\n",
    "plt.xlabel(\"r\")\n",
    "plt.ylabel(\"T\")\n",
    "plt.grid(True)\n"
   ]
  },
  {
   "cell_type": "code",
   "execution_count": 4,
   "metadata": {},
   "outputs": [
    {
     "name": "stdout",
     "output_type": "stream",
     "text": [
      "fr =  461.9047619047619\n"
     ]
    }
   ],
   "source": [
    "fr = R_AE**2 / (2 * (P + Q / 2) * ΔT * L_AE)\n",
    "print(\"fr = \", fr)"
   ]
  },
  {
   "cell_type": "code",
   "execution_count": 5,
   "metadata": {},
   "outputs": [
    {
     "name": "stdout",
     "output_type": "stream",
     "text": [
      "fφ =  538.8888888888889\n"
     ]
    }
   ],
   "source": [
    "fφ = R_AE**2 / (2 * (P - Q / 2) * ΔT * L_AE)\n",
    "print(\"fφ = \", fφ)"
   ]
  },
  {
   "cell_type": "code",
   "execution_count": 6,
   "metadata": {},
   "outputs": [
    {
     "name": "stdout",
     "output_type": "stream",
     "text": [
      "f =  500.3968253968254\n"
     ]
    }
   ],
   "source": [
    "f = (fφ + fr)/2\n",
    "print(\"f = \", f)"
   ]
  },
  {
   "cell_type": "code",
   "execution_count": 7,
   "metadata": {},
   "outputs": [
    {
     "name": "stdout",
     "output_type": "stream",
     "text": [
      "M1 =\n",
      " [[ 9.96715296e-01  3.28191206e+00]\n",
      " [-1.99841396e-03  9.96715296e-01]]\n"
     ]
    }
   ],
   "source": [
    "# Для тонкой линзы\n",
    "M1 = np.matrix([[1, 0.5*L_AE/n_0], [0, 1]]) \n",
    "M1 = M1 @ np.matrix([[1, 0], [-1 / f, 1]]) \n",
    "M1 = M1 @ np.matrix([[1, 0.5*L_AE/n_0], [0, 1]])\n",
    "print(\"M1 =\\n\", M1)"
   ]
  },
  {
   "cell_type": "code",
   "execution_count": 8,
   "metadata": {},
   "outputs": [
    {
     "name": "stdout",
     "output_type": "stream",
     "text": [
      "npov =  1.5209431701030929\n"
     ]
    }
   ],
   "source": [
    "npov = n_0 + (P * ΔT / 2) - ( (P + Q / 2) * ΔT)\n",
    "print(\"npov = \", npov)"
   ]
  },
  {
   "cell_type": "code",
   "execution_count": 9,
   "metadata": {},
   "outputs": [
    {
     "name": "stdout",
     "output_type": "stream",
     "text": [
      "n2 =  0.00023195876288583314\n"
     ]
    }
   ],
   "source": [
    "n2 = 2 * (n_0 - npov)/(R_AE**2)\n",
    "print(\"n2 = \", n2)"
   ]
  },
  {
   "cell_type": "code",
   "execution_count": 10,
   "metadata": {},
   "outputs": [
    {
     "name": "stdout",
     "output_type": "stream",
     "text": [
      "M2 =\n",
      " [[ 9.98094304e-01  3.28522251e+00]\n",
      " [-1.15905698e-03  9.98094304e-01]]\n"
     ]
    }
   ],
   "source": [
    "# Для толстой линзы\n",
    "M2 = np.matrix([[np.cos(L_AE * np.sqrt(n2/n_0)), \n",
    "                 np.sin(L_AE * np.sqrt(n2/n_0) )/np.sqrt(n_0 * n2)], \n",
    "                [-np.sin(L_AE * np.sqrt(n2/n_0) )*np.sqrt(n_0 * n2), \n",
    "                 np.cos(L_AE * np.sqrt(n2/n_0))]])\n",
    "print(\"M2 =\\n\", M2)"
   ]
  },
  {
   "cell_type": "code",
   "execution_count": 11,
   "metadata": {},
   "outputs": [
    {
     "name": "stdout",
     "output_type": "stream",
     "text": [
      "Lc2 =  4\n"
     ]
    }
   ],
   "source": [
    "Lc2 = L_C - L_C1\n",
    "print(\"Lc2 = \", Lc2)"
   ]
  },
  {
   "cell_type": "code",
   "execution_count": 12,
   "metadata": {},
   "outputs": [
    {
     "name": "stdout",
     "output_type": "stream",
     "text": [
      "Ma =\n",
      " [[ 1.04903756 17.02173471]\n",
      " [ 0.02688378  1.38947226]]\n"
     ]
    }
   ],
   "source": [
    "Ma = np.matrix([[1, 0], [-2/R1, 1]]) \n",
    "Ma = Ma @ np.matrix([[1, L_C1 - 0.5 * L_AE], [0, 1]])\n",
    "Ma = Ma @ np.matrix([[1, 0.5*L_AE/n_0], [0, 1]])\n",
    "Ma = Ma @ np.matrix([[1, 0], [-1/f, 1]]) \n",
    "Ma = Ma @ np.matrix([[1, 0.5*L_AE/n_0], [0, 1]]) \n",
    "Ma = Ma @ np.matrix([[1, Lc2 - 0.5*L_AE], [0, 1]]) \n",
    "Ma = Ma @ np.matrix([[1, 0], [-2/R2, 1]]) \n",
    "Ma = Ma @ np.matrix([[1, Lc2 - 0.5*L_AE], [0, 1]]) \n",
    "Ma = Ma @ np.matrix([[1, 0.5*L_AE/n_0], [0, 1]]) \n",
    "Ma = Ma @ np.matrix([[1, 0], [-1/f, 1]]) \n",
    "Ma = Ma @ np.matrix([[1, 0.5*L_AE/n_0], [0, 1]]) \n",
    "Ma = Ma @ np.matrix([[1, L_C1 - 0.5*L_AE], [0, 1]])\n",
    "print(\"Ma =\\n\", Ma)"
   ]
  },
  {
   "cell_type": "code",
   "execution_count": 13,
   "metadata": {},
   "outputs": [
    {
     "name": "stdout",
     "output_type": "stream",
     "text": [
      "prov =  1.2192549081114028\n"
     ]
    }
   ],
   "source": [
    "prov = (Ma[0, 0] + Ma[1, 1])/2\n",
    "print(\"prov = \",prov)\n"
   ]
  },
  {
   "cell_type": "code",
   "execution_count": 14,
   "metadata": {},
   "outputs": [
    {
     "name": "stdout",
     "output_type": "stream",
     "text": [
      "Mb =\n",
      " [[ 1.04903756 15.07435959]\n",
      " [ 0.01639341  1.1888231 ]]\n",
      "proverk =  1.1189303306467075\n"
     ]
    }
   ],
   "source": [
    "Mb = np.matrix([[1, 0], [0, 1]]) \n",
    "Mb = Mb @ np.matrix([[1, 0], [-1/R1, 1]]) \n",
    "Mb = Mb @ np.matrix([[1, L_C1 - 0.5 * L_AE], [0, 1]]) \n",
    "Mb = Mb @ np.matrix([[1, 0.5*L_AE/n_0], [0, 1]]) \n",
    "Mb = Mb @ np.matrix([[1, 0], [-1/f, 1]]) \n",
    "Mb = Mb @ np.matrix([[1, 0.5*L_AE/n_0], [0, 1]]) \n",
    "Mb = Mb @ np.matrix([[1, Lc2 - 0.5*L_AE], [0, 1]])  \n",
    "Mb = Mb @ np.matrix([[1, 0], [-1/R2, 1]]) \n",
    "Mb = Mb @ np.matrix([[1, 0], [0, 1]]) \n",
    "Mb = Mb @ np.matrix([[1, 0], [-1/R2, 1]]) \n",
    "Mb = Mb @  np.matrix([[1, Lc2 - 0.5*L_AE], [0, 1]])  \n",
    "Mb = Mb @ np.matrix([[1, 0.5*L_AE/n_0], [0, 1]]) \n",
    "Mb = Mb @ np.matrix([[1, 0], [-1/f, 1]]) \n",
    "Mb = Mb @ np.matrix([[1, 0.5*L_AE/n_0], [0, 1]]) \n",
    "Mb = Mb @ np.matrix([[1, 0.5*L_AE/n_0], [0, 1]])\n",
    "print(\"Mb =\\n\", Mb)\n",
    "proverk = (Mb[0, 0] + Mb[1, 1])/2\n",
    "print(\"proverk = \", proverk)\n"
   ]
  },
  {
   "cell_type": "code",
   "execution_count": 15,
   "metadata": {},
   "outputs": [
    {
     "name": "stdout",
     "output_type": "stream",
     "text": [
      "Lz =  11.928057097541634\n",
      "g1 =  1.1072900872323552\n",
      "g2 =  1.0476498017446472\n",
      "g1 * g2 =  1.16005224036279\n"
     ]
    }
   ],
   "source": [
    "Lz = L_C1 + L_C1 - L_C1**2 / f\n",
    "g1 = 1 - Lz/R1 - L_C1/f\n",
    "g2 = 1 - Lz/R2 - L_C1/f\n",
    "print(\"Lz = \", Lz)\n",
    "print(\"g1 = \", g1)\n",
    "print(\"g2 = \", g2)\n",
    "print(\"g1 * g2 = \", g1 * g2)"
   ]
  },
  {
   "cell_type": "code",
   "execution_count": 16,
   "metadata": {},
   "outputs": [
    {
     "name": "stdout",
     "output_type": "stream",
     "text": [
      "Mar =\n",
      " [[ 1.56516571 24.95575151]\n",
      " [ 0.05809257  1.56516571]]\n"
     ]
    }
   ],
   "source": [
    "Mar = np.matrix([[1, 0], [-2/R1, 1]]) \n",
    "Mar = Mar @ np.matrix([[1, L_C1], [0, 1]]) \n",
    "Mar = Mar @ np.matrix([[1, 0], [-1/fr, 1]]) \n",
    "Mar = Mar @ np.matrix([[1, L_C1], [0, 1]]) \n",
    "Mar = Mar @ np.matrix([[1, 0], [-2/R2, 1]]) \n",
    "Mar = Mar @ np.matrix([[1, L_C1], [0, 1]])  \n",
    "Mar = Mar @ np.matrix([[1, 0], [-1/fr, 1]]) \n",
    "Mar = Mar @ np.matrix([[1, L_C1], [0, 1]])  \n",
    "Mar = Mar @ np.matrix([[1, 0], [-2/R1, 1]]) \n",
    "print(\"Mar =\\n\", Mar)"
   ]
  },
  {
   "cell_type": "code",
   "execution_count": 17,
   "metadata": {},
   "outputs": [
    {
     "name": "stdout",
     "output_type": "stream",
     "text": [
      "R11r =  -18.780218619097088\n",
      "R12r =  23.122715057581836\n"
     ]
    }
   ],
   "source": [
    "R11r = (1/R2 - np.sqrt(Mar[1,0] * Mar[1,1]/(Mar[0,0]*Mar[0,1])))**-1\n",
    "R12r = (1/R2 + np.sqrt(Mar[1,0] * Mar[1,1]/(Mar[0,0]*Mar[0,1])))**-1\n",
    "\n",
    "print(\"R11r = \", R11r)\n",
    "print(\"R12r = \", R12r)"
   ]
  },
  {
   "cell_type": "code",
   "execution_count": 18,
   "metadata": {},
   "outputs": [
    {
     "name": "stdout",
     "output_type": "stream",
     "text": [
      "μ1r =  7.668572444225642\n",
      "μ2r =  0.13040236722976895\n"
     ]
    }
   ],
   "source": [
    "μ1r = Mar[0,0] * Mar[1,1] + Mar[0, 1] * Mar[1,0] + 2 * np.sqrt(Mar[0,0] * Mar[1,1] * Mar[0,1]*Mar[1,0])\n",
    "μ2r = Mar[0,0] * Mar[1,1] + Mar[0, 1] * Mar[1,0] - 2 * np.sqrt(Mar[0,0] * Mar[1,1] * Mar[0,1]*Mar[1,0])\n",
    "print(\"μ1r = \", μ1r)\n",
    "print(\"μ2r = \", μ2r)"
   ]
  },
  {
   "cell_type": "code",
   "execution_count": 19,
   "metadata": {},
   "outputs": [
    {
     "name": "stdout",
     "output_type": "stream",
     "text": [
      "Maφ =\n",
      " [[ 1.57420865 25.02467449]\n",
      " [ 0.05906702  1.57420865]]\n"
     ]
    }
   ],
   "source": [
    "Maφ = np.matrix([[1, 0], [-2/R1, 1]]) \n",
    "Maφ = Maφ @ np.matrix([[1, L_C1], [0, 1]]) \n",
    "Maφ = Maφ @ np.matrix([[1, 0], [-1/fφ, 1]]) \n",
    "Maφ = Maφ @ np.matrix([[1, L_C1], [0, 1]]) \n",
    "Maφ = Maφ @ np.matrix([[1, 0], [-2/R2, 1]]) \n",
    "Maφ = Maφ @ np.matrix([[1, L_C1], [0, 1]])  \n",
    "Maφ = Maφ @ np.matrix([[1, 0], [-1/fφ, 1]]) \n",
    "Maφ = Maφ @ np.matrix([[1, L_C1], [0, 1]])  \n",
    "Maφ = Maφ @ np.matrix([[1, 0], [-2/R1, 1]]) \n",
    "print(\"Maφ =\\n\", Maφ)"
   ]
  },
  {
   "cell_type": "code",
   "execution_count": 20,
   "metadata": {},
   "outputs": [
    {
     "name": "stdout",
     "output_type": "stream",
     "text": [
      "R11φ =  -18.66248070579487\n",
      "R12φ =  22.94449212090056\n"
     ]
    }
   ],
   "source": [
    "R11φ = (1/R2 - np.sqrt(Maφ[1,0] * Maφ[1,1]/(Maφ[0,0]*Maφ[0,1])))**-1\n",
    "R12φ = (1/R2 + np.sqrt(Maφ[1,0] * Maφ[1,1]/(Maφ[0,0]*Maφ[0,1])))**-1\n",
    "\n",
    "print(\"R11φ = \", R11φ)\n",
    "print(\"R12φ = \", R12φ)"
   ]
  },
  {
   "cell_type": "code",
   "execution_count": 21,
   "metadata": {},
   "outputs": [
    {
     "name": "stdout",
     "output_type": "stream",
     "text": [
      "μ1φ =  7.78406395330351\n",
      "μ2φ =  0.1284675981593919\n"
     ]
    }
   ],
   "source": [
    "μ1φ = Maφ[0,0] * Maφ[1,1] + Maφ[0, 1] * Maφ[1,0] + 2 * np.sqrt(Maφ[0,0] * Maφ[1,1] * Maφ[0,1]*Maφ[1,0])\n",
    "μ2φ = Maφ[0,0] * Maφ[1,1] + Maφ[0, 1] * Maφ[1,0] - 2 * np.sqrt(Maφ[0,0] * Maφ[1,1] * Maφ[0,1]*Maφ[1,0])\n",
    "print(\"μ1φ = \", μ1φ)\n",
    "print(\"μ2φ = \", μ2φ)"
   ]
  },
  {
   "cell_type": "code",
   "execution_count": 22,
   "metadata": {},
   "outputs": [
    {
     "data": {
      "image/png": "[encoded data removed]",
      "text/plain": [
       "<Figure size 432x288 with 1 Axes>"
      ]
     },
     "metadata": {
      "needs_background": "light"
     },
     "output_type": "display_data"
    }
   ],
   "source": [
    "G1 = lambda Fx: 1 - Lz/R1 - L_C1/Fx\n",
    "G2 = lambda Fx: 1 - Lz/R2 - L_C1/Fx\n",
    "\n",
    "Fx = np.linspace(-100, 100, 10000)\n",
    "plt.plot(Fx, G1(Fx) * G2(Fx), label='G1(Fx)*G2(Fx)')\n",
    "\n",
    "plt.ylim(0, 3)\n",
    "plt.xlabel(\"Fx\")\n",
    "plt.ylabel(\"G1*G2\")\n",
    "plt.grid(True)"
   ]
  },
  {
   "cell_type": "code",
   "execution_count": null,
   "metadata": {},
   "outputs": [],
   "source": []
  }
 ],
 "metadata": {
  "kernelspec": {
   "display_name": "Python 3",
   "language": "python",
   "name": "python3"
  },
  "language_info": {
   "codemirror_mode": {
    "name": "ipython",
    "version": 3
   },
   "file_extension": ".py",
   "mimetype": "text/x-python",
   "name": "python",
   "nbconvert_exporter": "python",
   "pygments_lexer": "ipython3",
   "version": "3.7.9"
  }
 },
 "nbformat": 4,
 "nbformat_minor": 4
}
