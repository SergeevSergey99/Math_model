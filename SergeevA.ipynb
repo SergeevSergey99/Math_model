{
 "cells": [
  {
   "cell_type": "code",
   "execution_count": 1,
   "metadata": {},
   "outputs": [],
   "source": [
    "#%matplotlib notebook\n",
    "# Пространственные характеристики излучения генерации лазера с устойчивым \n",
    "# резонатором с учетом тепловой линзы в активном элементе.\n",
    "# вариант 7\n",
    "#λ, мкм R1, мм R2, мм f, мм L, мм L1, мм D fiber,мкм NA fiber\n",
    "λ = 0.355 * 10**-6 \n",
    "R1 = 300 * 10**-3\n",
    "R2 = 400 * 10**-3\n",
    "f = 800 * 10**-3\n",
    "L = 600 * 10**-3\n",
    "L1 = 250 * 10**-3\n",
    "D = 200 * 10**-6\n",
    "NA = 0.22\n",
    "\n",
    "import math\n",
    "import numpy as np\n",
    "from scipy.integrate import odeint\n",
    "import matplotlib\n",
    "import matplotlib.pyplot as plt\n",
    "import numpy"
   ]
  },
  {
   "cell_type": "code",
   "execution_count": 2,
   "metadata": {},
   "outputs": [
    {
     "name": "stdout",
     "output_type": "stream",
     "text": [
      "g1 =  -1.0729166666666667\n",
      "g2 =  -0.5390624999999998\n",
      "g1 * g2 =  0.5783691406249998\n",
      "w1 =  0.00024600801807535966\n",
      "w2 =  0.00034706650104415006\n",
      "z0 =  0.3506287944492628\n",
      "w0 =  0.00012193252512948627\n",
      "O =  0.0009267421426337675\n",
      "Z_R =  0.1315711453273922\n",
      "D0 =  0.0007718174856034956\n"
     ]
    }
   ],
   "source": [
    "L2 = L - L1\n",
    "L_STAR = L1 + L2 - L1 * L2 / f\n",
    "g1 = 1 - L2 / f - L_STAR / R1\n",
    "g2 = 1 - L1 / f - L_STAR / R2\n",
    "print(\"g1 = \", g1)\n",
    "print(\"g2 = \", g2)\n",
    "print(\"g1 * g2 = \", g1 * g2)\n",
    "\n",
    "w1 = math.sqrt(λ*L_STAR / 3.14159265358979 * math.sqrt(g2 / (g1 * (1 - g1 * g2) ) ))\n",
    "w2 = math.sqrt(λ*L_STAR / 3.14159265358979 * math.sqrt(g1 / (g2 * (1 - g1 * g2) ) ))\n",
    "\n",
    "print(\"w1 = \", w1)\n",
    "print(\"w2 = \", w2)\n",
    "\n",
    "z0 = R2 / (1 + (R2 / (3.14159265358979 * w2 * w2 / λ))**2)\n",
    "w0 = math.sqrt( (w2**2 - math.sqrt(w2**4 - 4 * (λ * z0 / 3.14159265358979)**2) )/2 )\n",
    "\n",
    "print(\"z0 = \", z0)\n",
    "print(\"w0 = \", w0)\n",
    "\n",
    "O = λ / (3.14159265358979 * w0)\n",
    "\n",
    "print(\"O = \", O)\n",
    "\n",
    "Z_R = 3.14159265358979 * w0**2 / λ\n",
    "D0 = w0 + 2 * O*z0\n",
    "print(\"Z_R = \", Z_R)\n",
    "print(\"D0 = \", D0)\n"
   ]
  },
  {
   "cell_type": "code",
   "execution_count": 3,
   "metadata": {},
   "outputs": [],
   "source": [
    "z1 = lens1_z = 1\n",
    "f1 = lens1_f = 1 + 0.350870174\n",
    "\n",
    "z2 = lens2_z = 2\n",
    "f2 = lens2_f = 1\n",
    "\n",
    "def q(z):\n",
    "    mat1 = 0\n",
    "    if z < z1:\n",
    "        mat1 = np.matrix([[1, z], [0, 1]]) \n",
    "\n",
    "    elif z < z2 + z1:\n",
    "        mat1 = np.matrix([[1, z-z1], [0, 1]]) \n",
    "        mat1 = mat1 @ np.matrix([[1, 0], [-1/f1, 1]]) \n",
    "        mat1 = mat1 @ np.matrix([[1, z1], [0, 1]]) \n",
    "    \n",
    "    else:\n",
    "        mat1 = np.matrix([[1, z-(z1+z2)], [0, 1]]) \n",
    "        mat1 = mat1 @ np.matrix([[1, 0], [-1/f2, 1]]) \n",
    "        mat1 = mat1 @ np.matrix([[1, z2], [0, 1]])\n",
    "        mat1 = mat1 @ np.matrix([[1, 0], [-1/f1, 1]]) \n",
    "        mat1 = mat1 @ np.matrix([[1, z1], [0, 1]]) \n",
    "        \n",
    "    A = mat1[0,0]\n",
    "    B = mat1[0,1]\n",
    "    C = mat1[1,0]\n",
    "    D = mat1[1,1]\n",
    "    return (A * (z0 - 1j * Z_R) + B ) / ( C * (z0 - 1j * Z_R)  + D )\n",
    "def w(z):\n",
    "    return math.sqrt(-λ/3.14159265358979 * q(z).imag * (1 + (q(z).real / q(z).imag)**2) )"
   ]
  },
  {
   "cell_type": "code",
   "execution_count": null,
   "metadata": {},
   "outputs": [],
   "source": [
    "\n"
   ]
  },
  {
   "cell_type": "code",
   "execution_count": 10,
   "metadata": {},
   "outputs": [
    {
     "data": {
      "image/png": "[encoded data removed]",
      "text/plain": [
       "<Figure size 432x288 with 1 Axes>"
      ]
     },
     "metadata": {},
     "output_type": "display_data"
    }
   ],
   "source": [
    "fiberz = 4\n",
    "z = np.linspace(-1,fiberz+ 0.5,6000)\n",
    "wz = []\n",
    "for i in z:\n",
    "    wz.append(w(i)) \n",
    "plt.plot(z, wz, color='b')\n",
    "plt.plot(z, [-i for i in wz], color='b')\n",
    "\n",
    "plt.hlines(y = D0 / 2 , xmin=fiberz, xmax=fiberz + 0.5, color='k')\n",
    "plt.hlines(y = -D0 / 2 , xmin=fiberz, xmax=fiberz + 0.5, color='k')\n",
    "plt.vlines(x = fiberz , ymin=-D0 / 2, ymax=D0 / 2, color='k')\n",
    "plt.axvline(x = z1, color='k', linestyle='dotted')\n",
    "plt.axvline(x = z1+z2, color='k', linestyle='dotted')\n",
    "plt.axhline(y = 0, color='k', linestyle='dotted')\n",
    "\n",
    "plt.xlabel(\"z\")\n",
    "plt.ylabel(\"w(z)\")\n",
    "\n",
    "plt.show()"
   ]
  },
  {
   "cell_type": "code",
   "execution_count": 9,
   "metadata": {},
   "outputs": [
    {
     "name": "stdout",
     "output_type": "stream",
     "text": [
      "0.22181447049679442\n",
      "0.001243368877830353\n"
     ]
    }
   ],
   "source": [
    "print(np.arcsin(NA))\n",
    "print(np.arctan((wz[4500]-wz[5000])/(z[5000]-z[4500])))"
   ]
  },
  {
   "cell_type": "code",
   "execution_count": null,
   "metadata": {},
   "outputs": [],
   "source": []
  }
 ],
 "metadata": {
  "kernelspec": {
   "display_name": "Python 3",
   "language": "python",
   "name": "python3"
  },
  "language_info": {
   "codemirror_mode": {
    "name": "ipython",
    "version": 3
   },
   "file_extension": ".py",
   "mimetype": "text/x-python",
   "name": "python",
   "nbconvert_exporter": "python",
   "pygments_lexer": "ipython3",
   "version": "3.7.9"
  }
 },
 "nbformat": 4,
 "nbformat_minor": 4
}
